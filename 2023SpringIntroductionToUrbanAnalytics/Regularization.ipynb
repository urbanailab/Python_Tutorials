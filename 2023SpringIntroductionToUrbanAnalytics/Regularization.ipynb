{
 "nbformat": 4,
 "nbformat_minor": 0,
 "metadata": {
  "colab": {
   "provenance": [],
   "authorship_tag": "ABX9TyOjokFav3SJbYHx6VQ0ZHdY"
  },
  "kernelspec": {
   "name": "python3",
   "language": "python",
   "display_name": "Python 3 (ipykernel)"
  },
  "language_info": {
   "name": "python"
  }
 },
 "cells": [
  {
   "cell_type": "code",
   "execution_count": null,
   "outputs": [],
   "source": [],
   "metadata": {
    "collapsed": false
   }
  },
  {
   "cell_type": "markdown",
   "source": [
    "# Lec09 - supervised learning: regularization\n",
    "\n",
    "*   Section 1. Overfitting in a univariate regression\n",
    "*   Section 2. Overfitting in a multivariate regression\n",
    "*   Section 3. Regularization to address overfitting\n"
   ],
   "metadata": {
    "id": "fXvdWAn0jzUQ"
   }
  },
  {
   "cell_type": "code",
   "execution_count": 1,
   "metadata": {
    "id": "RWFTYEYBjxjG",
    "executionInfo": {
     "status": "ok",
     "timestamp": 1679425377138,
     "user_tz": 240,
     "elapsed": 2546,
     "user": {
      "displayName": "Shenhao Wang",
      "userId": "03503527554188089407"
     }
    },
    "ExecuteTime": {
     "end_time": "2023-11-28T21:55:06.788909Z",
     "start_time": "2023-11-28T21:55:04.690701Z"
    }
   },
   "outputs": [
    {
     "name": "stdout",
     "output_type": "stream",
     "text": [
      "Intel MKL WARNING: Support of Intel(R) Streaming SIMD Extensions 4.2 (Intel(R) SSE4.2) enabled only processors has been deprecated. Intel oneAPI Math Kernel Library 2025.0 will require Intel(R) Advanced Vector Extensions (Intel(R) AVX) instructions.\n",
      "Intel MKL WARNING: Support of Intel(R) Streaming SIMD Extensions 4.2 (Intel(R) SSE4.2) enabled only processors has been deprecated. Intel oneAPI Math Kernel Library 2025.0 will require Intel(R) Advanced Vector Extensions (Intel(R) AVX) instructions.\n"
     ]
    }
   ],
   "source": [
    "# import modules\n",
    "import pandas as pd\n",
    "import numpy as np\n",
    "import statsmodels.api as sm\n",
    "import matplotlib.pyplot as plt\n",
    "\n",
    "# new module sklearn\n",
    "from sklearn.model_selection import train_test_split\n",
    "from sklearn.linear_model import LogisticRegression, LinearRegression, Ridge, Lasso\n",
    "from sklearn import metrics"
   ]
  },
  {
   "cell_type": "code",
   "source": [
    "# read data\n",
    "df = pd.read_csv('SampleDataset/Florida_ct.csv', index_col = 0)"
   ],
   "metadata": {
    "id": "zav6rdTXkSOy",
    "executionInfo": {
     "status": "ok",
     "timestamp": 1679425400342,
     "user_tz": 240,
     "elapsed": 543,
     "user": {
      "displayName": "Shenhao Wang",
      "userId": "03503527554188089407"
     }
    },
    "ExecuteTime": {
     "end_time": "2023-11-28T21:55:07.526410Z",
     "start_time": "2023-11-28T21:55:07.469189Z"
    }
   },
   "execution_count": 2,
   "outputs": []
  },
  {
   "cell_type": "code",
   "source": [
    "df.head()"
   ],
   "metadata": {
    "id": "iP97DJiRkWuO",
    "colab": {
     "base_uri": "https://localhost:8080/",
     "height": 299
    },
    "executionInfo": {
     "status": "ok",
     "timestamp": 1679425400344,
     "user_tz": 240,
     "elapsed": 10,
     "user": {
      "displayName": "Shenhao Wang",
      "userId": "03503527554188089407"
     }
    },
    "outputId": "92213bf4-99e5-457a-e9ba-3dad1d1b2b3e",
    "ExecuteTime": {
     "end_time": "2023-11-28T21:55:08.217997Z",
     "start_time": "2023-11-28T21:55:08.208049Z"
    }
   },
   "execution_count": 3,
   "outputs": [
    {
     "data": {
      "text/plain": "   pop_total  sex_total  sex_male  sex_female  age_median  households  \\\n0     2812.0     2812.0    1383.0      1429.0        39.4       931.0   \n1     4709.0     4709.0    2272.0      2437.0        34.2      1668.0   \n2     5005.0     5005.0    2444.0      2561.0        34.1      1379.0   \n3     6754.0     6754.0    2934.0      3820.0        31.3      2238.0   \n4     3021.0     3021.0    1695.0      1326.0        44.1      1364.0   \n\n   race_total  race_white  race_black  race_native  ...  travel_walk_ratio  \\\n0      2812.0      2086.0       517.0          0.0  ...           0.014815   \n1      4709.0      2382.0      1953.0          0.0  ...           0.022150   \n2      5005.0      2334.0      2206.0        224.0  ...           0.026141   \n3      6754.0      4052.0      1671.0        326.0  ...           0.052697   \n4      3021.0      2861.0       121.0          0.0  ...           0.003014   \n\n   travel_work_home_ratio  edu_bachelor_ratio  edu_master_ratio  \\\n0                0.024242            0.183838          0.029798   \n1                0.004615            0.135222          0.040245   \n2                0.027913            0.213247          0.064620   \n3                0.004054            0.093379          0.082510   \n4                0.013059            0.219868          0.138631   \n\n   edu_phd_ratio  edu_higher_edu_ratio  employment_unemployed_ratio  \\\n0       0.003030              0.216667                     0.286635   \n1       0.003220              0.178686                     0.318327   \n2       0.007431              0.285299                     0.366755   \n3       0.012599              0.188488                     0.314452   \n4       0.007064              0.365563                     0.218447   \n\n   vehicle_per_capita  vehicle_per_household  vacancy_ratio  \n0            0.528094               1.595059       0.155938  \n1            0.460183               1.299161       0.152869  \n2            0.450949               1.636693       0.162211  \n3            0.474830               1.432976       0.178716  \n4            0.659053               1.459677       0.335930  \n\n[5 rows x 88 columns]",
      "text/html": "<div>\n<style scoped>\n    .dataframe tbody tr th:only-of-type {\n        vertical-align: middle;\n    }\n\n    .dataframe tbody tr th {\n        vertical-align: top;\n    }\n\n    .dataframe thead th {\n        text-align: right;\n    }\n</style>\n<table border=\"1\" class=\"dataframe\">\n  <thead>\n    <tr style=\"text-align: right;\">\n      <th></th>\n      <th>pop_total</th>\n      <th>sex_total</th>\n      <th>sex_male</th>\n      <th>sex_female</th>\n      <th>age_median</th>\n      <th>households</th>\n      <th>race_total</th>\n      <th>race_white</th>\n      <th>race_black</th>\n      <th>race_native</th>\n      <th>...</th>\n      <th>travel_walk_ratio</th>\n      <th>travel_work_home_ratio</th>\n      <th>edu_bachelor_ratio</th>\n      <th>edu_master_ratio</th>\n      <th>edu_phd_ratio</th>\n      <th>edu_higher_edu_ratio</th>\n      <th>employment_unemployed_ratio</th>\n      <th>vehicle_per_capita</th>\n      <th>vehicle_per_household</th>\n      <th>vacancy_ratio</th>\n    </tr>\n  </thead>\n  <tbody>\n    <tr>\n      <th>0</th>\n      <td>2812.0</td>\n      <td>2812.0</td>\n      <td>1383.0</td>\n      <td>1429.0</td>\n      <td>39.4</td>\n      <td>931.0</td>\n      <td>2812.0</td>\n      <td>2086.0</td>\n      <td>517.0</td>\n      <td>0.0</td>\n      <td>...</td>\n      <td>0.014815</td>\n      <td>0.024242</td>\n      <td>0.183838</td>\n      <td>0.029798</td>\n      <td>0.003030</td>\n      <td>0.216667</td>\n      <td>0.286635</td>\n      <td>0.528094</td>\n      <td>1.595059</td>\n      <td>0.155938</td>\n    </tr>\n    <tr>\n      <th>1</th>\n      <td>4709.0</td>\n      <td>4709.0</td>\n      <td>2272.0</td>\n      <td>2437.0</td>\n      <td>34.2</td>\n      <td>1668.0</td>\n      <td>4709.0</td>\n      <td>2382.0</td>\n      <td>1953.0</td>\n      <td>0.0</td>\n      <td>...</td>\n      <td>0.022150</td>\n      <td>0.004615</td>\n      <td>0.135222</td>\n      <td>0.040245</td>\n      <td>0.003220</td>\n      <td>0.178686</td>\n      <td>0.318327</td>\n      <td>0.460183</td>\n      <td>1.299161</td>\n      <td>0.152869</td>\n    </tr>\n    <tr>\n      <th>2</th>\n      <td>5005.0</td>\n      <td>5005.0</td>\n      <td>2444.0</td>\n      <td>2561.0</td>\n      <td>34.1</td>\n      <td>1379.0</td>\n      <td>5005.0</td>\n      <td>2334.0</td>\n      <td>2206.0</td>\n      <td>224.0</td>\n      <td>...</td>\n      <td>0.026141</td>\n      <td>0.027913</td>\n      <td>0.213247</td>\n      <td>0.064620</td>\n      <td>0.007431</td>\n      <td>0.285299</td>\n      <td>0.366755</td>\n      <td>0.450949</td>\n      <td>1.636693</td>\n      <td>0.162211</td>\n    </tr>\n    <tr>\n      <th>3</th>\n      <td>6754.0</td>\n      <td>6754.0</td>\n      <td>2934.0</td>\n      <td>3820.0</td>\n      <td>31.3</td>\n      <td>2238.0</td>\n      <td>6754.0</td>\n      <td>4052.0</td>\n      <td>1671.0</td>\n      <td>326.0</td>\n      <td>...</td>\n      <td>0.052697</td>\n      <td>0.004054</td>\n      <td>0.093379</td>\n      <td>0.082510</td>\n      <td>0.012599</td>\n      <td>0.188488</td>\n      <td>0.314452</td>\n      <td>0.474830</td>\n      <td>1.432976</td>\n      <td>0.178716</td>\n    </tr>\n    <tr>\n      <th>4</th>\n      <td>3021.0</td>\n      <td>3021.0</td>\n      <td>1695.0</td>\n      <td>1326.0</td>\n      <td>44.1</td>\n      <td>1364.0</td>\n      <td>3021.0</td>\n      <td>2861.0</td>\n      <td>121.0</td>\n      <td>0.0</td>\n      <td>...</td>\n      <td>0.003014</td>\n      <td>0.013059</td>\n      <td>0.219868</td>\n      <td>0.138631</td>\n      <td>0.007064</td>\n      <td>0.365563</td>\n      <td>0.218447</td>\n      <td>0.659053</td>\n      <td>1.459677</td>\n      <td>0.335930</td>\n    </tr>\n  </tbody>\n</table>\n<p>5 rows × 88 columns</p>\n</div>"
     },
     "execution_count": 3,
     "metadata": {},
     "output_type": "execute_result"
    }
   ]
  },
  {
   "cell_type": "markdown",
   "source": [
    "## Section 1. Overfitting in a univariate regression"
   ],
   "metadata": {
    "id": "9bCw0jwTkzwZ"
   }
  },
  {
   "cell_type": "code",
   "source": [
    "# assign the inputs and outputs\n",
    "var_list = ['inc_median_household']\n",
    "\n",
    "y = df['property_value_median']\n",
    "X = df[var_list]\n",
    "\n",
    "# change the data format\n",
    "X = X.values\n",
    "y = y.values\n"
   ],
   "metadata": {
    "id": "xMpZf-F9kbyG",
    "executionInfo": {
     "status": "ok",
     "timestamp": 1679425453502,
     "user_tz": 240,
     "elapsed": 218,
     "user": {
      "displayName": "Shenhao Wang",
      "userId": "03503527554188089407"
     }
    },
    "ExecuteTime": {
     "end_time": "2023-11-28T21:55:09.781229Z",
     "start_time": "2023-11-28T21:55:09.761008Z"
    }
   },
   "execution_count": 4,
   "outputs": []
  },
  {
   "cell_type": "code",
   "source": [
    "# normalize the variables\n",
    "# In ML, people typically normalize variables since some algorithms are sensitive to the scale.\n",
    "from sklearn.preprocessing import MinMaxScaler\n",
    "scaler = MinMaxScaler(feature_range=(-1, 1))\n",
    "X = scaler.fit_transform(X)"
   ],
   "metadata": {
    "id": "OupN60ovRKjN",
    "executionInfo": {
     "status": "ok",
     "timestamp": 1679425474307,
     "user_tz": 240,
     "elapsed": 135,
     "user": {
      "displayName": "Shenhao Wang",
      "userId": "03503527554188089407"
     }
    },
    "ExecuteTime": {
     "end_time": "2023-11-28T21:55:10.431145Z",
     "start_time": "2023-11-28T21:55:10.415301Z"
    }
   },
   "execution_count": 5,
   "outputs": []
  },
  {
   "cell_type": "code",
   "source": [
    "# visualize the normalized income.\n",
    "plt.hist(X)[2]"
   ],
   "metadata": {
    "id": "9F5S2JNOBRtu",
    "colab": {
     "base_uri": "https://localhost:8080/",
     "height": 283
    },
    "executionInfo": {
     "status": "ok",
     "timestamp": 1679425528834,
     "user_tz": 240,
     "elapsed": 1060,
     "user": {
      "displayName": "Shenhao Wang",
      "userId": "03503527554188089407"
     }
    },
    "outputId": "acfa6017-3ef5-411a-d088-6bb4042d2523",
    "ExecuteTime": {
     "end_time": "2023-11-28T21:55:11.080835Z",
     "start_time": "2023-11-28T21:55:10.945749Z"
    }
   },
   "execution_count": 6,
   "outputs": [
    {
     "data": {
      "text/plain": "<BarContainer object of 10 artists>"
     },
     "execution_count": 6,
     "metadata": {},
     "output_type": "execute_result"
    },
    {
     "data": {
      "text/plain": "<Figure size 640x480 with 1 Axes>",
      "image/png": "[encoded data removed]"
     },
     "metadata": {},
     "output_type": "display_data"
    }
   ]
  },
  {
   "cell_type": "code",
   "source": [
    "# Dividing the data into training and testing set\n",
    "X_train, X_test, y_train, y_test = train_test_split(X, y, test_size = 0.5, random_state=9)"
   ],
   "metadata": {
    "id": "lLeQtPEulFUr",
    "executionInfo": {
     "status": "ok",
     "timestamp": 1679425563570,
     "user_tz": 240,
     "elapsed": 161,
     "user": {
      "displayName": "Shenhao Wang",
      "userId": "03503527554188089407"
     }
    },
    "ExecuteTime": {
     "end_time": "2023-11-28T21:55:11.786162Z",
     "start_time": "2023-11-28T21:55:11.773683Z"
    }
   },
   "execution_count": 7,
   "outputs": []
  },
  {
   "cell_type": "code",
   "source": [
    "# Building and fitting the Linear Regression model\n",
    "linearModel = LinearRegression()\n",
    "linearModel.fit(X_train, y_train)\n",
    " \n",
    "# Evaluating the Linear Regression model.\n",
    "# The score here is R squared.\n",
    "print(\"Training performance is: \", linearModel.score(X_train, y_train))\n",
    "\n",
    "# Evaluating the Linear Regression model.\n",
    "# The score here is R squared.\n",
    "print(\"Testing performance is: \", linearModel.score(X_test, y_test))\n"
   ],
   "metadata": {
    "id": "m468rnM0kbcm",
    "colab": {
     "base_uri": "https://localhost:8080/"
    },
    "executionInfo": {
     "status": "ok",
     "timestamp": 1679425602676,
     "user_tz": 240,
     "elapsed": 180,
     "user": {
      "displayName": "Shenhao Wang",
      "userId": "03503527554188089407"
     }
    },
    "outputId": "066e2afa-efb3-4c4f-fc38-9bc96d8cc990",
    "ExecuteTime": {
     "end_time": "2023-11-28T21:55:12.357571Z",
     "start_time": "2023-11-28T21:55:12.348694Z"
    }
   },
   "execution_count": 8,
   "outputs": [
    {
     "name": "stdout",
     "output_type": "stream",
     "text": [
      "Training performance is:  0.5541573226842144\n",
      "Testing performance is:  0.5806978933861199\n"
     ]
    }
   ]
  },
  {
   "cell_type": "markdown",
   "source": [
    "Please remember the similar performance in both the training and testing sets. It happens only to simple models (e.g., linear regressions). We will show very quickly how the performance of the two sets starts to differ when the input featuers have a high dimension."
   ],
   "metadata": {
    "id": "Vq7qrFfdJEvO"
   }
  },
  {
   "cell_type": "code",
   "source": [
    "# visualization\n",
    "# create a x_visual for visualization\n",
    "x_ = np.linspace(np.min(X_train), np.max(X_train), 500)\n",
    "# x_visual = np.concatenate((np.repeat(1.0, 500).reshape(-1,1), x_.reshape(-1,1)), axis=1)\n",
    "x_visual = x_.reshape(-1,1)\n",
    "y_visual = linearModel.predict(x_visual)\n",
    "\n",
    "# another way to plot \n",
    "fig, ax = plt.subplots(figsize = (8, 8))\n",
    "ax.scatter(X_train, y_train, color = 'grey', alpha = 0.6)\n",
    "ax.plot(x_visual, y_visual, color = 'red', lw = 4)\n",
    "ax.set_xlabel('Income', fontsize = 15)\n",
    "ax.set_ylabel('Property Values', fontsize = 15)\n",
    "ax.set_title('Linear regression for property values and income', fontsize = 15)\n",
    "plt.show()"
   ],
   "metadata": {
    "id": "w9Z5gtoplw0H",
    "colab": {
     "base_uri": "https://localhost:8080/",
     "height": 520
    },
    "executionInfo": {
     "status": "ok",
     "timestamp": 1679425665115,
     "user_tz": 240,
     "elapsed": 526,
     "user": {
      "displayName": "Shenhao Wang",
      "userId": "03503527554188089407"
     }
    },
    "outputId": "d1e1ec6d-4f6e-49a3-edb0-de9741c72c50",
    "ExecuteTime": {
     "end_time": "2023-11-28T21:55:13.511566Z",
     "start_time": "2023-11-28T21:55:13.380990Z"
    }
   },
   "execution_count": 9,
   "outputs": [
    {
     "data": {
      "text/plain": "<Figure size 800x800 with 1 Axes>",
      "image/png": "[encoded data removed]"
     },
     "metadata": {},
     "output_type": "display_data"
    }
   ]
  },
  {
   "cell_type": "code",
   "source": [
    "# Demonstrate overfitting. \n",
    "from sklearn.preprocessing import PolynomialFeatures\n",
    "\n",
    "# polynomial transformation\n",
    "poly = PolynomialFeatures(10)\n",
    "X_poly = poly.fit_transform(X)"
   ],
   "metadata": {
    "id": "1aWLopB2k9Rb",
    "executionInfo": {
     "status": "ok",
     "timestamp": 1679425739633,
     "user_tz": 240,
     "elapsed": 208,
     "user": {
      "displayName": "Shenhao Wang",
      "userId": "03503527554188089407"
     }
    },
    "ExecuteTime": {
     "end_time": "2023-11-28T21:55:13.925016Z",
     "start_time": "2023-11-28T21:55:13.915495Z"
    }
   },
   "execution_count": 10,
   "outputs": []
  },
  {
   "cell_type": "code",
   "source": [
    "# check the transformed data\n",
    "X_poly.shape"
   ],
   "metadata": {
    "id": "qKrMPdrZk9Vv",
    "colab": {
     "base_uri": "https://localhost:8080/"
    },
    "executionInfo": {
     "status": "ok",
     "timestamp": 1679425751620,
     "user_tz": 240,
     "elapsed": 174,
     "user": {
      "displayName": "Shenhao Wang",
      "userId": "03503527554188089407"
     }
    },
    "outputId": "f11a8282-eeb4-4eb6-8fcd-4440b8d24905",
    "ExecuteTime": {
     "end_time": "2023-11-28T21:55:14.508546Z",
     "start_time": "2023-11-28T21:55:14.498988Z"
    }
   },
   "execution_count": 11,
   "outputs": [
    {
     "data": {
      "text/plain": "(4167, 11)"
     },
     "execution_count": 11,
     "metadata": {},
     "output_type": "execute_result"
    }
   ]
  },
  {
   "cell_type": "code",
   "source": [
    "# check the transformed data\n",
    "X_poly"
   ],
   "metadata": {
    "id": "pfNG5Qlgk9Xy",
    "colab": {
     "base_uri": "https://localhost:8080/"
    },
    "executionInfo": {
     "status": "ok",
     "timestamp": 1679425770823,
     "user_tz": 240,
     "elapsed": 173,
     "user": {
      "displayName": "Shenhao Wang",
      "userId": "03503527554188089407"
     }
    },
    "outputId": "95b59c6a-b243-46f3-f8e1-43140cfe57e2",
    "ExecuteTime": {
     "end_time": "2023-11-28T21:55:14.978775Z",
     "start_time": "2023-11-28T21:55:14.968791Z"
    }
   },
   "execution_count": 12,
   "outputs": [
    {
     "data": {
      "text/plain": "array([[ 1.        , -0.63357141,  0.40141273, ...,  0.02596358,\n        -0.01644978,  0.01042211],\n       [ 1.        , -0.79633156,  0.63414395, ...,  0.16171541,\n        -0.12877909,  0.10255085],\n       [ 1.        , -0.7440155 ,  0.55355906, ...,  0.0938979 ,\n        -0.06986149,  0.05197803],\n       ...,\n       [ 1.        , -0.53169146,  0.28269581, ...,  0.00638671,\n        -0.00339576,  0.0018055 ],\n       [ 1.        , -0.58615271,  0.343575  , ...,  0.01393433,\n        -0.00816765,  0.00478749],\n       [ 1.        , -0.68893065,  0.47462544, ...,  0.05074626,\n        -0.03496065,  0.02408547]])"
     },
     "execution_count": 12,
     "metadata": {},
     "output_type": "execute_result"
    }
   ]
  },
  {
   "cell_type": "code",
   "source": [
    "# Dividing the data into training and testing set\n",
    "X_train, X_test, y_train, y_test = train_test_split(X_poly, y, test_size = 0.5, random_state=9)"
   ],
   "metadata": {
    "id": "lnQlQ3KYQ11x",
    "executionInfo": {
     "status": "ok",
     "timestamp": 1679425780884,
     "user_tz": 240,
     "elapsed": 308,
     "user": {
      "displayName": "Shenhao Wang",
      "userId": "03503527554188089407"
     }
    },
    "ExecuteTime": {
     "end_time": "2023-11-28T21:55:15.443590Z",
     "start_time": "2023-11-28T21:55:15.424576Z"
    }
   },
   "execution_count": 13,
   "outputs": []
  },
  {
   "cell_type": "code",
   "source": [
    "# Building and fitting the Linear Regression with transformed features\n",
    "linearModel = LinearRegression()\n",
    "linearModel.fit(X_train, y_train)\n",
    " \n",
    "# Evaluating the Linear Regression model.\n",
    "# The score here is R squared.\n",
    "print(\"Training performance is: \", linearModel.score(X_train, y_train))\n",
    "\n",
    "# Evaluating the Linear Regression model.\n",
    "# The score here is R squared.\n",
    "print(\"Testing performance is: \", linearModel.score(X_test, y_test))"
   ],
   "metadata": {
    "id": "URq6SlFsk9aB",
    "colab": {
     "base_uri": "https://localhost:8080/"
    },
    "executionInfo": {
     "status": "ok",
     "timestamp": 1679425794040,
     "user_tz": 240,
     "elapsed": 205,
     "user": {
      "displayName": "Shenhao Wang",
      "userId": "03503527554188089407"
     }
    },
    "outputId": "a9263523-03bb-4ee3-af30-a54ec0043563",
    "ExecuteTime": {
     "end_time": "2023-11-28T21:55:15.920144Z",
     "start_time": "2023-11-28T21:55:15.906467Z"
    }
   },
   "execution_count": 14,
   "outputs": [
    {
     "name": "stdout",
     "output_type": "stream",
     "text": [
      "Training performance is:  0.5862644439490386\n",
      "Testing performance is:  -99.7957820680577\n"
     ]
    }
   ]
  },
  {
   "cell_type": "code",
   "source": [
    "# visualization\n",
    "# create a x_visual for visualization\n",
    "x_ = np.linspace(np.min(X), np.max(X)/1.2, 500)\n",
    "# x_visual = np.concatenate((np.repeat(1.0, 500).reshape(-1,1), x_.reshape(-1,1)), axis=1)\n",
    "x_visual = x_.reshape(-1,1)\n",
    "x_visual = poly.fit_transform(x_visual)\n",
    "y_visual = linearModel.predict(x_visual)\n",
    "\n",
    "# another way to plot \n",
    "fig, ax = plt.subplots(figsize = (8, 8))\n",
    "ax.scatter(X_train[:, 1], y_train, color = 'grey', alpha = 0.6)\n",
    "ax.plot(x_visual[:, 1], y_visual, color = 'red', lw = 4)\n",
    "ax.set_xlabel('Income', fontsize = 15)\n",
    "ax.set_ylabel('Property Values', fontsize = 15)\n",
    "ax.set_title('Linear regression for property values and income', fontsize = 15)\n",
    "plt.show()"
   ],
   "metadata": {
    "id": "s5HPRoNJk9cJ",
    "colab": {
     "base_uri": "https://localhost:8080/",
     "height": 520
    },
    "executionInfo": {
     "status": "ok",
     "timestamp": 1679425873711,
     "user_tz": 240,
     "elapsed": 359,
     "user": {
      "displayName": "Shenhao Wang",
      "userId": "03503527554188089407"
     }
    },
    "outputId": "6482d164-108f-4124-ad6f-c2e7a043487d",
    "ExecuteTime": {
     "end_time": "2023-11-28T21:55:16.495497Z",
     "start_time": "2023-11-28T21:55:16.373379Z"
    }
   },
   "execution_count": 15,
   "outputs": [
    {
     "data": {
      "text/plain": "<Figure size 800x800 with 1 Axes>",
      "image/png": "[encoded data removed]"
     },
     "metadata": {},
     "output_type": "display_data"
    }
   ]
  },
  {
   "cell_type": "markdown",
   "source": [
    "## Section 2. Overfitting in a multivariate regression"
   ],
   "metadata": {
    "id": "aprLdRQyDqU2"
   }
  },
  {
   "cell_type": "code",
   "source": [
    "# assign the inputs and outputs\n",
    "var_list = ['inc_median_household', \n",
    "            'households',\n",
    "            'travel_driving_ratio', \n",
    "            'travel_pt_ratio', \n",
    "            'travel_taxi_ratio', \n",
    "            'travel_work_home_ratio',\n",
    "            'edu_higher_edu_ratio',\n",
    "            'household_size_avg', \n",
    "            'vacancy_ratio', 'rent_median', \n",
    "            'race_white_ratio', \n",
    "            'race_asian_ratio']\n",
    "\n",
    "y = df['property_value_median']\n",
    "X = df[var_list]\n",
    "\n",
    "# change the data format\n",
    "X = X.values\n",
    "y = y.values"
   ],
   "metadata": {
    "id": "AXehMeHuDpzJ",
    "executionInfo": {
     "status": "ok",
     "timestamp": 1679425995001,
     "user_tz": 240,
     "elapsed": 148,
     "user": {
      "displayName": "Shenhao Wang",
      "userId": "03503527554188089407"
     }
    },
    "ExecuteTime": {
     "end_time": "2023-11-28T21:55:17.348238Z",
     "start_time": "2023-11-28T21:55:17.339376Z"
    }
   },
   "execution_count": 16,
   "outputs": []
  },
  {
   "cell_type": "code",
   "source": [
    "# normalize the variables\n",
    "from sklearn.preprocessing import MinMaxScaler\n",
    "scaler = MinMaxScaler(feature_range=(-1, 1))\n",
    "X = scaler.fit_transform(X)"
   ],
   "metadata": {
    "id": "QE0tLV_CDp4J",
    "executionInfo": {
     "status": "ok",
     "timestamp": 1679426030698,
     "user_tz": 240,
     "elapsed": 188,
     "user": {
      "displayName": "Shenhao Wang",
      "userId": "03503527554188089407"
     }
    },
    "ExecuteTime": {
     "end_time": "2023-11-28T21:55:17.793699Z",
     "start_time": "2023-11-28T21:55:17.784741Z"
    }
   },
   "execution_count": 17,
   "outputs": []
  },
  {
   "cell_type": "code",
   "source": [
    "X.shape"
   ],
   "metadata": {
    "id": "k0DanVvADp6E",
    "colab": {
     "base_uri": "https://localhost:8080/"
    },
    "executionInfo": {
     "status": "ok",
     "timestamp": 1679426032809,
     "user_tz": 240,
     "elapsed": 3,
     "user": {
      "displayName": "Shenhao Wang",
      "userId": "03503527554188089407"
     }
    },
    "outputId": "130e9772-f4b9-49e4-cff5-19690c0ad306",
    "ExecuteTime": {
     "end_time": "2023-11-28T21:55:18.215232Z",
     "start_time": "2023-11-28T21:55:18.204216Z"
    }
   },
   "execution_count": 18,
   "outputs": [
    {
     "data": {
      "text/plain": "(4167, 12)"
     },
     "execution_count": 18,
     "metadata": {},
     "output_type": "execute_result"
    }
   ]
  },
  {
   "cell_type": "code",
   "source": [
    "# Demonstrate overfitting. \n",
    "from sklearn.preprocessing import PolynomialFeatures\n",
    "\n",
    "# polynomial transformation\n",
    "# set the degree to three\n",
    "poly = PolynomialFeatures(3)\n",
    "X_poly = poly.fit_transform(X)"
   ],
   "metadata": {
    "id": "L5lFfo0pDp8O",
    "executionInfo": {
     "status": "ok",
     "timestamp": 1679426043661,
     "user_tz": 240,
     "elapsed": 160,
     "user": {
      "displayName": "Shenhao Wang",
      "userId": "03503527554188089407"
     }
    },
    "ExecuteTime": {
     "end_time": "2023-11-28T21:55:18.541183Z",
     "start_time": "2023-11-28T21:55:18.517910Z"
    }
   },
   "execution_count": 19,
   "outputs": []
  },
  {
   "cell_type": "code",
   "source": [
    "# check the shape\n",
    "# with the third degree polynomial transformation, we can expand 12 features to 455. \n",
    "X_poly.shape"
   ],
   "metadata": {
    "id": "RnVeCc9DDp-p",
    "colab": {
     "base_uri": "https://localhost:8080/"
    },
    "executionInfo": {
     "status": "ok",
     "timestamp": 1679426064201,
     "user_tz": 240,
     "elapsed": 172,
     "user": {
      "displayName": "Shenhao Wang",
      "userId": "03503527554188089407"
     }
    },
    "outputId": "39e892c2-ab6f-480d-cc9b-6fc61fd25d99",
    "ExecuteTime": {
     "end_time": "2023-11-28T21:55:18.800234Z",
     "start_time": "2023-11-28T21:55:18.789336Z"
    }
   },
   "execution_count": 20,
   "outputs": [
    {
     "data": {
      "text/plain": "(4167, 455)"
     },
     "execution_count": 20,
     "metadata": {},
     "output_type": "execute_result"
    }
   ]
  },
  {
   "cell_type": "code",
   "source": [
    "# Dividing the data into training and testing set\n",
    "X_train, X_test, y_train, y_test = train_test_split(X_poly, y, test_size = 0.5, random_state=9)"
   ],
   "metadata": {
    "id": "qtQ6q4bcRFEg",
    "executionInfo": {
     "status": "ok",
     "timestamp": 1679426093695,
     "user_tz": 240,
     "elapsed": 207,
     "user": {
      "displayName": "Shenhao Wang",
      "userId": "03503527554188089407"
     }
    },
    "ExecuteTime": {
     "end_time": "2023-11-28T21:55:19.012684Z",
     "start_time": "2023-11-28T21:55:19.002658Z"
    }
   },
   "execution_count": 21,
   "outputs": []
  },
  {
   "cell_type": "code",
   "source": [
    "# Building and fitting the Linear Regression with transformed features\n",
    "linearModel = LinearRegression()\n",
    "linearModel.fit(X_train, y_train)\n",
    " \n",
    "# Evaluating the Linear Regression model.\n",
    "# The score here is R squared.\n",
    "print(\"Training performance is: \", linearModel.score(X_train, y_train))\n",
    "\n",
    "# Evaluating the Linear Regression model.\n",
    "# The score here is R squared.\n",
    "print(\"Testing performance is: \", linearModel.score(X_test, y_test))"
   ],
   "metadata": {
    "id": "zBxF_iIcEPv5",
    "colab": {
     "base_uri": "https://localhost:8080/"
    },
    "executionInfo": {
     "status": "ok",
     "timestamp": 1679426096539,
     "user_tz": 240,
     "elapsed": 186,
     "user": {
      "displayName": "Shenhao Wang",
      "userId": "03503527554188089407"
     }
    },
    "outputId": "5c294d5e-078e-446b-c93a-c4552152ef98",
    "ExecuteTime": {
     "end_time": "2023-11-28T21:55:19.361617Z",
     "start_time": "2023-11-28T21:55:19.244120Z"
    }
   },
   "execution_count": 22,
   "outputs": [
    {
     "name": "stdout",
     "output_type": "stream",
     "text": [
      "Training performance is:  0.8825238735343636\n",
      "Testing performance is:  -1614215673.665617\n"
     ]
    }
   ]
  },
  {
   "cell_type": "code",
   "source": [
    "# Comparing the performance for multiple degrees. \n",
    "for degree in np.arange(1,5):\n",
    "  print()\n",
    "  print(\"Degree of the polynomial transformation is:\", degree)\n",
    "\n",
    "  # polynomial transformation\n",
    "  poly = PolynomialFeatures(degree)\n",
    "  X_poly = poly.fit_transform(X)\n",
    "\n",
    "  # Dividing the data into training and testing set\n",
    "  X_train, X_test, y_train, y_test = train_test_split(X_poly, y, test_size = 0.5, random_state=9)\n",
    "\n",
    "  # Building and fitting the Linear Regression with transformed features\n",
    "  linearModel = LinearRegression()\n",
    "  linearModel.fit(X_train, y_train)\n",
    "  \n",
    "  # count the current number of features.\n",
    "  print(\"The number of features is: \", X_poly.shape[1])\n",
    "\n",
    "  # Evaluating the Linear Regression model in the training set.\n",
    "  print(\"Training performance is: \", linearModel.score(X_train, y_train))\n",
    "\n",
    "  # Evaluating the Linear Regression model in the testing set.\n",
    "  print(\"Testing performance is: \", linearModel.score(X_test, y_test))\n"
   ],
   "metadata": {
    "id": "zVrU9qqPERiJ",
    "colab": {
     "base_uri": "https://localhost:8080/"
    },
    "executionInfo": {
     "status": "ok",
     "timestamp": 1679426190609,
     "user_tz": 240,
     "elapsed": 4792,
     "user": {
      "displayName": "Shenhao Wang",
      "userId": "03503527554188089407"
     }
    },
    "outputId": "84e20e56-aa8e-47e4-840c-94ba05581e94",
    "ExecuteTime": {
     "end_time": "2023-11-28T21:55:20.996547Z",
     "start_time": "2023-11-28T21:55:19.437588Z"
    }
   },
   "execution_count": 23,
   "outputs": [
    {
     "name": "stdout",
     "output_type": "stream",
     "text": [
      "\n",
      "Degree of the polynomial transformation is: 1\n",
      "The number of features is:  13\n",
      "Training performance is:  0.6765237755440289\n",
      "Testing performance is:  0.6776366836351199\n",
      "\n",
      "Degree of the polynomial transformation is: 2\n",
      "The number of features is:  91\n",
      "Training performance is:  0.7902115295358039\n",
      "Testing performance is:  -178.6004976705162\n",
      "\n",
      "Degree of the polynomial transformation is: 3\n",
      "The number of features is:  455\n",
      "Training performance is:  0.8825238735343636\n",
      "Testing performance is:  -1614215673.665617\n",
      "\n",
      "Degree of the polynomial transformation is: 4\n",
      "The number of features is:  1820\n",
      "Training performance is:  0.9870295235484828\n",
      "Testing performance is:  -9.73980695269447e+18\n"
     ]
    }
   ]
  },
  {
   "cell_type": "markdown",
   "source": [
    "When we enrich the model by using higher degrees in the polynomial transformation, we could see more serious overfitting, i.e., higher training performance and worse testing performance. It indicates that the overfitted models don't have any generalizability."
   ],
   "metadata": {
    "id": "JCTm7x36JtYX"
   }
  },
  {
   "cell_type": "markdown",
   "source": [
    "## Section 3. Regularization to address overfitting"
   ],
   "metadata": {
    "id": "NJvRaSZkHEPm"
   }
  },
  {
   "cell_type": "code",
   "source": [
    "# assign the inputs and outputs\n",
    "var_list = ['inc_median_household', \n",
    "            'households',\n",
    "            'travel_driving_ratio', \n",
    "            'travel_pt_ratio', \n",
    "            'travel_taxi_ratio', \n",
    "            'travel_work_home_ratio',\n",
    "            'edu_higher_edu_ratio',\n",
    "            'household_size_avg', \n",
    "            'vacancy_ratio', 'rent_median', \n",
    "            'race_white_ratio', \n",
    "            'race_asian_ratio']\n",
    "\n",
    "y = df['property_value_median']\n",
    "X = df[var_list]\n",
    "\n",
    "# change the data format\n",
    "X = X.values\n",
    "y = y.values"
   ],
   "metadata": {
    "id": "oWmawCnWHDyg",
    "executionInfo": {
     "status": "ok",
     "timestamp": 1679426343149,
     "user_tz": 240,
     "elapsed": 155,
     "user": {
      "displayName": "Shenhao Wang",
      "userId": "03503527554188089407"
     }
    },
    "ExecuteTime": {
     "end_time": "2023-11-28T21:55:21.001785Z",
     "start_time": "2023-11-28T21:55:20.996772Z"
    }
   },
   "execution_count": 24,
   "outputs": []
  },
  {
   "cell_type": "code",
   "source": [
    "# normalize the variables\n",
    "from sklearn.preprocessing import MinMaxScaler\n",
    "scaler = MinMaxScaler(feature_range=(-1, 1))\n",
    "X = scaler.fit_transform(X)"
   ],
   "metadata": {
    "id": "i7iQoKcjERkR",
    "executionInfo": {
     "status": "ok",
     "timestamp": 1679426351630,
     "user_tz": 240,
     "elapsed": 147,
     "user": {
      "displayName": "Shenhao Wang",
      "userId": "03503527554188089407"
     }
    },
    "ExecuteTime": {
     "end_time": "2023-11-28T21:55:21.003961Z",
     "start_time": "2023-11-28T21:55:21.000420Z"
    }
   },
   "execution_count": 25,
   "outputs": []
  },
  {
   "cell_type": "code",
   "source": [
    "X.shape"
   ],
   "metadata": {
    "id": "VeqQ6SbbERml",
    "colab": {
     "base_uri": "https://localhost:8080/"
    },
    "executionInfo": {
     "status": "ok",
     "timestamp": 1679426352441,
     "user_tz": 240,
     "elapsed": 5,
     "user": {
      "displayName": "Shenhao Wang",
      "userId": "03503527554188089407"
     }
    },
    "outputId": "63e7bd3a-72e6-44cb-9dfe-fe6aafebc5c6",
    "ExecuteTime": {
     "end_time": "2023-11-28T21:55:21.009316Z",
     "start_time": "2023-11-28T21:55:21.005784Z"
    }
   },
   "execution_count": 26,
   "outputs": [
    {
     "data": {
      "text/plain": "(4167, 12)"
     },
     "execution_count": 26,
     "metadata": {},
     "output_type": "execute_result"
    }
   ]
  },
  {
   "cell_type": "code",
   "source": [
    "# Demonstrate overfitting. \n",
    "from sklearn.preprocessing import PolynomialFeatures\n",
    "\n",
    "# polynomial transformation\n",
    "# set the degree to three\n",
    "poly = PolynomialFeatures(3)\n",
    "X_poly = poly.fit_transform(X)\n",
    "X_poly.shape"
   ],
   "metadata": {
    "id": "cB10t63YERow",
    "colab": {
     "base_uri": "https://localhost:8080/"
    },
    "executionInfo": {
     "status": "ok",
     "timestamp": 1679426356000,
     "user_tz": 240,
     "elapsed": 224,
     "user": {
      "displayName": "Shenhao Wang",
      "userId": "03503527554188089407"
     }
    },
    "outputId": "91ba007a-b747-4a53-8d83-06c3689988b4",
    "ExecuteTime": {
     "end_time": "2023-11-28T21:55:21.040175Z",
     "start_time": "2023-11-28T21:55:21.010188Z"
    }
   },
   "execution_count": 27,
   "outputs": [
    {
     "data": {
      "text/plain": "(4167, 455)"
     },
     "execution_count": 27,
     "metadata": {},
     "output_type": "execute_result"
    }
   ]
  },
  {
   "cell_type": "code",
   "source": [
    "# Dividing the data into training and testing set\n",
    "X_train, X_test, y_train, y_test = train_test_split(X_poly, y, test_size = 0.5, random_state=9)"
   ],
   "metadata": {
    "id": "QRag66UKERrK",
    "executionInfo": {
     "status": "ok",
     "timestamp": 1679426356929,
     "user_tz": 240,
     "elapsed": 3,
     "user": {
      "displayName": "Shenhao Wang",
      "userId": "03503527554188089407"
     }
    },
    "ExecuteTime": {
     "end_time": "2023-11-28T21:55:21.114150Z",
     "start_time": "2023-11-28T21:55:21.074116Z"
    }
   },
   "execution_count": 28,
   "outputs": []
  },
  {
   "cell_type": "markdown",
   "source": [
    "## Ridge regression (smaller magnitudes)\n",
    "\n",
    "The following scripts demonstrate the process of gradually simplifying models to address overfitting."
   ],
   "metadata": {
    "id": "y_ETs0FoHqU8"
   }
  },
  {
   "cell_type": "code",
   "source": [
    "# ridge regression \n",
    "# alpha is the regularization term (strength). You need to try different alpha values to identify the optimum performance.\n",
    "# the following script replicate the lienar regression without regularization.\n",
    "ridgeModel = Ridge(alpha = 0)\n",
    "ridgeModel.fit(X_train, y_train)\n",
    "\n",
    "# Evaluating the Linear Regression model in the training set.\n",
    "print(\"Training performance is: \", ridgeModel.score(X_train, y_train))\n",
    "\n",
    "# Evaluating the Linear Regression model in the testing set.\n",
    "print(\"Testing performance is: \", ridgeModel.score(X_test, y_test))\n",
    "\n",
    "# magnitude of the coefficients\n",
    "print(\"The magnitude of the coefficients is: \", np.abs(np.mean(ridgeModel.coef_)))\n"
   ],
   "metadata": {
    "id": "lF3h0MepHpvK",
    "colab": {
     "base_uri": "https://localhost:8080/"
    },
    "executionInfo": {
     "status": "ok",
     "timestamp": 1679426413269,
     "user_tz": 240,
     "elapsed": 603,
     "user": {
      "displayName": "Shenhao Wang",
      "userId": "03503527554188089407"
     }
    },
    "outputId": "d0ed1b8e-f9d1-49da-fe34-4b9bdb656f80",
    "ExecuteTime": {
     "end_time": "2023-11-28T21:55:21.800291Z",
     "start_time": "2023-11-28T21:55:21.521178Z"
    }
   },
   "execution_count": 29,
   "outputs": [
    {
     "name": "stdout",
     "output_type": "stream",
     "text": [
      "Intel MKL WARNING: Support of Intel(R) Streaming SIMD Extensions 4.2 (Intel(R) SSE4.2) enabled only processors has been deprecated. Intel oneAPI Math Kernel Library 2025.0 will require Intel(R) Advanced Vector Extensions (Intel(R) AVX) instructions.\n",
      "Training performance is:  0.8825201559461615\n",
      "Testing performance is:  -1613442468.8641572\n",
      "The magnitude of the coefficients is:  181188413379526.66\n"
     ]
    }
   ]
  },
  {
   "cell_type": "code",
   "source": [
    "# Let's start to impose regularization\n",
    "# alpha = 0.1\n",
    "ridgeModel = Ridge(alpha = 0.1)\n",
    "ridgeModel.fit(X_train, y_train)\n",
    "\n",
    "# Evaluating the Linear Regression model in the training set.\n",
    "print(\"Training performance is: \", ridgeModel.score(X_train, y_train))\n",
    "\n",
    "# Evaluating the Linear Regression model in the testing set.\n",
    "print(\"Testing performance is: \", ridgeModel.score(X_test, y_test))\n",
    "\n",
    "# magnitude of the coefficients\n",
    "print(\"The magnitude of the coefficients is: \", np.abs(np.mean(ridgeModel.coef_)))\n"
   ],
   "metadata": {
    "id": "zIhWc9CNERtc",
    "colab": {
     "base_uri": "https://localhost:8080/"
    },
    "executionInfo": {
     "status": "ok",
     "timestamp": 1679426488358,
     "user_tz": 240,
     "elapsed": 190,
     "user": {
      "displayName": "Shenhao Wang",
      "userId": "03503527554188089407"
     }
    },
    "outputId": "53b82a4a-21fb-42a4-facb-22b1320c7ace",
    "ExecuteTime": {
     "end_time": "2023-11-28T21:55:21.830722Z",
     "start_time": "2023-11-28T21:55:21.802292Z"
    }
   },
   "execution_count": 30,
   "outputs": [
    {
     "name": "stdout",
     "output_type": "stream",
     "text": [
      "Intel MKL WARNING: Support of Intel(R) Streaming SIMD Extensions 4.2 (Intel(R) SSE4.2) enabled only processors has been deprecated. Intel oneAPI Math Kernel Library 2025.0 will require Intel(R) Advanced Vector Extensions (Intel(R) AVX) instructions.\n",
      "Intel MKL WARNING: Support of Intel(R) Streaming SIMD Extensions 4.2 (Intel(R) SSE4.2) enabled only processors has been deprecated. Intel oneAPI Math Kernel Library 2025.0 will require Intel(R) Advanced Vector Extensions (Intel(R) AVX) instructions.\n",
      "Intel MKL WARNING: Support of Intel(R) Streaming SIMD Extensions 4.2 (Intel(R) SSE4.2) enabled only processors has been deprecated. Intel oneAPI Math Kernel Library 2025.0 will require Intel(R) Advanced Vector Extensions (Intel(R) AVX) instructions.\n",
      "Intel MKL WARNING: Support of Intel(R) Streaming SIMD Extensions 4.2 (Intel(R) SSE4.2) enabled only processors has been deprecated. Intel oneAPI Math Kernel Library 2025.0 will require Intel(R) Advanced Vector Extensions (Intel(R) AVX) instructions.\n",
      "Intel MKL WARNING: Support of Intel(R) Streaming SIMD Extensions 4.2 (Intel(R) SSE4.2) enabled only processors has been deprecated. Intel oneAPI Math Kernel Library 2025.0 will require Intel(R) Advanced Vector Extensions (Intel(R) AVX) instructions.\n",
      "Intel MKL WARNING: Support of Intel(R) Streaming SIMD Extensions 4.2 (Intel(R) SSE4.2) enabled only processors has been deprecated. Intel oneAPI Math Kernel Library 2025.0 will require Intel(R) Advanced Vector Extensions (Intel(R) AVX) instructions.\n",
      "Intel MKL WARNING: Support of Intel(R) Streaming SIMD Extensions 4.2 (Intel(R) SSE4.2) enabled only processors has been deprecated. Intel oneAPI Math Kernel Library 2025.0 will require Intel(R) Advanced Vector Extensions (Intel(R) AVX) instructions.\n",
      "Intel MKL WARNING: Support of Intel(R) Streaming SIMD Extensions 4.2 (Intel(R) SSE4.2) enabled only processors has been deprecated. Intel oneAPI Math Kernel Library 2025.0 will require Intel(R) Advanced Vector Extensions (Intel(R) AVX) instructions.\n",
      "Intel MKL WARNING: Support of Intel(R) Streaming SIMD Extensions 4.2 (Intel(R) SSE4.2) enabled only processors has been deprecated. Intel oneAPI Math Kernel Library 2025.0 will require Intel(R) Advanced Vector Extensions (Intel(R) AVX) instructions.\n",
      "Intel MKL WARNING: Support of Intel(R) Streaming SIMD Extensions 4.2 (Intel(R) SSE4.2) enabled only processors has been deprecated. Intel oneAPI Math Kernel Library 2025.0 will require Intel(R) Advanced Vector Extensions (Intel(R) AVX) instructions.\n",
      "Intel MKL WARNING: Support of Intel(R) Streaming SIMD Extensions 4.2 (Intel(R) SSE4.2) enabled only processors has been deprecated. Intel oneAPI Math Kernel Library 2025.0 will require Intel(R) Advanced Vector Extensions (Intel(R) AVX) instructions.\n",
      "Intel MKL WARNING: Support of Intel(R) Streaming SIMD Extensions 4.2 (Intel(R) SSE4.2) enabled only processors has been deprecated. Intel oneAPI Math Kernel Library 2025.0 will require Intel(R) Advanced Vector Extensions (Intel(R) AVX) instructions.\n",
      "Intel MKL WARNING: Support of Intel(R) Streaming SIMD Extensions 4.2 (Intel(R) SSE4.2) enabled only processors has been deprecated. Intel oneAPI Math Kernel Library 2025.0 will require Intel(R) Advanced Vector Extensions (Intel(R) AVX) instructions.\n",
      "Intel MKL WARNING: Support of Intel(R) Streaming SIMD Extensions 4.2 (Intel(R) SSE4.2) enabled only processors has been deprecated. Intel oneAPI Math Kernel Library 2025.0 will require Intel(R) Advanced Vector Extensions (Intel(R) AVX) instructions.\n",
      "Intel MKL WARNING: Support of Intel(R) Streaming SIMD Extensions 4.2 (Intel(R) SSE4.2) enabled only processors has been deprecated. Intel oneAPI Math Kernel Library 2025.0 will require Intel(R) Advanced Vector Extensions (Intel(R) AVX) instructions.\n",
      "Intel MKL WARNING: Support of Intel(R) Streaming SIMD Extensions 4.2 (Intel(R) SSE4.2) enabled only processors has been deprecated. Intel oneAPI Math Kernel Library 2025.0 will require Intel(R) Advanced Vector Extensions (Intel(R) AVX) instructions.\n",
      "Intel MKL WARNING: Support of Intel(R) Streaming SIMD Extensions 4.2 (Intel(R) SSE4.2) enabled only processors has been deprecated. Intel oneAPI Math Kernel Library 2025.0 will require Intel(R) Advanced Vector Extensions (Intel(R) AVX) instructions.\n",
      "Intel MKL WARNING: Support of Intel(R) Streaming SIMD Extensions 4.2 (Intel(R) SSE4.2) enabled only processors has been deprecated. Intel oneAPI Math Kernel Library 2025.0 will require Intel(R) Advanced Vector Extensions (Intel(R) AVX) instructions.\n",
      "Intel MKL WARNING: Support of Intel(R) Streaming SIMD Extensions 4.2 (Intel(R) SSE4.2) enabled only processors has been deprecated. Intel oneAPI Math Kernel Library 2025.0 will require Intel(R) Advanced Vector Extensions (Intel(R) AVX) instructions.\n",
      "Intel MKL WARNING: Support of Intel(R) Streaming SIMD Extensions 4.2 (Intel(R) SSE4.2) enabled only processors has been deprecated. Intel oneAPI Math Kernel Library 2025.0 will require Intel(R) Advanced Vector Extensions (Intel(R) AVX) instructions.\n",
      "Intel MKL WARNING: Support of Intel(R) Streaming SIMD Extensions 4.2 (Intel(R) SSE4.2) enabled only processors has been deprecated. Intel oneAPI Math Kernel Library 2025.0 will require Intel(R) Advanced Vector Extensions (Intel(R) AVX) instructions.\n",
      "Intel MKL WARNING: Support of Intel(R) Streaming SIMD Extensions 4.2 (Intel(R) SSE4.2) enabled only processors has been deprecated. Intel oneAPI Math Kernel Library 2025.0 will require Intel(R) Advanced Vector Extensions (Intel(R) AVX) instructions.\n",
      "Intel MKL WARNING: Support of Intel(R) Streaming SIMD Extensions 4.2 (Intel(R) SSE4.2) enabled only processors has been deprecated. Intel oneAPI Math Kernel Library 2025.0 will require Intel(R) Advanced Vector Extensions (Intel(R) AVX) instructions.\n",
      "Intel MKL WARNING: Support of Intel(R) Streaming SIMD Extensions 4.2 (Intel(R) SSE4.2) enabled only processors has been deprecated. Intel oneAPI Math Kernel Library 2025.0 will require Intel(R) Advanced Vector Extensions (Intel(R) AVX) instructions.\n",
      "Intel MKL WARNING: Support of Intel(R) Streaming SIMD Extensions 4.2 (Intel(R) SSE4.2) enabled only processors has been deprecated. Intel oneAPI Math Kernel Library 2025.0 will require Intel(R) Advanced Vector Extensions (Intel(R) AVX) instructions.\n",
      "Intel MKL WARNING: Support of Intel(R) Streaming SIMD Extensions 4.2 (Intel(R) SSE4.2) enabled only processors has been deprecated. Intel oneAPI Math Kernel Library 2025.0 will require Intel(R) Advanced Vector Extensions (Intel(R) AVX) instructions.\n",
      "Intel MKL WARNING: Support of Intel(R) Streaming SIMD Extensions 4.2 (Intel(R) SSE4.2) enabled only processors has been deprecated. Intel oneAPI Math Kernel Library 2025.0 will require Intel(R) Advanced Vector Extensions (Intel(R) AVX) instructions.\n",
      "Intel MKL WARNING: Support of Intel(R) Streaming SIMD Extensions 4.2 (Intel(R) SSE4.2) enabled only processors has been deprecated. Intel oneAPI Math Kernel Library 2025.0 will require Intel(R) Advanced Vector Extensions (Intel(R) AVX) instructions.\n",
      "Intel MKL WARNING: Support of Intel(R) Streaming SIMD Extensions 4.2 (Intel(R) SSE4.2) enabled only processors has been deprecated. Intel oneAPI Math Kernel Library 2025.0 will require Intel(R) Advanced Vector Extensions (Intel(R) AVX) instructions.\n",
      "Intel MKL WARNING: Support of Intel(R) Streaming SIMD Extensions 4.2 (Intel(R) SSE4.2) enabled only processors has been deprecated. Intel oneAPI Math Kernel Library 2025.0 will require Intel(R) Advanced Vector Extensions (Intel(R) AVX) instructions.Intel MKL WARNING: Support of Intel(R) Streaming SIMD Extensions 4.2 (Intel(R) SSE4.2) enabled only processors has been deprecated. Intel oneAPI Math Kernel Library 2025.0 will require Intel(R) Advanced Vector Extensions (Intel(R) AVX) instructions.\n",
      "\n",
      "Intel MKL WARNING: Support of Intel(R) Streaming SIMD Extensions 4.2 (Intel(R) SSE4.2) enabled only processors has been deprecated. Intel oneAPI Math Kernel Library 2025.0 will require Intel(R) Advanced Vector Extensions (Intel(R) AVX) instructions.\n",
      "Intel MKL WARNING: Support of Intel(R) Streaming SIMD Extensions 4.2 (Intel(R) SSE4.2) enabled only processors has been deprecated. Intel oneAPI Math Kernel Library 2025.0 will require Intel(R) Advanced Vector Extensions (Intel(R) AVX) instructions.\n",
      "Intel MKL WARNING: Support of Intel(R) Streaming SIMD Extensions 4.2 (Intel(R) SSE4.2) enabled only processors has been deprecated. Intel oneAPI Math Kernel Library 2025.0 will require Intel(R) Advanced Vector Extensions (Intel(R) AVX) instructions.\n",
      "Intel MKL WARNING: Support of Intel(R) Streaming SIMD Extensions 4.2 (Intel(R) SSE4.2) enabled only processors has been deprecated. Intel oneAPI Math Kernel Library 2025.0 will require Intel(R) Advanced Vector Extensions (Intel(R) AVX) instructions.\n",
      "Intel MKL WARNING: Support of Intel(R) Streaming SIMD Extensions 4.2 (Intel(R) SSE4.2) enabled only processors has been deprecated. Intel oneAPI Math Kernel Library 2025.0 will require Intel(R) Advanced Vector Extensions (Intel(R) AVX) instructions.\n",
      "Intel MKL WARNING: Support of Intel(R) Streaming SIMD Extensions 4.2 (Intel(R) SSE4.2) enabled only processors has been deprecated. Intel oneAPI Math Kernel Library 2025.0 will require Intel(R) Advanced Vector Extensions (Intel(R) AVX) instructions.\n",
      "Intel MKL WARNING: Support of Intel(R) Streaming SIMD Extensions 4.2 (Intel(R) SSE4.2) enabled only processors has been deprecated. Intel oneAPI Math Kernel Library 2025.0 will require Intel(R) Advanced Vector Extensions (Intel(R) AVX) instructions.\n",
      "Intel MKL WARNING: Support of Intel(R) Streaming SIMD Extensions 4.2 (Intel(R) SSE4.2) enabled only processors has been deprecated. Intel oneAPI Math Kernel Library 2025.0 will require Intel(R) Advanced Vector Extensions (Intel(R) AVX) instructions.\n",
      "Intel MKL WARNING: Support of Intel(R) Streaming SIMD Extensions 4.2 (Intel(R) SSE4.2) enabled only processors has been deprecated. Intel oneAPI Math Kernel Library 2025.0 will require Intel(R) Advanced Vector Extensions (Intel(R) AVX) instructions.\n",
      "Intel MKL WARNING: Support of Intel(R) Streaming SIMD Extensions 4.2 (Intel(R) SSE4.2) enabled only processors has been deprecated. Intel oneAPI Math Kernel Library 2025.0 will require Intel(R) Advanced Vector Extensions (Intel(R) AVX) instructions.\n",
      "Intel MKL WARNING: Support of Intel(R) Streaming SIMD Extensions 4.2 (Intel(R) SSE4.2) enabled only processors has been deprecated. Intel oneAPI Math Kernel Library 2025.0 will require Intel(R) Advanced Vector Extensions (Intel(R) AVX) instructions.\n",
      "Intel MKL WARNING: Support of Intel(R) Streaming SIMD Extensions 4.2 (Intel(R) SSE4.2) enabled only processors has been deprecated. Intel oneAPI Math Kernel Library 2025.0 will require Intel(R) Advanced Vector Extensions (Intel(R) AVX) instructions.\n",
      "Intel MKL WARNING: Support of Intel(R) Streaming SIMD Extensions 4.2 (Intel(R) SSE4.2) enabled only processors has been deprecated. Intel oneAPI Math Kernel Library 2025.0 will require Intel(R) Advanced Vector Extensions (Intel(R) AVX) instructions.\n",
      "Intel MKL WARNING: Support of Intel(R) Streaming SIMD Extensions 4.2 (Intel(R) SSE4.2) enabled only processors has been deprecated. Intel oneAPI Math Kernel Library 2025.0 will require Intel(R) Advanced Vector Extensions (Intel(R) AVX) instructions.\n",
      "Intel MKL WARNING: Support of Intel(R) Streaming SIMD Extensions 4.2 (Intel(R) SSE4.2) enabled only processors has been deprecated. Intel oneAPI Math Kernel Library 2025.0 will require Intel(R) Advanced Vector Extensions (Intel(R) AVX) instructions.Intel MKL WARNING: Support of Intel(R) Streaming SIMD Extensions 4.2 (Intel(R) SSE4.2) enabled only processors has been deprecated. Intel oneAPI Math Kernel Library 2025.0 will require Intel(R) Advanced Vector Extensions (Intel(R) AVX) instructions.\n",
      "Intel MKL WARNING: Support of Intel(R) Streaming SIMD Extensions 4.2 (Intel(R) SSE4.2) enabled only processors has been deprecated. Intel oneAPI Math Kernel Library 2025.0 will require Intel(R) Advanced Vector Extensions (Intel(R) AVX) instructions.\n",
      "Intel MKL WARNING: Support of Intel(R) Streaming SIMD Extensions 4.2 (Intel(R) SSE4.2) enabled only processors has been deprecated. Intel oneAPI Math Kernel Library 2025.0 will require Intel(R) Advanced Vector Extensions (Intel(R) AVX) instructions.Intel MKL WARNING: Support of Intel(R) Streaming SIMD Extensions 4.2 (Intel(R) SSE4.2) enabled only processors has been deprecated. Intel oneAPI Math Kernel Library 2025.0 will require Intel(R) Advanced Vector Extensions (Intel(R) AVX) instructions.\n",
      "Intel MKL WARNING: Support of Intel(R) Streaming SIMD Extensions 4.2 (Intel(R) SSE4.2) enabled only processors has been deprecated. Intel oneAPI Math Kernel Library 2025.0 will require Intel(R) Advanced Vector Extensions (Intel(R) AVX) instructions.\n",
      "\n",
      "Intel MKL WARNING: Support of Intel(R) Streaming SIMD Extensions 4.2 (Intel(R) SSE4.2) enabled only processors has been deprecated. Intel oneAPI Math Kernel Library 2025.0 will require Intel(R) Advanced Vector Extensions (Intel(R) AVX) instructions.\n",
      "\n",
      "Intel MKL WARNING: Support of Intel(R) Streaming SIMD Extensions 4.2 (Intel(R) SSE4.2) enabled only processors has been deprecated. Intel oneAPI Math Kernel Library 2025.0 will require Intel(R) Advanced Vector Extensions (Intel(R) AVX) instructions.\n",
      "Intel MKL WARNING: Support of Intel(R) Streaming SIMD Extensions 4.2 (Intel(R) SSE4.2) enabled only processors has been deprecated. Intel oneAPI Math Kernel Library 2025.0 will require Intel(R) Advanced Vector Extensions (Intel(R) AVX) instructions.Intel MKL WARNING: Support of Intel(R) Streaming SIMD Extensions 4.2 (Intel(R) SSE4.2) enabled only processors has been deprecated. Intel oneAPI Math Kernel Library 2025.0 will require Intel(R) Advanced Vector Extensions (Intel(R) AVX) instructions.\n",
      "Intel MKL WARNING: Support of Intel(R) Streaming SIMD Extensions 4.2 (Intel(R) SSE4.2) enabled only processors has been deprecated. Intel oneAPI Math Kernel Library 2025.0 will require Intel(R) Advanced Vector Extensions (Intel(R) AVX) instructions.Intel MKL WARNING: Support of Intel(R) Streaming SIMD Extensions 4.2 (Intel(R) SSE4.2) enabled only processors has been deprecated. Intel oneAPI Math Kernel Library 2025.0 will require Intel(R) Advanced Vector Extensions (Intel(R) AVX) instructions.\n",
      "Intel MKL WARNING: Support of Intel(R) Streaming SIMD Extensions 4.2 (Intel(R) SSE4.2) enabled only processors has been deprecated. Intel oneAPI Math Kernel Library 2025.0 will require Intel(R) Advanced Vector Extensions (Intel(R) AVX) instructions.\n",
      "Intel MKL WARNING: Support of Intel(R) Streaming SIMD Extensions 4.2 (Intel(R) SSE4.2) enabled only processors has been deprecated. Intel oneAPI Math Kernel Library 2025.0 will require Intel(R) Advanced Vector Extensions (Intel(R) AVX) instructions.\n",
      "Intel MKL WARNING: Support of Intel(R) Streaming SIMD Extensions 4.2 (Intel(R) SSE4.2) enabled only processors has been deprecated. Intel oneAPI Math Kernel Library 2025.0 will require Intel(R) Advanced Vector Extensions (Intel(R) AVX) instructions.\n",
      "Intel MKL WARNING: Support of Intel(R) Streaming SIMD Extensions 4.2 (Intel(R) SSE4.2) enabled only processors has been deprecated. Intel oneAPI Math Kernel Library 2025.0 will require Intel(R) Advanced Vector Extensions (Intel(R) AVX) instructions.\n",
      "\n",
      "Intel MKL WARNING: Support of Intel(R) Streaming SIMD Extensions 4.2 (Intel(R) SSE4.2) enabled only processors has been deprecated. Intel oneAPI Math Kernel Library 2025.0 will require Intel(R) Advanced Vector Extensions (Intel(R) AVX) instructions.\n",
      "Intel MKL WARNING: Support of Intel(R) Streaming SIMD Extensions 4.2 (Intel(R) SSE4.2) enabled only processors has been deprecated. Intel oneAPI Math Kernel Library 2025.0 will require Intel(R) Advanced Vector Extensions (Intel(R) AVX) instructions.\n",
      "\n",
      "Intel MKL WARNING: Support of Intel(R) Streaming SIMD Extensions 4.2 (Intel(R) SSE4.2) enabled only processors has been deprecated. Intel oneAPI Math Kernel Library 2025.0 will require Intel(R) Advanced Vector Extensions (Intel(R) AVX) instructions.\n",
      "Intel MKL WARNING: Support of Intel(R) Streaming SIMD Extensions 4.2 (Intel(R) SSE4.2) enabled only processors has been deprecated. Intel oneAPI Math Kernel Library 2025.0 will require Intel(R) Advanced Vector Extensions (Intel(R) AVX) instructions.\n",
      "Intel MKL WARNING: Support of Intel(R) Streaming SIMD Extensions 4.2 (Intel(R) SSE4.2) enabled only processors has been deprecated. Intel oneAPI Math Kernel Library 2025.0 will require Intel(R) Advanced Vector Extensions (Intel(R) AVX) instructions.\n",
      "Intel MKL WARNING: Support of Intel(R) Streaming SIMD Extensions 4.2 (Intel(R) SSE4.2) enabled only processors has been deprecated. Intel oneAPI Math Kernel Library 2025.0 will require Intel(R) Advanced Vector Extensions (Intel(R) AVX) instructions.\n",
      "Intel MKL WARNING: Support of Intel(R) Streaming SIMD Extensions 4.2 (Intel(R) SSE4.2) enabled only processors has been deprecated. Intel oneAPI Math Kernel Library 2025.0 will require Intel(R) Advanced Vector Extensions (Intel(R) AVX) instructions.\n",
      "Intel MKL WARNING: Support of Intel(R) Streaming SIMD Extensions 4.2 (Intel(R) SSE4.2) enabled only processors has been deprecated. Intel oneAPI Math Kernel Library 2025.0 will require Intel(R) Advanced Vector Extensions (Intel(R) AVX) instructions.\n",
      "Intel MKL WARNING: Support of Intel(R) Streaming SIMD Extensions 4.2 (Intel(R) SSE4.2) enabled only processors has been deprecated. Intel oneAPI Math Kernel Library 2025.0 will require Intel(R) Advanced Vector Extensions (Intel(R) AVX) instructions.\n",
      "Intel MKL WARNING: Support of Intel(R) Streaming SIMD Extensions 4.2 (Intel(R) SSE4.2) enabled only processors has been deprecated. Intel oneAPI Math Kernel Library 2025.0 will require Intel(R) Advanced Vector Extensions (Intel(R) AVX) instructions.\n",
      "Intel MKL WARNING: Support of Intel(R) Streaming SIMD Extensions 4.2 (Intel(R) SSE4.2) enabled only processors has been deprecated. Intel oneAPI Math Kernel Library 2025.0 will require Intel(R) Advanced Vector Extensions (Intel(R) AVX) instructions.\n",
      "Intel MKL WARNING: Support of Intel(R) Streaming SIMD Extensions 4.2 (Intel(R) SSE4.2) enabled only processors has been deprecated. Intel oneAPI Math Kernel Library 2025.0 will require Intel(R) Advanced Vector Extensions (Intel(R) AVX) instructions.Intel MKL WARNING: Support of Intel(R) Streaming SIMD Extensions 4.2 (Intel(R) SSE4.2) enabled only processors has been deprecated. Intel oneAPI Math Kernel Library 2025.0 will require Intel(R) Advanced Vector Extensions (Intel(R) AVX) instructions.\n",
      "\n",
      "Intel MKL WARNING: Support of Intel(R) Streaming SIMD Extensions 4.2 (Intel(R) SSE4.2) enabled only processors has been deprecated. Intel oneAPI Math Kernel Library 2025.0 will require Intel(R) Advanced Vector Extensions (Intel(R) AVX) instructions.\n",
      "Intel MKL WARNING: Support of Intel(R) Streaming SIMD Extensions 4.2 (Intel(R) SSE4.2) enabled only processors has been deprecated. Intel oneAPI Math Kernel Library 2025.0 will require Intel(R) Advanced Vector Extensions (Intel(R) AVX) instructions.Intel MKL WARNING: Support of Intel(R) Streaming SIMD Extensions 4.2 (Intel(R) SSE4.2) enabled only processors has been deprecated. Intel oneAPI Math Kernel Library 2025.0 will require Intel(R) Advanced Vector Extensions (Intel(R) AVX) instructions.\n",
      "Intel MKL WARNING: Support of Intel(R) Streaming SIMD Extensions 4.2 (Intel(R) SSE4.2) enabled only processors has been deprecated. Intel oneAPI Math Kernel Library 2025.0 will require Intel(R) Advanced Vector Extensions (Intel(R) AVX) instructions.\n",
      "Intel MKL WARNING: Support of Intel(R) Streaming SIMD Extensions 4.2 (Intel(R) SSE4.2) enabled only processors has been deprecated. Intel oneAPI Math Kernel Library 2025.0 will require Intel(R) Advanced Vector Extensions (Intel(R) AVX) instructions.\n",
      "\n",
      "Intel MKL WARNING: Support of Intel(R) Streaming SIMD Extensions 4.2 (Intel(R) SSE4.2) enabled only processors has been deprecated. Intel oneAPI Math Kernel Library 2025.0 will require Intel(R) Advanced Vector Extensions (Intel(R) AVX) instructions.\n",
      "Intel MKL WARNING: Support of Intel(R) Streaming SIMD Extensions 4.2 (Intel(R) SSE4.2) enabled only processors has been deprecated. Intel oneAPI Math Kernel Library 2025.0 will require Intel(R) Advanced Vector Extensions (Intel(R) AVX) instructions.\n",
      "Intel MKL WARNING: Support of Intel(R) Streaming SIMD Extensions 4.2 (Intel(R) SSE4.2) enabled only processors has been deprecated. Intel oneAPI Math Kernel Library 2025.0 will require Intel(R) Advanced Vector Extensions (Intel(R) AVX) instructions.\n",
      "Intel MKL WARNING: Support of Intel(R) Streaming SIMD Extensions 4.2 (Intel(R) SSE4.2) enabled only processors has been deprecated. Intel oneAPI Math Kernel Library 2025.0 will require Intel(R) Advanced Vector Extensions (Intel(R) AVX) instructions.Intel MKL WARNING: Support of Intel(R) Streaming SIMD Extensions 4.2 (Intel(R) SSE4.2) enabled only processors has been deprecated. Intel oneAPI Math Kernel Library 2025.0 will require Intel(R) Advanced Vector Extensions (Intel(R) AVX) instructions.\n",
      "\n",
      "Intel MKL WARNING: Support of Intel(R) Streaming SIMD Extensions 4.2 (Intel(R) SSE4.2) enabled only processors has been deprecated. Intel oneAPI Math Kernel Library 2025.0 will require Intel(R) Advanced Vector Extensions (Intel(R) AVX) instructions.\n",
      "Intel MKL WARNING: Support of Intel(R) Streaming SIMD Extensions 4.2 (Intel(R) SSE4.2) enabled only processors has been deprecated. Intel oneAPI Math Kernel Library 2025.0 will require Intel(R) Advanced Vector Extensions (Intel(R) AVX) instructions.\n",
      "Training performance is:  0.8297196564687683\n",
      "Testing performance is:  0.6903669159746744\n",
      "The magnitude of the coefficients is:  2887.939973372403\n"
     ]
    }
   ]
  },
  {
   "cell_type": "code",
   "source": [
    "# Let's start to impose regularization\n",
    "# alpha = 1.0\n",
    "ridgeModel = Ridge(alpha = 1.0)\n",
    "ridgeModel.fit(X_train, y_train)\n",
    "\n",
    "# Evaluating the Linear Regression model in the training set.\n",
    "print(\"Training performance is: \", ridgeModel.score(X_train, y_train))\n",
    "\n",
    "# Evaluating the Linear Regression model in the testing set.\n",
    "print(\"Testing performance is: \", ridgeModel.score(X_test, y_test))\n",
    "\n",
    "# magnitude of the coefficients\n",
    "print(\"The magnitude of the coefficients is: \", np.abs(np.mean(ridgeModel.coef_)))\n"
   ],
   "metadata": {
    "id": "jfQZg2QiHc9N",
    "colab": {
     "base_uri": "https://localhost:8080/"
    },
    "executionInfo": {
     "status": "ok",
     "timestamp": 1679426555416,
     "user_tz": 240,
     "elapsed": 167,
     "user": {
      "displayName": "Shenhao Wang",
      "userId": "03503527554188089407"
     }
    },
    "outputId": "ff9d0f33-e7e3-4a17-9272-1e3dedc805ca",
    "ExecuteTime": {
     "end_time": "2023-11-28T21:55:21.959917Z",
     "start_time": "2023-11-28T21:55:21.928647Z"
    }
   },
   "execution_count": 31,
   "outputs": [
    {
     "name": "stdout",
     "output_type": "stream",
     "text": [
      "Intel MKL WARNING: Support of Intel(R) Streaming SIMD Extensions 4.2 (Intel(R) SSE4.2) enabled only processors has been deprecated. Intel oneAPI Math Kernel Library 2025.0 will require Intel(R) Advanced Vector Extensions (Intel(R) AVX) instructions.\n",
      "Intel MKL WARNING: Support of Intel(R) Streaming SIMD Extensions 4.2 (Intel(R) SSE4.2) enabled only processors has been deprecated. Intel oneAPI Math Kernel Library 2025.0 will require Intel(R) Advanced Vector Extensions (Intel(R) AVX) instructions.\n",
      "Intel MKL WARNING: Support of Intel(R) Streaming SIMD Extensions 4.2 (Intel(R) SSE4.2) enabled only processors has been deprecated. Intel oneAPI Math Kernel Library 2025.0 will require Intel(R) Advanced Vector Extensions (Intel(R) AVX) instructions.\n",
      "Intel MKL WARNING: Support of Intel(R) Streaming SIMD Extensions 4.2 (Intel(R) SSE4.2) enabled only processors has been deprecated. Intel oneAPI Math Kernel Library 2025.0 will require Intel(R) Advanced Vector Extensions (Intel(R) AVX) instructions.\n",
      "Intel MKL WARNING: Support of Intel(R) Streaming SIMD Extensions 4.2 (Intel(R) SSE4.2) enabled only processors has been deprecated. Intel oneAPI Math Kernel Library 2025.0 will require Intel(R) Advanced Vector Extensions (Intel(R) AVX) instructions.\n",
      "Intel MKL WARNING: Support of Intel(R) Streaming SIMD Extensions 4.2 (Intel(R) SSE4.2) enabled only processors has been deprecated. Intel oneAPI Math Kernel Library 2025.0 will require Intel(R) Advanced Vector Extensions (Intel(R) AVX) instructions.\n",
      "Intel MKL WARNING: Support of Intel(R) Streaming SIMD Extensions 4.2 (Intel(R) SSE4.2) enabled only processors has been deprecated. Intel oneAPI Math Kernel Library 2025.0 will require Intel(R) Advanced Vector Extensions (Intel(R) AVX) instructions.\n",
      "Intel MKL WARNING: Support of Intel(R) Streaming SIMD Extensions 4.2 (Intel(R) SSE4.2) enabled only processors has been deprecated. Intel oneAPI Math Kernel Library 2025.0 will require Intel(R) Advanced Vector Extensions (Intel(R) AVX) instructions.\n",
      "Intel MKL WARNING: Support of Intel(R) Streaming SIMD Extensions 4.2 (Intel(R) SSE4.2) enabled only processors has been deprecated. Intel oneAPI Math Kernel Library 2025.0 will require Intel(R) Advanced Vector Extensions (Intel(R) AVX) instructions.\n",
      "Intel MKL WARNING: Support of Intel(R) Streaming SIMD Extensions 4.2 (Intel(R) SSE4.2) enabled only processors has been deprecated. Intel oneAPI Math Kernel Library 2025.0 will require Intel(R) Advanced Vector Extensions (Intel(R) AVX) instructions.\n",
      "Intel MKL WARNING: Support of Intel(R) Streaming SIMD Extensions 4.2 (Intel(R) SSE4.2) enabled only processors has been deprecated. Intel oneAPI Math Kernel Library 2025.0 will require Intel(R) Advanced Vector Extensions (Intel(R) AVX) instructions.Intel MKL WARNING: Support of Intel(R) Streaming SIMD Extensions 4.2 (Intel(R) SSE4.2) enabled only processors has been deprecated. Intel oneAPI Math Kernel Library 2025.0 will require Intel(R) Advanced Vector Extensions (Intel(R) AVX) instructions.\n",
      "\n",
      "Intel MKL WARNING: Support of Intel(R) Streaming SIMD Extensions 4.2 (Intel(R) SSE4.2) enabled only processors has been deprecated. Intel oneAPI Math Kernel Library 2025.0 will require Intel(R) Advanced Vector Extensions (Intel(R) AVX) instructions.\n",
      "Intel MKL WARNING: Support of Intel(R) Streaming SIMD Extensions 4.2 (Intel(R) SSE4.2) enabled only processors has been deprecated. Intel oneAPI Math Kernel Library 2025.0 will require Intel(R) Advanced Vector Extensions (Intel(R) AVX) instructions.\n",
      "Intel MKL WARNING: Support of Intel(R) Streaming SIMD Extensions 4.2 (Intel(R) SSE4.2) enabled only processors has been deprecated. Intel oneAPI Math Kernel Library 2025.0 will require Intel(R) Advanced Vector Extensions (Intel(R) AVX) instructions.\n",
      "Intel MKL WARNING: Support of Intel(R) Streaming SIMD Extensions 4.2 (Intel(R) SSE4.2) enabled only processors has been deprecated. Intel oneAPI Math Kernel Library 2025.0 will require Intel(R) Advanced Vector Extensions (Intel(R) AVX) instructions.\n",
      "Intel MKL WARNING: Support of Intel(R) Streaming SIMD Extensions 4.2 (Intel(R) SSE4.2) enabled only processors has been deprecated. Intel oneAPI Math Kernel Library 2025.0 will require Intel(R) Advanced Vector Extensions (Intel(R) AVX) instructions.\n",
      "Intel MKL WARNING: Support of Intel(R) Streaming SIMD Extensions 4.2 (Intel(R) SSE4.2) enabled only processors has been deprecated. Intel oneAPI Math Kernel Library 2025.0 will require Intel(R) Advanced Vector Extensions (Intel(R) AVX) instructions.\n",
      "Intel MKL WARNING: Support of Intel(R) Streaming SIMD Extensions 4.2 (Intel(R) SSE4.2) enabled only processors has been deprecated. Intel oneAPI Math Kernel Library 2025.0 will require Intel(R) Advanced Vector Extensions (Intel(R) AVX) instructions.\n",
      "Intel MKL WARNING: Support of Intel(R) Streaming SIMD Extensions 4.2 (Intel(R) SSE4.2) enabled only processors has been deprecated. Intel oneAPI Math Kernel Library 2025.0 will require Intel(R) Advanced Vector Extensions (Intel(R) AVX) instructions.\n",
      "Intel MKL WARNING: Support of Intel(R) Streaming SIMD Extensions 4.2 (Intel(R) SSE4.2) enabled only processors has been deprecated. Intel oneAPI Math Kernel Library 2025.0 will require Intel(R) Advanced Vector Extensions (Intel(R) AVX) instructions.\n",
      "Intel MKL WARNING: Support of Intel(R) Streaming SIMD Extensions 4.2 (Intel(R) SSE4.2) enabled only processors has been deprecated. Intel oneAPI Math Kernel Library 2025.0 will require Intel(R) Advanced Vector Extensions (Intel(R) AVX) instructions.\n",
      "Intel MKL WARNING: Support of Intel(R) Streaming SIMD Extensions 4.2 (Intel(R) SSE4.2) enabled only processors has been deprecated. Intel oneAPI Math Kernel Library 2025.0 will require Intel(R) Advanced Vector Extensions (Intel(R) AVX) instructions.\n",
      "Intel MKL WARNING: Support of Intel(R) Streaming SIMD Extensions 4.2 (Intel(R) SSE4.2) enabled only processors has been deprecated. Intel oneAPI Math Kernel Library 2025.0 will require Intel(R) Advanced Vector Extensions (Intel(R) AVX) instructions.\n",
      "Intel MKL WARNING: Support of Intel(R) Streaming SIMD Extensions 4.2 (Intel(R) SSE4.2) enabled only processors has been deprecated. Intel oneAPI Math Kernel Library 2025.0 will require Intel(R) Advanced Vector Extensions (Intel(R) AVX) instructions.\n",
      "Intel MKL WARNING: Support of Intel(R) Streaming SIMD Extensions 4.2 (Intel(R) SSE4.2) enabled only processors has been deprecated. Intel oneAPI Math Kernel Library 2025.0 will require Intel(R) Advanced Vector Extensions (Intel(R) AVX) instructions.\n",
      "Intel MKL WARNING: Support of Intel(R) Streaming SIMD Extensions 4.2 (Intel(R) SSE4.2) enabled only processors has been deprecated. Intel oneAPI Math Kernel Library 2025.0 will require Intel(R) Advanced Vector Extensions (Intel(R) AVX) instructions.\n",
      "Intel MKL WARNING: Support of Intel(R) Streaming SIMD Extensions 4.2 (Intel(R) SSE4.2) enabled only processors has been deprecated. Intel oneAPI Math Kernel Library 2025.0 will require Intel(R) Advanced Vector Extensions (Intel(R) AVX) instructions.\n",
      "Intel MKL WARNING: Support of Intel(R) Streaming SIMD Extensions 4.2 (Intel(R) SSE4.2) enabled only processors has been deprecated. Intel oneAPI Math Kernel Library 2025.0 will require Intel(R) Advanced Vector Extensions (Intel(R) AVX) instructions.\n",
      "Intel MKL WARNING: Support of Intel(R) Streaming SIMD Extensions 4.2 (Intel(R) SSE4.2) enabled only processors has been deprecated. Intel oneAPI Math Kernel Library 2025.0 will require Intel(R) Advanced Vector Extensions (Intel(R) AVX) instructions.\n",
      "Intel MKL WARNING: Support of Intel(R) Streaming SIMD Extensions 4.2 (Intel(R) SSE4.2) enabled only processors has been deprecated. Intel oneAPI Math Kernel Library 2025.0 will require Intel(R) Advanced Vector Extensions (Intel(R) AVX) instructions.\n",
      "Intel MKL WARNING: Support of Intel(R) Streaming SIMD Extensions 4.2 (Intel(R) SSE4.2) enabled only processors has been deprecated. Intel oneAPI Math Kernel Library 2025.0 will require Intel(R) Advanced Vector Extensions (Intel(R) AVX) instructions.\n",
      "Intel MKL WARNING: Support of Intel(R) Streaming SIMD Extensions 4.2 (Intel(R) SSE4.2) enabled only processors has been deprecated. Intel oneAPI Math Kernel Library 2025.0 will require Intel(R) Advanced Vector Extensions (Intel(R) AVX) instructions.\n",
      "Intel MKL WARNING: Support of Intel(R) Streaming SIMD Extensions 4.2 (Intel(R) SSE4.2) enabled only processors has been deprecated. Intel oneAPI Math Kernel Library 2025.0 will require Intel(R) Advanced Vector Extensions (Intel(R) AVX) instructions.\n",
      "Intel MKL WARNING: Support of Intel(R) Streaming SIMD Extensions 4.2 (Intel(R) SSE4.2) enabled only processors has been deprecated. Intel oneAPI Math Kernel Library 2025.0 will require Intel(R) Advanced Vector Extensions (Intel(R) AVX) instructions.\n",
      "Intel MKL WARNING: Support of Intel(R) Streaming SIMD Extensions 4.2 (Intel(R) SSE4.2) enabled only processors has been deprecated. Intel oneAPI Math Kernel Library 2025.0 will require Intel(R) Advanced Vector Extensions (Intel(R) AVX) instructions.\n",
      "Intel MKL WARNING: Support of Intel(R) Streaming SIMD Extensions 4.2 (Intel(R) SSE4.2) enabled only processors has been deprecated. Intel oneAPI Math Kernel Library 2025.0 will require Intel(R) Advanced Vector Extensions (Intel(R) AVX) instructions.\n",
      "Intel MKL WARNING: Support of Intel(R) Streaming SIMD Extensions 4.2 (Intel(R) SSE4.2) enabled only processors has been deprecated. Intel oneAPI Math Kernel Library 2025.0 will require Intel(R) Advanced Vector Extensions (Intel(R) AVX) instructions.\n",
      "Intel MKL WARNING: Support of Intel(R) Streaming SIMD Extensions 4.2 (Intel(R) SSE4.2) enabled only processors has been deprecated. Intel oneAPI Math Kernel Library 2025.0 will require Intel(R) Advanced Vector Extensions (Intel(R) AVX) instructions.\n",
      "Intel MKL WARNING: Support of Intel(R) Streaming SIMD Extensions 4.2 (Intel(R) SSE4.2) enabled only processors has been deprecated. Intel oneAPI Math Kernel Library 2025.0 will require Intel(R) Advanced Vector Extensions (Intel(R) AVX) instructions.\n",
      "Intel MKL WARNING: Support of Intel(R) Streaming SIMD Extensions 4.2 (Intel(R) SSE4.2) enabled only processors has been deprecated. Intel oneAPI Math Kernel Library 2025.0 will require Intel(R) Advanced Vector Extensions (Intel(R) AVX) instructions.\n",
      "Intel MKL WARNING: Support of Intel(R) Streaming SIMD Extensions 4.2 (Intel(R) SSE4.2) enabled only processors has been deprecated. Intel oneAPI Math Kernel Library 2025.0 will require Intel(R) Advanced Vector Extensions (Intel(R) AVX) instructions.\n",
      "Intel MKL WARNING: Support of Intel(R) Streaming SIMD Extensions 4.2 (Intel(R) SSE4.2) enabled only processors has been deprecated. Intel oneAPI Math Kernel Library 2025.0 will require Intel(R) Advanced Vector Extensions (Intel(R) AVX) instructions.\n",
      "Intel MKL WARNING: Support of Intel(R) Streaming SIMD Extensions 4.2 (Intel(R) SSE4.2) enabled only processors has been deprecated. Intel oneAPI Math Kernel Library 2025.0 will require Intel(R) Advanced Vector Extensions (Intel(R) AVX) instructions.\n",
      "Intel MKL WARNING: Support of Intel(R) Streaming SIMD Extensions 4.2 (Intel(R) SSE4.2) enabled only processors has been deprecated. Intel oneAPI Math Kernel Library 2025.0 will require Intel(R) Advanced Vector Extensions (Intel(R) AVX) instructions.\n",
      "Intel MKL WARNING: Support of Intel(R) Streaming SIMD Extensions 4.2 (Intel(R) SSE4.2) enabled only processors has been deprecated. Intel oneAPI Math Kernel Library 2025.0 will require Intel(R) Advanced Vector Extensions (Intel(R) AVX) instructions.\n",
      "Intel MKL WARNING: Support of Intel(R) Streaming SIMD Extensions 4.2 (Intel(R) SSE4.2) enabled only processors has been deprecated. Intel oneAPI Math Kernel Library 2025.0 will require Intel(R) Advanced Vector Extensions (Intel(R) AVX) instructions.\n",
      "Intel MKL WARNING: Support of Intel(R) Streaming SIMD Extensions 4.2 (Intel(R) SSE4.2) enabled only processors has been deprecated. Intel oneAPI Math Kernel Library 2025.0 will require Intel(R) Advanced Vector Extensions (Intel(R) AVX) instructions.\n",
      "Intel MKL WARNING: Support of Intel(R) Streaming SIMD Extensions 4.2 (Intel(R) SSE4.2) enabled only processors has been deprecated. Intel oneAPI Math Kernel Library 2025.0 will require Intel(R) Advanced Vector Extensions (Intel(R) AVX) instructions.Intel MKL WARNING: Support of Intel(R) Streaming SIMD Extensions 4.2 (Intel(R) SSE4.2) enabled only processors has been deprecated. Intel oneAPI Math Kernel Library 2025.0 will require Intel(R) Advanced Vector Extensions (Intel(R) AVX) instructions.\n",
      "\n",
      "Intel MKL WARNING: Support of Intel(R) Streaming SIMD Extensions 4.2 (Intel(R) SSE4.2) enabled only processors has been deprecated. Intel oneAPI Math Kernel Library 2025.0 will require Intel(R) Advanced Vector Extensions (Intel(R) AVX) instructions.\n",
      "Intel MKL WARNING: Support of Intel(R) Streaming SIMD Extensions 4.2 (Intel(R) SSE4.2) enabled only processors has been deprecated. Intel oneAPI Math Kernel Library 2025.0 will require Intel(R) Advanced Vector Extensions (Intel(R) AVX) instructions.\n",
      "Intel MKL WARNING: Support of Intel(R) Streaming SIMD Extensions 4.2 (Intel(R) SSE4.2) enabled only processors has been deprecated. Intel oneAPI Math Kernel Library 2025.0 will require Intel(R) Advanced Vector Extensions (Intel(R) AVX) instructions.\n",
      "Intel MKL WARNING: Support of Intel(R) Streaming SIMD Extensions 4.2 (Intel(R) SSE4.2) enabled only processors has been deprecated. Intel oneAPI Math Kernel Library 2025.0 will require Intel(R) Advanced Vector Extensions (Intel(R) AVX) instructions.\n",
      "Intel MKL WARNING: Support of Intel(R) Streaming SIMD Extensions 4.2 (Intel(R) SSE4.2) enabled only processors has been deprecated. Intel oneAPI Math Kernel Library 2025.0 will require Intel(R) Advanced Vector Extensions (Intel(R) AVX) instructions.\n",
      "Intel MKL WARNING: Support of Intel(R) Streaming SIMD Extensions 4.2 (Intel(R) SSE4.2) enabled only processors has been deprecated. Intel oneAPI Math Kernel Library 2025.0 will require Intel(R) Advanced Vector Extensions (Intel(R) AVX) instructions.\n",
      "Intel MKL WARNING: Support of Intel(R) Streaming SIMD Extensions 4.2 (Intel(R) SSE4.2) enabled only processors has been deprecated. Intel oneAPI Math Kernel Library 2025.0 will require Intel(R) Advanced Vector Extensions (Intel(R) AVX) instructions.\n",
      "Intel MKL WARNING: Support of Intel(R) Streaming SIMD Extensions 4.2 (Intel(R) SSE4.2) enabled only processors has been deprecated. Intel oneAPI Math Kernel Library 2025.0 will require Intel(R) Advanced Vector Extensions (Intel(R) AVX) instructions.Intel MKL WARNING: Support of Intel(R) Streaming SIMD Extensions 4.2 (Intel(R) SSE4.2) enabled only processors has been deprecated. Intel oneAPI Math Kernel Library 2025.0 will require Intel(R) Advanced Vector Extensions (Intel(R) AVX) instructions.\n",
      "\n",
      "Intel MKL WARNING: Support of Intel(R) Streaming SIMD Extensions 4.2 (Intel(R) SSE4.2) enabled only processors has been deprecated. Intel oneAPI Math Kernel Library 2025.0 will require Intel(R) Advanced Vector Extensions (Intel(R) AVX) instructions.Intel MKL WARNING: Support of Intel(R) Streaming SIMD Extensions 4.2 (Intel(R) SSE4.2) enabled only processors has been deprecated. Intel oneAPI Math Kernel Library 2025.0 will require Intel(R) Advanced Vector Extensions (Intel(R) AVX) instructions.Intel MKL WARNING: Support of Intel(R) Streaming SIMD Extensions 4.2 (Intel(R) SSE4.2) enabled only processors has been deprecated. Intel oneAPI Math Kernel Library 2025.0 will require Intel(R) Advanced Vector Extensions (Intel(R) AVX) instructions.\n",
      "\n",
      "Intel MKL WARNING: Support of Intel(R) Streaming SIMD Extensions 4.2 (Intel(R) SSE4.2) enabled only processors has been deprecated. Intel oneAPI Math Kernel Library 2025.0 will require Intel(R) Advanced Vector Extensions (Intel(R) AVX) instructions.\n",
      "\n",
      "Intel MKL WARNING: Support of Intel(R) Streaming SIMD Extensions 4.2 (Intel(R) SSE4.2) enabled only processors has been deprecated. Intel oneAPI Math Kernel Library 2025.0 will require Intel(R) Advanced Vector Extensions (Intel(R) AVX) instructions.\n",
      "Intel MKL WARNING: Support of Intel(R) Streaming SIMD Extensions 4.2 (Intel(R) SSE4.2) enabled only processors has been deprecated. Intel oneAPI Math Kernel Library 2025.0 will require Intel(R) Advanced Vector Extensions (Intel(R) AVX) instructions.\n",
      "Intel MKL WARNING: Support of Intel(R) Streaming SIMD Extensions 4.2 (Intel(R) SSE4.2) enabled only processors has been deprecated. Intel oneAPI Math Kernel Library 2025.0 will require Intel(R) Advanced Vector Extensions (Intel(R) AVX) instructions.\n",
      "Intel MKL WARNING: Support of Intel(R) Streaming SIMD Extensions 4.2 (Intel(R) SSE4.2) enabled only processors has been deprecated. Intel oneAPI Math Kernel Library 2025.0 will require Intel(R) Advanced Vector Extensions (Intel(R) AVX) instructions.\n",
      "Intel MKL WARNING: Support of Intel(R) Streaming SIMD Extensions 4.2 (Intel(R) SSE4.2) enabled only processors has been deprecated. Intel oneAPI Math Kernel Library 2025.0 will require Intel(R) Advanced Vector Extensions (Intel(R) AVX) instructions.Intel MKL WARNING: Support of Intel(R) Streaming SIMD Extensions 4.2 (Intel(R) SSE4.2) enabled only processors has been deprecated. Intel oneAPI Math Kernel Library 2025.0 will require Intel(R) Advanced Vector Extensions (Intel(R) AVX) instructions.Intel MKL WARNING: Support of Intel(R) Streaming SIMD Extensions 4.2 (Intel(R) SSE4.2) enabled only processors has been deprecated. Intel oneAPI Math Kernel Library 2025.0 will require Intel(R) Advanced Vector Extensions (Intel(R) AVX) instructions.\n",
      "Intel MKL WARNING: Support of Intel(R) Streaming SIMD Extensions 4.2 (Intel(R) SSE4.2) enabled only processors has been deprecated. Intel oneAPI Math Kernel Library 2025.0 will require Intel(R) Advanced Vector Extensions (Intel(R) AVX) instructions.\n",
      "Intel MKL WARNING: Support of Intel(R) Streaming SIMD Extensions 4.2 (Intel(R) SSE4.2) enabled only processors has been deprecated. Intel oneAPI Math Kernel Library 2025.0 will require Intel(R) Advanced Vector Extensions (Intel(R) AVX) instructions.\n",
      "\n",
      "\n",
      "Intel MKL WARNING: Support of Intel(R) Streaming SIMD Extensions 4.2 (Intel(R) SSE4.2) enabled only processors has been deprecated. Intel oneAPI Math Kernel Library 2025.0 will require Intel(R) Advanced Vector Extensions (Intel(R) AVX) instructions.Intel MKL WARNING: Support of Intel(R) Streaming SIMD Extensions 4.2 (Intel(R) SSE4.2) enabled only processors has been deprecated. Intel oneAPI Math Kernel Library 2025.0 will require Intel(R) Advanced Vector Extensions (Intel(R) AVX) instructions.Intel MKL WARNING: Support of Intel(R) Streaming SIMD Extensions 4.2 (Intel(R) SSE4.2) enabled only processors has been deprecated. Intel oneAPI Math Kernel Library 2025.0 will require Intel(R) Advanced Vector Extensions (Intel(R) AVX) instructions.\n",
      "\n",
      "\n",
      "Intel MKL WARNING: Support of Intel(R) Streaming SIMD Extensions 4.2 (Intel(R) SSE4.2) enabled only processors has been deprecated. Intel oneAPI Math Kernel Library 2025.0 will require Intel(R) Advanced Vector Extensions (Intel(R) AVX) instructions.\n",
      "Intel MKL WARNING: Support of Intel(R) Streaming SIMD Extensions 4.2 (Intel(R) SSE4.2) enabled only processors has been deprecated. Intel oneAPI Math Kernel Library 2025.0 will require Intel(R) Advanced Vector Extensions (Intel(R) AVX) instructions.\n",
      "Intel MKL WARNING: Support of Intel(R) Streaming SIMD Extensions 4.2 (Intel(R) SSE4.2) enabled only processors has been deprecated. Intel oneAPI Math Kernel Library 2025.0 will require Intel(R) Advanced Vector Extensions (Intel(R) AVX) instructions.\n",
      "Intel MKL WARNING: Support of Intel(R) Streaming SIMD Extensions 4.2 (Intel(R) SSE4.2) enabled only processors has been deprecated. Intel oneAPI Math Kernel Library 2025.0 will require Intel(R) Advanced Vector Extensions (Intel(R) AVX) instructions.\n",
      "Intel MKL WARNING: Support of Intel(R) Streaming SIMD Extensions 4.2 (Intel(R) SSE4.2) enabled only processors has been deprecated. Intel oneAPI Math Kernel Library 2025.0 will require Intel(R) Advanced Vector Extensions (Intel(R) AVX) instructions.\n",
      "Intel MKL WARNING: Support of Intel(R) Streaming SIMD Extensions 4.2 (Intel(R) SSE4.2) enabled only processors has been deprecated. Intel oneAPI Math Kernel Library 2025.0 will require Intel(R) Advanced Vector Extensions (Intel(R) AVX) instructions.\n",
      "Intel MKL WARNING: Support of Intel(R) Streaming SIMD Extensions 4.2 (Intel(R) SSE4.2) enabled only processors has been deprecated. Intel oneAPI Math Kernel Library 2025.0 will require Intel(R) Advanced Vector Extensions (Intel(R) AVX) instructions.Intel MKL WARNING: Support of Intel(R) Streaming SIMD Extensions 4.2 (Intel(R) SSE4.2) enabled only processors has been deprecated. Intel oneAPI Math Kernel Library 2025.0 will require Intel(R) Advanced Vector Extensions (Intel(R) AVX) instructions.\n",
      "\n",
      "Intel MKL WARNING: Support of Intel(R) Streaming SIMD Extensions 4.2 (Intel(R) SSE4.2) enabled only processors has been deprecated. Intel oneAPI Math Kernel Library 2025.0 will require Intel(R) Advanced Vector Extensions (Intel(R) AVX) instructions.\n",
      "Intel MKL WARNING: Support of Intel(R) Streaming SIMD Extensions 4.2 (Intel(R) SSE4.2) enabled only processors has been deprecated. Intel oneAPI Math Kernel Library 2025.0 will require Intel(R) Advanced Vector Extensions (Intel(R) AVX) instructions.\n",
      "Intel MKL WARNING: Support of Intel(R) Streaming SIMD Extensions 4.2 (Intel(R) SSE4.2) enabled only processors has been deprecated. Intel oneAPI Math Kernel Library 2025.0 will require Intel(R) Advanced Vector Extensions (Intel(R) AVX) instructions.\n",
      "Training performance is:  0.8038983832332296\n",
      "Testing performance is:  0.7369742179830843\n",
      "The magnitude of the coefficients is:  1241.939312921345\n"
     ]
    }
   ]
  },
  {
   "cell_type": "code",
   "source": [
    "# Let's start to impose regularization\n",
    "# alpha = 10.0\n",
    "ridgeModel = Ridge(alpha = 10.0)\n",
    "ridgeModel.fit(X_train, y_train)\n",
    "\n",
    "# Evaluating the Linear Regression model in the training set.\n",
    "print(\"Training performance is: \", ridgeModel.score(X_train, y_train))\n",
    "\n",
    "# Evaluating the Linear Regression model in the testing set.\n",
    "print(\"Testing performance is: \", ridgeModel.score(X_test, y_test))\n",
    "\n",
    "# magnitude of the coefficients\n",
    "print(\"The magnitude of the coefficients is: \", np.abs(np.mean(ridgeModel.coef_)))"
   ],
   "metadata": {
    "id": "d3NdCd5eHc_J",
    "colab": {
     "base_uri": "https://localhost:8080/"
    },
    "executionInfo": {
     "status": "ok",
     "timestamp": 1679426581557,
     "user_tz": 240,
     "elapsed": 256,
     "user": {
      "displayName": "Shenhao Wang",
      "userId": "03503527554188089407"
     }
    },
    "outputId": "3181632d-d311-4ae1-f7fd-c2f2ab7def32",
    "ExecuteTime": {
     "end_time": "2023-11-28T21:55:22.133Z",
     "start_time": "2023-11-28T21:55:22.107641Z"
    }
   },
   "execution_count": 32,
   "outputs": [
    {
     "name": "stdout",
     "output_type": "stream",
     "text": [
      "Intel MKL WARNING: Support of Intel(R) Streaming SIMD Extensions 4.2 (Intel(R) SSE4.2) enabled only processors has been deprecated. Intel oneAPI Math Kernel Library 2025.0 will require Intel(R) Advanced Vector Extensions (Intel(R) AVX) instructions.\n",
      "Intel MKL WARNING: Support of Intel(R) Streaming SIMD Extensions 4.2 (Intel(R) SSE4.2) enabled only processors has been deprecated. Intel oneAPI Math Kernel Library 2025.0 will require Intel(R) Advanced Vector Extensions (Intel(R) AVX) instructions.\n",
      "Intel MKL WARNING: Support of Intel(R) Streaming SIMD Extensions 4.2 (Intel(R) SSE4.2) enabled only processors has been deprecated. Intel oneAPI Math Kernel Library 2025.0 will require Intel(R) Advanced Vector Extensions (Intel(R) AVX) instructions.\n",
      "Intel MKL WARNING: Support of Intel(R) Streaming SIMD Extensions 4.2 (Intel(R) SSE4.2) enabled only processors has been deprecated. Intel oneAPI Math Kernel Library 2025.0 will require Intel(R) Advanced Vector Extensions (Intel(R) AVX) instructions.\n",
      "Intel MKL WARNING: Support of Intel(R) Streaming SIMD Extensions 4.2 (Intel(R) SSE4.2) enabled only processors has been deprecated. Intel oneAPI Math Kernel Library 2025.0 will require Intel(R) Advanced Vector Extensions (Intel(R) AVX) instructions.\n",
      "Intel MKL WARNING: Support of Intel(R) Streaming SIMD Extensions 4.2 (Intel(R) SSE4.2) enabled only processors has been deprecated. Intel oneAPI Math Kernel Library 2025.0 will require Intel(R) Advanced Vector Extensions (Intel(R) AVX) instructions.\n",
      "Intel MKL WARNING: Support of Intel(R) Streaming SIMD Extensions 4.2 (Intel(R) SSE4.2) enabled only processors has been deprecated. Intel oneAPI Math Kernel Library 2025.0 will require Intel(R) Advanced Vector Extensions (Intel(R) AVX) instructions.\n",
      "Intel MKL WARNING: Support of Intel(R) Streaming SIMD Extensions 4.2 (Intel(R) SSE4.2) enabled only processors has been deprecated. Intel oneAPI Math Kernel Library 2025.0 will require Intel(R) Advanced Vector Extensions (Intel(R) AVX) instructions.\n",
      "Intel MKL WARNING: Support of Intel(R) Streaming SIMD Extensions 4.2 (Intel(R) SSE4.2) enabled only processors has been deprecated. Intel oneAPI Math Kernel Library 2025.0 will require Intel(R) Advanced Vector Extensions (Intel(R) AVX) instructions.\n",
      "Intel MKL WARNING: Support of Intel(R) Streaming SIMD Extensions 4.2 (Intel(R) SSE4.2) enabled only processors has been deprecated. Intel oneAPI Math Kernel Library 2025.0 will require Intel(R) Advanced Vector Extensions (Intel(R) AVX) instructions.\n",
      "Intel MKL WARNING: Support of Intel(R) Streaming SIMD Extensions 4.2 (Intel(R) SSE4.2) enabled only processors has been deprecated. Intel oneAPI Math Kernel Library 2025.0 will require Intel(R) Advanced Vector Extensions (Intel(R) AVX) instructions.\n",
      "Intel MKL WARNING: Support of Intel(R) Streaming SIMD Extensions 4.2 (Intel(R) SSE4.2) enabled only processors has been deprecated. Intel oneAPI Math Kernel Library 2025.0 will require Intel(R) Advanced Vector Extensions (Intel(R) AVX) instructions.\n",
      "Intel MKL WARNING: Support of Intel(R) Streaming SIMD Extensions 4.2 (Intel(R) SSE4.2) enabled only processors has been deprecated. Intel oneAPI Math Kernel Library 2025.0 will require Intel(R) Advanced Vector Extensions (Intel(R) AVX) instructions.\n",
      "Intel MKL WARNING: Support of Intel(R) Streaming SIMD Extensions 4.2 (Intel(R) SSE4.2) enabled only processors has been deprecated. Intel oneAPI Math Kernel Library 2025.0 will require Intel(R) Advanced Vector Extensions (Intel(R) AVX) instructions.\n",
      "Intel MKL WARNING: Support of Intel(R) Streaming SIMD Extensions 4.2 (Intel(R) SSE4.2) enabled only processors has been deprecated. Intel oneAPI Math Kernel Library 2025.0 will require Intel(R) Advanced Vector Extensions (Intel(R) AVX) instructions.\n",
      "Intel MKL WARNING: Support of Intel(R) Streaming SIMD Extensions 4.2 (Intel(R) SSE4.2) enabled only processors has been deprecated. Intel oneAPI Math Kernel Library 2025.0 will require Intel(R) Advanced Vector Extensions (Intel(R) AVX) instructions.\n",
      "Intel MKL WARNING: Support of Intel(R) Streaming SIMD Extensions 4.2 (Intel(R) SSE4.2) enabled only processors has been deprecated. Intel oneAPI Math Kernel Library 2025.0 will require Intel(R) Advanced Vector Extensions (Intel(R) AVX) instructions.\n",
      "Intel MKL WARNING: Support of Intel(R) Streaming SIMD Extensions 4.2 (Intel(R) SSE4.2) enabled only processors has been deprecated. Intel oneAPI Math Kernel Library 2025.0 will require Intel(R) Advanced Vector Extensions (Intel(R) AVX) instructions.\n",
      "Intel MKL WARNING: Support of Intel(R) Streaming SIMD Extensions 4.2 (Intel(R) SSE4.2) enabled only processors has been deprecated. Intel oneAPI Math Kernel Library 2025.0 will require Intel(R) Advanced Vector Extensions (Intel(R) AVX) instructions.\n",
      "Intel MKL WARNING: Support of Intel(R) Streaming SIMD Extensions 4.2 (Intel(R) SSE4.2) enabled only processors has been deprecated. Intel oneAPI Math Kernel Library 2025.0 will require Intel(R) Advanced Vector Extensions (Intel(R) AVX) instructions.\n",
      "Intel MKL WARNING: Support of Intel(R) Streaming SIMD Extensions 4.2 (Intel(R) SSE4.2) enabled only processors has been deprecated. Intel oneAPI Math Kernel Library 2025.0 will require Intel(R) Advanced Vector Extensions (Intel(R) AVX) instructions.\n",
      "Intel MKL WARNING: Support of Intel(R) Streaming SIMD Extensions 4.2 (Intel(R) SSE4.2) enabled only processors has been deprecated. Intel oneAPI Math Kernel Library 2025.0 will require Intel(R) Advanced Vector Extensions (Intel(R) AVX) instructions.\n",
      "Intel MKL WARNING: Support of Intel(R) Streaming SIMD Extensions 4.2 (Intel(R) SSE4.2) enabled only processors has been deprecated. Intel oneAPI Math Kernel Library 2025.0 will require Intel(R) Advanced Vector Extensions (Intel(R) AVX) instructions.\n",
      "Intel MKL WARNING: Support of Intel(R) Streaming SIMD Extensions 4.2 (Intel(R) SSE4.2) enabled only processors has been deprecated. Intel oneAPI Math Kernel Library 2025.0 will require Intel(R) Advanced Vector Extensions (Intel(R) AVX) instructions.\n",
      "Intel MKL WARNING: Support of Intel(R) Streaming SIMD Extensions 4.2 (Intel(R) SSE4.2) enabled only processors has been deprecated. Intel oneAPI Math Kernel Library 2025.0 will require Intel(R) Advanced Vector Extensions (Intel(R) AVX) instructions.\n",
      "Intel MKL WARNING: Support of Intel(R) Streaming SIMD Extensions 4.2 (Intel(R) SSE4.2) enabled only processors has been deprecated. Intel oneAPI Math Kernel Library 2025.0 will require Intel(R) Advanced Vector Extensions (Intel(R) AVX) instructions.\n",
      "Intel MKL WARNING: Support of Intel(R) Streaming SIMD Extensions 4.2 (Intel(R) SSE4.2) enabled only processors has been deprecated. Intel oneAPI Math Kernel Library 2025.0 will require Intel(R) Advanced Vector Extensions (Intel(R) AVX) instructions.\n",
      "Intel MKL WARNING: Support of Intel(R) Streaming SIMD Extensions 4.2 (Intel(R) SSE4.2) enabled only processors has been deprecated. Intel oneAPI Math Kernel Library 2025.0 will require Intel(R) Advanced Vector Extensions (Intel(R) AVX) instructions.\n",
      "Intel MKL WARNING: Support of Intel(R) Streaming SIMD Extensions 4.2 (Intel(R) SSE4.2) enabled only processors has been deprecated. Intel oneAPI Math Kernel Library 2025.0 will require Intel(R) Advanced Vector Extensions (Intel(R) AVX) instructions.\n",
      "Intel MKL WARNING: Support of Intel(R) Streaming SIMD Extensions 4.2 (Intel(R) SSE4.2) enabled only processors has been deprecated. Intel oneAPI Math Kernel Library 2025.0 will require Intel(R) Advanced Vector Extensions (Intel(R) AVX) instructions.\n",
      "Intel MKL WARNING: Support of Intel(R) Streaming SIMD Extensions 4.2 (Intel(R) SSE4.2) enabled only processors has been deprecated. Intel oneAPI Math Kernel Library 2025.0 will require Intel(R) Advanced Vector Extensions (Intel(R) AVX) instructions.\n",
      "Intel MKL WARNING: Support of Intel(R) Streaming SIMD Extensions 4.2 (Intel(R) SSE4.2) enabled only processors has been deprecated. Intel oneAPI Math Kernel Library 2025.0 will require Intel(R) Advanced Vector Extensions (Intel(R) AVX) instructions.\n",
      "Intel MKL WARNING: Support of Intel(R) Streaming SIMD Extensions 4.2 (Intel(R) SSE4.2) enabled only processors has been deprecated. Intel oneAPI Math Kernel Library 2025.0 will require Intel(R) Advanced Vector Extensions (Intel(R) AVX) instructions.\n",
      "Intel MKL WARNING: Support of Intel(R) Streaming SIMD Extensions 4.2 (Intel(R) SSE4.2) enabled only processors has been deprecated. Intel oneAPI Math Kernel Library 2025.0 will require Intel(R) Advanced Vector Extensions (Intel(R) AVX) instructions.\n",
      "Intel MKL WARNING: Support of Intel(R) Streaming SIMD Extensions 4.2 (Intel(R) SSE4.2) enabled only processors has been deprecated. Intel oneAPI Math Kernel Library 2025.0 will require Intel(R) Advanced Vector Extensions (Intel(R) AVX) instructions.\n",
      "Intel MKL WARNING: Support of Intel(R) Streaming SIMD Extensions 4.2 (Intel(R) SSE4.2) enabled only processors has been deprecated. Intel oneAPI Math Kernel Library 2025.0 will require Intel(R) Advanced Vector Extensions (Intel(R) AVX) instructions.\n",
      "Intel MKL WARNING: Support of Intel(R) Streaming SIMD Extensions 4.2 (Intel(R) SSE4.2) enabled only processors has been deprecated. Intel oneAPI Math Kernel Library 2025.0 will require Intel(R) Advanced Vector Extensions (Intel(R) AVX) instructions.\n",
      "Intel MKL WARNING: Support of Intel(R) Streaming SIMD Extensions 4.2 (Intel(R) SSE4.2) enabled only processors has been deprecated. Intel oneAPI Math Kernel Library 2025.0 will require Intel(R) Advanced Vector Extensions (Intel(R) AVX) instructions.\n",
      "Intel MKL WARNING: Support of Intel(R) Streaming SIMD Extensions 4.2 (Intel(R) SSE4.2) enabled only processors has been deprecated. Intel oneAPI Math Kernel Library 2025.0 will require Intel(R) Advanced Vector Extensions (Intel(R) AVX) instructions.\n",
      "Intel MKL WARNING: Support of Intel(R) Streaming SIMD Extensions 4.2 (Intel(R) SSE4.2) enabled only processors has been deprecated. Intel oneAPI Math Kernel Library 2025.0 will require Intel(R) Advanced Vector Extensions (Intel(R) AVX) instructions.\n",
      "Intel MKL WARNING: Support of Intel(R) Streaming SIMD Extensions 4.2 (Intel(R) SSE4.2) enabled only processors has been deprecated. Intel oneAPI Math Kernel Library 2025.0 will require Intel(R) Advanced Vector Extensions (Intel(R) AVX) instructions.\n",
      "Intel MKL WARNING: Support of Intel(R) Streaming SIMD Extensions 4.2 (Intel(R) SSE4.2) enabled only processors has been deprecated. Intel oneAPI Math Kernel Library 2025.0 will require Intel(R) Advanced Vector Extensions (Intel(R) AVX) instructions.\n",
      "Intel MKL WARNING: Support of Intel(R) Streaming SIMD Extensions 4.2 (Intel(R) SSE4.2) enabled only processors has been deprecated. Intel oneAPI Math Kernel Library 2025.0 will require Intel(R) Advanced Vector Extensions (Intel(R) AVX) instructions.\n",
      "Intel MKL WARNING: Support of Intel(R) Streaming SIMD Extensions 4.2 (Intel(R) SSE4.2) enabled only processors has been deprecated. Intel oneAPI Math Kernel Library 2025.0 will require Intel(R) Advanced Vector Extensions (Intel(R) AVX) instructions.\n",
      "Intel MKL WARNING: Support of Intel(R) Streaming SIMD Extensions 4.2 (Intel(R) SSE4.2) enabled only processors has been deprecated. Intel oneAPI Math Kernel Library 2025.0 will require Intel(R) Advanced Vector Extensions (Intel(R) AVX) instructions.Intel MKL WARNING: Support of Intel(R) Streaming SIMD Extensions 4.2 (Intel(R) SSE4.2) enabled only processors has been deprecated. Intel oneAPI Math Kernel Library 2025.0 will require Intel(R) Advanced Vector Extensions (Intel(R) AVX) instructions.Intel MKL WARNING: Support of Intel(R) Streaming SIMD Extensions 4.2 (Intel(R) SSE4.2) enabled only processors has been deprecated. Intel oneAPI Math Kernel Library 2025.0 will require Intel(R) Advanced Vector Extensions (Intel(R) AVX) instructions.\n",
      "Intel MKL WARNING: Support of Intel(R) Streaming SIMD Extensions 4.2 (Intel(R) SSE4.2) enabled only processors has been deprecated. Intel oneAPI Math Kernel Library 2025.0 will require Intel(R) Advanced Vector Extensions (Intel(R) AVX) instructions.\n",
      "Intel MKL WARNING: Support of Intel(R) Streaming SIMD Extensions 4.2 (Intel(R) SSE4.2) enabled only processors has been deprecated. Intel oneAPI Math Kernel Library 2025.0 will require Intel(R) Advanced Vector Extensions (Intel(R) AVX) instructions.\n",
      "\n",
      "\n",
      "Intel MKL WARNING: Support of Intel(R) Streaming SIMD Extensions 4.2 (Intel(R) SSE4.2) enabled only processors has been deprecated. Intel oneAPI Math Kernel Library 2025.0 will require Intel(R) Advanced Vector Extensions (Intel(R) AVX) instructions.\n",
      "Intel MKL WARNING: Support of Intel(R) Streaming SIMD Extensions 4.2 (Intel(R) SSE4.2) enabled only processors has been deprecated. Intel oneAPI Math Kernel Library 2025.0 will require Intel(R) Advanced Vector Extensions (Intel(R) AVX) instructions.\n",
      "Intel MKL WARNING: Support of Intel(R) Streaming SIMD Extensions 4.2 (Intel(R) SSE4.2) enabled only processors has been deprecated. Intel oneAPI Math Kernel Library 2025.0 will require Intel(R) Advanced Vector Extensions (Intel(R) AVX) instructions.\n",
      "Intel MKL WARNING: Support of Intel(R) Streaming SIMD Extensions 4.2 (Intel(R) SSE4.2) enabled only processors has been deprecated. Intel oneAPI Math Kernel Library 2025.0 will require Intel(R) Advanced Vector Extensions (Intel(R) AVX) instructions.Intel MKL WARNING: Support of Intel(R) Streaming SIMD Extensions 4.2 (Intel(R) SSE4.2) enabled only processors has been deprecated. Intel oneAPI Math Kernel Library 2025.0 will require Intel(R) Advanced Vector Extensions (Intel(R) AVX) instructions.\n",
      "Intel MKL WARNING: Support of Intel(R) Streaming SIMD Extensions 4.2 (Intel(R) SSE4.2) enabled only processors has been deprecated. Intel oneAPI Math Kernel Library 2025.0 will require Intel(R) Advanced Vector Extensions (Intel(R) AVX) instructions.\n",
      "Intel MKL WARNING: Support of Intel(R) Streaming SIMD Extensions 4.2 (Intel(R) SSE4.2) enabled only processors has been deprecated. Intel oneAPI Math Kernel Library 2025.0 will require Intel(R) Advanced Vector Extensions (Intel(R) AVX) instructions.Intel MKL WARNING: Support of Intel(R) Streaming SIMD Extensions 4.2 (Intel(R) SSE4.2) enabled only processors has been deprecated. Intel oneAPI Math Kernel Library 2025.0 will require Intel(R) Advanced Vector Extensions (Intel(R) AVX) instructions.\n",
      "\n",
      "Intel MKL WARNING: Support of Intel(R) Streaming SIMD Extensions 4.2 (Intel(R) SSE4.2) enabled only processors has been deprecated. Intel oneAPI Math Kernel Library 2025.0 will require Intel(R) Advanced Vector Extensions (Intel(R) AVX) instructions.\n",
      "Intel MKL WARNING: Support of Intel(R) Streaming SIMD Extensions 4.2 (Intel(R) SSE4.2) enabled only processors has been deprecated. Intel oneAPI Math Kernel Library 2025.0 will require Intel(R) Advanced Vector Extensions (Intel(R) AVX) instructions.\n",
      "Intel MKL WARNING: Support of Intel(R) Streaming SIMD Extensions 4.2 (Intel(R) SSE4.2) enabled only processors has been deprecated. Intel oneAPI Math Kernel Library 2025.0 will require Intel(R) Advanced Vector Extensions (Intel(R) AVX) instructions.\n",
      "Intel MKL WARNING: Support of Intel(R) Streaming SIMD Extensions 4.2 (Intel(R) SSE4.2) enabled only processors has been deprecated. Intel oneAPI Math Kernel Library 2025.0 will require Intel(R) Advanced Vector Extensions (Intel(R) AVX) instructions.\n",
      "Intel MKL WARNING: Support of Intel(R) Streaming SIMD Extensions 4.2 (Intel(R) SSE4.2) enabled only processors has been deprecated. Intel oneAPI Math Kernel Library 2025.0 will require Intel(R) Advanced Vector Extensions (Intel(R) AVX) instructions.\n",
      "Intel MKL WARNING: Support of Intel(R) Streaming SIMD Extensions 4.2 (Intel(R) SSE4.2) enabled only processors has been deprecated. Intel oneAPI Math Kernel Library 2025.0 will require Intel(R) Advanced Vector Extensions (Intel(R) AVX) instructions.\n",
      "Intel MKL WARNING: Support of Intel(R) Streaming SIMD Extensions 4.2 (Intel(R) SSE4.2) enabled only processors has been deprecated. Intel oneAPI Math Kernel Library 2025.0 will require Intel(R) Advanced Vector Extensions (Intel(R) AVX) instructions.\n",
      "Intel MKL WARNING: Support of Intel(R) Streaming SIMD Extensions 4.2 (Intel(R) SSE4.2) enabled only processors has been deprecated. Intel oneAPI Math Kernel Library 2025.0 will require Intel(R) Advanced Vector Extensions (Intel(R) AVX) instructions.\n",
      "Intel MKL WARNING: Support of Intel(R) Streaming SIMD Extensions 4.2 (Intel(R) SSE4.2) enabled only processors has been deprecated. Intel oneAPI Math Kernel Library 2025.0 will require Intel(R) Advanced Vector Extensions (Intel(R) AVX) instructions.\n",
      "Intel MKL WARNING: Support of Intel(R) Streaming SIMD Extensions 4.2 (Intel(R) SSE4.2) enabled only processors has been deprecated. Intel oneAPI Math Kernel Library 2025.0 will require Intel(R) Advanced Vector Extensions (Intel(R) AVX) instructions.\n",
      "Intel MKL WARNING: Support of Intel(R) Streaming SIMD Extensions 4.2 (Intel(R) SSE4.2) enabled only processors has been deprecated. Intel oneAPI Math Kernel Library 2025.0 will require Intel(R) Advanced Vector Extensions (Intel(R) AVX) instructions.\n",
      "Intel MKL WARNING: Support of Intel(R) Streaming SIMD Extensions 4.2 (Intel(R) SSE4.2) enabled only processors has been deprecated. Intel oneAPI Math Kernel Library 2025.0 will require Intel(R) Advanced Vector Extensions (Intel(R) AVX) instructions.\n",
      "Intel MKL WARNING: Support of Intel(R) Streaming SIMD Extensions 4.2 (Intel(R) SSE4.2) enabled only processors has been deprecated. Intel oneAPI Math Kernel Library 2025.0 will require Intel(R) Advanced Vector Extensions (Intel(R) AVX) instructions.\n",
      "\n",
      "Intel MKL WARNING: Support of Intel(R) Streaming SIMD Extensions 4.2 (Intel(R) SSE4.2) enabled only processors has been deprecated. Intel oneAPI Math Kernel Library 2025.0 will require Intel(R) Advanced Vector Extensions (Intel(R) AVX) instructions.Intel MKL WARNING: Support of Intel(R) Streaming SIMD Extensions 4.2 (Intel(R) SSE4.2) enabled only processors has been deprecated. Intel oneAPI Math Kernel Library 2025.0 will require Intel(R) Advanced Vector Extensions (Intel(R) AVX) instructions.\n",
      "\n",
      "Intel MKL WARNING: Support of Intel(R) Streaming SIMD Extensions 4.2 (Intel(R) SSE4.2) enabled only processors has been deprecated. Intel oneAPI Math Kernel Library 2025.0 will require Intel(R) Advanced Vector Extensions (Intel(R) AVX) instructions.\n",
      "Intel MKL WARNING: Support of Intel(R) Streaming SIMD Extensions 4.2 (Intel(R) SSE4.2) enabled only processors has been deprecated. Intel oneAPI Math Kernel Library 2025.0 will require Intel(R) Advanced Vector Extensions (Intel(R) AVX) instructions.\n",
      "Intel MKL WARNING: Support of Intel(R) Streaming SIMD Extensions 4.2 (Intel(R) SSE4.2) enabled only processors has been deprecated. Intel oneAPI Math Kernel Library 2025.0 will require Intel(R) Advanced Vector Extensions (Intel(R) AVX) instructions.\n",
      "Intel MKL WARNING: Support of Intel(R) Streaming SIMD Extensions 4.2 (Intel(R) SSE4.2) enabled only processors has been deprecated. Intel oneAPI Math Kernel Library 2025.0 will require Intel(R) Advanced Vector Extensions (Intel(R) AVX) instructions.\n",
      "Intel MKL WARNING: Support of Intel(R) Streaming SIMD Extensions 4.2 (Intel(R) SSE4.2) enabled only processors has been deprecated. Intel oneAPI Math Kernel Library 2025.0 will require Intel(R) Advanced Vector Extensions (Intel(R) AVX) instructions.\n",
      "Intel MKL WARNING: Support of Intel(R) Streaming SIMD Extensions 4.2 (Intel(R) SSE4.2) enabled only processors has been deprecated. Intel oneAPI Math Kernel Library 2025.0 will require Intel(R) Advanced Vector Extensions (Intel(R) AVX) instructions.\n",
      "Intel MKL WARNING: Support of Intel(R) Streaming SIMD Extensions 4.2 (Intel(R) SSE4.2) enabled only processors has been deprecated. Intel oneAPI Math Kernel Library 2025.0 will require Intel(R) Advanced Vector Extensions (Intel(R) AVX) instructions.\n",
      "Intel MKL WARNING: Support of Intel(R) Streaming SIMD Extensions 4.2 (Intel(R) SSE4.2) enabled only processors has been deprecated. Intel oneAPI Math Kernel Library 2025.0 will require Intel(R) Advanced Vector Extensions (Intel(R) AVX) instructions.\n",
      "Intel MKL WARNING: Support of Intel(R) Streaming SIMD Extensions 4.2 (Intel(R) SSE4.2) enabled only processors has been deprecated. Intel oneAPI Math Kernel Library 2025.0 will require Intel(R) Advanced Vector Extensions (Intel(R) AVX) instructions.\n",
      "Intel MKL WARNING: Support of Intel(R) Streaming SIMD Extensions 4.2 (Intel(R) SSE4.2) enabled only processors has been deprecated. Intel oneAPI Math Kernel Library 2025.0 will require Intel(R) Advanced Vector Extensions (Intel(R) AVX) instructions.\n",
      "Intel MKL WARNING: Support of Intel(R) Streaming SIMD Extensions 4.2 (Intel(R) SSE4.2) enabled only processors has been deprecated. Intel oneAPI Math Kernel Library 2025.0 will require Intel(R) Advanced Vector Extensions (Intel(R) AVX) instructions.\n",
      "Intel MKL WARNING: Support of Intel(R) Streaming SIMD Extensions 4.2 (Intel(R) SSE4.2) enabled only processors has been deprecated. Intel oneAPI Math Kernel Library 2025.0 will require Intel(R) Advanced Vector Extensions (Intel(R) AVX) instructions.\n",
      "Intel MKL WARNING: Support of Intel(R) Streaming SIMD Extensions 4.2 (Intel(R) SSE4.2) enabled only processors has been deprecated. Intel oneAPI Math Kernel Library 2025.0 will require Intel(R) Advanced Vector Extensions (Intel(R) AVX) instructions.\n",
      "Intel MKL WARNING: Support of Intel(R) Streaming SIMD Extensions 4.2 (Intel(R) SSE4.2) enabled only processors has been deprecated. Intel oneAPI Math Kernel Library 2025.0 will require Intel(R) Advanced Vector Extensions (Intel(R) AVX) instructions.\n",
      "Training performance is:  0.7724906337613278\n",
      "Testing performance is:  0.7505301558233006\n",
      "The magnitude of the coefficients is:  222.764345900173\n"
     ]
    }
   ]
  },
  {
   "cell_type": "markdown",
   "source": [
    "## LASSO regression (smaller number of non-zero coefficients)\n",
    "\n",
    "The following scripts demonstrate the process of gradually simplifying models to address overfitting."
   ],
   "metadata": {
    "id": "vmNz7DfMJaOO"
   }
  },
  {
   "cell_type": "code",
   "source": [
    "# LASSO regression \n",
    "# alpha is the regularization term (strength). You need to try different alpha values to identify the optimum performance.\n",
    "# the following script replicate the linear regression without regularization.\n",
    "lassoModel = Lasso(alpha = 0.0)\n",
    "lassoModel.fit(X_train, y_train)\n",
    "\n",
    "# Evaluating the Linear Regression model in the training set.\n",
    "print(\"Training performance is: \", lassoModel.score(X_train, y_train))\n",
    "\n",
    "# Evaluating the Linear Regression model in the testing set.\n",
    "print(\"Testing performance is: \", lassoModel.score(X_test, y_test))\n",
    "\n",
    "# magnitude of the coefficients\n",
    "print(\"The number of non-zero coefficients is: \", np.sum(np.abs(lassoModel.coef_) > 1e-5))\n"
   ],
   "metadata": {
    "id": "YDvQQWh2HdBK",
    "colab": {
     "base_uri": "https://localhost:8080/"
    },
    "executionInfo": {
     "status": "ok",
     "timestamp": 1679426871834,
     "user_tz": 240,
     "elapsed": 1132,
     "user": {
      "displayName": "Shenhao Wang",
      "userId": "03503527554188089407"
     }
    },
    "outputId": "9adfedfc-d318-4154-a9cd-b28e9f78d35d",
    "ExecuteTime": {
     "end_time": "2023-11-28T21:55:23.064890Z",
     "start_time": "2023-11-28T21:55:22.554476Z"
    }
   },
   "execution_count": 33,
   "outputs": [
    {
     "name": "stderr",
     "output_type": "stream",
     "text": [
      "/var/folders/jh/p1jvq4k96b78klmgl3dq5jwc0000gn/T/ipykernel_41501/223534438.py:5: UserWarning: With alpha=0, this algorithm does not converge well. You are advised to use the LinearRegression estimator\n",
      "  lassoModel.fit(X_train, y_train)\n",
      "/Users/autumnstar/opt/anaconda3/envs/Python_Tutorials/lib/python3.11/site-packages/sklearn/linear_model/_coordinate_descent.py:631: UserWarning: Coordinate descent with no regularization may lead to unexpected results and is discouraged.\n",
      "  model = cd_fast.enet_coordinate_descent(\n"
     ]
    },
    {
     "name": "stdout",
     "output_type": "stream",
     "text": [
      "Training performance is:  0.8343892251567054\n",
      "Testing performance is:  0.6562909391862153\n",
      "The number of non-zero coefficients is:  454\n"
     ]
    },
    {
     "name": "stderr",
     "output_type": "stream",
     "text": [
      "/Users/autumnstar/opt/anaconda3/envs/Python_Tutorials/lib/python3.11/site-packages/sklearn/linear_model/_coordinate_descent.py:631: ConvergenceWarning: Objective did not converge. You might want to increase the number of iterations, check the scale of the features or consider increasing regularisation. Duality gap: 5.580e+12, tolerance: 6.739e+09 Linear regression models with null weight for the l1 regularization term are more efficiently fitted using one of the solvers implemented in sklearn.linear_model.Ridge/RidgeCV instead.\n",
      "  model = cd_fast.enet_coordinate_descent(\n"
     ]
    }
   ]
  },
  {
   "cell_type": "code",
   "source": [
    "# LASSO regression \n",
    "lassoModel = Lasso(alpha = 1.0)\n",
    "lassoModel.fit(X_train, y_train)\n",
    "\n",
    "# Evaluating the Linear Regression model in the training set.\n",
    "print(\"Training performance is: \", lassoModel.score(X_train, y_train))\n",
    "\n",
    "# Evaluating the Linear Regression model in the testing set.\n",
    "print(\"Testing performance is: \", lassoModel.score(X_test, y_test))\n",
    "\n",
    "# magnitude of the coefficients\n",
    "print(\"The number of non-zero coefficients is: \", np.sum(np.abs(lassoModel.coef_) > 1e-5))"
   ],
   "metadata": {
    "id": "k8IOCRTYHdDV",
    "colab": {
     "base_uri": "https://localhost:8080/"
    },
    "executionInfo": {
     "status": "ok",
     "timestamp": 1679426929020,
     "user_tz": 240,
     "elapsed": 2227,
     "user": {
      "displayName": "Shenhao Wang",
      "userId": "03503527554188089407"
     }
    },
    "outputId": "83380e21-a695-42e2-c9b5-e4873a990f9a",
    "ExecuteTime": {
     "end_time": "2023-11-28T21:55:23.531321Z",
     "start_time": "2023-11-28T21:55:23.067115Z"
    }
   },
   "execution_count": 34,
   "outputs": [
    {
     "name": "stdout",
     "output_type": "stream",
     "text": [
      "Training performance is:  0.8339976566502247\n",
      "Testing performance is:  0.6641142883674334\n",
      "The number of non-zero coefficients is:  447\n"
     ]
    },
    {
     "name": "stderr",
     "output_type": "stream",
     "text": [
      "/Users/autumnstar/opt/anaconda3/envs/Python_Tutorials/lib/python3.11/site-packages/sklearn/linear_model/_coordinate_descent.py:631: ConvergenceWarning: Objective did not converge. You might want to increase the number of iterations, check the scale of the features or consider increasing regularisation. Duality gap: 5.300e+12, tolerance: 6.739e+09\n",
      "  model = cd_fast.enet_coordinate_descent(\n"
     ]
    }
   ]
  },
  {
   "cell_type": "code",
   "source": [
    "# LASSO regression \n",
    "lassoModel = Lasso(alpha = 10.0)\n",
    "lassoModel.fit(X_train, y_train)\n",
    "\n",
    "# Evaluating the Linear Regression model in the training set.\n",
    "print(\"Training performance is: \", lassoModel.score(X_train, y_train))\n",
    "\n",
    "# Evaluating the Linear Regression model in the testing set.\n",
    "print(\"Testing performance is: \", lassoModel.score(X_test, y_test))\n",
    "\n",
    "# magnitude of the coefficients\n",
    "print(\"The number of non-zero coefficients is: \", np.sum(np.abs(lassoModel.coef_) > 1e-5))"
   ],
   "metadata": {
    "id": "AmGgE-ZWHdFt",
    "colab": {
     "base_uri": "https://localhost:8080/"
    },
    "executionInfo": {
     "status": "ok",
     "timestamp": 1679426932961,
     "user_tz": 240,
     "elapsed": 1364,
     "user": {
      "displayName": "Shenhao Wang",
      "userId": "03503527554188089407"
     }
    },
    "outputId": "98ed90f9-654c-4562-dd0f-c024da3bd5f1",
    "ExecuteTime": {
     "end_time": "2023-11-28T21:55:23.932536Z",
     "start_time": "2023-11-28T21:55:23.533643Z"
    }
   },
   "execution_count": 35,
   "outputs": [
    {
     "name": "stdout",
     "output_type": "stream",
     "text": [
      "Training performance is:  0.8251210465715604\n",
      "Testing performance is:  0.6913000245549527\n",
      "The number of non-zero coefficients is:  285\n"
     ]
    },
    {
     "name": "stderr",
     "output_type": "stream",
     "text": [
      "/Users/autumnstar/opt/anaconda3/envs/Python_Tutorials/lib/python3.11/site-packages/sklearn/linear_model/_coordinate_descent.py:631: ConvergenceWarning: Objective did not converge. You might want to increase the number of iterations, check the scale of the features or consider increasing regularisation. Duality gap: 3.099e+12, tolerance: 6.739e+09\n",
      "  model = cd_fast.enet_coordinate_descent(\n"
     ]
    }
   ]
  },
  {
   "cell_type": "code",
   "source": [
    "# LASSO regression \n",
    "lassoModel = Lasso(alpha = 100.0)\n",
    "lassoModel.fit(X_train, y_train)\n",
    "\n",
    "# Evaluating the Linear Regression model in the training set.\n",
    "print(\"Training performance is: \", lassoModel.score(X_train, y_train))\n",
    "\n",
    "# Evaluating the Linear Regression model in the testing set.\n",
    "print(\"Testing performance is: \", lassoModel.score(X_test, y_test))\n",
    "\n",
    "# magnitude of the coefficients\n",
    "print(\"The number of non-zero coefficients is: \", np.sum(np.abs(lassoModel.coef_) > 1e-5))"
   ],
   "metadata": {
    "id": "i1jxIzF2ERvs",
    "colab": {
     "base_uri": "https://localhost:8080/"
    },
    "executionInfo": {
     "status": "ok",
     "timestamp": 1679426935823,
     "user_tz": 240,
     "elapsed": 710,
     "user": {
      "displayName": "Shenhao Wang",
      "userId": "03503527554188089407"
     }
    },
    "outputId": "da1a1cf2-2fb7-474d-e4b7-4d3766de2c9f",
    "ExecuteTime": {
     "end_time": "2023-11-28T21:55:24.186935Z",
     "start_time": "2023-11-28T21:55:23.935303Z"
    }
   },
   "execution_count": 36,
   "outputs": [
    {
     "name": "stdout",
     "output_type": "stream",
     "text": [
      "Training performance is:  0.784483541849123\n",
      "Testing performance is:  0.7512922709739711\n",
      "The number of non-zero coefficients is:  77\n"
     ]
    },
    {
     "name": "stderr",
     "output_type": "stream",
     "text": [
      "/Users/autumnstar/opt/anaconda3/envs/Python_Tutorials/lib/python3.11/site-packages/sklearn/linear_model/_coordinate_descent.py:631: ConvergenceWarning: Objective did not converge. You might want to increase the number of iterations, check the scale of the features or consider increasing regularisation. Duality gap: 2.016e+11, tolerance: 6.739e+09\n",
      "  model = cd_fast.enet_coordinate_descent(\n"
     ]
    }
   ]
  },
  {
   "cell_type": "markdown",
   "source": [
    "### **Exercise.** Use the automobile usage as the output and other ten variables as the inputs. Then use the polynomial feature transformation to demonstrate the overfitting problem. Meanwhile, use Ridge or Lasso regressions to address overfitting."
   ],
   "metadata": {
    "id": "gnRvRQruLjfO"
   }
  }
 ]
}
