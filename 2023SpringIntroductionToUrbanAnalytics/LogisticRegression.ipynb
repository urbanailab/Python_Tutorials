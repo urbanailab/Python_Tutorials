{
 "nbformat": 4,
 "nbformat_minor": 0,
 "metadata": {
  "colab": {
   "provenance": [],
   "authorship_tag": "ABX9TyNlgAIMGWYif7c8ftiMAB3y"
  },
  "kernelspec": {
   "name": "python3",
   "language": "python",
   "display_name": "Python 3 (ipykernel)"
  },
  "language_info": {
   "name": "python"
  }
 },
 "cells": [
  {
   "cell_type": "markdown",
   "source": [
    "# Lec05 - Logistic regression\n",
    "\n",
    "- Section 0. loading data with preprocessing"
   ],
   "metadata": {
    "id": "CHRbD7zQIB_g"
   }
  },
  {
   "cell_type": "code",
   "source": [
    "# import packages\n",
    "import matplotlib.pyplot as plt\n",
    "import numpy as np\n",
    "import pandas as pd\n",
    "from scipy import stats\n",
    "import statsmodels.api as sm"
   ],
   "metadata": {
    "id": "LCPpJhFUIJmB",
    "executionInfo": {
     "status": "ok",
     "timestamp": 1675805412770,
     "user_tz": 300,
     "elapsed": 2946,
     "user": {
      "displayName": "Shenhao Wang",
      "userId": "03503527554188089407"
     }
    },
    "ExecuteTime": {
     "end_time": "2023-11-28T21:47:32.074853Z",
     "start_time": "2023-11-28T21:47:29.845609Z"
    }
   },
   "execution_count": 1,
   "outputs": [
    {
     "name": "stdout",
     "output_type": "stream",
     "text": [
      "Intel MKL WARNING: Support of Intel(R) Streaming SIMD Extensions 4.2 (Intel(R) SSE4.2) enabled only processors has been deprecated. Intel oneAPI Math Kernel Library 2025.0 will require Intel(R) Advanced Vector Extensions (Intel(R) AVX) instructions.\n",
      "Intel MKL WARNING: Support of Intel(R) Streaming SIMD Extensions 4.2 (Intel(R) SSE4.2) enabled only processors has been deprecated. Intel oneAPI Math Kernel Library 2025.0 will require Intel(R) Advanced Vector Extensions (Intel(R) AVX) instructions.\n"
     ]
    }
   ]
  },
  {
   "cell_type": "code",
   "source": [
    "# load the csv file using pandas\n",
    "df = pd.read_csv('SampleDataset/Florida_ct.csv', index_col = 0)"
   ],
   "metadata": {
    "id": "6DuxNRTwIRhx",
    "executionInfo": {
     "status": "ok",
     "timestamp": 1675805454266,
     "user_tz": 300,
     "elapsed": 940,
     "user": {
      "displayName": "Shenhao Wang",
      "userId": "03503527554188089407"
     }
    },
    "ExecuteTime": {
     "end_time": "2023-11-29T03:41:32.316119Z",
     "start_time": "2023-11-29T03:41:32.208115Z"
    }
   },
   "execution_count": 11,
   "outputs": []
  },
  {
   "cell_type": "code",
   "source": [
    "# preprocessing\n",
    "# expensive vs. non-expensive properties as the binary variable\n",
    "# threshold = 0.8\n",
    "df['property_value_discrete'] = 1\n",
    "df.loc[df['property_value_median'] < 200000, 'property_value_discrete'] = 0"
   ],
   "metadata": {
    "id": "kJx2QpkwISBT",
    "executionInfo": {
     "status": "ok",
     "timestamp": 1675805458475,
     "user_tz": 300,
     "elapsed": 118,
     "user": {
      "displayName": "Shenhao Wang",
      "userId": "03503527554188089407"
     }
    },
    "ExecuteTime": {
     "end_time": "2023-11-28T21:47:32.122156Z",
     "start_time": "2023-11-28T21:47:32.119339Z"
    }
   },
   "execution_count": 3,
   "outputs": []
  },
  {
   "cell_type": "markdown",
   "source": [
    "## Section 1. Logistic regression"
   ],
   "metadata": {
    "id": "m6IJgIhKJPzE"
   }
  },
  {
   "cell_type": "code",
   "source": [
    "# Assign the dependent and independent variables.\n",
    "y = df['property_value_discrete']\n",
    "X = df['inc_median_household']\n",
    "X = sm.add_constant(X)\n",
    "model = sm.Logit(y, X)\n",
    "results = model.fit()\n",
    "print(\"Parameters: \", results.params)"
   ],
   "metadata": {
    "colab": {
     "base_uri": "https://localhost:8080/"
    },
    "id": "l1fn4N5JIXeP",
    "executionInfo": {
     "status": "ok",
     "timestamp": 1675805565305,
     "user_tz": 300,
     "elapsed": 125,
     "user": {
      "displayName": "Shenhao Wang",
      "userId": "03503527554188089407"
     }
    },
    "outputId": "69ca58ce-0dab-4444-e783-7c2f2eea60b5",
    "ExecuteTime": {
     "end_time": "2023-11-28T21:47:32.138820Z",
     "start_time": "2023-11-28T21:47:32.124954Z"
    }
   },
   "execution_count": 4,
   "outputs": [
    {
     "name": "stdout",
     "output_type": "stream",
     "text": [
      "Optimization terminated successfully.\n",
      "         Current function value: 0.418982\n",
      "         Iterations 7\n",
      "Parameters:  const                  -6.099189\n",
      "inc_median_household    0.000108\n",
      "dtype: float64\n"
     ]
    }
   ]
  },
  {
   "cell_type": "code",
   "source": [
    "# summarize the results\n",
    "print(results.summary())"
   ],
   "metadata": {
    "colab": {
     "base_uri": "https://localhost:8080/"
    },
    "id": "6uKbgEzzJkaS",
    "executionInfo": {
     "status": "ok",
     "timestamp": 1675805610249,
     "user_tz": 300,
     "elapsed": 195,
     "user": {
      "displayName": "Shenhao Wang",
      "userId": "03503527554188089407"
     }
    },
    "outputId": "5e662abf-8743-428e-8650-35eb0799bd50",
    "ExecuteTime": {
     "end_time": "2023-11-28T21:47:32.161797Z",
     "start_time": "2023-11-28T21:47:32.139347Z"
    }
   },
   "execution_count": 5,
   "outputs": [
    {
     "name": "stdout",
     "output_type": "stream",
     "text": [
      "                              Logit Regression Results                             \n",
      "===================================================================================\n",
      "Dep. Variable:     property_value_discrete   No. Observations:                 4167\n",
      "Model:                               Logit   Df Residuals:                     4165\n",
      "Method:                                MLE   Df Model:                            1\n",
      "Date:                     Tue, 28 Nov 2023   Pseudo R-squ.:                  0.3953\n",
      "Time:                             16:47:32   Log-Likelihood:                -1745.9\n",
      "converged:                            True   LL-Null:                       -2887.1\n",
      "Covariance Type:                 nonrobust   LLR p-value:                     0.000\n",
      "========================================================================================\n",
      "                           coef    std err          z      P>|z|      [0.025      0.975]\n",
      "----------------------------------------------------------------------------------------\n",
      "const                   -6.0992      0.191    -31.953      0.000      -6.473      -5.725\n",
      "inc_median_household     0.0001   3.42e-06     31.461      0.000       0.000       0.000\n",
      "========================================================================================\n"
     ]
    }
   ]
  },
  {
   "cell_type": "markdown",
   "source": [
    "**Visualizing the logistic function**"
   ],
   "metadata": {
    "id": "zZLVjS--68hd"
   }
  },
  {
   "cell_type": "code",
   "source": [
    "from scipy import stats\n",
    "# scatter plot\n",
    "# create an income array from the min to the max\n",
    "inc_array = np.linspace(df['inc_median_household'].min(), df['inc_median_household'].max(), 2000) \n",
    "X_ = pd.DataFrame(inc_array, columns = ['inc_median_household'])\n",
    "X_ = sm.add_constant(X_)\n",
    "y_ = results.predict(X_)\n",
    "\n",
    "# visualize the data points and the probability outputs.\n",
    "fig, ax = plt.subplots(figsize = (10,6))\n",
    "ax.scatter(df['inc_median_household'], df['property_value_discrete'], color = 'blue', s = 1)\n",
    "ax.plot(inc_array, y_, color = 'red', linewidth = 2, alpha = 0.5)\n",
    "plt.show()"
   ],
   "metadata": {
    "colab": {
     "base_uri": "https://localhost:8080/",
     "height": 431
    },
    "id": "YTvh1yQrLUs6",
    "executionInfo": {
     "status": "ok",
     "timestamp": 1675805742047,
     "user_tz": 300,
     "elapsed": 385,
     "user": {
      "displayName": "Shenhao Wang",
      "userId": "03503527554188089407"
     }
    },
    "outputId": "ce947232-7025-42df-9aa0-46703c896cc2",
    "ExecuteTime": {
     "end_time": "2023-11-28T21:47:32.270552Z",
     "start_time": "2023-11-28T21:47:32.164859Z"
    }
   },
   "execution_count": 6,
   "outputs": [
    {
     "data": {
      "text/plain": "<Figure size 1000x600 with 1 Axes>",
      "image/png": "[encoded data removed]"
     },
     "metadata": {},
     "output_type": "display_data"
    }
   ]
  },
  {
   "cell_type": "code",
   "source": [
    "# Regression 2. Enriching the logistic regression.\n",
    "y = df['property_value_discrete']\n",
    "X = df[['inc_median_household', 'households']]\n",
    "X = sm.add_constant(X)\n",
    "model = sm.Logit(y, X)\n",
    "results = model.fit()\n",
    "print(results.summary())"
   ],
   "metadata": {
    "colab": {
     "base_uri": "https://localhost:8080/"
    },
    "id": "jaMpcqme7ROE",
    "executionInfo": {
     "status": "ok",
     "timestamp": 1675805995669,
     "user_tz": 300,
     "elapsed": 360,
     "user": {
      "displayName": "Shenhao Wang",
      "userId": "03503527554188089407"
     }
    },
    "outputId": "de66ea0e-9e78-4991-caf3-67d0719f7f00",
    "ExecuteTime": {
     "end_time": "2023-11-28T21:47:32.288088Z",
     "start_time": "2023-11-28T21:47:32.271816Z"
    }
   },
   "execution_count": 7,
   "outputs": [
    {
     "name": "stdout",
     "output_type": "stream",
     "text": [
      "Optimization terminated successfully.\n",
      "         Current function value: 0.418971\n",
      "         Iterations 7\n",
      "                              Logit Regression Results                             \n",
      "===================================================================================\n",
      "Dep. Variable:     property_value_discrete   No. Observations:                 4167\n",
      "Model:                               Logit   Df Residuals:                     4164\n",
      "Method:                                MLE   Df Model:                            2\n",
      "Date:                     Tue, 28 Nov 2023   Pseudo R-squ.:                  0.3953\n",
      "Time:                             16:47:32   Log-Likelihood:                -1745.9\n",
      "converged:                            True   LL-Null:                       -2887.1\n",
      "Covariance Type:                 nonrobust   LLR p-value:                     0.000\n",
      "========================================================================================\n",
      "                           coef    std err          z      P>|z|      [0.025      0.975]\n",
      "----------------------------------------------------------------------------------------\n",
      "const                   -6.1168      0.199    -30.666      0.000      -6.508      -5.726\n",
      "inc_median_household     0.0001   3.44e-06     31.228      0.000       0.000       0.000\n",
      "households            1.276e-05   4.15e-05      0.307      0.759   -6.86e-05    9.41e-05\n",
      "========================================================================================\n"
     ]
    }
   ]
  },
  {
   "cell_type": "code",
   "source": [
    "# Regression 3. Enriching the logistic regression.\n",
    "var_list = ['inc_median_household', \n",
    "            'households', #'pop_total',\n",
    "            'travel_driving_ratio', 'travel_pt_ratio', 'travel_taxi_ratio', 'travel_work_home_ratio',\n",
    "            'edu_higher_edu_ratio',\n",
    "            'household_size_avg', \n",
    "            'vacancy_ratio', 'rent_median', \n",
    "            'race_white_ratio', #'race_black_ratio', \n",
    "            'race_asian_ratio'\n",
    "            ]\n",
    "\n",
    "y = df['property_value_discrete']\n",
    "X = df[var_list]\n",
    "X = sm.add_constant(X)\n",
    "model = sm.Logit(y, X)\n",
    "results = model.fit()\n",
    "print(results.summary())"
   ],
   "metadata": {
    "colab": {
     "base_uri": "https://localhost:8080/"
    },
    "id": "C0EalasP7r-i",
    "executionInfo": {
     "status": "ok",
     "timestamp": 1675806042702,
     "user_tz": 300,
     "elapsed": 188,
     "user": {
      "displayName": "Shenhao Wang",
      "userId": "03503527554188089407"
     }
    },
    "outputId": "ac3dd556-62bd-42f4-95d6-8395f623d15f",
    "ExecuteTime": {
     "end_time": "2023-11-28T21:47:32.362956Z",
     "start_time": "2023-11-28T21:47:32.289383Z"
    }
   },
   "execution_count": 8,
   "outputs": [
    {
     "name": "stdout",
     "output_type": "stream",
     "text": [
      "Optimization terminated successfully.\n",
      "         Current function value: 0.342854\n",
      "         Iterations 12\n",
      "                              Logit Regression Results                             \n",
      "===================================================================================\n",
      "Dep. Variable:     property_value_discrete   No. Observations:                 4167\n",
      "Model:                               Logit   Df Residuals:                     4154\n",
      "Method:                                MLE   Df Model:                           12\n",
      "Date:                     Tue, 28 Nov 2023   Pseudo R-squ.:                  0.5052\n",
      "Time:                             16:47:32   Log-Likelihood:                -1428.7\n",
      "converged:                            True   LL-Null:                       -2887.1\n",
      "Covariance Type:                 nonrobust   LLR p-value:                     0.000\n",
      "==========================================================================================\n",
      "                             coef    std err          z      P>|z|      [0.025      0.975]\n",
      "------------------------------------------------------------------------------------------\n",
      "const                     -7.0535      1.194     -5.907      0.000      -9.394      -4.713\n",
      "inc_median_household    7.972e-05   4.73e-06     16.841      0.000    7.04e-05     8.9e-05\n",
      "households              4.422e-05   4.92e-05      0.900      0.368   -5.21e-05       0.000\n",
      "travel_driving_ratio      -3.2319      1.205     -2.683      0.007      -5.593      -0.871\n",
      "travel_pt_ratio           13.1837      2.058      6.406      0.000       9.150      17.217\n",
      "travel_taxi_ratio         15.1983      6.287      2.417      0.016       2.876      27.520\n",
      "travel_work_home_ratio    -1.5354      1.748     -0.879      0.380      -4.961       1.890\n",
      "edu_higher_edu_ratio       7.4498      0.584     12.756      0.000       6.305       8.594\n",
      "household_size_avg        -0.0086      0.013     -0.653      0.514      -0.035       0.017\n",
      "vacancy_ratio             -0.5773      0.454     -1.271      0.204      -1.468       0.313\n",
      "rent_median                0.0019      0.000      9.352      0.000       0.001       0.002\n",
      "race_white_ratio           1.6642      0.299      5.566      0.000       1.078       2.250\n",
      "race_asian_ratio          -9.7624      1.865     -5.235      0.000     -13.418      -6.107\n",
      "==========================================================================================\n"
     ]
    }
   ]
  },
  {
   "cell_type": "code",
   "source": [
    "# compute the marginal effects without adjusting the unit\n",
    "# check: https://www.statsmodels.org/dev/generated/statsmodels.discrete.discrete_model.LogitResults.get_margeff.html\n",
    "results.get_margeff(at = 'overall', method = 'dydx').summary()"
   ],
   "metadata": {
    "colab": {
     "base_uri": "https://localhost:8080/",
     "height": 380
    },
    "id": "xtUdOBgG8QfU",
    "executionInfo": {
     "status": "ok",
     "timestamp": 1675806141730,
     "user_tz": 300,
     "elapsed": 154,
     "user": {
      "displayName": "Shenhao Wang",
      "userId": "03503527554188089407"
     }
    },
    "outputId": "3205d800-4bb5-4c79-ea40-87a31eb25112",
    "ExecuteTime": {
     "end_time": "2023-11-28T21:47:32.379075Z",
     "start_time": "2023-11-28T21:47:32.330929Z"
    }
   },
   "execution_count": 9,
   "outputs": [
    {
     "name": "stdout",
     "output_type": "stream",
     "text": [
      "Intel MKL WARNING: Support of Intel(R) Streaming SIMD Extensions 4.2 (Intel(R) SSE4.2) enabled only processors has been deprecated. Intel oneAPI Math Kernel Library 2025.0 will require Intel(R) Advanced Vector Extensions (Intel(R) AVX) instructions.\n",
      "Intel MKL WARNING: Support of Intel(R) Streaming SIMD Extensions 4.2 (Intel(R) SSE4.2) enabled only processors has been deprecated. Intel oneAPI Math Kernel Library 2025.0 will require Intel(R) Advanced Vector Extensions (Intel(R) AVX) instructions.\n",
      "Intel MKL WARNING: Support of Intel(R) Streaming SIMD Extensions 4.2 (Intel(R) SSE4.2) enabled only processors has been deprecated. Intel oneAPI Math Kernel Library 2025.0 will require Intel(R) Advanced Vector Extensions (Intel(R) AVX) instructions.\n",
      "Intel MKL WARNING: Support of Intel(R) Streaming SIMD Extensions 4.2 (Intel(R) SSE4.2) enabled only processors has been deprecated. Intel oneAPI Math Kernel Library 2025.0 will require Intel(R) Advanced Vector Extensions (Intel(R) AVX) instructions.\n",
      "Intel MKL WARNING: Support of Intel(R) Streaming SIMD Extensions 4.2 (Intel(R) SSE4.2) enabled only processors has been deprecated. Intel oneAPI Math Kernel Library 2025.0 will require Intel(R) Advanced Vector Extensions (Intel(R) AVX) instructions.\n",
      "Intel MKL WARNING: Support of Intel(R) Streaming SIMD Extensions 4.2 (Intel(R) SSE4.2) enabled only processors has been deprecated. Intel oneAPI Math Kernel Library 2025.0 will require Intel(R) Advanced Vector Extensions (Intel(R) AVX) instructions.\n",
      "Intel MKL WARNING: Support of Intel(R) Streaming SIMD Extensions 4.2 (Intel(R) SSE4.2) enabled only processors has been deprecated. Intel oneAPI Math Kernel Library 2025.0 will require Intel(R) Advanced Vector Extensions (Intel(R) AVX) instructions.\n",
      "Intel MKL WARNING: Support of Intel(R) Streaming SIMD Extensions 4.2 (Intel(R) SSE4.2) enabled only processors has been deprecated. Intel oneAPI Math Kernel Library 2025.0 will require Intel(R) Advanced Vector Extensions (Intel(R) AVX) instructions.\n",
      "Intel MKL WARNING: Support of Intel(R) Streaming SIMD Extensions 4.2 (Intel(R) SSE4.2) enabled only processors has been deprecated. Intel oneAPI Math Kernel Library 2025.0 will require Intel(R) Advanced Vector Extensions (Intel(R) AVX) instructions.\n",
      "Intel MKL WARNING: Support of Intel(R) Streaming SIMD Extensions 4.2 (Intel(R) SSE4.2) enabled only processors has been deprecated. Intel oneAPI Math Kernel Library 2025.0 will require Intel(R) Advanced Vector Extensions (Intel(R) AVX) instructions.\n",
      "Intel MKL WARNING: Support of Intel(R) Streaming SIMD Extensions 4.2 (Intel(R) SSE4.2) enabled only processors has been deprecated. Intel oneAPI Math Kernel Library 2025.0 will require Intel(R) Advanced Vector Extensions (Intel(R) AVX) instructions.\n",
      "Intel MKL WARNING: Support of Intel(R) Streaming SIMD Extensions 4.2 (Intel(R) SSE4.2) enabled only processors has been deprecated. Intel oneAPI Math Kernel Library 2025.0 will require Intel(R) Advanced Vector Extensions (Intel(R) AVX) instructions.\n",
      "Intel MKL WARNING: Support of Intel(R) Streaming SIMD Extensions 4.2 (Intel(R) SSE4.2) enabled only processors has been deprecated. Intel oneAPI Math Kernel Library 2025.0 will require Intel(R) Advanced Vector Extensions (Intel(R) AVX) instructions.\n",
      "Intel MKL WARNING: Support of Intel(R) Streaming SIMD Extensions 4.2 (Intel(R) SSE4.2) enabled only processors has been deprecated. Intel oneAPI Math Kernel Library 2025.0 will require Intel(R) Advanced Vector Extensions (Intel(R) AVX) instructions.\n"
     ]
    },
    {
     "data": {
      "text/plain": "<class 'statsmodels.iolib.summary.Summary'>\n\"\"\"\n          Logit Marginal Effects          \n==========================================\nDep. Variable:     property_value_discrete\nMethod:                               dydx\nAt:                                overall\n==========================================================================================\n                            dy/dx    std err          z      P>|z|      [0.025      0.975]\n------------------------------------------------------------------------------------------\ninc_median_household    8.649e-06   4.43e-07     19.527      0.000    7.78e-06    9.52e-06\nhouseholds              4.798e-06   5.33e-06      0.900      0.368   -5.65e-06    1.52e-05\ntravel_driving_ratio      -0.3506      0.130     -2.691      0.007      -0.606      -0.095\ntravel_pt_ratio            1.4302      0.219      6.525      0.000       1.001       1.860\ntravel_taxi_ratio          1.6487      0.680      2.423      0.015       0.315       2.982\ntravel_work_home_ratio    -0.1666      0.190     -0.879      0.380      -0.538       0.205\nedu_higher_edu_ratio       0.8082      0.058     13.856      0.000       0.694       0.922\nhousehold_size_avg        -0.0009      0.001     -0.653      0.513      -0.004       0.002\nvacancy_ratio             -0.0626      0.049     -1.272      0.203      -0.159       0.034\nrent_median                0.0002   2.06e-05      9.748      0.000       0.000       0.000\nrace_white_ratio           0.1805      0.032      5.640      0.000       0.118       0.243\nrace_asian_ratio          -1.0590      0.200     -5.304      0.000      -1.450      -0.668\n==========================================================================================\n\"\"\"",
      "text/html": "<table class=\"simpletable\">\n<caption>Logit Marginal Effects</caption>\n<tr>\n  <th>Dep. Variable:</th> <td>property_value_discrete</td>\n</tr>\n<tr>\n  <th>Method:</th>                 <td>dydx</td>          \n</tr>\n<tr>\n  <th>At:</th>                    <td>overall</td>        \n</tr>\n</table>\n<table class=\"simpletable\">\n<tr>\n             <th></th>               <th>dy/dx</th>    <th>std err</th>      <th>z</th>      <th>P>|z|</th>  <th>[0.025</th>    <th>0.975]</th>  \n</tr>\n<tr>\n  <th>inc_median_household</th>   <td> 8.649e-06</td> <td> 4.43e-07</td> <td>   19.527</td> <td> 0.000</td> <td> 7.78e-06</td> <td> 9.52e-06</td>\n</tr>\n<tr>\n  <th>households</th>             <td> 4.798e-06</td> <td> 5.33e-06</td> <td>    0.900</td> <td> 0.368</td> <td>-5.65e-06</td> <td> 1.52e-05</td>\n</tr>\n<tr>\n  <th>travel_driving_ratio</th>   <td>   -0.3506</td> <td>    0.130</td> <td>   -2.691</td> <td> 0.007</td> <td>   -0.606</td> <td>   -0.095</td>\n</tr>\n<tr>\n  <th>travel_pt_ratio</th>        <td>    1.4302</td> <td>    0.219</td> <td>    6.525</td> <td> 0.000</td> <td>    1.001</td> <td>    1.860</td>\n</tr>\n<tr>\n  <th>travel_taxi_ratio</th>      <td>    1.6487</td> <td>    0.680</td> <td>    2.423</td> <td> 0.015</td> <td>    0.315</td> <td>    2.982</td>\n</tr>\n<tr>\n  <th>travel_work_home_ratio</th> <td>   -0.1666</td> <td>    0.190</td> <td>   -0.879</td> <td> 0.380</td> <td>   -0.538</td> <td>    0.205</td>\n</tr>\n<tr>\n  <th>edu_higher_edu_ratio</th>   <td>    0.8082</td> <td>    0.058</td> <td>   13.856</td> <td> 0.000</td> <td>    0.694</td> <td>    0.922</td>\n</tr>\n<tr>\n  <th>household_size_avg</th>     <td>   -0.0009</td> <td>    0.001</td> <td>   -0.653</td> <td> 0.513</td> <td>   -0.004</td> <td>    0.002</td>\n</tr>\n<tr>\n  <th>vacancy_ratio</th>          <td>   -0.0626</td> <td>    0.049</td> <td>   -1.272</td> <td> 0.203</td> <td>   -0.159</td> <td>    0.034</td>\n</tr>\n<tr>\n  <th>rent_median</th>            <td>    0.0002</td> <td> 2.06e-05</td> <td>    9.748</td> <td> 0.000</td> <td>    0.000</td> <td>    0.000</td>\n</tr>\n<tr>\n  <th>race_white_ratio</th>       <td>    0.1805</td> <td>    0.032</td> <td>    5.640</td> <td> 0.000</td> <td>    0.118</td> <td>    0.243</td>\n</tr>\n<tr>\n  <th>race_asian_ratio</th>       <td>   -1.0590</td> <td>    0.200</td> <td>   -5.304</td> <td> 0.000</td> <td>   -1.450</td> <td>   -0.668</td>\n</tr>\n</table>",
      "text/latex": "\\begin{center}\n\\begin{tabular}{lc}\n\\toprule\n\\textbf{Dep. Variable:}            & property\\_value\\_discrete  \\\\\n\\textbf{Method:}                   &            dydx            \\\\\n\\textbf{At:}                       &          overall           \\\\\n\\bottomrule\n\\end{tabular}\n\\begin{tabular}{ccccccc}\n            \\textbf{}              & \\textbf{dy/dx} & \\textbf{std err} & \\textbf{z} & \\textbf{P$> |$z$|$} & \\textbf{[0.025} & \\textbf{0.975]}  \\\\\n\\midrule\n\\bottomrule\n\\end{tabular}\n\\begin{tabular}{lcccccc}\n\\textbf{inc\\_median\\_household}    &    8.649e-06   &     4.43e-07     &    19.527  &         0.000        &     7.78e-06    &     9.52e-06     \\\\\n\\textbf{households}                &    4.798e-06   &     5.33e-06     &     0.900  &         0.368        &    -5.65e-06    &     1.52e-05     \\\\\n\\textbf{travel\\_driving\\_ratio}    &      -0.3506   &        0.130     &    -2.691  &         0.007        &       -0.606    &       -0.095     \\\\\n\\textbf{travel\\_pt\\_ratio}         &       1.4302   &        0.219     &     6.525  &         0.000        &        1.001    &        1.860     \\\\\n\\textbf{travel\\_taxi\\_ratio}       &       1.6487   &        0.680     &     2.423  &         0.015        &        0.315    &        2.982     \\\\\n\\textbf{travel\\_work\\_home\\_ratio} &      -0.1666   &        0.190     &    -0.879  &         0.380        &       -0.538    &        0.205     \\\\\n\\textbf{edu\\_higher\\_edu\\_ratio}   &       0.8082   &        0.058     &    13.856  &         0.000        &        0.694    &        0.922     \\\\\n\\textbf{household\\_size\\_avg}      &      -0.0009   &        0.001     &    -0.653  &         0.513        &       -0.004    &        0.002     \\\\\n\\textbf{vacancy\\_ratio}            &      -0.0626   &        0.049     &    -1.272  &         0.203        &       -0.159    &        0.034     \\\\\n\\textbf{rent\\_median}              &       0.0002   &     2.06e-05     &     9.748  &         0.000        &        0.000    &        0.000     \\\\\n\\textbf{race\\_white\\_ratio}        &       0.1805   &        0.032     &     5.640  &         0.000        &        0.118    &        0.243     \\\\\n\\textbf{race\\_asian\\_ratio}        &      -1.0590   &        0.200     &    -5.304  &         0.000        &       -1.450    &       -0.668     \\\\\n\\bottomrule\n\\end{tabular}\n%\\caption{Logit Marginal Effects}\n\\end{center}"
     },
     "execution_count": 9,
     "metadata": {},
     "output_type": "execute_result"
    }
   ]
  },
  {
   "cell_type": "markdown",
   "source": [
    "## **Exercise.** Create a dummy variable to represent the auto vs. non-auto census tracts by using a threshold value. Then conduct several logistic regressions and choose the final model for interpretation.\n"
   ],
   "metadata": {
    "id": "l0YkTqn9-B6R"
   }
  },
  {
   "cell_type": "code",
   "source": [
    "df.columns"
   ],
   "metadata": {
    "id": "y-aaxwAh-D08",
    "colab": {
     "base_uri": "https://localhost:8080/"
    },
    "executionInfo": {
     "status": "ok",
     "timestamp": 1675806293067,
     "user_tz": 300,
     "elapsed": 4,
     "user": {
      "displayName": "Shenhao Wang",
      "userId": "03503527554188089407"
     }
    },
    "outputId": "986d788c-98ca-48e9-d77b-52a7ca3385bc",
    "ExecuteTime": {
     "end_time": "2023-11-28T21:47:32.510675Z",
     "start_time": "2023-11-28T21:47:32.506Z"
    }
   },
   "execution_count": 10,
   "outputs": [
    {
     "data": {
      "text/plain": "Index(['pop_total', 'sex_total', 'sex_male', 'sex_female', 'age_median',\n       'households', 'race_total', 'race_white', 'race_black', 'race_native',\n       'race_asian', 'inc_total_pop', 'inc_no_pop', 'inc_with_pop',\n       'inc_pop_10k', 'inc_pop_1k_15k', 'inc_pop_15k_25k', 'inc_pop_25k_35k',\n       'inc_pop_35k_50k', 'inc_pop_50k_65k', 'inc_pop_65k_75k', 'inc_pop_75k',\n       'inc_median_ind', 'travel_total_to_work', 'travel_driving_to_work',\n       'travel_pt_to_work', 'travel_taxi_to_work', 'travel_cycle_to_work',\n       'travel_walk_to_work', 'travel_work_from_home', 'edu_total_pop',\n       'bachelor_male_25_34', 'master_phd_male_25_34', 'bachelor_male_35_44',\n       'master_phd_male_35_44', 'bachelor_male_45_64', 'master_phd_male_45_64',\n       'bachelor_male_65_over', 'master_phd_male_65_over',\n       'bachelor_female_25_34', 'master_phd_female_25_34',\n       'bachelor_female_35_44', 'master_phd_female_35_44',\n       'bachelor_female_45_64', 'master_phd_female_45_64',\n       'bachelor_female_65_over', 'master_phd_female_65_over', 'edu_total',\n       'edu_bachelor', 'edu_master', 'edu_phd', 'inc_median_household',\n       'inc_per_capita', 'employment_total_labor', 'employment_employed',\n       'employment_unemployed', 'housing_units_total',\n       'housing_units_occupied', 'housing_units_vacant', 'rent_median',\n       'property_value_total', 'property_value_median',\n       'vehicle_total_imputed', 'state', 'state_fips', 'county_fips',\n       'tract_fips', 'full_ct_fips', 'household_size_avg', 'sex_male_ratio',\n       'race_white_ratio', 'race_black_ratio', 'race_native_ratio',\n       'race_asian_ratio', 'travel_driving_ratio', 'travel_pt_ratio',\n       'travel_taxi_ratio', 'travel_cycle_ratio', 'travel_walk_ratio',\n       'travel_work_home_ratio', 'edu_bachelor_ratio', 'edu_master_ratio',\n       'edu_phd_ratio', 'edu_higher_edu_ratio', 'employment_unemployed_ratio',\n       'vehicle_per_capita', 'vehicle_per_household', 'vacancy_ratio',\n       'property_value_discrete'],\n      dtype='object')"
     },
     "execution_count": 10,
     "metadata": {},
     "output_type": "execute_result"
    }
   ]
  }
 ]
}
