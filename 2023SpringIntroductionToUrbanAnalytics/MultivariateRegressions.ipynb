{
 "nbformat": 4,
 "nbformat_minor": 0,
 "metadata": {
  "colab": {
   "provenance": [],
   "authorship_tag": "ABX9TyOG5icAcjd7iQnxWxPIBvs/"
  },
  "kernelspec": {
   "name": "python3",
   "language": "python",
   "display_name": "Python 3 (ipykernel)"
  },
  "language_info": {
   "name": "python"
  }
 },
 "cells": [
  {
   "cell_type": "markdown",
   "source": [
    "# Lec04 - Multivariate Regressions.\n",
    "\n",
    "*   Section 0. Loading data with preprocessing.\n",
    "*   Section 1. Univariate regression.\n",
    "*   Section 2. Multivariate regression."
   ],
   "metadata": {
    "id": "zD9OpD1Oq6kc"
   }
  },
  {
   "cell_type": "markdown",
   "source": [
    "## Section 0. Loading the data"
   ],
   "metadata": {
    "id": "2Fz3zNMNrHH2"
   }
  },
  {
   "cell_type": "code",
   "execution_count": 1,
   "metadata": {
    "id": "bZ9wGQRrq2vC",
    "ExecuteTime": {
     "end_time": "2023-11-28T21:46:06.795625Z",
     "start_time": "2023-11-28T21:46:04.889756Z"
    }
   },
   "outputs": [
    {
     "name": "stdout",
     "output_type": "stream",
     "text": [
      "Intel MKL WARNING: Support of Intel(R) Streaming SIMD Extensions 4.2 (Intel(R) SSE4.2) enabled only processors has been deprecated. Intel oneAPI Math Kernel Library 2025.0 will require Intel(R) Advanced Vector Extensions (Intel(R) AVX) instructions.\n",
      "Intel MKL WARNING: Support of Intel(R) Streaming SIMD Extensions 4.2 (Intel(R) SSE4.2) enabled only processors has been deprecated. Intel oneAPI Math Kernel Library 2025.0 will require Intel(R) Advanced Vector Extensions (Intel(R) AVX) instructions.\n"
     ]
    }
   ],
   "source": [
    "# import packages\n",
    "import matplotlib.pyplot as plt\n",
    "import numpy as np\n",
    "import pandas as pd\n",
    "import statsmodels.api as sm"
   ]
  },
  {
   "cell_type": "code",
   "source": [
    "# load the csv file using pandas\n",
    "df = pd.read_csv('SampleDataset/Florida_ct.csv', index_col = 0)"
   ],
   "metadata": {
    "id": "L1BcGfGwrPMf",
    "ExecuteTime": {
     "end_time": "2023-11-28T21:46:09.796824Z",
     "start_time": "2023-11-28T21:46:09.735196Z"
    }
   },
   "execution_count": 2,
   "outputs": []
  },
  {
   "cell_type": "code",
   "source": [
    "df"
   ],
   "metadata": {
    "colab": {
     "base_uri": "https://localhost:8080/",
     "height": 488
    },
    "id": "J8CkG9rHrW24",
    "executionInfo": {
     "status": "ok",
     "timestamp": 1675199609630,
     "user_tz": 300,
     "elapsed": 195,
     "user": {
      "displayName": "Shenhao Wang",
      "userId": "03503527554188089407"
     }
    },
    "outputId": "0e3a47d9-83e7-42ec-a314-0238425240c9",
    "ExecuteTime": {
     "end_time": "2023-11-28T21:46:10.406007Z",
     "start_time": "2023-11-28T21:46:10.380455Z"
    }
   },
   "execution_count": 3,
   "outputs": [
    {
     "data": {
      "text/plain": "      pop_total  sex_total  sex_male  sex_female  age_median  households  \\\n0        2812.0     2812.0    1383.0      1429.0        39.4       931.0   \n1        4709.0     4709.0    2272.0      2437.0        34.2      1668.0   \n2        5005.0     5005.0    2444.0      2561.0        34.1      1379.0   \n3        6754.0     6754.0    2934.0      3820.0        31.3      2238.0   \n4        3021.0     3021.0    1695.0      1326.0        44.1      1364.0   \n...         ...        ...       ...         ...         ...         ...   \n4162    15742.0    15742.0    7957.0      7785.0        41.0      5517.0   \n4163     5723.0     5723.0    2914.0      2809.0        43.0      2001.0   \n4164    10342.0    10342.0    4657.0      5685.0        37.6      3746.0   \n4165     8960.0     8960.0    4166.0      4794.0        37.2      3324.0   \n4166     5083.0     5083.0    2573.0      2510.0        39.2      1755.0   \n\n      race_total  race_white  race_black  race_native  ...  travel_walk_ratio  \\\n0         2812.0      2086.0       517.0          0.0  ...           0.014815   \n1         4709.0      2382.0      1953.0          0.0  ...           0.022150   \n2         5005.0      2334.0      2206.0        224.0  ...           0.026141   \n3         6754.0      4052.0      1671.0        326.0  ...           0.052697   \n4         3021.0      2861.0       121.0          0.0  ...           0.003014   \n...          ...         ...         ...          ...  ...                ...   \n4162     15742.0     13894.0      1128.0         64.0  ...           0.000000   \n4163      5723.0      4664.0       482.0          0.0  ...           0.017050   \n4164     10342.0      7956.0      1351.0         13.0  ...           0.000000   \n4165      8960.0      6286.0      1831.0          0.0  ...           0.024021   \n4166      5083.0      3753.0       987.0          0.0  ...           0.045983   \n\n      travel_work_home_ratio  edu_bachelor_ratio  edu_master_ratio  \\\n0                   0.024242            0.183838          0.029798   \n1                   0.004615            0.135222          0.040245   \n2                   0.027913            0.213247          0.064620   \n3                   0.004054            0.093379          0.082510   \n4                   0.013059            0.219868          0.138631   \n...                      ...                 ...               ...   \n4162                0.062212            0.164241          0.084891   \n4163                0.047581            0.215161          0.084563   \n4164                0.038862            0.137002          0.030591   \n4165                0.064132            0.174399          0.063014   \n4166                0.046488            0.113451          0.022466   \n\n      edu_phd_ratio  edu_higher_edu_ratio  employment_unemployed_ratio  \\\n0          0.003030              0.216667                     0.286635   \n1          0.003220              0.178686                     0.318327   \n2          0.007431              0.285299                     0.366755   \n3          0.012599              0.188488                     0.314452   \n4          0.007064              0.365563                     0.218447   \n...             ...                   ...                          ...   \n4162       0.002066              0.251197                     0.401551   \n4163       0.007005              0.306730                     0.411036   \n4164       0.002049              0.169643                     0.353295   \n4165       0.003126              0.240540                     0.363482   \n4166       0.002247              0.138163                     0.491815   \n\n      vehicle_per_capita  vehicle_per_household  vacancy_ratio  \n0               0.528094               1.595059       0.155938  \n1               0.460183               1.299161       0.152869  \n2               0.450949               1.636693       0.162211  \n3               0.474830               1.432976       0.178716  \n4               0.659053               1.459677       0.335930  \n...                  ...                    ...            ...  \n4162            0.426820               1.217872       0.099118  \n4163            0.440678               1.260370       0.039827  \n4164            0.482692               1.332621       0.041208  \n4165            0.478571               1.290012       0.017440  \n4166            0.389337               1.127635       0.129464  \n\n[4167 rows x 88 columns]",
      "text/html": "<div>\n<style scoped>\n    .dataframe tbody tr th:only-of-type {\n        vertical-align: middle;\n    }\n\n    .dataframe tbody tr th {\n        vertical-align: top;\n    }\n\n    .dataframe thead th {\n        text-align: right;\n    }\n</style>\n<table border=\"1\" class=\"dataframe\">\n  <thead>\n    <tr style=\"text-align: right;\">\n      <th></th>\n      <th>pop_total</th>\n      <th>sex_total</th>\n      <th>sex_male</th>\n      <th>sex_female</th>\n      <th>age_median</th>\n      <th>households</th>\n      <th>race_total</th>\n      <th>race_white</th>\n      <th>race_black</th>\n      <th>race_native</th>\n      <th>...</th>\n      <th>travel_walk_ratio</th>\n      <th>travel_work_home_ratio</th>\n      <th>edu_bachelor_ratio</th>\n      <th>edu_master_ratio</th>\n      <th>edu_phd_ratio</th>\n      <th>edu_higher_edu_ratio</th>\n      <th>employment_unemployed_ratio</th>\n      <th>vehicle_per_capita</th>\n      <th>vehicle_per_household</th>\n      <th>vacancy_ratio</th>\n    </tr>\n  </thead>\n  <tbody>\n    <tr>\n      <th>0</th>\n      <td>2812.0</td>\n      <td>2812.0</td>\n      <td>1383.0</td>\n      <td>1429.0</td>\n      <td>39.4</td>\n      <td>931.0</td>\n      <td>2812.0</td>\n      <td>2086.0</td>\n      <td>517.0</td>\n      <td>0.0</td>\n      <td>...</td>\n      <td>0.014815</td>\n      <td>0.024242</td>\n      <td>0.183838</td>\n      <td>0.029798</td>\n      <td>0.003030</td>\n      <td>0.216667</td>\n      <td>0.286635</td>\n      <td>0.528094</td>\n      <td>1.595059</td>\n      <td>0.155938</td>\n    </tr>\n    <tr>\n      <th>1</th>\n      <td>4709.0</td>\n      <td>4709.0</td>\n      <td>2272.0</td>\n      <td>2437.0</td>\n      <td>34.2</td>\n      <td>1668.0</td>\n      <td>4709.0</td>\n      <td>2382.0</td>\n      <td>1953.0</td>\n      <td>0.0</td>\n      <td>...</td>\n      <td>0.022150</td>\n      <td>0.004615</td>\n      <td>0.135222</td>\n      <td>0.040245</td>\n      <td>0.003220</td>\n      <td>0.178686</td>\n      <td>0.318327</td>\n      <td>0.460183</td>\n      <td>1.299161</td>\n      <td>0.152869</td>\n    </tr>\n    <tr>\n      <th>2</th>\n      <td>5005.0</td>\n      <td>5005.0</td>\n      <td>2444.0</td>\n      <td>2561.0</td>\n      <td>34.1</td>\n      <td>1379.0</td>\n      <td>5005.0</td>\n      <td>2334.0</td>\n      <td>2206.0</td>\n      <td>224.0</td>\n      <td>...</td>\n      <td>0.026141</td>\n      <td>0.027913</td>\n      <td>0.213247</td>\n      <td>0.064620</td>\n      <td>0.007431</td>\n      <td>0.285299</td>\n      <td>0.366755</td>\n      <td>0.450949</td>\n      <td>1.636693</td>\n      <td>0.162211</td>\n    </tr>\n    <tr>\n      <th>3</th>\n      <td>6754.0</td>\n      <td>6754.0</td>\n      <td>2934.0</td>\n      <td>3820.0</td>\n      <td>31.3</td>\n      <td>2238.0</td>\n      <td>6754.0</td>\n      <td>4052.0</td>\n      <td>1671.0</td>\n      <td>326.0</td>\n      <td>...</td>\n      <td>0.052697</td>\n      <td>0.004054</td>\n      <td>0.093379</td>\n      <td>0.082510</td>\n      <td>0.012599</td>\n      <td>0.188488</td>\n      <td>0.314452</td>\n      <td>0.474830</td>\n      <td>1.432976</td>\n      <td>0.178716</td>\n    </tr>\n    <tr>\n      <th>4</th>\n      <td>3021.0</td>\n      <td>3021.0</td>\n      <td>1695.0</td>\n      <td>1326.0</td>\n      <td>44.1</td>\n      <td>1364.0</td>\n      <td>3021.0</td>\n      <td>2861.0</td>\n      <td>121.0</td>\n      <td>0.0</td>\n      <td>...</td>\n      <td>0.003014</td>\n      <td>0.013059</td>\n      <td>0.219868</td>\n      <td>0.138631</td>\n      <td>0.007064</td>\n      <td>0.365563</td>\n      <td>0.218447</td>\n      <td>0.659053</td>\n      <td>1.459677</td>\n      <td>0.335930</td>\n    </tr>\n    <tr>\n      <th>...</th>\n      <td>...</td>\n      <td>...</td>\n      <td>...</td>\n      <td>...</td>\n      <td>...</td>\n      <td>...</td>\n      <td>...</td>\n      <td>...</td>\n      <td>...</td>\n      <td>...</td>\n      <td>...</td>\n      <td>...</td>\n      <td>...</td>\n      <td>...</td>\n      <td>...</td>\n      <td>...</td>\n      <td>...</td>\n      <td>...</td>\n      <td>...</td>\n      <td>...</td>\n      <td>...</td>\n    </tr>\n    <tr>\n      <th>4162</th>\n      <td>15742.0</td>\n      <td>15742.0</td>\n      <td>7957.0</td>\n      <td>7785.0</td>\n      <td>41.0</td>\n      <td>5517.0</td>\n      <td>15742.0</td>\n      <td>13894.0</td>\n      <td>1128.0</td>\n      <td>64.0</td>\n      <td>...</td>\n      <td>0.000000</td>\n      <td>0.062212</td>\n      <td>0.164241</td>\n      <td>0.084891</td>\n      <td>0.002066</td>\n      <td>0.251197</td>\n      <td>0.401551</td>\n      <td>0.426820</td>\n      <td>1.217872</td>\n      <td>0.099118</td>\n    </tr>\n    <tr>\n      <th>4163</th>\n      <td>5723.0</td>\n      <td>5723.0</td>\n      <td>2914.0</td>\n      <td>2809.0</td>\n      <td>43.0</td>\n      <td>2001.0</td>\n      <td>5723.0</td>\n      <td>4664.0</td>\n      <td>482.0</td>\n      <td>0.0</td>\n      <td>...</td>\n      <td>0.017050</td>\n      <td>0.047581</td>\n      <td>0.215161</td>\n      <td>0.084563</td>\n      <td>0.007005</td>\n      <td>0.306730</td>\n      <td>0.411036</td>\n      <td>0.440678</td>\n      <td>1.260370</td>\n      <td>0.039827</td>\n    </tr>\n    <tr>\n      <th>4164</th>\n      <td>10342.0</td>\n      <td>10342.0</td>\n      <td>4657.0</td>\n      <td>5685.0</td>\n      <td>37.6</td>\n      <td>3746.0</td>\n      <td>10342.0</td>\n      <td>7956.0</td>\n      <td>1351.0</td>\n      <td>13.0</td>\n      <td>...</td>\n      <td>0.000000</td>\n      <td>0.038862</td>\n      <td>0.137002</td>\n      <td>0.030591</td>\n      <td>0.002049</td>\n      <td>0.169643</td>\n      <td>0.353295</td>\n      <td>0.482692</td>\n      <td>1.332621</td>\n      <td>0.041208</td>\n    </tr>\n    <tr>\n      <th>4165</th>\n      <td>8960.0</td>\n      <td>8960.0</td>\n      <td>4166.0</td>\n      <td>4794.0</td>\n      <td>37.2</td>\n      <td>3324.0</td>\n      <td>8960.0</td>\n      <td>6286.0</td>\n      <td>1831.0</td>\n      <td>0.0</td>\n      <td>...</td>\n      <td>0.024021</td>\n      <td>0.064132</td>\n      <td>0.174399</td>\n      <td>0.063014</td>\n      <td>0.003126</td>\n      <td>0.240540</td>\n      <td>0.363482</td>\n      <td>0.478571</td>\n      <td>1.290012</td>\n      <td>0.017440</td>\n    </tr>\n    <tr>\n      <th>4166</th>\n      <td>5083.0</td>\n      <td>5083.0</td>\n      <td>2573.0</td>\n      <td>2510.0</td>\n      <td>39.2</td>\n      <td>1755.0</td>\n      <td>5083.0</td>\n      <td>3753.0</td>\n      <td>987.0</td>\n      <td>0.0</td>\n      <td>...</td>\n      <td>0.045983</td>\n      <td>0.046488</td>\n      <td>0.113451</td>\n      <td>0.022466</td>\n      <td>0.002247</td>\n      <td>0.138163</td>\n      <td>0.491815</td>\n      <td>0.389337</td>\n      <td>1.127635</td>\n      <td>0.129464</td>\n    </tr>\n  </tbody>\n</table>\n<p>4167 rows × 88 columns</p>\n</div>"
     },
     "execution_count": 3,
     "metadata": {},
     "output_type": "execute_result"
    }
   ]
  },
  {
   "cell_type": "code",
   "source": [
    "# Preprocessing.\n",
    "# 1. creating an education group column with two values\n",
    "df['edu_dummy'] = 1 # assigning the high education group\n",
    "df.loc[df['edu_higher_edu_ratio'] < 0.3, 'edu_dummy'] = 0 # assigning the low education group"
   ],
   "metadata": {
    "id": "QsphYU_8EE86",
    "ExecuteTime": {
     "end_time": "2023-11-28T21:46:11.270857Z",
     "start_time": "2023-11-28T21:46:11.263467Z"
    }
   },
   "execution_count": 4,
   "outputs": []
  },
  {
   "cell_type": "markdown",
   "source": [
    "## Section 1. Univariate regression (recap)"
   ],
   "metadata": {
    "id": "6587li3CDADb"
   }
  },
  {
   "cell_type": "code",
   "source": [
    "# choose the independent variable\n",
    "X = df['inc_median_household']\n",
    "# add a constant to the independent variable\n",
    "X = sm.add_constant(X)\n",
    "# choose the dependent var\n",
    "y = df['property_value_median']\n",
    "\n",
    "# fitting the model.\n",
    "# launch the model using the independent and dependent variables\n",
    "model = sm.OLS(y, X)\n",
    "# fitting the model\n",
    "results = model.fit()\n",
    "\n",
    "# evaluate the model\n",
    "print(\"R2: \", results.rsquared)\n",
    "\n",
    "# report the results.\n",
    "print(results.summary())"
   ],
   "metadata": {
    "id": "CxXjRqUkr5wY",
    "colab": {
     "base_uri": "https://localhost:8080/"
    },
    "executionInfo": {
     "status": "ok",
     "timestamp": 1675199720186,
     "user_tz": 300,
     "elapsed": 214,
     "user": {
      "displayName": "Shenhao Wang",
      "userId": "03503527554188089407"
     }
    },
    "outputId": "dde7551d-ad12-4b82-82f3-3283036f1e98",
    "ExecuteTime": {
     "end_time": "2023-11-28T21:46:12.455162Z",
     "start_time": "2023-11-28T21:46:12.437118Z"
    }
   },
   "execution_count": 5,
   "outputs": [
    {
     "name": "stdout",
     "output_type": "stream",
     "text": [
      "Intel MKL WARNING: Support of Intel(R) Streaming SIMD Extensions 4.2 (Intel(R) SSE4.2) enabled only processors has been deprecated. Intel oneAPI Math Kernel Library 2025.0 will require Intel(R) Advanced Vector Extensions (Intel(R) AVX) instructions.\n",
      "R2:  0.5678562456275715\n",
      "                              OLS Regression Results                             \n",
      "=================================================================================\n",
      "Dep. Variable:     property_value_median   R-squared:                       0.568\n",
      "Model:                               OLS   Adj. R-squared:                  0.568\n",
      "Method:                    Least Squares   F-statistic:                     5473.\n",
      "Date:                   Tue, 28 Nov 2023   Prob (F-statistic):               0.00\n",
      "Time:                           16:46:12   Log-Likelihood:                -54606.\n",
      "No. Observations:                   4167   AIC:                         1.092e+05\n",
      "Df Residuals:                       4165   BIC:                         1.092e+05\n",
      "Df Model:                              1                                         \n",
      "Covariance Type:               nonrobust                                         \n",
      "========================================================================================\n",
      "                           coef    std err          t      P>|t|      [0.025      0.975]\n",
      "----------------------------------------------------------------------------------------\n",
      "const                 -7.17e+04   4572.103    -15.681      0.000   -8.07e+04   -6.27e+04\n",
      "inc_median_household     5.1931      0.070     73.980      0.000       5.056       5.331\n",
      "==============================================================================\n",
      "Omnibus:                     3603.056   Durbin-Watson:                   1.284\n",
      "Prob(Omnibus):                  0.000   Jarque-Bera (JB):           172406.098\n",
      "Skew:                           3.901   Prob(JB):                         0.00\n",
      "Kurtosis:                      33.530   Cond. No.                     1.62e+05\n",
      "==============================================================================\n",
      "\n",
      "Notes:\n",
      "[1] Standard Errors assume that the covariance matrix of the errors is correctly specified.\n",
      "[2] The condition number is large, 1.62e+05. This might indicate that there are\n",
      "strong multicollinearity or other numerical problems.\n"
     ]
    }
   ]
  },
  {
   "cell_type": "code",
   "source": [
    "# Comparing the predicted and true values\n",
    "# plot the fitted line\n",
    "property_value_predicted = results.predict()\n",
    "\n",
    "# another way to plot\n",
    "fig, ax = plt.subplots(figsize = (8, 8))\n",
    "ax.scatter(df['inc_median_household'], df['property_value_median'], color = 'grey', alpha = 0.6)\n",
    "ax.plot(df['inc_median_household'], property_value_predicted, color = 'red', lw = 4)\n",
    "ax.set_xlabel('Income', fontsize = 15)\n",
    "ax.set_ylabel('Property Values', fontsize = 15)\n",
    "ax.set_title('Linear regression for property values and income', fontsize = 15)\n",
    "plt.show()"
   ],
   "metadata": {
    "id": "yaQNOt2SxNPT",
    "colab": {
     "base_uri": "https://localhost:8080/",
     "height": 258
    },
    "executionInfo": {
     "status": "error",
     "timestamp": 1695579261413,
     "user_tz": 240,
     "elapsed": 186,
     "user": {
      "displayName": "Shenhao Wang",
      "userId": "03503527554188089407"
     }
    },
    "outputId": "4eae375c-c0bd-4ac1-ab5a-7594c6134b23",
    "ExecuteTime": {
     "end_time": "2023-11-28T21:46:13.185656Z",
     "start_time": "2023-11-28T21:46:13.045656Z"
    }
   },
   "execution_count": 6,
   "outputs": [
    {
     "data": {
      "text/plain": "<Figure size 800x800 with 1 Axes>",
      "image/png": "[encoded data removed]"
     },
     "metadata": {},
     "output_type": "display_data"
    }
   ]
  },
  {
   "cell_type": "markdown",
   "source": [
    "## Section 2. Multivariable regression"
   ],
   "metadata": {
    "id": "B1kKaerhDF2N"
   }
  },
  {
   "cell_type": "markdown",
   "source": [
    "**Baseline Regression 1**"
   ],
   "metadata": {
    "id": "1iZoIdiMEUur"
   }
  },
  {
   "cell_type": "code",
   "source": [
    "# First baseline regression (univariate regression)\n",
    "# choose the independent variable\n",
    "X = df['inc_median_household']\n",
    "# add a constant to the independent variable\n",
    "X = sm.add_constant(X)\n",
    "# choose the dependent var\n",
    "y = df['property_value_median']\n",
    "\n",
    "# fitting the model.\n",
    "# launch the model using the independent and dependent variables\n",
    "model1 = sm.OLS(y, X)\n",
    "# fitting the model\n",
    "results1 = model1.fit()\n",
    "\n",
    "# report the results.\n",
    "print(results1.summary())"
   ],
   "metadata": {
    "id": "75hrOQMqyK8o",
    "colab": {
     "base_uri": "https://localhost:8080/"
    },
    "executionInfo": {
     "status": "ok",
     "timestamp": 1675200129522,
     "user_tz": 300,
     "elapsed": 168,
     "user": {
      "displayName": "Shenhao Wang",
      "userId": "03503527554188089407"
     }
    },
    "outputId": "a3d2eb20-8e40-487f-9bcf-111748358ba3",
    "ExecuteTime": {
     "end_time": "2023-11-28T21:46:15.143973Z",
     "start_time": "2023-11-28T21:46:15.109785Z"
    }
   },
   "execution_count": 7,
   "outputs": [
    {
     "name": "stdout",
     "output_type": "stream",
     "text": [
      "Intel MKL WARNING: Support of Intel(R) Streaming SIMD Extensions 4.2 (Intel(R) SSE4.2) enabled only processors has been deprecated. Intel oneAPI Math Kernel Library 2025.0 will require Intel(R) Advanced Vector Extensions (Intel(R) AVX) instructions.\n",
      "                              OLS Regression Results                             \n",
      "=================================================================================\n",
      "Dep. Variable:     property_value_median   R-squared:                       0.568\n",
      "Model:                               OLS   Adj. R-squared:                  0.568\n",
      "Method:                    Least Squares   F-statistic:                     5473.\n",
      "Date:                   Tue, 28 Nov 2023   Prob (F-statistic):               0.00\n",
      "Time:                           16:46:15   Log-Likelihood:                -54606.\n",
      "No. Observations:                   4167   AIC:                         1.092e+05\n",
      "Df Residuals:                       4165   BIC:                         1.092e+05\n",
      "Df Model:                              1                                         \n",
      "Covariance Type:               nonrobust                                         \n",
      "========================================================================================\n",
      "                           coef    std err          t      P>|t|      [0.025      0.975]\n",
      "----------------------------------------------------------------------------------------\n",
      "const                 -7.17e+04   4572.103    -15.681      0.000   -8.07e+04   -6.27e+04\n",
      "inc_median_household     5.1931      0.070     73.980      0.000       5.056       5.331\n",
      "==============================================================================\n",
      "Omnibus:                     3603.056   Durbin-Watson:                   1.284\n",
      "Prob(Omnibus):                  0.000   Jarque-Bera (JB):           172406.098\n",
      "Skew:                           3.901   Prob(JB):                         0.00\n",
      "Kurtosis:                      33.530   Cond. No.                     1.62e+05\n",
      "==============================================================================\n",
      "\n",
      "Notes:\n",
      "[1] Standard Errors assume that the covariance matrix of the errors is correctly specified.\n",
      "[2] The condition number is large, 1.62e+05. This might indicate that there are\n",
      "strong multicollinearity or other numerical problems.\n"
     ]
    }
   ]
  },
  {
   "cell_type": "markdown",
   "source": [
    "**Regression with two independent variables**"
   ],
   "metadata": {
    "id": "whG7huO3EYgx"
   }
  },
  {
   "cell_type": "code",
   "source": [
    "# choose the independent variable\n",
    "var_list = ['inc_median_household', 'households']\n",
    "X = df[var_list]\n",
    "# add a constant to the independent variable\n",
    "X = sm.add_constant(X)\n",
    "# choose the dependent var\n",
    "y = df['property_value_median']\n",
    "\n",
    "# fitting the model.\n",
    "# launch the model using the independent and dependent variables\n",
    "model2 = sm.OLS(y, X)\n",
    "# fitting the model\n",
    "results2 = model2.fit()\n",
    "\n",
    "# report the results.\n",
    "print(results2.summary())"
   ],
   "metadata": {
    "id": "xSP80HXryeE9",
    "colab": {
     "base_uri": "https://localhost:8080/"
    },
    "executionInfo": {
     "status": "ok",
     "timestamp": 1675200139701,
     "user_tz": 300,
     "elapsed": 146,
     "user": {
      "displayName": "Shenhao Wang",
      "userId": "03503527554188089407"
     }
    },
    "outputId": "23f8f13e-a008-4b9a-814c-7838ff83d338",
    "ExecuteTime": {
     "end_time": "2023-11-28T21:46:16.414568Z",
     "start_time": "2023-11-28T21:46:16.403201Z"
    }
   },
   "execution_count": 8,
   "outputs": [
    {
     "name": "stdout",
     "output_type": "stream",
     "text": [
      "Intel MKL WARNING: Support of Intel(R) Streaming SIMD Extensions 4.2 (Intel(R) SSE4.2) enabled only processors has been deprecated. Intel oneAPI Math Kernel Library 2025.0 will require Intel(R) Advanced Vector Extensions (Intel(R) AVX) instructions.\n",
      "                              OLS Regression Results                             \n",
      "=================================================================================\n",
      "Dep. Variable:     property_value_median   R-squared:                       0.575\n",
      "Model:                               OLS   Adj. R-squared:                  0.574\n",
      "Method:                    Least Squares   F-statistic:                     2812.\n",
      "Date:                   Tue, 28 Nov 2023   Prob (F-statistic):               0.00\n",
      "Time:                           16:46:16   Log-Likelihood:                -54573.\n",
      "No. Observations:                   4167   AIC:                         1.092e+05\n",
      "Df Residuals:                       4164   BIC:                         1.092e+05\n",
      "Df Model:                              2                                         \n",
      "Covariance Type:               nonrobust                                         \n",
      "========================================================================================\n",
      "                           coef    std err          t      P>|t|      [0.025      0.975]\n",
      "----------------------------------------------------------------------------------------\n",
      "const                -4.751e+04   5430.518     -8.749      0.000   -5.82e+04   -3.69e+04\n",
      "inc_median_household     5.2339      0.070     74.942      0.000       5.097       5.371\n",
      "households             -14.3360      1.769     -8.104      0.000     -17.804     -10.868\n",
      "==============================================================================\n",
      "Omnibus:                     3524.983   Durbin-Watson:                   1.302\n",
      "Prob(Omnibus):                  0.000   Jarque-Bera (JB):           160647.295\n",
      "Skew:                           3.783   Prob(JB):                         0.00\n",
      "Kurtosis:                      32.462   Cond. No.                     1.94e+05\n",
      "==============================================================================\n",
      "\n",
      "Notes:\n",
      "[1] Standard Errors assume that the covariance matrix of the errors is correctly specified.\n",
      "[2] The condition number is large, 1.94e+05. This might indicate that there are\n",
      "strong multicollinearity or other numerical problems.\n"
     ]
    }
   ]
  },
  {
   "cell_type": "markdown",
   "source": [
    "**Regression with multiple independent variables**"
   ],
   "metadata": {
    "id": "HmhPFJ4CEgUm"
   }
  },
  {
   "cell_type": "code",
   "source": [
    "# create the third regression (multivariate regression)\n",
    "# choose the independent variable\n",
    "var_list = ['inc_median_household',\n",
    "            'households', #'pop_total',\n",
    "            'travel_driving_ratio', 'travel_pt_ratio', 'travel_taxi_ratio', 'travel_work_home_ratio',\n",
    "            'edu_higher_edu_ratio', 'edu_dummy',\n",
    "            'household_size_avg',\n",
    "            'vacancy_ratio', 'rent_median',\n",
    "            'race_white_ratio', #'race_black_ratio',\n",
    "            'race_asian_ratio'\n",
    "            ]\n",
    "X = df[var_list]\n",
    "# add a constant to the independent variable\n",
    "X = sm.add_constant(X)\n",
    "# choose the dependent var\n",
    "y = df['property_value_median']\n",
    "\n",
    "# fitting the model.\n",
    "# launch the model using the independent and dependent variables\n",
    "model3 = sm.OLS(y, X)\n",
    "# fitting the model\n",
    "results3 = model3.fit()\n",
    "\n",
    "# report the results.\n",
    "print(results3.summary())"
   ],
   "metadata": {
    "id": "tMEdRjeL5oNz",
    "colab": {
     "base_uri": "https://localhost:8080/"
    },
    "executionInfo": {
     "status": "ok",
     "timestamp": 1675200389237,
     "user_tz": 300,
     "elapsed": 151,
     "user": {
      "displayName": "Shenhao Wang",
      "userId": "03503527554188089407"
     }
    },
    "outputId": "9e63aec0-6fa1-4fe9-c865-d8a4133a1697",
    "ExecuteTime": {
     "end_time": "2023-11-28T21:46:17.329660Z",
     "start_time": "2023-11-28T21:46:17.276053Z"
    }
   },
   "execution_count": 9,
   "outputs": [
    {
     "name": "stdout",
     "output_type": "stream",
     "text": [
      "Intel MKL WARNING: Support of Intel(R) Streaming SIMD Extensions 4.2 (Intel(R) SSE4.2) enabled only processors has been deprecated. Intel oneAPI Math Kernel Library 2025.0 will require Intel(R) Advanced Vector Extensions (Intel(R) AVX) instructions.\n",
      "                              OLS Regression Results                             \n",
      "=================================================================================\n",
      "Dep. Variable:     property_value_median   R-squared:                       0.681\n",
      "Model:                               OLS   Adj. R-squared:                  0.680\n",
      "Method:                    Least Squares   F-statistic:                     680.8\n",
      "Date:                   Tue, 28 Nov 2023   Prob (F-statistic):               0.00\n",
      "Time:                           16:46:17   Log-Likelihood:                -53976.\n",
      "No. Observations:                   4167   AIC:                         1.080e+05\n",
      "Df Residuals:                       4153   BIC:                         1.081e+05\n",
      "Df Model:                             13                                         \n",
      "Covariance Type:               nonrobust                                         \n",
      "==========================================================================================\n",
      "                             coef    std err          t      P>|t|      [0.025      0.975]\n",
      "------------------------------------------------------------------------------------------\n",
      "const                   1.625e+05   3.46e+04      4.690      0.000    9.46e+04     2.3e+05\n",
      "inc_median_household       4.4778      0.109     41.158      0.000       4.265       4.691\n",
      "households                -5.1170      1.593     -3.212      0.001      -8.240      -1.994\n",
      "travel_driving_ratio   -3.369e+05   3.47e+04     -9.701      0.000   -4.05e+05   -2.69e+05\n",
      "travel_pt_ratio         4.119e+05   6.72e+04      6.131      0.000     2.8e+05    5.44e+05\n",
      "travel_taxi_ratio       7.753e+05    2.2e+05      3.518      0.000    3.43e+05    1.21e+06\n",
      "travel_work_home_ratio -3.548e+04   4.94e+04     -0.718      0.473   -1.32e+05    6.14e+04\n",
      "edu_higher_edu_ratio    2.182e+05   2.58e+04      8.468      0.000    1.68e+05    2.69e+05\n",
      "edu_dummy              -1.753e+04   6021.500     -2.911      0.004   -2.93e+04   -5720.300\n",
      "household_size_avg       -38.4908     11.568     -3.327      0.001     -61.170     -15.812\n",
      "vacancy_ratio           1.651e+05   1.43e+04     11.542      0.000    1.37e+05    1.93e+05\n",
      "rent_median               22.6483      5.355      4.229      0.000      12.149      33.147\n",
      "race_white_ratio        1.157e+04   9415.728      1.229      0.219   -6892.050       3e+04\n",
      "race_asian_ratio       -5.866e+05   5.96e+04     -9.842      0.000   -7.03e+05    -4.7e+05\n",
      "==============================================================================\n",
      "Omnibus:                     3427.814   Durbin-Watson:                   1.537\n",
      "Prob(Omnibus):                  0.000   Jarque-Bera (JB):           170907.189\n",
      "Skew:                           3.578   Prob(JB):                         0.00\n",
      "Kurtosis:                      33.547   Cond. No.                     9.08e+06\n",
      "==============================================================================\n",
      "\n",
      "Notes:\n",
      "[1] Standard Errors assume that the covariance matrix of the errors is correctly specified.\n",
      "[2] The condition number is large, 9.08e+06. This might indicate that there are\n",
      "strong multicollinearity or other numerical problems.\n"
     ]
    }
   ]
  },
  {
   "cell_type": "markdown",
   "source": [
    "**Regression with enriched income variable**"
   ],
   "metadata": {
    "id": "RMaDhKrWEkmu"
   }
  },
  {
   "cell_type": "code",
   "source": [
    "# create the fourth regression (multivariate regression)\n",
    "# enrich the main variable of interest.\n",
    "# 1. quadratic term\n",
    "df['inc_median_household_squared'] = df['inc_median_household'] **2 # high income\n",
    "\n",
    "# 2. discrete\n",
    "df['inc_median_household_discrete'] = 1 # high income\n",
    "df.loc[df['inc_median_household'] < 50000,'inc_median_household_discrete'] = 0 # low income\n",
    "\n",
    "# adding the quadratic term.\n",
    "var_list = ['inc_median_household', 'inc_median_household_squared', #'inc_median_household_discrete',\n",
    "            'households', #'pop_total',\n",
    "            'travel_driving_ratio', 'travel_pt_ratio', 'travel_taxi_ratio', 'travel_work_home_ratio',\n",
    "            'edu_higher_edu_ratio', 'edu_dummy',\n",
    "            'household_size_avg',\n",
    "            'vacancy_ratio', 'rent_median',\n",
    "            'race_white_ratio', #'race_black_ratio',\n",
    "            'race_asian_ratio'\n",
    "            ]\n",
    "X = df[var_list]\n",
    "# add a constant to the independent variable\n",
    "X = sm.add_constant(X)\n",
    "# choose the dependent var\n",
    "y = df['property_value_median']\n",
    "\n",
    "# fitting the model.\n",
    "# launch the model using the independent and dependent variables\n",
    "model4 = sm.OLS(y, X)\n",
    "# fitting the model\n",
    "results4 = model4.fit()\n",
    "\n",
    "# report the results.\n",
    "print(results4.summary())\n"
   ],
   "metadata": {
    "id": "ThC7QXFl8LZt",
    "colab": {
     "base_uri": "https://localhost:8080/"
    },
    "executionInfo": {
     "status": "ok",
     "timestamp": 1675200622735,
     "user_tz": 300,
     "elapsed": 261,
     "user": {
      "displayName": "Shenhao Wang",
      "userId": "03503527554188089407"
     }
    },
    "outputId": "4df7a2fe-ed37-4076-db29-5ed0ab2ad3b7",
    "ExecuteTime": {
     "end_time": "2023-11-28T21:46:18.005675Z",
     "start_time": "2023-11-28T21:46:17.980481Z"
    }
   },
   "execution_count": 10,
   "outputs": [
    {
     "name": "stdout",
     "output_type": "stream",
     "text": [
      "Intel MKL WARNING: Support of Intel(R) Streaming SIMD Extensions 4.2 (Intel(R) SSE4.2) enabled only processors has been deprecated. Intel oneAPI Math Kernel Library 2025.0 will require Intel(R) Advanced Vector Extensions (Intel(R) AVX) instructions.\n",
      "                              OLS Regression Results                             \n",
      "=================================================================================\n",
      "Dep. Variable:     property_value_median   R-squared:                       0.700\n",
      "Model:                               OLS   Adj. R-squared:                  0.699\n",
      "Method:                    Least Squares   F-statistic:                     693.5\n",
      "Date:                   Tue, 28 Nov 2023   Prob (F-statistic):               0.00\n",
      "Time:                           16:46:17   Log-Likelihood:                -53842.\n",
      "No. Observations:                   4167   AIC:                         1.077e+05\n",
      "Df Residuals:                       4152   BIC:                         1.078e+05\n",
      "Df Model:                             14                                         \n",
      "Covariance Type:               nonrobust                                         \n",
      "================================================================================================\n",
      "                                   coef    std err          t      P>|t|      [0.025      0.975]\n",
      "------------------------------------------------------------------------------------------------\n",
      "const                         2.014e+05   3.36e+04      5.987      0.000    1.35e+05    2.67e+05\n",
      "inc_median_household             0.8502      0.243      3.502      0.000       0.374       1.326\n",
      "inc_median_household_squared  1.938e-05   1.17e-06     16.587      0.000    1.71e-05    2.17e-05\n",
      "households                      -3.1154      1.548     -2.013      0.044      -6.149      -0.081\n",
      "travel_driving_ratio         -2.747e+05   3.38e+04     -8.117      0.000   -3.41e+05   -2.08e+05\n",
      "travel_pt_ratio               3.035e+05   6.54e+04      4.641      0.000    1.75e+05    4.32e+05\n",
      "travel_taxi_ratio             7.704e+05   2.13e+05      3.609      0.000    3.52e+05    1.19e+06\n",
      "travel_work_home_ratio       -1.482e+04   4.79e+04     -0.310      0.757   -1.09e+05     7.9e+04\n",
      "edu_higher_edu_ratio          2.564e+05   2.51e+04     10.228      0.000    2.07e+05    3.06e+05\n",
      "edu_dummy                    -7530.3750   5863.156     -1.284      0.199    -1.9e+04    3964.551\n",
      "household_size_avg             -37.0006     11.204     -3.302      0.001     -58.967     -15.034\n",
      "vacancy_ratio                 1.539e+05   1.39e+04     11.094      0.000    1.27e+05    1.81e+05\n",
      "rent_median                     31.0684      5.212      5.961      0.000      20.851      41.286\n",
      "race_white_ratio              2.978e+04   9185.455      3.242      0.001    1.18e+04    4.78e+04\n",
      "race_asian_ratio             -5.482e+05   5.78e+04     -9.488      0.000   -6.61e+05   -4.35e+05\n",
      "==============================================================================\n",
      "Omnibus:                     3275.733   Durbin-Watson:                   1.554\n",
      "Prob(Omnibus):                  0.000   Jarque-Bera (JB):           171668.909\n",
      "Skew:                           3.305   Prob(JB):                         0.00\n",
      "Kurtosis:                      33.742   Cond. No.                     8.63e+11\n",
      "==============================================================================\n",
      "\n",
      "Notes:\n",
      "[1] Standard Errors assume that the covariance matrix of the errors is correctly specified.\n",
      "[2] The condition number is large, 8.63e+11. This might indicate that there are\n",
      "strong multicollinearity or other numerical problems.\n"
     ]
    }
   ]
  },
  {
   "cell_type": "markdown",
   "source": [
    "### **Exercise.** Use the automobile usage as the dependent variable. Then conduct several multivariable regressions and choose the final model for interpretation."
   ],
   "metadata": {
    "id": "SgZkiIL5FS9r"
   }
  },
  {
   "cell_type": "code",
   "source": [
    "df.columns"
   ],
   "metadata": {
    "id": "An8yKEdCFq2m",
    "colab": {
     "base_uri": "https://localhost:8080/"
    },
    "executionInfo": {
     "status": "ok",
     "timestamp": 1675200811627,
     "user_tz": 300,
     "elapsed": 2,
     "user": {
      "displayName": "Shenhao Wang",
      "userId": "03503527554188089407"
     }
    },
    "outputId": "b0773980-85d1-4646-ce98-4777ac976942",
    "ExecuteTime": {
     "end_time": "2023-11-28T21:46:18.443060Z",
     "start_time": "2023-11-28T21:46:18.436424Z"
    }
   },
   "execution_count": 11,
   "outputs": [
    {
     "data": {
      "text/plain": "Index(['pop_total', 'sex_total', 'sex_male', 'sex_female', 'age_median',\n       'households', 'race_total', 'race_white', 'race_black', 'race_native',\n       'race_asian', 'inc_total_pop', 'inc_no_pop', 'inc_with_pop',\n       'inc_pop_10k', 'inc_pop_1k_15k', 'inc_pop_15k_25k', 'inc_pop_25k_35k',\n       'inc_pop_35k_50k', 'inc_pop_50k_65k', 'inc_pop_65k_75k', 'inc_pop_75k',\n       'inc_median_ind', 'travel_total_to_work', 'travel_driving_to_work',\n       'travel_pt_to_work', 'travel_taxi_to_work', 'travel_cycle_to_work',\n       'travel_walk_to_work', 'travel_work_from_home', 'edu_total_pop',\n       'bachelor_male_25_34', 'master_phd_male_25_34', 'bachelor_male_35_44',\n       'master_phd_male_35_44', 'bachelor_male_45_64', 'master_phd_male_45_64',\n       'bachelor_male_65_over', 'master_phd_male_65_over',\n       'bachelor_female_25_34', 'master_phd_female_25_34',\n       'bachelor_female_35_44', 'master_phd_female_35_44',\n       'bachelor_female_45_64', 'master_phd_female_45_64',\n       'bachelor_female_65_over', 'master_phd_female_65_over', 'edu_total',\n       'edu_bachelor', 'edu_master', 'edu_phd', 'inc_median_household',\n       'inc_per_capita', 'employment_total_labor', 'employment_employed',\n       'employment_unemployed', 'housing_units_total',\n       'housing_units_occupied', 'housing_units_vacant', 'rent_median',\n       'property_value_total', 'property_value_median',\n       'vehicle_total_imputed', 'state', 'state_fips', 'county_fips',\n       'tract_fips', 'full_ct_fips', 'household_size_avg', 'sex_male_ratio',\n       'race_white_ratio', 'race_black_ratio', 'race_native_ratio',\n       'race_asian_ratio', 'travel_driving_ratio', 'travel_pt_ratio',\n       'travel_taxi_ratio', 'travel_cycle_ratio', 'travel_walk_ratio',\n       'travel_work_home_ratio', 'edu_bachelor_ratio', 'edu_master_ratio',\n       'edu_phd_ratio', 'edu_higher_edu_ratio', 'employment_unemployed_ratio',\n       'vehicle_per_capita', 'vehicle_per_household', 'vacancy_ratio',\n       'edu_dummy', 'inc_median_household_squared',\n       'inc_median_household_discrete'],\n      dtype='object')"
     },
     "execution_count": 11,
     "metadata": {},
     "output_type": "execute_result"
    }
   ]
  },
  {
   "cell_type": "code",
   "source": [],
   "metadata": {
    "id": "NEjtcM4jv9Ef",
    "ExecuteTime": {
     "end_time": "2023-11-28T21:46:18.658918Z",
     "start_time": "2023-11-28T21:46:18.642197Z"
    }
   },
   "execution_count": 11,
   "outputs": []
  },
  {
   "cell_type": "code",
   "execution_count": null,
   "outputs": [],
   "source": [],
   "metadata": {
    "collapsed": false
   }
  }
 ]
}
