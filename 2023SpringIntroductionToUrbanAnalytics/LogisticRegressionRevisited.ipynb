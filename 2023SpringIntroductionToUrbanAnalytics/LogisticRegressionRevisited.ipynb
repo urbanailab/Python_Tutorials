{
 "nbformat": 4,
 "nbformat_minor": 0,
 "metadata": {
  "colab": {
   "provenance": [],
   "authorship_tag": "ABX9TyNdNEzbYwLUmRV2hoVZ2kLi"
  },
  "kernelspec": {
   "name": "python3",
   "language": "python",
   "display_name": "Python 3 (ipykernel)"
  },
  "language_info": {
   "name": "python"
  }
 },
 "cells": [
  {
   "cell_type": "markdown",
   "source": [
    "# Lec08 - Logistic regression (revisited)\n",
    "\n",
    "1.   Benchmark logistic regression\n",
    "2.   Logistic regression in ML\n",
    "\n"
   ],
   "metadata": {
    "id": "uau5Y21R6kXO"
   }
  },
  {
   "cell_type": "code",
   "execution_count": 1,
   "metadata": {
    "id": "8nXRmuML6iqB",
    "ExecuteTime": {
     "end_time": "2023-11-28T21:54:23.408711Z",
     "start_time": "2023-11-28T21:54:21.675700Z"
    }
   },
   "outputs": [
    {
     "name": "stdout",
     "output_type": "stream",
     "text": [
      "Intel MKL WARNING: Support of Intel(R) Streaming SIMD Extensions 4.2 (Intel(R) SSE4.2) enabled only processors has been deprecated. Intel oneAPI Math Kernel Library 2025.0 will require Intel(R) Advanced Vector Extensions (Intel(R) AVX) instructions.\n",
      "Intel MKL WARNING: Support of Intel(R) Streaming SIMD Extensions 4.2 (Intel(R) SSE4.2) enabled only processors has been deprecated. Intel oneAPI Math Kernel Library 2025.0 will require Intel(R) Advanced Vector Extensions (Intel(R) AVX) instructions.\n"
     ]
    }
   ],
   "source": [
    "# import modules\n",
    "import pandas as pd\n",
    "import numpy as np\n",
    "import statsmodels.api as sm\n",
    "\n",
    "# new module sklearn\n",
    "from sklearn.model_selection import train_test_split\n",
    "from sklearn.linear_model import LogisticRegression\n",
    "from sklearn import metrics"
   ]
  },
  {
   "cell_type": "code",
   "execution_count": 2,
   "outputs": [],
   "source": [
    "# read data\n",
    "df = pd.read_csv('SampleDataset/Florida_ct.csv', index_col = 0)"
   ],
   "metadata": {
    "collapsed": false,
    "ExecuteTime": {
     "end_time": "2023-11-28T21:54:23.715403Z",
     "start_time": "2023-11-28T21:54:23.661894Z"
    }
   }
  },
  {
   "cell_type": "code",
   "source": [
    "df.head()"
   ],
   "metadata": {
    "colab": {
     "base_uri": "https://localhost:8080/",
     "height": 299
    },
    "id": "7aZDvhTs8fs5",
    "executionInfo": {
     "status": "ok",
     "timestamp": 1678224540106,
     "user_tz": 300,
     "elapsed": 142,
     "user": {
      "displayName": "Shenhao Wang",
      "userId": "03503527554188089407"
     }
    },
    "outputId": "a0ef8a32-06f4-491f-f897-885734dbde69",
    "ExecuteTime": {
     "end_time": "2023-11-28T21:54:25.417561Z",
     "start_time": "2023-11-28T21:54:25.400386Z"
    }
   },
   "execution_count": 3,
   "outputs": [
    {
     "data": {
      "text/plain": "   pop_total  sex_total  sex_male  sex_female  age_median  households  \\\n0     2812.0     2812.0    1383.0      1429.0        39.4       931.0   \n1     4709.0     4709.0    2272.0      2437.0        34.2      1668.0   \n2     5005.0     5005.0    2444.0      2561.0        34.1      1379.0   \n3     6754.0     6754.0    2934.0      3820.0        31.3      2238.0   \n4     3021.0     3021.0    1695.0      1326.0        44.1      1364.0   \n\n   race_total  race_white  race_black  race_native  ...  travel_walk_ratio  \\\n0      2812.0      2086.0       517.0          0.0  ...           0.014815   \n1      4709.0      2382.0      1953.0          0.0  ...           0.022150   \n2      5005.0      2334.0      2206.0        224.0  ...           0.026141   \n3      6754.0      4052.0      1671.0        326.0  ...           0.052697   \n4      3021.0      2861.0       121.0          0.0  ...           0.003014   \n\n   travel_work_home_ratio  edu_bachelor_ratio  edu_master_ratio  \\\n0                0.024242            0.183838          0.029798   \n1                0.004615            0.135222          0.040245   \n2                0.027913            0.213247          0.064620   \n3                0.004054            0.093379          0.082510   \n4                0.013059            0.219868          0.138631   \n\n   edu_phd_ratio  edu_higher_edu_ratio  employment_unemployed_ratio  \\\n0       0.003030              0.216667                     0.286635   \n1       0.003220              0.178686                     0.318327   \n2       0.007431              0.285299                     0.366755   \n3       0.012599              0.188488                     0.314452   \n4       0.007064              0.365563                     0.218447   \n\n   vehicle_per_capita  vehicle_per_household  vacancy_ratio  \n0            0.528094               1.595059       0.155938  \n1            0.460183               1.299161       0.152869  \n2            0.450949               1.636693       0.162211  \n3            0.474830               1.432976       0.178716  \n4            0.659053               1.459677       0.335930  \n\n[5 rows x 88 columns]",
      "text/html": "<div>\n<style scoped>\n    .dataframe tbody tr th:only-of-type {\n        vertical-align: middle;\n    }\n\n    .dataframe tbody tr th {\n        vertical-align: top;\n    }\n\n    .dataframe thead th {\n        text-align: right;\n    }\n</style>\n<table border=\"1\" class=\"dataframe\">\n  <thead>\n    <tr style=\"text-align: right;\">\n      <th></th>\n      <th>pop_total</th>\n      <th>sex_total</th>\n      <th>sex_male</th>\n      <th>sex_female</th>\n      <th>age_median</th>\n      <th>households</th>\n      <th>race_total</th>\n      <th>race_white</th>\n      <th>race_black</th>\n      <th>race_native</th>\n      <th>...</th>\n      <th>travel_walk_ratio</th>\n      <th>travel_work_home_ratio</th>\n      <th>edu_bachelor_ratio</th>\n      <th>edu_master_ratio</th>\n      <th>edu_phd_ratio</th>\n      <th>edu_higher_edu_ratio</th>\n      <th>employment_unemployed_ratio</th>\n      <th>vehicle_per_capita</th>\n      <th>vehicle_per_household</th>\n      <th>vacancy_ratio</th>\n    </tr>\n  </thead>\n  <tbody>\n    <tr>\n      <th>0</th>\n      <td>2812.0</td>\n      <td>2812.0</td>\n      <td>1383.0</td>\n      <td>1429.0</td>\n      <td>39.4</td>\n      <td>931.0</td>\n      <td>2812.0</td>\n      <td>2086.0</td>\n      <td>517.0</td>\n      <td>0.0</td>\n      <td>...</td>\n      <td>0.014815</td>\n      <td>0.024242</td>\n      <td>0.183838</td>\n      <td>0.029798</td>\n      <td>0.003030</td>\n      <td>0.216667</td>\n      <td>0.286635</td>\n      <td>0.528094</td>\n      <td>1.595059</td>\n      <td>0.155938</td>\n    </tr>\n    <tr>\n      <th>1</th>\n      <td>4709.0</td>\n      <td>4709.0</td>\n      <td>2272.0</td>\n      <td>2437.0</td>\n      <td>34.2</td>\n      <td>1668.0</td>\n      <td>4709.0</td>\n      <td>2382.0</td>\n      <td>1953.0</td>\n      <td>0.0</td>\n      <td>...</td>\n      <td>0.022150</td>\n      <td>0.004615</td>\n      <td>0.135222</td>\n      <td>0.040245</td>\n      <td>0.003220</td>\n      <td>0.178686</td>\n      <td>0.318327</td>\n      <td>0.460183</td>\n      <td>1.299161</td>\n      <td>0.152869</td>\n    </tr>\n    <tr>\n      <th>2</th>\n      <td>5005.0</td>\n      <td>5005.0</td>\n      <td>2444.0</td>\n      <td>2561.0</td>\n      <td>34.1</td>\n      <td>1379.0</td>\n      <td>5005.0</td>\n      <td>2334.0</td>\n      <td>2206.0</td>\n      <td>224.0</td>\n      <td>...</td>\n      <td>0.026141</td>\n      <td>0.027913</td>\n      <td>0.213247</td>\n      <td>0.064620</td>\n      <td>0.007431</td>\n      <td>0.285299</td>\n      <td>0.366755</td>\n      <td>0.450949</td>\n      <td>1.636693</td>\n      <td>0.162211</td>\n    </tr>\n    <tr>\n      <th>3</th>\n      <td>6754.0</td>\n      <td>6754.0</td>\n      <td>2934.0</td>\n      <td>3820.0</td>\n      <td>31.3</td>\n      <td>2238.0</td>\n      <td>6754.0</td>\n      <td>4052.0</td>\n      <td>1671.0</td>\n      <td>326.0</td>\n      <td>...</td>\n      <td>0.052697</td>\n      <td>0.004054</td>\n      <td>0.093379</td>\n      <td>0.082510</td>\n      <td>0.012599</td>\n      <td>0.188488</td>\n      <td>0.314452</td>\n      <td>0.474830</td>\n      <td>1.432976</td>\n      <td>0.178716</td>\n    </tr>\n    <tr>\n      <th>4</th>\n      <td>3021.0</td>\n      <td>3021.0</td>\n      <td>1695.0</td>\n      <td>1326.0</td>\n      <td>44.1</td>\n      <td>1364.0</td>\n      <td>3021.0</td>\n      <td>2861.0</td>\n      <td>121.0</td>\n      <td>0.0</td>\n      <td>...</td>\n      <td>0.003014</td>\n      <td>0.013059</td>\n      <td>0.219868</td>\n      <td>0.138631</td>\n      <td>0.007064</td>\n      <td>0.365563</td>\n      <td>0.218447</td>\n      <td>0.659053</td>\n      <td>1.459677</td>\n      <td>0.335930</td>\n    </tr>\n  </tbody>\n</table>\n<p>5 rows × 88 columns</p>\n</div>"
     },
     "execution_count": 3,
     "metadata": {},
     "output_type": "execute_result"
    }
   ]
  },
  {
   "cell_type": "code",
   "source": [
    "# preprocessing\n",
    "# expensive vs. non-expensive properties as the binary variable\n",
    "# threshold = 0.8\n",
    "df['property_value_discrete'] = 1\n",
    "df.loc[df['property_value_median'] < 200000, 'property_value_discrete'] = 0\n"
   ],
   "metadata": {
    "id": "1d8Kgf8s89g0",
    "ExecuteTime": {
     "end_time": "2023-11-28T21:54:26.521482Z",
     "start_time": "2023-11-28T21:54:26.510213Z"
    }
   },
   "execution_count": 4,
   "outputs": []
  },
  {
   "cell_type": "markdown",
   "source": [
    "## Section 1. Creating a baseline logistic regression (stat paradigm)"
   ],
   "metadata": {
    "id": "XFjjPLxM8dG1"
   }
  },
  {
   "cell_type": "code",
   "source": [
    "# Regression 3. Enriching the logistic regression.\n",
    "var_list = ['inc_median_household', \n",
    "            'households',\n",
    "            'travel_driving_ratio', 'travel_pt_ratio', 'travel_taxi_ratio', 'travel_work_home_ratio',\n",
    "            'edu_higher_edu_ratio',\n",
    "            'household_size_avg', \n",
    "            'vacancy_ratio', 'rent_median', \n",
    "            'race_white_ratio', \n",
    "            'race_asian_ratio'\n",
    "            ]\n",
    "\n",
    "y = df['property_value_discrete']\n",
    "X = df[var_list]\n",
    "X = sm.add_constant(X)\n",
    "model = sm.Logit(y, X)\n",
    "results = model.fit()\n",
    "print(results.summary())"
   ],
   "metadata": {
    "colab": {
     "base_uri": "https://localhost:8080/"
    },
    "id": "4r9uQM2E8bz2",
    "executionInfo": {
     "status": "ok",
     "timestamp": 1678224602430,
     "user_tz": 300,
     "elapsed": 386,
     "user": {
      "displayName": "Shenhao Wang",
      "userId": "03503527554188089407"
     }
    },
    "outputId": "d0ade799-47fe-4784-8718-ac63414e3dcf",
    "ExecuteTime": {
     "end_time": "2023-11-28T21:54:28.427315Z",
     "start_time": "2023-11-28T21:54:28.365510Z"
    }
   },
   "execution_count": 5,
   "outputs": [
    {
     "name": "stdout",
     "output_type": "stream",
     "text": [
      "Optimization terminated successfully.\n",
      "         Current function value: 0.342854\n",
      "         Iterations 12\n",
      "                              Logit Regression Results                             \n",
      "===================================================================================\n",
      "Dep. Variable:     property_value_discrete   No. Observations:                 4167\n",
      "Model:                               Logit   Df Residuals:                     4154\n",
      "Method:                                MLE   Df Model:                           12\n",
      "Date:                     Tue, 28 Nov 2023   Pseudo R-squ.:                  0.5052\n",
      "Time:                             16:54:28   Log-Likelihood:                -1428.7\n",
      "converged:                            True   LL-Null:                       -2887.1\n",
      "Covariance Type:                 nonrobust   LLR p-value:                     0.000\n",
      "==========================================================================================\n",
      "                             coef    std err          z      P>|z|      [0.025      0.975]\n",
      "------------------------------------------------------------------------------------------\n",
      "const                     -7.0535      1.194     -5.907      0.000      -9.394      -4.713\n",
      "inc_median_household    7.972e-05   4.73e-06     16.841      0.000    7.04e-05     8.9e-05\n",
      "households              4.422e-05   4.92e-05      0.900      0.368   -5.21e-05       0.000\n",
      "travel_driving_ratio      -3.2319      1.205     -2.683      0.007      -5.593      -0.871\n",
      "travel_pt_ratio           13.1837      2.058      6.406      0.000       9.150      17.217\n",
      "travel_taxi_ratio         15.1983      6.287      2.417      0.016       2.876      27.520\n",
      "travel_work_home_ratio    -1.5354      1.748     -0.879      0.380      -4.961       1.890\n",
      "edu_higher_edu_ratio       7.4498      0.584     12.756      0.000       6.305       8.594\n",
      "household_size_avg        -0.0086      0.013     -0.653      0.514      -0.035       0.017\n",
      "vacancy_ratio             -0.5773      0.454     -1.271      0.204      -1.468       0.313\n",
      "rent_median                0.0019      0.000      9.352      0.000       0.001       0.002\n",
      "race_white_ratio           1.6642      0.299      5.566      0.000       1.078       2.250\n",
      "race_asian_ratio          -9.7624      1.865     -5.235      0.000     -13.418      -6.107\n",
      "==========================================================================================\n"
     ]
    }
   ]
  },
  {
   "cell_type": "markdown",
   "source": [
    "## Section 2. Creating a logistic regression (ML paradigm)"
   ],
   "metadata": {
    "id": "o043GxSP-EK3"
   }
  },
  {
   "cell_type": "code",
   "source": [
    "# assign the inputs and outputs\n",
    "var_list = ['inc_median_household', \n",
    "            'households',\n",
    "            'travel_driving_ratio', 'travel_pt_ratio', 'travel_taxi_ratio', 'travel_work_home_ratio',\n",
    "            'edu_higher_edu_ratio',\n",
    "            'household_size_avg', \n",
    "            'vacancy_ratio', 'rent_median', \n",
    "            'race_white_ratio', \n",
    "            'race_asian_ratio'\n",
    "            ] \n",
    "\n",
    "y = df['property_value_discrete']\n",
    "X = df[var_list]\n",
    "X = sm.add_constant(X)\n",
    "\n",
    "# change the data format\n",
    "X = X.values\n",
    "y = y.values\n"
   ],
   "metadata": {
    "id": "1tNKEeyD-Dk7",
    "ExecuteTime": {
     "end_time": "2023-11-28T21:54:29.817717Z",
     "start_time": "2023-11-28T21:54:29.813913Z"
    }
   },
   "execution_count": 6,
   "outputs": []
  },
  {
   "cell_type": "code",
   "source": [
    "X"
   ],
   "metadata": {
    "colab": {
     "base_uri": "https://localhost:8080/"
    },
    "id": "S8BY3Nua_SlL",
    "executionInfo": {
     "status": "ok",
     "timestamp": 1678224733580,
     "user_tz": 300,
     "elapsed": 145,
     "user": {
      "displayName": "Shenhao Wang",
      "userId": "03503527554188089407"
     }
    },
    "outputId": "3d9f024f-7873-43b0-8be2-39c2dda6b880",
    "ExecuteTime": {
     "end_time": "2023-11-28T21:54:30.480191Z",
     "start_time": "2023-11-28T21:54:30.468989Z"
    }
   },
   "execution_count": 7,
   "outputs": [
    {
     "data": {
      "text/plain": "array([[1.00000000e+00, 5.35330000e+04, 9.31000000e+02, ...,\n        1.59200000e+03, 7.41820768e-01, 4.33854908e-02],\n       [1.00000000e+00, 3.39580000e+04, 1.66800000e+03, ...,\n        1.10900000e+03, 5.05839881e-01, 1.86876195e-02],\n       [1.00000000e+00, 4.02500000e+04, 1.37900000e+03, ...,\n        1.29100000e+03, 4.66333666e-01, 3.17682318e-02],\n       ...,\n       [1.00000000e+00, 6.57860000e+04, 3.74600000e+03, ...,\n        1.10500000e+03, 7.69290273e-01, 2.41732740e-02],\n       [1.00000000e+00, 5.92360000e+04, 3.32400000e+03, ...,\n        1.06100000e+03, 7.01562500e-01, 4.62053571e-02],\n       [1.00000000e+00, 4.68750000e+04, 1.75500000e+03, ...,\n        8.99000000e+02, 7.38343498e-01, 1.96734212e-03]])"
     },
     "execution_count": 7,
     "metadata": {},
     "output_type": "execute_result"
    }
   ]
  },
  {
   "cell_type": "code",
   "source": [
    "# creating the training and testing split\n",
    "X_train, X_test, y_train, y_test = train_test_split(X, y, test_size=0.2, random_state=16)"
   ],
   "metadata": {
    "id": "uqtLwLHW8Wva",
    "ExecuteTime": {
     "end_time": "2023-11-28T21:54:31.140298Z",
     "start_time": "2023-11-28T21:54:31.137806Z"
    }
   },
   "execution_count": 8,
   "outputs": []
  },
  {
   "cell_type": "code",
   "source": [
    "# view the four data sets\n",
    "print(X_train.shape)\n",
    "print(X_test.shape)\n",
    "print(y_train.shape)\n",
    "print(y_test.shape)"
   ],
   "metadata": {
    "colab": {
     "base_uri": "https://localhost:8080/"
    },
    "id": "7MV8BpfE-i66",
    "executionInfo": {
     "status": "ok",
     "timestamp": 1678224807147,
     "user_tz": 300,
     "elapsed": 157,
     "user": {
      "displayName": "Shenhao Wang",
      "userId": "03503527554188089407"
     }
    },
    "outputId": "ffdeabe9-db68-4b08-cd33-dac27931ce9f",
    "ExecuteTime": {
     "end_time": "2023-11-28T21:54:31.693599Z",
     "start_time": "2023-11-28T21:54:31.679841Z"
    }
   },
   "execution_count": 9,
   "outputs": [
    {
     "name": "stdout",
     "output_type": "stream",
     "text": [
      "(3333, 13)\n",
      "(834, 13)\n",
      "(3333,)\n",
      "(834,)\n"
     ]
    }
   ]
  },
  {
   "cell_type": "code",
   "source": [
    "# initialize logistic regression\n",
    "# instantiate the model (using the default parameters)\n",
    "logreg = LogisticRegression(random_state=16)\n",
    "\n",
    "# fit the model with training data only\n",
    "logreg.fit(X_train, y_train)\n"
   ],
   "metadata": {
    "colab": {
     "base_uri": "https://localhost:8080/",
     "height": 74
    },
    "id": "RzZJlpTR-xpm",
    "executionInfo": {
     "status": "ok",
     "timestamp": 1678224893877,
     "user_tz": 300,
     "elapsed": 453,
     "user": {
      "displayName": "Shenhao Wang",
      "userId": "03503527554188089407"
     }
    },
    "outputId": "e341b63d-1efe-44d5-9f4d-a52595796567",
    "ExecuteTime": {
     "end_time": "2023-11-28T21:54:32.253396Z",
     "start_time": "2023-11-28T21:54:32.209477Z"
    }
   },
   "execution_count": 10,
   "outputs": [
    {
     "data": {
      "text/plain": "LogisticRegression(random_state=16)",
      "text/html": "<style>#sk-container-id-1 {color: black;background-color: white;}#sk-container-id-1 pre{padding: 0;}#sk-container-id-1 div.sk-toggleable {background-color: white;}#sk-container-id-1 label.sk-toggleable__label {cursor: pointer;display: block;width: 100%;margin-bottom: 0;padding: 0.3em;box-sizing: border-box;text-align: center;}#sk-container-id-1 label.sk-toggleable__label-arrow:before {content: \"▸\";float: left;margin-right: 0.25em;color: #696969;}#sk-container-id-1 label.sk-toggleable__label-arrow:hover:before {color: black;}#sk-container-id-1 div.sk-estimator:hover label.sk-toggleable__label-arrow:before {color: black;}#sk-container-id-1 div.sk-toggleable__content {max-height: 0;max-width: 0;overflow: hidden;text-align: left;background-color: #f0f8ff;}#sk-container-id-1 div.sk-toggleable__content pre {margin: 0.2em;color: black;border-radius: 0.25em;background-color: #f0f8ff;}#sk-container-id-1 input.sk-toggleable__control:checked~div.sk-toggleable__content {max-height: 200px;max-width: 100%;overflow: auto;}#sk-container-id-1 input.sk-toggleable__control:checked~label.sk-toggleable__label-arrow:before {content: \"▾\";}#sk-container-id-1 div.sk-estimator input.sk-toggleable__control:checked~label.sk-toggleable__label {background-color: #d4ebff;}#sk-container-id-1 div.sk-label input.sk-toggleable__control:checked~label.sk-toggleable__label {background-color: #d4ebff;}#sk-container-id-1 input.sk-hidden--visually {border: 0;clip: rect(1px 1px 1px 1px);clip: rect(1px, 1px, 1px, 1px);height: 1px;margin: -1px;overflow: hidden;padding: 0;position: absolute;width: 1px;}#sk-container-id-1 div.sk-estimator {font-family: monospace;background-color: #f0f8ff;border: 1px dotted black;border-radius: 0.25em;box-sizing: border-box;margin-bottom: 0.5em;}#sk-container-id-1 div.sk-estimator:hover {background-color: #d4ebff;}#sk-container-id-1 div.sk-parallel-item::after {content: \"\";width: 100%;border-bottom: 1px solid gray;flex-grow: 1;}#sk-container-id-1 div.sk-label:hover label.sk-toggleable__label {background-color: #d4ebff;}#sk-container-id-1 div.sk-serial::before {content: \"\";position: absolute;border-left: 1px solid gray;box-sizing: border-box;top: 0;bottom: 0;left: 50%;z-index: 0;}#sk-container-id-1 div.sk-serial {display: flex;flex-direction: column;align-items: center;background-color: white;padding-right: 0.2em;padding-left: 0.2em;position: relative;}#sk-container-id-1 div.sk-item {position: relative;z-index: 1;}#sk-container-id-1 div.sk-parallel {display: flex;align-items: stretch;justify-content: center;background-color: white;position: relative;}#sk-container-id-1 div.sk-item::before, #sk-container-id-1 div.sk-parallel-item::before {content: \"\";position: absolute;border-left: 1px solid gray;box-sizing: border-box;top: 0;bottom: 0;left: 50%;z-index: -1;}#sk-container-id-1 div.sk-parallel-item {display: flex;flex-direction: column;z-index: 1;position: relative;background-color: white;}#sk-container-id-1 div.sk-parallel-item:first-child::after {align-self: flex-end;width: 50%;}#sk-container-id-1 div.sk-parallel-item:last-child::after {align-self: flex-start;width: 50%;}#sk-container-id-1 div.sk-parallel-item:only-child::after {width: 0;}#sk-container-id-1 div.sk-dashed-wrapped {border: 1px dashed gray;margin: 0 0.4em 0.5em 0.4em;box-sizing: border-box;padding-bottom: 0.4em;background-color: white;}#sk-container-id-1 div.sk-label label {font-family: monospace;font-weight: bold;display: inline-block;line-height: 1.2em;}#sk-container-id-1 div.sk-label-container {text-align: center;}#sk-container-id-1 div.sk-container {/* jupyter's `normalize.less` sets `[hidden] { display: none; }` but bootstrap.min.css set `[hidden] { display: none !important; }` so we also need the `!important` here to be able to override the default hidden behavior on the sphinx rendered scikit-learn.org. See: https://github.com/scikit-learn/scikit-learn/issues/21755 */display: inline-block !important;position: relative;}#sk-container-id-1 div.sk-text-repr-fallback {display: none;}</style><div id=\"sk-container-id-1\" class=\"sk-top-container\"><div class=\"sk-text-repr-fallback\"><pre>LogisticRegression(random_state=16)</pre><b>In a Jupyter environment, please rerun this cell to show the HTML representation or trust the notebook. <br />On GitHub, the HTML representation is unable to render, please try loading this page with nbviewer.org.</b></div><div class=\"sk-container\" hidden><div class=\"sk-item\"><div class=\"sk-estimator sk-toggleable\"><input class=\"sk-toggleable__control sk-hidden--visually\" id=\"sk-estimator-id-1\" type=\"checkbox\" checked><label for=\"sk-estimator-id-1\" class=\"sk-toggleable__label sk-toggleable__label-arrow\">LogisticRegression</label><div class=\"sk-toggleable__content\"><pre>LogisticRegression(random_state=16)</pre></div></div></div></div></div>"
     },
     "execution_count": 10,
     "metadata": {},
     "output_type": "execute_result"
    }
   ]
  },
  {
   "cell_type": "code",
   "source": [
    "# check the parameters.\n",
    "logreg.coef_"
   ],
   "metadata": {
    "colab": {
     "base_uri": "https://localhost:8080/"
    },
    "id": "uJ379kcqABzi",
    "executionInfo": {
     "status": "ok",
     "timestamp": 1678224955778,
     "user_tz": 300,
     "elapsed": 139,
     "user": {
      "displayName": "Shenhao Wang",
      "userId": "03503527554188089407"
     }
    },
    "outputId": "684f3634-78a3-4a1b-f2a4-1b23faf11cf6",
    "ExecuteTime": {
     "end_time": "2023-11-28T21:54:32.802588Z",
     "start_time": "2023-11-28T21:54:32.796262Z"
    }
   },
   "execution_count": 11,
   "outputs": [
    {
     "data": {
      "text/plain": "array([[-5.02143963e-02,  6.56997126e-05, -2.43955211e-04,\n        -4.79921674e-02, -9.28007051e-04, -2.92417212e-05,\n         8.72517230e-04,  8.27797943e-03, -1.57951934e+00,\n        -8.54350861e-03,  9.72967022e-04, -2.55249333e-02,\n         8.73864354e-05]])"
     },
     "execution_count": 11,
     "metadata": {},
     "output_type": "execute_result"
    }
   ]
  },
  {
   "cell_type": "code",
   "source": [
    "# check the training error using the confusion matrix\n",
    "y_pred = logreg.predict(X_train)\n",
    "cnf_matrix = metrics.confusion_matrix(y_train, y_pred)\n",
    "\n",
    "prediction_error_training = (cnf_matrix[0,1]+cnf_matrix[1,0])/cnf_matrix.sum()\n",
    "print(\"Training error is: \", prediction_error_training)"
   ],
   "metadata": {
    "colab": {
     "base_uri": "https://localhost:8080/"
    },
    "id": "KQo78-oZ-7of",
    "executionInfo": {
     "status": "ok",
     "timestamp": 1678225103011,
     "user_tz": 300,
     "elapsed": 154,
     "user": {
      "displayName": "Shenhao Wang",
      "userId": "03503527554188089407"
     }
    },
    "outputId": "f347fcf7-2ea2-491f-bf0d-8bd141706e6c",
    "ExecuteTime": {
     "end_time": "2023-11-28T21:54:33.308836Z",
     "start_time": "2023-11-28T21:54:33.303822Z"
    }
   },
   "execution_count": 12,
   "outputs": [
    {
     "name": "stdout",
     "output_type": "stream",
     "text": [
      "Training error is:  0.21182118211821183\n"
     ]
    }
   ]
  },
  {
   "cell_type": "code",
   "source": [
    "# confusion matrix in the training set\n",
    "cnf_matrix"
   ],
   "metadata": {
    "colab": {
     "base_uri": "https://localhost:8080/"
    },
    "id": "fJk0Ys3A_yyG",
    "executionInfo": {
     "status": "ok",
     "timestamp": 1678213919363,
     "user_tz": 300,
     "elapsed": 128,
     "user": {
      "displayName": "Shenhao Wang",
      "userId": "03503527554188089407"
     }
    },
    "outputId": "625f7651-7409-4f1d-b69c-b4486be64ffc",
    "ExecuteTime": {
     "end_time": "2023-11-28T21:54:33.842597Z",
     "start_time": "2023-11-28T21:54:33.840247Z"
    }
   },
   "execution_count": 13,
   "outputs": [
    {
     "data": {
      "text/plain": "array([[1355,  351],\n       [ 355, 1272]])"
     },
     "execution_count": 13,
     "metadata": {},
     "output_type": "execute_result"
    }
   ]
  },
  {
   "cell_type": "code",
   "source": [
    "# check the testing error using the confusion matrix\n",
    "y_pred = logreg.predict(X_test)\n",
    "cnf_matrix = metrics.confusion_matrix(y_test, y_pred)\n",
    "\n",
    "prediction_error_testing = (cnf_matrix[0,1]+cnf_matrix[1,0])/cnf_matrix.sum()\n",
    "print(\"Testing error is: \", prediction_error_testing)"
   ],
   "metadata": {
    "colab": {
     "base_uri": "https://localhost:8080/"
    },
    "id": "2c9ijB13_Q0t",
    "executionInfo": {
     "status": "ok",
     "timestamp": 1678213920167,
     "user_tz": 300,
     "elapsed": 161,
     "user": {
      "displayName": "Shenhao Wang",
      "userId": "03503527554188089407"
     }
    },
    "outputId": "a261ccea-1274-4514-b2dd-a54aec45f9a4",
    "ExecuteTime": {
     "end_time": "2023-11-28T21:54:34.291899Z",
     "start_time": "2023-11-28T21:54:34.287213Z"
    }
   },
   "execution_count": 14,
   "outputs": [
    {
     "name": "stdout",
     "output_type": "stream",
     "text": [
      "Testing error is:  0.20983213429256595\n"
     ]
    }
   ]
  },
  {
   "cell_type": "code",
   "source": [
    "# confusion matrix in the testing set\n",
    "cnf_matrix"
   ],
   "metadata": {
    "colab": {
     "base_uri": "https://localhost:8080/"
    },
    "id": "a7TwTCcB_ma4",
    "executionInfo": {
     "status": "ok",
     "timestamp": 1678213926369,
     "user_tz": 300,
     "elapsed": 157,
     "user": {
      "displayName": "Shenhao Wang",
      "userId": "03503527554188089407"
     }
    },
    "outputId": "cc231c28-6f00-406b-a60d-69a96ac9fba7",
    "ExecuteTime": {
     "end_time": "2023-11-28T21:54:34.815262Z",
     "start_time": "2023-11-28T21:54:34.803860Z"
    }
   },
   "execution_count": 15,
   "outputs": [
    {
     "data": {
      "text/plain": "array([[346,  82],\n       [ 93, 313]])"
     },
     "execution_count": 15,
     "metadata": {},
     "output_type": "execute_result"
    }
   ]
  },
  {
   "cell_type": "markdown",
   "source": [
    "You could see that the training and testing errors are not very far-off because the model complexity is quite limited (i.e., only 13 features and 13 parameters). We shall remember this result, since an overly complex model will have very low training errors but high testing errors. We will discuss an example next time."
   ],
   "metadata": {
    "id": "A8u__Z7LAwpr"
   }
  },
  {
   "cell_type": "markdown",
   "source": [
    "##**Exercise.** Create a dummy variable to represent the auto vs. non-auto census tracts by using a threshold value. Then use sklearn to run logistic regression and compute the training and testing errors"
   ],
   "metadata": {
    "id": "wPapOLfgBFJ-"
   }
  },
  {
   "cell_type": "code",
   "source": [
    "df.columns"
   ],
   "metadata": {
    "id": "xbdaz55l_4AP",
    "colab": {
     "base_uri": "https://localhost:8080/"
    },
    "executionInfo": {
     "status": "ok",
     "timestamp": 1678225927388,
     "user_tz": 300,
     "elapsed": 133,
     "user": {
      "displayName": "Shenhao Wang",
      "userId": "03503527554188089407"
     }
    },
    "outputId": "00ff283f-da3e-4523-e57c-0068ab135708",
    "ExecuteTime": {
     "end_time": "2023-11-28T21:54:36.473061Z",
     "start_time": "2023-11-28T21:54:36.463619Z"
    }
   },
   "execution_count": 16,
   "outputs": [
    {
     "data": {
      "text/plain": "Index(['pop_total', 'sex_total', 'sex_male', 'sex_female', 'age_median',\n       'households', 'race_total', 'race_white', 'race_black', 'race_native',\n       'race_asian', 'inc_total_pop', 'inc_no_pop', 'inc_with_pop',\n       'inc_pop_10k', 'inc_pop_1k_15k', 'inc_pop_15k_25k', 'inc_pop_25k_35k',\n       'inc_pop_35k_50k', 'inc_pop_50k_65k', 'inc_pop_65k_75k', 'inc_pop_75k',\n       'inc_median_ind', 'travel_total_to_work', 'travel_driving_to_work',\n       'travel_pt_to_work', 'travel_taxi_to_work', 'travel_cycle_to_work',\n       'travel_walk_to_work', 'travel_work_from_home', 'edu_total_pop',\n       'bachelor_male_25_34', 'master_phd_male_25_34', 'bachelor_male_35_44',\n       'master_phd_male_35_44', 'bachelor_male_45_64', 'master_phd_male_45_64',\n       'bachelor_male_65_over', 'master_phd_male_65_over',\n       'bachelor_female_25_34', 'master_phd_female_25_34',\n       'bachelor_female_35_44', 'master_phd_female_35_44',\n       'bachelor_female_45_64', 'master_phd_female_45_64',\n       'bachelor_female_65_over', 'master_phd_female_65_over', 'edu_total',\n       'edu_bachelor', 'edu_master', 'edu_phd', 'inc_median_household',\n       'inc_per_capita', 'employment_total_labor', 'employment_employed',\n       'employment_unemployed', 'housing_units_total',\n       'housing_units_occupied', 'housing_units_vacant', 'rent_median',\n       'property_value_total', 'property_value_median',\n       'vehicle_total_imputed', 'state', 'state_fips', 'county_fips',\n       'tract_fips', 'full_ct_fips', 'household_size_avg', 'sex_male_ratio',\n       'race_white_ratio', 'race_black_ratio', 'race_native_ratio',\n       'race_asian_ratio', 'travel_driving_ratio', 'travel_pt_ratio',\n       'travel_taxi_ratio', 'travel_cycle_ratio', 'travel_walk_ratio',\n       'travel_work_home_ratio', 'edu_bachelor_ratio', 'edu_master_ratio',\n       'edu_phd_ratio', 'edu_higher_edu_ratio', 'employment_unemployed_ratio',\n       'vehicle_per_capita', 'vehicle_per_household', 'vacancy_ratio',\n       'property_value_discrete'],\n      dtype='object')"
     },
     "execution_count": 16,
     "metadata": {},
     "output_type": "execute_result"
    }
   ]
  },
  {
   "cell_type": "code",
   "source": [],
   "metadata": {
    "id": "kaUztEbtD2qL",
    "ExecuteTime": {
     "end_time": "2023-11-28T21:54:36.995048Z",
     "start_time": "2023-11-28T21:54:36.968907Z"
    }
   },
   "execution_count": 16,
   "outputs": []
  }
 ]
}
