{
 "cells": [
  {
   "cell_type": "code",
   "execution_count": 3,
   "outputs": [],
   "source": [
    "import pandas as pd"
   ],
   "metadata": {
    "collapsed": false,
    "ExecuteTime": {
     "end_time": "2024-02-22T02:32:54.469834Z",
     "start_time": "2024-02-22T02:32:54.458967Z"
    }
   },
   "id": "8da1327ffc98d812"
  },
  {
   "cell_type": "code",
   "execution_count": 4,
   "outputs": [],
   "source": [
    "# Load datasets: one with Florida census tract (CT) 10-digit IDs, another with environmental variables and 11-digit IDs\n",
    "df1 = pd.read_csv('Florida_ct.csv')  # Contains 10-digit IDs representing census tracts in Florida\n",
    "df2 = pd.read_csv('EPA_SmartLocationDatabase_V3_Jan_2021_Final.csv')  # Contains environmental data with 11-digit IDs"
   ],
   "metadata": {
    "collapsed": false,
    "ExecuteTime": {
     "end_time": "2024-02-22T02:32:57.991604Z",
     "start_time": "2024-02-22T02:32:55.047762Z"
    }
   },
   "id": "7e45119f191a14d0"
  },
  {
   "cell_type": "code",
   "execution_count": 5,
   "outputs": [
    {
     "name": "stdout",
     "output_type": "stream",
     "text": [
      "Index(['OBJECTID', 'GEOID10', 'GEOID20', 'STATEFP', 'COUNTYFP', 'TRACTCE',\n",
      "       'BLKGRPCE', 'CSA', 'CSA_Name', 'CBSA',\n",
      "       ...\n",
      "       'D5DE', 'D5DEI', 'D2A_Ranked', 'D2B_Ranked', 'D3B_Ranked', 'D4A_Ranked',\n",
      "       'NatWalkInd', 'Shape_Length', 'Shape_Area', 'truncated_id'],\n",
      "      dtype='object', length=118)\n",
      "Number of matching IDs: 3660\n"
     ]
    }
   ],
   "source": [
    "# Truncate the 11-digit IDs in df2 to create a new column for matching with df1's 10-digit IDs\n",
    "df2['truncated_id'] = df2['GEOID20'].astype(str).str[:6]\n",
    "print(df2.columns)\n",
    "matches = df1['full_ct_fips'].astype(str).str[:6].isin(df2['truncated_id'])\n",
    "print(\"Number of matching IDs:\", matches.sum())\n",
    "df1['full_ct_fips'] = df1['full_ct_fips'].astype(str)\n",
    "df1['match_id'] = df1['full_ct_fips'].str[:6]"
   ],
   "metadata": {
    "collapsed": false,
    "ExecuteTime": {
     "end_time": "2024-02-22T02:32:58.184111Z",
     "start_time": "2024-02-22T02:32:58.160344Z"
    }
   },
   "id": "67f4d61aeaf8e1ba"
  },
  {
   "cell_type": "code",
   "execution_count": 6,
   "outputs": [],
   "source": [
    "value_columns = ['D1B', 'D1C','D5AR', 'D2R_JOBPOP', 'D2B_E5MIXA', 'D2B_E8MIXA', 'D2A_EPHHM', 'D2C_TRIPEQ', 'D1C5_RET', 'D1C5_IND', 'D1C5_SVC', 'D1C5_ENT', 'D3A', 'D3BPO3', 'D3B', 'D3BAO', 'D3BMM3', 'D3BMM4', 'D3BPO4']"
   ],
   "metadata": {
    "collapsed": false,
    "ExecuteTime": {
     "end_time": "2024-02-22T02:33:00.181976Z",
     "start_time": "2024-02-22T02:33:00.174297Z"
    }
   },
   "id": "96ad2148d3c1ee56"
  },
  {
   "cell_type": "code",
   "execution_count": 7,
   "outputs": [],
   "source": [
    "# Group by the truncated_id and calculate the mean for each specified column\n",
    "average_values = df2.groupby('truncated_id')[value_columns].mean().reset_index()\n",
    "df1['full_ct_fips'] = df1['full_ct_fips'].astype(str)"
   ],
   "metadata": {
    "collapsed": false,
    "ExecuteTime": {
     "end_time": "2024-02-22T02:33:00.724775Z",
     "start_time": "2024-02-22T02:33:00.662846Z"
    }
   },
   "id": "355d8c7949e420ee"
  },
  {
   "cell_type": "code",
   "execution_count": 8,
   "outputs": [],
   "source": [
    "# Merge the average values back to df1 based on the ID\n",
    "result_df = pd.merge(df1, average_values, left_on='match_id', right_on='truncated_id', how='left')"
   ],
   "metadata": {
    "collapsed": false,
    "ExecuteTime": {
     "end_time": "2024-02-22T02:33:01.149059Z",
     "start_time": "2024-02-22T02:33:01.138150Z"
    }
   },
   "id": "10bb3c0d84a55361"
  },
  {
   "cell_type": "code",
   "execution_count": 9,
   "outputs": [],
   "source": [
    "# Drop the 'truncated_id' column if it's no longer needed\n",
    "result_df.drop(columns=['match_id', 'truncated_id'], inplace=True)"
   ],
   "metadata": {
    "collapsed": false,
    "ExecuteTime": {
     "end_time": "2024-02-22T02:33:02.187787Z",
     "start_time": "2024-02-22T02:33:02.172534Z"
    }
   },
   "id": "ebd0220d17ae3db0"
  },
  {
   "cell_type": "code",
   "execution_count": 11,
   "outputs": [],
   "source": [
    "columns_rename_map = {\n",
    "    'D1B': 'population_density',\n",
    "    'D1C': 'employment_density',\n",
    "    'D5AR': 'accessibility_index',\n",
    "    'D2R_JOBPOP': 'regional_diversity',\n",
    "    'D2B_E5MIXA': '5-tier_employment_entropy',\n",
    "    'D2B_E8MIXA': '8-tier_employment_entropy',\n",
    "    'D2A_EPHHM': 'employment_household_entropy',\n",
    "    'D2C_TRIPEQ': 'trip_equilibrium_index',\n",
    "    'D1C5_RET': 'retail_employment_density',\n",
    "    'D1C5_IND': 'industrial_employment_density',\n",
    "    'D1C5_SVC': 'service_employment_density',\n",
    "    'D1C5_ENT': 'entertainment_employment_density',\n",
    "    'D3A': 'road_network_density',\n",
    "    'D3BPO3': 'pedestrian_intersection_density',\n",
    "    'D3B': 'street_intersection_density',\n",
    "    'D3BAO': 'auto_intersection_density',\n",
    "    'D3BMM3': 'multi-modal_intersection_density',\n",
    "    'D3BMM4': 'multi-modal_intersection_density(>4legs)',\n",
    "    'D3BPO4': 'pedestrian_intersection_density(>4legs)'\n",
    "}\n",
    "\n",
    "result_df = result_df.rename(columns=columns_rename_map)"
   ],
   "metadata": {
    "collapsed": false,
    "ExecuteTime": {
     "end_time": "2024-02-22T02:35:40.089277Z",
     "start_time": "2024-02-22T02:35:40.081216Z"
    }
   },
   "id": "46ff2057ba48a2fd"
  },
  {
   "cell_type": "code",
   "execution_count": 12,
   "outputs": [],
   "source": [
    "result_df.to_csv('Merged_Florida_ct.csv', index=False)"
   ],
   "metadata": {
    "collapsed": false,
    "ExecuteTime": {
     "end_time": "2024-02-22T02:35:41.351456Z",
     "start_time": "2024-02-22T02:35:40.975149Z"
    }
   },
   "id": "3ddd72c855b15062"
  }
 ],
 "metadata": {
  "kernelspec": {
   "display_name": "Python 3",
   "language": "python",
   "name": "python3"
  },
  "language_info": {
   "codemirror_mode": {
    "name": "ipython",
    "version": 2
   },
   "file_extension": ".py",
   "mimetype": "text/x-python",
   "name": "python",
   "nbconvert_exporter": "python",
   "pygments_lexer": "ipython2",
   "version": "2.7.6"
  }
 },
 "nbformat": 4,
 "nbformat_minor": 5
}
