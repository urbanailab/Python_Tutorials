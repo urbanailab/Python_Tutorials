{
 "cells": [
  {
   "cell_type": "code",
   "execution_count": 1,
   "outputs": [
    {
     "name": "stdout",
     "output_type": "stream",
     "text": [
      "Intel MKL WARNING: Support of Intel(R) Streaming SIMD Extensions 4.2 (Intel(R) SSE4.2) enabled only processors has been deprecated. Intel oneAPI Math Kernel Library 2025.0 will require Intel(R) Advanced Vector Extensions (Intel(R) AVX) instructions.\n",
      "Intel MKL WARNING: Support of Intel(R) Streaming SIMD Extensions 4.2 (Intel(R) SSE4.2) enabled only processors has been deprecated. Intel oneAPI Math Kernel Library 2025.0 will require Intel(R) Advanced Vector Extensions (Intel(R) AVX) instructions.\n"
     ]
    }
   ],
   "source": [
    "from scipy.stats import entropy"
   ],
   "metadata": {
    "collapsed": false,
    "ExecuteTime": {
     "end_time": "2024-02-22T02:06:00.359923Z",
     "start_time": "2024-02-22T02:05:58.083674Z"
    }
   },
   "id": "77f5df6edcb4788c"
  },
  {
   "cell_type": "code",
   "execution_count": 2,
   "outputs": [],
   "source": [
    "df = []  # Initialize an empty list; presumably, this should be a DataFrame instead."
   ],
   "metadata": {
    "collapsed": false,
    "ExecuteTime": {
     "end_time": "2024-02-22T02:06:00.366819Z",
     "start_time": "2024-02-22T02:06:00.360833Z"
    }
   },
   "id": "9e7d2154a3ae702f"
  },
  {
   "cell_type": "code",
   "execution_count": 3,
   "outputs": [],
   "source": [
    "# Function to calculate density for a given data column over a developed area column.\n",
    "def calculate_density(df, data_column, developed_area_column):\n",
    "    # Calculate density and store it in a new column 'density'\n",
    "    df['density'] = df[data_column] / df[developed_area_column]\n",
    "    return df"
   ],
   "metadata": {
    "collapsed": false,
    "ExecuteTime": {
     "end_time": "2024-02-22T02:06:03.283752Z",
     "start_time": "2024-02-22T02:06:03.266438Z"
    }
   },
   "id": "f80a68caf8030fe"
  },
  {
   "cell_type": "code",
   "execution_count": 4,
   "outputs": [],
   "source": [
    "# Function to retrieve indices of neighboring cells given a cell's index.\n",
    "def get_neighboring_cells(df, index):\n",
    "    # Extracts the current cell's row and column position\n",
    "    current_cell = df.loc[index]\n",
    "    current_row = current_cell['row']\n",
    "    current_column = current_cell['column']\n",
    "\n",
    "    # Defines relative positions of the 8 neighboring cells\n",
    "    neighbor_positions = [(-1, -1), (-1, 0), (-1, 1),\n",
    "                          (0, -1), (0, 1),\n",
    "                          (1, -1), (1, 0), (1, 1)]\n",
    "\n",
    "    neighbors = []\n",
    "    # Iterates through neighbor positions to find valid neighbors\n",
    "    for row_offset, col_offset in neighbor_positions:\n",
    "        neighbor_row = current_row + row_offset\n",
    "        neighbor_col = current_column + col_offset\n",
    "\n",
    "        # Checks if neighbor is within grid bounds\n",
    "        if (0 <= neighbor_row < df['row'].max()) and (0 <= neighbor_col < df['column'].max()):\n",
    "            # Finds index of the neighbor cell if it exists\n",
    "            neighbor_index = df[(df['row'] == neighbor_row) & (df['column'] == neighbor_col)].index\n",
    "            if not neighbor_index.empty:\n",
    "                neighbors.append(neighbor_index[0])\n",
    "\n",
    "    return neighbors"
   ],
   "metadata": {
    "collapsed": false,
    "ExecuteTime": {
     "end_time": "2024-02-22T02:06:08.816390Z",
     "start_time": "2024-02-22T02:06:08.811427Z"
    }
   },
   "id": "479f912ea04f7102"
  },
  {
   "cell_type": "code",
   "execution_count": 5,
   "outputs": [],
   "source": [
    "# Function to calculate dissimilarity index based on land use categories.\n",
    "def calculate_dissimilarity_index(df, land_use_columns):\n",
    "    developed_cells = df[land_use_columns]\n",
    "    K = len(developed_cells)  # Total number of developed cells\n",
    "    dissimilarity_sum = 0\n",
    "    # Iterates through each developed cell to calculate dissimilarity\n",
    "    for index, row in developed_cells.iterrows():\n",
    "        neighboring_indices = get_neighboring_cells(df, index)\n",
    "        # Dissimilarity calculation based on land use category differences\n",
    "        dissimilarity = sum([1/8 if df.loc[n_idx, 'land_use_category'] != row['land_use_category'] else 0\n",
    "                             for n_idx in neighboring_indices])\n",
    "        dissimilarity_sum += dissimilarity\n",
    "\n",
    "    # Calculates overall dissimilarity index\n",
    "    dissimilarity_index = dissimilarity_sum / K\n",
    "    return dissimilarity_index"
   ],
   "metadata": {
    "collapsed": false,
    "ExecuteTime": {
     "end_time": "2024-02-22T02:06:09.465675Z",
     "start_time": "2024-02-22T02:06:09.459861Z"
    }
   },
   "id": "7fbd3a63e4c3a668"
  },
  {
   "cell_type": "code",
   "execution_count": 6,
   "outputs": [],
   "source": [
    "# Function to calculate entropy for land use distribution.\n",
    "def calculate_entropy(df, land_use_columns):\n",
    "    # Calculates probabilities for each land use type and then entropy\n",
    "    probabilities = df[land_use_columns].div(df[land_use_columns].sum(axis=1), axis=0)\n",
    "    df['entropy'] = probabilities.apply(entropy, axis=1)\n",
    "    return df"
   ],
   "metadata": {
    "collapsed": false,
    "ExecuteTime": {
     "end_time": "2024-02-22T02:06:10.088398Z",
     "start_time": "2024-02-22T02:06:10.077297Z"
    }
   },
   "id": "76b79475fb14a560"
  },
  {
   "cell_type": "code",
   "execution_count": 7,
   "outputs": [],
   "source": [
    "# Function to calculate the proportion of parcels with vertical land use mixture.\n",
    "def calculate_vertical_mixture(df, land_use_intensity_columns):\n",
    "    # Counts unique land use categories per parcel and identifies mixed-use parcels\n",
    "    land_use_per_parcel = df.groupby('parcel_id')['land_use_category'].nunique()\n",
    "    mixed_use_parcels = land_use_per_parcel[land_use_per_parcel > 1]\n",
    "    df['vertical_mixture_proportion'] = len(mixed_use_parcels) / len(land_use_per_parcel)\n",
    "    return df"
   ],
   "metadata": {
    "collapsed": false,
    "ExecuteTime": {
     "end_time": "2024-02-22T02:06:10.615614Z",
     "start_time": "2024-02-22T02:06:10.609611Z"
    }
   },
   "id": "27def3ed817e177"
  },
  {
   "cell_type": "code",
   "execution_count": 8,
   "outputs": [],
   "source": [
    "# Function to calculate commercial intensity as a proportion of the developed area.\n",
    "def calculate_intensity(df, commercial_land_use_columns, developed_area_column):\n",
    "    df['commercial_intensity'] = df[commercial_land_use_columns].sum(axis=1) / df[developed_area_column]\n",
    "    return df"
   ],
   "metadata": {
    "collapsed": false,
    "ExecuteTime": {
     "end_time": "2024-02-22T02:06:11.099984Z",
     "start_time": "2024-02-22T02:06:11.091959Z"
    }
   },
   "id": "7ef4b84c21df1381"
  },
  {
   "cell_type": "code",
   "execution_count": 9,
   "outputs": [],
   "source": [
    "# Function to calculate proximity to commercial-retail uses as a proportion of the developed area.\n",
    "def calculate_proximity(df, developed_area_column, proximity_columns):\n",
    "    df['proximity_to_commercial'] = df[proximity_columns].sum(axis=1) / df[developed_area_column]\n",
    "    return df"
   ],
   "metadata": {
    "collapsed": false,
    "ExecuteTime": {
     "end_time": "2024-02-22T02:06:11.465857Z",
     "start_time": "2024-02-22T02:06:11.459144Z"
    }
   },
   "id": "a2f0729653686ad8"
  },
  {
   "cell_type": "code",
   "execution_count": 10,
   "outputs": [],
   "source": [
    "# Function to calculate design proportions for various street patterns.\n",
    "def calculate_design_proportion(df, street_pattern_columns):\n",
    "    df['design_proportion'] = df[street_pattern_columns].apply(lambda x: x / x.sum(), axis=1)\n",
    "    return df"
   ],
   "metadata": {
    "collapsed": false,
    "ExecuteTime": {
     "end_time": "2024-02-22T02:06:11.787290Z",
     "start_time": "2024-02-22T02:06:11.779154Z"
    }
   },
   "id": "860d531e54057e0a"
  },
  {
   "cell_type": "code",
   "execution_count": 11,
   "outputs": [],
   "source": [
    "# Function to calculate design acre rates based on developed acres.\n",
    "def calculate_design_acrerates(df, street_pattern_columns, developed_acres_column):\n",
    "    df['design_acrerates'] = df[street_pattern_columns].sum(axis=1) / df[developed_acres_column]\n",
    "    return df"
   ],
   "metadata": {
    "collapsed": false,
    "ExecuteTime": {
     "end_time": "2024-02-22T02:06:12.362946Z",
     "start_time": "2024-02-22T02:06:12.358220Z"
    }
   },
   "id": "791547ab1d158608"
  },
  {
   "cell_type": "code",
   "execution_count": 12,
   "outputs": [],
   "source": [
    "# Function to calculate the mean of specified limits.\n",
    "def calculate_design_mean(df, limits_columns):\n",
    "    df['average'] = df"
   ],
   "metadata": {
    "collapsed": false,
    "ExecuteTime": {
     "end_time": "2024-02-22T02:06:12.802060Z",
     "start_time": "2024-02-22T02:06:12.776793Z"
    }
   },
   "id": "e966e1a63c62f997"
  }
 ],
 "metadata": {
  "kernelspec": {
   "display_name": "Python 3",
   "language": "python",
   "name": "python3"
  },
  "language_info": {
   "codemirror_mode": {
    "name": "ipython",
    "version": 2
   },
   "file_extension": ".py",
   "mimetype": "text/x-python",
   "name": "python",
   "nbconvert_exporter": "python",
   "pygments_lexer": "ipython2",
   "version": "2.7.6"
  }
 },
 "nbformat": 4,
 "nbformat_minor": 5
}
