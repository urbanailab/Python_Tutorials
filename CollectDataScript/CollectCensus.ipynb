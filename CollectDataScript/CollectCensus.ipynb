{
 "nbformat": 4,
 "nbformat_minor": 0,
 "metadata": {
  "colab": {
   "provenance": [],
   "authorship_tag": "ABX9TyOd7kKblTZHn+LdvrHBZeDw"
  },
  "kernelspec": {
   "name": "python3",
   "language": "python",
   "display_name": "Python 3 (ipykernel)"
  },
  "language_info": {
   "name": "python"
  }
 },
 "cells": [
  {
   "cell_type": "markdown",
   "source": [
    "# Collect census tract information from ACS\n",
    "\n",
    "Using 2019 five-year ACS data as an example. The script collects the ACS data to prepare for the meta-learning practice in the future.\n",
    "\n",
    "Census documentation: https://docs.google.com/spreadsheets/d/1I3FJPtLnG0cgy4wI5KlzwcU-qvmW2b9S/edit?usp=sharing&ouid=115425849068992643587&rtpof=true&sd=true\n"
   ],
   "metadata": {
    "id": "nlDCI9NCjQCX"
   }
  },
  {
   "cell_type": "code",
   "source": [
    "# install the census data package\n",
    "!pip install censusdata"
   ],
   "metadata": {
    "colab": {
     "base_uri": "https://localhost:8080/"
    },
    "id": "k8DmV67ajW9U",
    "executionInfo": {
     "status": "ok",
     "timestamp": 1694457804976,
     "user_tz": 240,
     "elapsed": 25506,
     "user": {
      "displayName": "Shenhao Wang",
      "userId": "03503527554188089407"
     }
    },
    "outputId": "1e9f43cf-b666-424f-86bd-a1a8667c7c73",
    "ExecuteTime": {
     "end_time": "2023-12-07T15:55:53.684729Z",
     "start_time": "2023-12-07T15:55:44.649126Z"
    }
   },
   "execution_count": 1,
   "outputs": [
    {
     "name": "stdout",
     "output_type": "stream",
     "text": [
      "Collecting censusdata\r\n",
      "  Using cached CensusData-1.15.post1.tar.gz (26.6 MB)\r\n",
      "  Preparing metadata (setup.py) ... \u001B[?25ldone\r\n",
      "\u001B[?25hRequirement already satisfied: pandas in /Users/autumnstar/opt/anaconda3/envs/Python_Tutorials/lib/python3.11/site-packages (from censusdata) (2.1.3)\r\n",
      "Requirement already satisfied: requests in /Users/autumnstar/opt/anaconda3/envs/Python_Tutorials/lib/python3.11/site-packages (from censusdata) (2.31.0)\r\n",
      "Requirement already satisfied: numpy<2,>=1.23.2 in /Users/autumnstar/opt/anaconda3/envs/Python_Tutorials/lib/python3.11/site-packages (from pandas->censusdata) (1.26.0)\r\n",
      "Requirement already satisfied: python-dateutil>=2.8.2 in /Users/autumnstar/opt/anaconda3/envs/Python_Tutorials/lib/python3.11/site-packages (from pandas->censusdata) (2.8.2)\r\n",
      "Requirement already satisfied: pytz>=2020.1 in /Users/autumnstar/opt/anaconda3/envs/Python_Tutorials/lib/python3.11/site-packages (from pandas->censusdata) (2023.3.post1)\r\n",
      "Requirement already satisfied: tzdata>=2022.1 in /Users/autumnstar/opt/anaconda3/envs/Python_Tutorials/lib/python3.11/site-packages (from pandas->censusdata) (2023.3)\r\n",
      "Requirement already satisfied: charset-normalizer<4,>=2 in /Users/autumnstar/opt/anaconda3/envs/Python_Tutorials/lib/python3.11/site-packages (from requests->censusdata) (2.0.4)\r\n",
      "Requirement already satisfied: idna<4,>=2.5 in /Users/autumnstar/opt/anaconda3/envs/Python_Tutorials/lib/python3.11/site-packages (from requests->censusdata) (3.4)\r\n",
      "Requirement already satisfied: urllib3<3,>=1.21.1 in /Users/autumnstar/opt/anaconda3/envs/Python_Tutorials/lib/python3.11/site-packages (from requests->censusdata) (1.26.18)\r\n",
      "Requirement already satisfied: certifi>=2017.4.17 in /Users/autumnstar/opt/anaconda3/envs/Python_Tutorials/lib/python3.11/site-packages (from requests->censusdata) (2023.11.17)\r\n",
      "Requirement already satisfied: six>=1.5 in /Users/autumnstar/opt/anaconda3/envs/Python_Tutorials/lib/python3.11/site-packages (from python-dateutil>=2.8.2->pandas->censusdata) (1.16.0)\r\n",
      "Building wheels for collected packages: censusdata\r\n",
      "  Building wheel for censusdata (setup.py) ... \u001B[?25ldone\r\n",
      "\u001B[?25h  Created wheel for censusdata: filename=CensusData-1.15.post1-py3-none-any.whl size=28205746 sha256=a4078cb589b4c980fa44baaf94371443458d92b03ab9857e3db80efae273ba26\r\n",
      "  Stored in directory: /Users/autumnstar/Library/Caches/pip/wheels/7c/5b/55/834c5472b44ab5688be29f6009667601fbc13f38cff9dd36e6\r\n",
      "Successfully built censusdata\r\n",
      "Installing collected packages: censusdata\r\n",
      "Successfully installed censusdata-1.15.post1\r\n"
     ]
    }
   ]
  },
  {
   "cell_type": "code",
   "execution_count": 2,
   "metadata": {
    "id": "GiPqpciqjAAY",
    "ExecuteTime": {
     "end_time": "2023-12-07T15:55:58.210610Z",
     "start_time": "2023-12-07T15:55:56.965346Z"
    }
   },
   "outputs": [
    {
     "name": "stdout",
     "output_type": "stream",
     "text": [
      "Intel MKL WARNING: Support of Intel(R) Streaming SIMD Extensions 4.2 (Intel(R) SSE4.2) enabled only processors has been deprecated. Intel oneAPI Math Kernel Library 2025.0 will require Intel(R) Advanced Vector Extensions (Intel(R) AVX) instructions.\n",
      "Intel MKL WARNING: Support of Intel(R) Streaming SIMD Extensions 4.2 (Intel(R) SSE4.2) enabled only processors has been deprecated. Intel oneAPI Math Kernel Library 2025.0 will require Intel(R) Advanced Vector Extensions (Intel(R) AVX) instructions.\n"
     ]
    }
   ],
   "source": [
    "# install modules\n",
    "import pandas as pd\n",
    "import numpy as np\n",
    "import matplotlib.pyplot as plt\n",
    "import censusdata # to download ACS data\n",
    "import copy\n",
    "import pickle\n",
    "import time"
   ]
  },
  {
   "cell_type": "markdown",
   "source": [
    "# Collecting data\n",
    "\n",
    "It is quite challenging to directly download the census data because you need to read through their thick documentation. However, other researchers have overcome such challenges by integrating the data collection process into a package. Censusdata is such an example."
   ],
   "metadata": {
    "id": "ysajg0fIjth3"
   }
  },
  {
   "cell_type": "code",
   "source": [
    "# The censusdata package can support the data collection only up to 2019.\n",
    "# Check references/ACS_2019_SF_5YR_Appendices.xlsx to understand the meaning of the variables.\n",
    "# Then use the following line to see the details.\n",
    "# Based on the intrests of research, the var_list and var_names can be updated. But keep them in order.\n",
    "censusdata.printtable(censusdata.censustable('acs5', 2019, 'B01002')) # acs5: five year average."
   ],
   "metadata": {
    "colab": {
     "base_uri": "https://localhost:8080/"
    },
    "id": "cQkqtFn3jUX3",
    "executionInfo": {
     "status": "ok",
     "timestamp": 1694457925097,
     "user_tz": 240,
     "elapsed": 368,
     "user": {
      "displayName": "Shenhao Wang",
      "userId": "03503527554188089407"
     }
    },
    "outputId": "aa40a5aa-c161-4eaa-d7de-59c475f80eb2",
    "ExecuteTime": {
     "end_time": "2023-12-07T15:56:03.708783Z",
     "start_time": "2023-12-07T15:56:03.617422Z"
    }
   },
   "execution_count": 3,
   "outputs": [
    {
     "name": "stdout",
     "output_type": "stream",
     "text": [
      "Variable     | Table                          | Label                                                    | Type \n",
      "-------------------------------------------------------------------------------------------------------------------\n",
      "B01002_001E  | MEDIAN AGE BY SEX              | !! !! Estimate Median age -- Total:                      | float\n",
      "B01002_002E  | MEDIAN AGE BY SEX              | !! !! Estimate Median age -- Male                        | float\n",
      "B01002_003E  | MEDIAN AGE BY SEX              | !! !! Estimate Median age -- Female                      | float\n",
      "-------------------------------------------------------------------------------------------------------------------\n"
     ]
    }
   ]
  },
  {
   "cell_type": "code",
   "source": [
    "# define variable list\n",
    "var_list = [\n",
    "# population\n",
    "            'B01003_001E',\n",
    "            'B01001_001E', 'B01001_002E', 'B01001_026E',\n",
    "            'B01002_001E',\n",
    "# households\n",
    "            'B11001_001E',\n",
    "# race\n",
    "            'B02001_001E', 'B02001_002E', 'B02001_003E', 'B02001_004E', 'B02001_005E',\n",
    "# income info (a lot of NAs)\n",
    "            'B06010_001E', 'B06010_002E', 'B06010_003E', 'B06010_004E', 'B06010_005E', 'B06010_006E', 'B06010_007E', 'B06010_008E', 'B06010_009E', 'B06010_010E', 'B06010_011E',\n",
    "            'B06011_001E',\n",
    "# travel\n",
    "            'B08301_001E', 'B08301_002E', 'B08301_010E', 'B08301_016E', 'B08301_018E', 'B08301_019E', 'B08301_021E',\n",
    "# education\n",
    "            'B15001_001E',\n",
    "            'B15001_017E', 'B15001_018E', 'B15001_025E', 'B15001_026E', 'B15001_033E', 'B15001_034E', 'B15001_041E', 'B15001_042E',\n",
    "            'B15001_058E', 'B15001_059E', 'B15001_066E', 'B15001_067E', 'B15001_074E', 'B15001_075E', 'B15001_082E', 'B15001_083E',\n",
    "            'B15003_001E', 'B15003_022E', 'B15003_023E', 'B15003_025E',\n",
    "# income info (more complete)\n",
    "            'B19013_001E', 'B19301_001E',\n",
    "# employement\n",
    "            'B23025_001E', 'B23025_002E', 'B23025_007E',\n",
    "# properties\n",
    "            'B25002_001E', 'B25002_002E', 'B25002_003E',\n",
    "            'B25064_001E',\n",
    "            'B25075_001E', 'B25077_001E',\n",
    "# imputation\n",
    "            'B99082_001E'\n",
    "           ]\n"
   ],
   "metadata": {
    "id": "IdVyEh2JkAs2",
    "ExecuteTime": {
     "end_time": "2023-12-07T15:56:04.389567Z",
     "start_time": "2023-12-07T15:56:04.378158Z"
    }
   },
   "execution_count": 4,
   "outputs": []
  },
  {
   "cell_type": "code",
   "source": [
    "var_names = [\n",
    "# population\n",
    "             'pop_total',\n",
    "             'sex_total', 'sex_male', 'sex_female',\n",
    "             'age_median',\n",
    "# hosueholds\n",
    "             'households',\n",
    "# race\n",
    "             'race_total', 'race_white', 'race_black', 'race_native', 'race_asian',\n",
    "# income info (a lot of NAs)\n",
    "             'inc_total_pop', 'inc_no_pop', 'inc_with_pop', 'inc_pop_10k', 'inc_pop_1k_15k', 'inc_pop_15k_25k', 'inc_pop_25k_35k', 'inc_pop_35k_50k', 'inc_pop_50k_65k', 'inc_pop_65k_75k', 'inc_pop_75k',\n",
    "             'inc_median_ind',\n",
    "# travel\n",
    "             'travel_total_to_work', 'travel_driving_to_work', 'travel_pt_to_work', 'travel_taxi_to_work', 'travel_cycle_to_work', 'travel_walk_to_work', 'travel_work_from_home',\n",
    "# education\n",
    "             'edu_total_pop',\n",
    "             'bachelor_male_25_34', 'master_phd_male_25_34', 'bachelor_male_35_44', 'master_phd_male_35_44', 'bachelor_male_45_64', 'master_phd_male_45_64',  'bachelor_male_65_over', 'master_phd_male_65_over',\n",
    "             'bachelor_female_25_34', 'master_phd_female_25_34', 'bachelor_female_35_44', 'master_phd_female_35_44', 'bachelor_female_45_64', 'master_phd_female_45_64',  'bachelor_female_65_over', 'master_phd_female_65_over',\n",
    "             'edu_total', 'edu_bachelor', 'edu_master', 'edu_phd',\n",
    "# income info (more complete)\n",
    "             'inc_median_household', 'inc_per_capita',\n",
    "# employement\n",
    "            'employment_total_labor', 'employment_employed', 'employment_unemployed',\n",
    "# properties\n",
    "             'housing_units_total', 'housing_units_occupied', 'housing_units_vacant',\n",
    "             'rent_median',\n",
    "             'property_value_total', 'property_value_median',\n",
    "# imputation\n",
    "            'vehicle_total_imputed'\n",
    "            ]"
   ],
   "metadata": {
    "id": "ghBVR8T_k4Xe",
    "ExecuteTime": {
     "end_time": "2023-12-07T15:56:05.006915Z",
     "start_time": "2023-12-07T15:56:04.995729Z"
    }
   },
   "execution_count": 5,
   "outputs": []
  },
  {
   "cell_type": "code",
   "source": [
    "# US mainland states and FIPS id.\n",
    "# Now I see that the FIPS order follows the alphabet\n",
    "# Check: https://www.usgs.gov/faqs/what-constitutes-united-states-what-are-official-definitions\n",
    "# Check: https://www.mercercountypa.gov/dps/state_fips_code_listing.htm\n",
    "\n",
    "states_and_fips = {\n",
    "       '12':'FL'\n",
    "}\n",
    "\n",
    "# print\n",
    "print(len(states_and_fips.keys()))"
   ],
   "metadata": {
    "colab": {
     "base_uri": "https://localhost:8080/"
    },
    "id": "0m4xDzU3k9Af",
    "executionInfo": {
     "status": "ok",
     "timestamp": 1694458255748,
     "user_tz": 240,
     "elapsed": 171,
     "user": {
      "displayName": "Shenhao Wang",
      "userId": "03503527554188089407"
     }
    },
    "outputId": "ffab7899-88aa-48f1-8f16-b9831983543b",
    "ExecuteTime": {
     "end_time": "2023-12-07T15:56:05.463345Z",
     "start_time": "2023-12-07T15:56:05.456214Z"
    }
   },
   "execution_count": 6,
   "outputs": [
    {
     "name": "stdout",
     "output_type": "stream",
     "text": [
      "1\n"
     ]
    }
   ]
  },
  {
   "cell_type": "code",
   "source": [
    "# download Florida data\n",
    "starting_time = time.time()\n",
    "us_state_ct = {}\n",
    "\n",
    "for key_ in states_and_fips.keys():\n",
    "    print(key_)\n",
    "    state_ct = censusdata.download('acs5', 2019, censusdata.censusgeo([('state', key_), ('tract', '*')]), var_list)\n",
    "    us_state_ct[key_] = state_ct\n",
    "\n",
    "# check the time\n",
    "end_time = time.time()\n",
    "processing_time = end_time-starting_time\n",
    "print(processing_time, ' seconds') # about 6 seconds."
   ],
   "metadata": {
    "colab": {
     "base_uri": "https://localhost:8080/"
    },
    "id": "_HSh_SARlRdw",
    "executionInfo": {
     "status": "ok",
     "timestamp": 1694458289723,
     "user_tz": 240,
     "elapsed": 6365,
     "user": {
      "displayName": "Shenhao Wang",
      "userId": "03503527554188089407"
     }
    },
    "outputId": "95b77acc-4235-43a1-a764-78e22c47cee3",
    "ExecuteTime": {
     "end_time": "2023-12-07T15:56:13.601554Z",
     "start_time": "2023-12-07T15:56:06.131749Z"
    }
   },
   "execution_count": 7,
   "outputs": [
    {
     "name": "stdout",
     "output_type": "stream",
     "text": [
      "12\n",
      "7.4676690101623535  seconds\n"
     ]
    }
   ]
  },
  {
   "cell_type": "code",
   "source": [
    "# check the downloaded data.\n",
    "us_state_ct['12']"
   ],
   "metadata": {
    "colab": {
     "base_uri": "https://localhost:8080/",
     "height": 1000
    },
    "id": "uyRTICRVlYPc",
    "executionInfo": {
     "status": "ok",
     "timestamp": 1694458309224,
     "user_tz": 240,
     "elapsed": 180,
     "user": {
      "displayName": "Shenhao Wang",
      "userId": "03503527554188089407"
     }
    },
    "outputId": "caccdf5b-f75c-470c-ed1a-f857cbc60e74",
    "ExecuteTime": {
     "end_time": "2023-12-07T15:56:13.617997Z",
     "start_time": "2023-12-07T15:56:13.605028Z"
    }
   },
   "execution_count": 8,
   "outputs": [
    {
     "data": {
      "text/plain": "                                                    B01003_001E  B01001_001E  \\\nCensus Tract 2.11, Miami-Dade County, Florida: ...         2812         2812   \nCensus Tract 2.12, Miami-Dade County, Florida: ...         4709         4709   \nCensus Tract 2.13, Miami-Dade County, Florida: ...         5005         5005   \nCensus Tract 2.14, Miami-Dade County, Florida: ...         6754         6754   \nCensus Tract 1.28, Miami-Dade County, Florida: ...         3021         3021   \n...                                                         ...          ...   \nCensus Tract 312, Clay County, Florida: Summary...        15742        15742   \nCensus Tract 308.01, Clay County, Florida: Summ...         5723         5723   \nCensus Tract 309.02, Clay County, Florida: Summ...        10342        10342   \nCensus Tract 303.01, Clay County, Florida: Summ...         8960         8960   \nCensus Tract 314, Clay County, Florida: Summary...         5083         5083   \n\n                                                    B01001_002E  B01001_026E  \\\nCensus Tract 2.11, Miami-Dade County, Florida: ...         1383         1429   \nCensus Tract 2.12, Miami-Dade County, Florida: ...         2272         2437   \nCensus Tract 2.13, Miami-Dade County, Florida: ...         2444         2561   \nCensus Tract 2.14, Miami-Dade County, Florida: ...         2934         3820   \nCensus Tract 1.28, Miami-Dade County, Florida: ...         1695         1326   \n...                                                         ...          ...   \nCensus Tract 312, Clay County, Florida: Summary...         7957         7785   \nCensus Tract 308.01, Clay County, Florida: Summ...         2914         2809   \nCensus Tract 309.02, Clay County, Florida: Summ...         4657         5685   \nCensus Tract 303.01, Clay County, Florida: Summ...         4166         4794   \nCensus Tract 314, Clay County, Florida: Summary...         2573         2510   \n\n                                                    B01002_001E  B11001_001E  \\\nCensus Tract 2.11, Miami-Dade County, Florida: ...         39.4          931   \nCensus Tract 2.12, Miami-Dade County, Florida: ...         34.2         1668   \nCensus Tract 2.13, Miami-Dade County, Florida: ...         34.1         1379   \nCensus Tract 2.14, Miami-Dade County, Florida: ...         31.3         2238   \nCensus Tract 1.28, Miami-Dade County, Florida: ...         44.1         1364   \n...                                                         ...          ...   \nCensus Tract 312, Clay County, Florida: Summary...         41.0         5517   \nCensus Tract 308.01, Clay County, Florida: Summ...         43.0         2001   \nCensus Tract 309.02, Clay County, Florida: Summ...         37.6         3746   \nCensus Tract 303.01, Clay County, Florida: Summ...         37.2         3324   \nCensus Tract 314, Clay County, Florida: Summary...         39.2         1755   \n\n                                                    B02001_001E  B02001_002E  \\\nCensus Tract 2.11, Miami-Dade County, Florida: ...         2812         2086   \nCensus Tract 2.12, Miami-Dade County, Florida: ...         4709         2382   \nCensus Tract 2.13, Miami-Dade County, Florida: ...         5005         2334   \nCensus Tract 2.14, Miami-Dade County, Florida: ...         6754         4052   \nCensus Tract 1.28, Miami-Dade County, Florida: ...         3021         2861   \n...                                                         ...          ...   \nCensus Tract 312, Clay County, Florida: Summary...        15742        13894   \nCensus Tract 308.01, Clay County, Florida: Summ...         5723         4664   \nCensus Tract 309.02, Clay County, Florida: Summ...        10342         7956   \nCensus Tract 303.01, Clay County, Florida: Summ...         8960         6286   \nCensus Tract 314, Clay County, Florida: Summary...         5083         3753   \n\n                                                    B02001_003E  B02001_004E  \\\nCensus Tract 2.11, Miami-Dade County, Florida: ...          517            0   \nCensus Tract 2.12, Miami-Dade County, Florida: ...         1953            0   \nCensus Tract 2.13, Miami-Dade County, Florida: ...         2206          224   \nCensus Tract 2.14, Miami-Dade County, Florida: ...         1671          326   \nCensus Tract 1.28, Miami-Dade County, Florida: ...          121            0   \n...                                                         ...          ...   \nCensus Tract 312, Clay County, Florida: Summary...         1128           64   \nCensus Tract 308.01, Clay County, Florida: Summ...          482            0   \nCensus Tract 309.02, Clay County, Florida: Summ...         1351           13   \nCensus Tract 303.01, Clay County, Florida: Summ...         1831            0   \nCensus Tract 314, Clay County, Florida: Summary...          987            0   \n\n                                                    ...  B23025_001E  \\\nCensus Tract 2.11, Miami-Dade County, Florida: ...  ...         2327   \nCensus Tract 2.12, Miami-Dade County, Florida: ...  ...         3754   \nCensus Tract 2.13, Miami-Dade County, Florida: ...  ...         3760   \nCensus Tract 2.14, Miami-Dade County, Florida: ...  ...         4802   \nCensus Tract 1.28, Miami-Dade County, Florida: ...  ...         2678   \n...                                                 ...          ...   \nCensus Tract 312, Clay County, Florida: Summary...  ...        12250   \nCensus Tract 308.01, Clay County, Florida: Summ...  ...         4603   \nCensus Tract 309.02, Clay County, Florida: Summ...  ...         8149   \nCensus Tract 303.01, Clay County, Florida: Summ...  ...         7054   \nCensus Tract 314, Clay County, Florida: Summary...  ...         4093   \n\n                                                    B23025_002E  B23025_007E  \\\nCensus Tract 2.11, Miami-Dade County, Florida: ...         1660          667   \nCensus Tract 2.12, Miami-Dade County, Florida: ...         2559         1195   \nCensus Tract 2.13, Miami-Dade County, Florida: ...         2381         1379   \nCensus Tract 2.14, Miami-Dade County, Florida: ...         3292         1510   \nCensus Tract 1.28, Miami-Dade County, Florida: ...         2093          585   \n...                                                         ...          ...   \nCensus Tract 312, Clay County, Florida: Summary...         7331         4919   \nCensus Tract 308.01, Clay County, Florida: Summ...         2711         1892   \nCensus Tract 309.02, Clay County, Florida: Summ...         5270         2879   \nCensus Tract 303.01, Clay County, Florida: Summ...         4490         2564   \nCensus Tract 314, Clay County, Florida: Summary...         2080         2013   \n\n                                                    B25002_001E  B25002_002E  \\\nCensus Tract 2.11, Miami-Dade County, Florida: ...         1103          931   \nCensus Tract 2.12, Miami-Dade County, Florida: ...         1969         1668   \nCensus Tract 2.13, Miami-Dade County, Florida: ...         1646         1379   \nCensus Tract 2.14, Miami-Dade County, Florida: ...         2725         2238   \nCensus Tract 1.28, Miami-Dade County, Florida: ...         2054         1364   \n...                                                         ...          ...   \nCensus Tract 312, Clay County, Florida: Summary...         6124         5517   \nCensus Tract 308.01, Clay County, Florida: Summ...         2084         2001   \nCensus Tract 309.02, Clay County, Florida: Summ...         3907         3746   \nCensus Tract 303.01, Clay County, Florida: Summ...         3383         3324   \nCensus Tract 314, Clay County, Florida: Summary...         2016         1755   \n\n                                                    B25002_003E  B25064_001E  \\\nCensus Tract 2.11, Miami-Dade County, Florida: ...          172         1592   \nCensus Tract 2.12, Miami-Dade County, Florida: ...          301         1109   \nCensus Tract 2.13, Miami-Dade County, Florida: ...          267         1291   \nCensus Tract 2.14, Miami-Dade County, Florida: ...          487         1135   \nCensus Tract 1.28, Miami-Dade County, Florida: ...          690         1349   \n...                                                         ...          ...   \nCensus Tract 312, Clay County, Florida: Summary...          607         1346   \nCensus Tract 308.01, Clay County, Florida: Summ...           83         1313   \nCensus Tract 309.02, Clay County, Florida: Summ...          161         1105   \nCensus Tract 303.01, Clay County, Florida: Summ...           59         1061   \nCensus Tract 314, Clay County, Florida: Summary...          261          899   \n\n                                                    B25075_001E  B25077_001E  \\\nCensus Tract 2.11, Miami-Dade County, Florida: ...          562       240400   \nCensus Tract 2.12, Miami-Dade County, Florida: ...          295       179900   \nCensus Tract 2.13, Miami-Dade County, Florida: ...          685       254900   \nCensus Tract 2.14, Miami-Dade County, Florida: ...         1029       147800   \nCensus Tract 1.28, Miami-Dade County, Florida: ...          638       205900   \n...                                                         ...          ...   \nCensus Tract 312, Clay County, Florida: Summary...         4153       206600   \nCensus Tract 308.01, Clay County, Florida: Summ...         1743       211200   \nCensus Tract 309.02, Clay County, Florida: Summ...         2565       141700   \nCensus Tract 303.01, Clay County, Florida: Summ...         1948       169800   \nCensus Tract 314, Clay County, Florida: Summary...         1145       114400   \n\n                                                    B99082_001E  \nCensus Tract 2.11, Miami-Dade County, Florida: ...         1485  \nCensus Tract 2.12, Miami-Dade County, Florida: ...         2167  \nCensus Tract 2.13, Miami-Dade County, Florida: ...         2257  \nCensus Tract 2.14, Miami-Dade County, Florida: ...         3207  \nCensus Tract 1.28, Miami-Dade County, Florida: ...         1991  \n...                                                         ...  \nCensus Tract 312, Clay County, Florida: Summary...         6719  \nCensus Tract 308.01, Clay County, Florida: Summ...         2522  \nCensus Tract 309.02, Clay County, Florida: Summ...         4992  \nCensus Tract 303.01, Clay County, Florida: Summ...         4288  \nCensus Tract 314, Clay County, Florida: Summary...         1979  \n\n[4245 rows x 63 columns]",
      "text/html": "<div>\n<style scoped>\n    .dataframe tbody tr th:only-of-type {\n        vertical-align: middle;\n    }\n\n    .dataframe tbody tr th {\n        vertical-align: top;\n    }\n\n    .dataframe thead th {\n        text-align: right;\n    }\n</style>\n<table border=\"1\" class=\"dataframe\">\n  <thead>\n    <tr style=\"text-align: right;\">\n      <th></th>\n      <th>B01003_001E</th>\n      <th>B01001_001E</th>\n      <th>B01001_002E</th>\n      <th>B01001_026E</th>\n      <th>B01002_001E</th>\n      <th>B11001_001E</th>\n      <th>B02001_001E</th>\n      <th>B02001_002E</th>\n      <th>B02001_003E</th>\n      <th>B02001_004E</th>\n      <th>...</th>\n      <th>B23025_001E</th>\n      <th>B23025_002E</th>\n      <th>B23025_007E</th>\n      <th>B25002_001E</th>\n      <th>B25002_002E</th>\n      <th>B25002_003E</th>\n      <th>B25064_001E</th>\n      <th>B25075_001E</th>\n      <th>B25077_001E</th>\n      <th>B99082_001E</th>\n    </tr>\n  </thead>\n  <tbody>\n    <tr>\n      <th>Census Tract 2.11, Miami-Dade County, Florida: Summary level: 140, state:12&gt; county:086&gt; tract:000211</th>\n      <td>2812</td>\n      <td>2812</td>\n      <td>1383</td>\n      <td>1429</td>\n      <td>39.4</td>\n      <td>931</td>\n      <td>2812</td>\n      <td>2086</td>\n      <td>517</td>\n      <td>0</td>\n      <td>...</td>\n      <td>2327</td>\n      <td>1660</td>\n      <td>667</td>\n      <td>1103</td>\n      <td>931</td>\n      <td>172</td>\n      <td>1592</td>\n      <td>562</td>\n      <td>240400</td>\n      <td>1485</td>\n    </tr>\n    <tr>\n      <th>Census Tract 2.12, Miami-Dade County, Florida: Summary level: 140, state:12&gt; county:086&gt; tract:000212</th>\n      <td>4709</td>\n      <td>4709</td>\n      <td>2272</td>\n      <td>2437</td>\n      <td>34.2</td>\n      <td>1668</td>\n      <td>4709</td>\n      <td>2382</td>\n      <td>1953</td>\n      <td>0</td>\n      <td>...</td>\n      <td>3754</td>\n      <td>2559</td>\n      <td>1195</td>\n      <td>1969</td>\n      <td>1668</td>\n      <td>301</td>\n      <td>1109</td>\n      <td>295</td>\n      <td>179900</td>\n      <td>2167</td>\n    </tr>\n    <tr>\n      <th>Census Tract 2.13, Miami-Dade County, Florida: Summary level: 140, state:12&gt; county:086&gt; tract:000213</th>\n      <td>5005</td>\n      <td>5005</td>\n      <td>2444</td>\n      <td>2561</td>\n      <td>34.1</td>\n      <td>1379</td>\n      <td>5005</td>\n      <td>2334</td>\n      <td>2206</td>\n      <td>224</td>\n      <td>...</td>\n      <td>3760</td>\n      <td>2381</td>\n      <td>1379</td>\n      <td>1646</td>\n      <td>1379</td>\n      <td>267</td>\n      <td>1291</td>\n      <td>685</td>\n      <td>254900</td>\n      <td>2257</td>\n    </tr>\n    <tr>\n      <th>Census Tract 2.14, Miami-Dade County, Florida: Summary level: 140, state:12&gt; county:086&gt; tract:000214</th>\n      <td>6754</td>\n      <td>6754</td>\n      <td>2934</td>\n      <td>3820</td>\n      <td>31.3</td>\n      <td>2238</td>\n      <td>6754</td>\n      <td>4052</td>\n      <td>1671</td>\n      <td>326</td>\n      <td>...</td>\n      <td>4802</td>\n      <td>3292</td>\n      <td>1510</td>\n      <td>2725</td>\n      <td>2238</td>\n      <td>487</td>\n      <td>1135</td>\n      <td>1029</td>\n      <td>147800</td>\n      <td>3207</td>\n    </tr>\n    <tr>\n      <th>Census Tract 1.28, Miami-Dade County, Florida: Summary level: 140, state:12&gt; county:086&gt; tract:000128</th>\n      <td>3021</td>\n      <td>3021</td>\n      <td>1695</td>\n      <td>1326</td>\n      <td>44.1</td>\n      <td>1364</td>\n      <td>3021</td>\n      <td>2861</td>\n      <td>121</td>\n      <td>0</td>\n      <td>...</td>\n      <td>2678</td>\n      <td>2093</td>\n      <td>585</td>\n      <td>2054</td>\n      <td>1364</td>\n      <td>690</td>\n      <td>1349</td>\n      <td>638</td>\n      <td>205900</td>\n      <td>1991</td>\n    </tr>\n    <tr>\n      <th>...</th>\n      <td>...</td>\n      <td>...</td>\n      <td>...</td>\n      <td>...</td>\n      <td>...</td>\n      <td>...</td>\n      <td>...</td>\n      <td>...</td>\n      <td>...</td>\n      <td>...</td>\n      <td>...</td>\n      <td>...</td>\n      <td>...</td>\n      <td>...</td>\n      <td>...</td>\n      <td>...</td>\n      <td>...</td>\n      <td>...</td>\n      <td>...</td>\n      <td>...</td>\n      <td>...</td>\n    </tr>\n    <tr>\n      <th>Census Tract 312, Clay County, Florida: Summary level: 140, state:12&gt; county:019&gt; tract:031200</th>\n      <td>15742</td>\n      <td>15742</td>\n      <td>7957</td>\n      <td>7785</td>\n      <td>41.0</td>\n      <td>5517</td>\n      <td>15742</td>\n      <td>13894</td>\n      <td>1128</td>\n      <td>64</td>\n      <td>...</td>\n      <td>12250</td>\n      <td>7331</td>\n      <td>4919</td>\n      <td>6124</td>\n      <td>5517</td>\n      <td>607</td>\n      <td>1346</td>\n      <td>4153</td>\n      <td>206600</td>\n      <td>6719</td>\n    </tr>\n    <tr>\n      <th>Census Tract 308.01, Clay County, Florida: Summary level: 140, state:12&gt; county:019&gt; tract:030801</th>\n      <td>5723</td>\n      <td>5723</td>\n      <td>2914</td>\n      <td>2809</td>\n      <td>43.0</td>\n      <td>2001</td>\n      <td>5723</td>\n      <td>4664</td>\n      <td>482</td>\n      <td>0</td>\n      <td>...</td>\n      <td>4603</td>\n      <td>2711</td>\n      <td>1892</td>\n      <td>2084</td>\n      <td>2001</td>\n      <td>83</td>\n      <td>1313</td>\n      <td>1743</td>\n      <td>211200</td>\n      <td>2522</td>\n    </tr>\n    <tr>\n      <th>Census Tract 309.02, Clay County, Florida: Summary level: 140, state:12&gt; county:019&gt; tract:030902</th>\n      <td>10342</td>\n      <td>10342</td>\n      <td>4657</td>\n      <td>5685</td>\n      <td>37.6</td>\n      <td>3746</td>\n      <td>10342</td>\n      <td>7956</td>\n      <td>1351</td>\n      <td>13</td>\n      <td>...</td>\n      <td>8149</td>\n      <td>5270</td>\n      <td>2879</td>\n      <td>3907</td>\n      <td>3746</td>\n      <td>161</td>\n      <td>1105</td>\n      <td>2565</td>\n      <td>141700</td>\n      <td>4992</td>\n    </tr>\n    <tr>\n      <th>Census Tract 303.01, Clay County, Florida: Summary level: 140, state:12&gt; county:019&gt; tract:030301</th>\n      <td>8960</td>\n      <td>8960</td>\n      <td>4166</td>\n      <td>4794</td>\n      <td>37.2</td>\n      <td>3324</td>\n      <td>8960</td>\n      <td>6286</td>\n      <td>1831</td>\n      <td>0</td>\n      <td>...</td>\n      <td>7054</td>\n      <td>4490</td>\n      <td>2564</td>\n      <td>3383</td>\n      <td>3324</td>\n      <td>59</td>\n      <td>1061</td>\n      <td>1948</td>\n      <td>169800</td>\n      <td>4288</td>\n    </tr>\n    <tr>\n      <th>Census Tract 314, Clay County, Florida: Summary level: 140, state:12&gt; county:019&gt; tract:031400</th>\n      <td>5083</td>\n      <td>5083</td>\n      <td>2573</td>\n      <td>2510</td>\n      <td>39.2</td>\n      <td>1755</td>\n      <td>5083</td>\n      <td>3753</td>\n      <td>987</td>\n      <td>0</td>\n      <td>...</td>\n      <td>4093</td>\n      <td>2080</td>\n      <td>2013</td>\n      <td>2016</td>\n      <td>1755</td>\n      <td>261</td>\n      <td>899</td>\n      <td>1145</td>\n      <td>114400</td>\n      <td>1979</td>\n    </tr>\n  </tbody>\n</table>\n<p>4245 rows × 63 columns</p>\n</div>"
     },
     "execution_count": 8,
     "metadata": {},
     "output_type": "execute_result"
    }
   ]
  },
  {
   "cell_type": "code",
   "source": [
    "# add the FIPS info. Change the idx.\n",
    "def add_fips(df_state):\n",
    "    state_fips=[]\n",
    "    county_fips=[]\n",
    "    tract_fips=[]\n",
    "    full_ct_fips=[]\n",
    "\n",
    "    for i in range(df_state.shape[0]):\n",
    "        state_fips.append(df_state.index[i].params()[0][1])\n",
    "        county_fips.append(df_state.index[i].params()[1][1])\n",
    "        tract_fips.append(df_state.index[i].params()[2][1])\n",
    "        full_ct_fips.append(df_state.index[i].params()[0][1]\n",
    "                            +df_state.index[i].params()[1][1]\n",
    "                            +df_state.index[i].params()[2][1])\n",
    "\n",
    "    df_state['state_fips'] = state_fips\n",
    "    df_state['county_fips'] = county_fips\n",
    "    df_state['tract_fips'] = tract_fips\n",
    "    df_state['full_ct_fips'] = full_ct_fips\n",
    "\n",
    "    df_state.reset_index(drop = True, inplace = True)\n",
    "    return df_state"
   ],
   "metadata": {
    "id": "pkviji5HlehW",
    "ExecuteTime": {
     "end_time": "2023-12-07T15:56:13.625632Z",
     "start_time": "2023-12-07T15:56:13.619163Z"
    }
   },
   "execution_count": 9,
   "outputs": []
  },
  {
   "cell_type": "code",
   "source": [
    "# quick preprocessing: adding state name, replacing column names, and adding FIPS info.\n",
    "for key_ in us_state_ct.keys():\n",
    "    us_state_ct[key_].columns = var_names\n",
    "    us_state_ct[key_]['state'] = states_and_fips[key_]\n",
    "    us_state_ct[key_] = add_fips(us_state_ct[key_])"
   ],
   "metadata": {
    "id": "G7QVT-MKl6NS",
    "ExecuteTime": {
     "end_time": "2023-12-07T15:56:13.654522Z",
     "start_time": "2023-12-07T15:56:13.637626Z"
    }
   },
   "execution_count": 10,
   "outputs": []
  },
  {
   "cell_type": "code",
   "source": [
    "# check head, FL example\n",
    "us_state_ct['12'].head()"
   ],
   "metadata": {
    "colab": {
     "base_uri": "https://localhost:8080/",
     "height": 255
    },
    "id": "2mwufSXQl9Zq",
    "executionInfo": {
     "status": "ok",
     "timestamp": 1694458450951,
     "user_tz": 240,
     "elapsed": 156,
     "user": {
      "displayName": "Shenhao Wang",
      "userId": "03503527554188089407"
     }
    },
    "outputId": "6f5118ff-d232-44a9-f983-00107e7ffe32",
    "ExecuteTime": {
     "end_time": "2023-12-07T15:56:13.671556Z",
     "start_time": "2023-12-07T15:56:13.645943Z"
    }
   },
   "execution_count": 11,
   "outputs": [
    {
     "data": {
      "text/plain": "   pop_total  sex_total  sex_male  sex_female  age_median  households  \\\n0       2812       2812      1383        1429        39.4         931   \n1       4709       4709      2272        2437        34.2        1668   \n2       5005       5005      2444        2561        34.1        1379   \n3       6754       6754      2934        3820        31.3        2238   \n4       3021       3021      1695        1326        44.1        1364   \n\n   race_total  race_white  race_black  race_native  ...  housing_units_vacant  \\\n0        2812        2086         517            0  ...                   172   \n1        4709        2382        1953            0  ...                   301   \n2        5005        2334        2206          224  ...                   267   \n3        6754        4052        1671          326  ...                   487   \n4        3021        2861         121            0  ...                   690   \n\n   rent_median  property_value_total  property_value_median  \\\n0         1592                   562                 240400   \n1         1109                   295                 179900   \n2         1291                   685                 254900   \n3         1135                  1029                 147800   \n4         1349                   638                 205900   \n\n   vehicle_total_imputed  state  state_fips  county_fips  tract_fips  \\\n0                   1485     FL          12          086      000211   \n1                   2167     FL          12          086      000212   \n2                   2257     FL          12          086      000213   \n3                   3207     FL          12          086      000214   \n4                   1991     FL          12          086      000128   \n\n   full_ct_fips  \n0   12086000211  \n1   12086000212  \n2   12086000213  \n3   12086000214  \n4   12086000128  \n\n[5 rows x 68 columns]",
      "text/html": "<div>\n<style scoped>\n    .dataframe tbody tr th:only-of-type {\n        vertical-align: middle;\n    }\n\n    .dataframe tbody tr th {\n        vertical-align: top;\n    }\n\n    .dataframe thead th {\n        text-align: right;\n    }\n</style>\n<table border=\"1\" class=\"dataframe\">\n  <thead>\n    <tr style=\"text-align: right;\">\n      <th></th>\n      <th>pop_total</th>\n      <th>sex_total</th>\n      <th>sex_male</th>\n      <th>sex_female</th>\n      <th>age_median</th>\n      <th>households</th>\n      <th>race_total</th>\n      <th>race_white</th>\n      <th>race_black</th>\n      <th>race_native</th>\n      <th>...</th>\n      <th>housing_units_vacant</th>\n      <th>rent_median</th>\n      <th>property_value_total</th>\n      <th>property_value_median</th>\n      <th>vehicle_total_imputed</th>\n      <th>state</th>\n      <th>state_fips</th>\n      <th>county_fips</th>\n      <th>tract_fips</th>\n      <th>full_ct_fips</th>\n    </tr>\n  </thead>\n  <tbody>\n    <tr>\n      <th>0</th>\n      <td>2812</td>\n      <td>2812</td>\n      <td>1383</td>\n      <td>1429</td>\n      <td>39.4</td>\n      <td>931</td>\n      <td>2812</td>\n      <td>2086</td>\n      <td>517</td>\n      <td>0</td>\n      <td>...</td>\n      <td>172</td>\n      <td>1592</td>\n      <td>562</td>\n      <td>240400</td>\n      <td>1485</td>\n      <td>FL</td>\n      <td>12</td>\n      <td>086</td>\n      <td>000211</td>\n      <td>12086000211</td>\n    </tr>\n    <tr>\n      <th>1</th>\n      <td>4709</td>\n      <td>4709</td>\n      <td>2272</td>\n      <td>2437</td>\n      <td>34.2</td>\n      <td>1668</td>\n      <td>4709</td>\n      <td>2382</td>\n      <td>1953</td>\n      <td>0</td>\n      <td>...</td>\n      <td>301</td>\n      <td>1109</td>\n      <td>295</td>\n      <td>179900</td>\n      <td>2167</td>\n      <td>FL</td>\n      <td>12</td>\n      <td>086</td>\n      <td>000212</td>\n      <td>12086000212</td>\n    </tr>\n    <tr>\n      <th>2</th>\n      <td>5005</td>\n      <td>5005</td>\n      <td>2444</td>\n      <td>2561</td>\n      <td>34.1</td>\n      <td>1379</td>\n      <td>5005</td>\n      <td>2334</td>\n      <td>2206</td>\n      <td>224</td>\n      <td>...</td>\n      <td>267</td>\n      <td>1291</td>\n      <td>685</td>\n      <td>254900</td>\n      <td>2257</td>\n      <td>FL</td>\n      <td>12</td>\n      <td>086</td>\n      <td>000213</td>\n      <td>12086000213</td>\n    </tr>\n    <tr>\n      <th>3</th>\n      <td>6754</td>\n      <td>6754</td>\n      <td>2934</td>\n      <td>3820</td>\n      <td>31.3</td>\n      <td>2238</td>\n      <td>6754</td>\n      <td>4052</td>\n      <td>1671</td>\n      <td>326</td>\n      <td>...</td>\n      <td>487</td>\n      <td>1135</td>\n      <td>1029</td>\n      <td>147800</td>\n      <td>3207</td>\n      <td>FL</td>\n      <td>12</td>\n      <td>086</td>\n      <td>000214</td>\n      <td>12086000214</td>\n    </tr>\n    <tr>\n      <th>4</th>\n      <td>3021</td>\n      <td>3021</td>\n      <td>1695</td>\n      <td>1326</td>\n      <td>44.1</td>\n      <td>1364</td>\n      <td>3021</td>\n      <td>2861</td>\n      <td>121</td>\n      <td>0</td>\n      <td>...</td>\n      <td>690</td>\n      <td>1349</td>\n      <td>638</td>\n      <td>205900</td>\n      <td>1991</td>\n      <td>FL</td>\n      <td>12</td>\n      <td>086</td>\n      <td>000128</td>\n      <td>12086000128</td>\n    </tr>\n  </tbody>\n</table>\n<p>5 rows × 68 columns</p>\n</div>"
     },
     "execution_count": 11,
     "metadata": {},
     "output_type": "execute_result"
    }
   ]
  },
  {
   "cell_type": "markdown",
   "source": [
    "## **Exercise.** Download the census data for MA, including the socioeconomic and travel variables."
   ],
   "metadata": {
    "id": "MyMAK5wNaFEB"
   }
  }
 ]
}
