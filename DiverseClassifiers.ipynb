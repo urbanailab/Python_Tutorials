{
 "nbformat": 4,
 "nbformat_minor": 0,
 "metadata": {
  "colab": {
   "provenance": [],
   "authorship_tag": "ABX9TyO0BwwHeaKN5ceiHKFHS98O"
  },
  "kernelspec": {
   "name": "python3",
   "language": "python",
   "display_name": "Python 3 (ipykernel)"
  },
  "language_info": {
   "name": "python"
  }
 },
 "cells": [
  {
   "cell_type": "markdown",
   "source": [
    "# Lec11 - Supervised learning: diverse classifiers\n",
    "\n",
    "*   Section 1. Baseline logistic regression.\n",
    "*   Section 2. ML classifiers.\n",
    "\n"
   ],
   "metadata": {
    "id": "_47YZDI-Eow3"
   }
  },
  {
   "cell_type": "markdown",
   "source": [
    "The scripts include more than the seven classifiers we discussed in the class. "
   ],
   "metadata": {
    "id": "t4ptBsepkoZS"
   }
  },
  {
   "cell_type": "code",
   "execution_count": 26,
   "metadata": {
    "id": "p5QS9WvXEPh6",
    "executionInfo": {
     "status": "ok",
     "timestamp": 1680635362929,
     "user_tz": 240,
     "elapsed": 2306,
     "user": {
      "displayName": "Shenhao Wang",
      "userId": "03503527554188089407"
     }
    },
    "ExecuteTime": {
     "end_time": "2023-11-29T03:40:16.660288Z",
     "start_time": "2023-11-29T03:40:15.604236Z"
    }
   },
   "outputs": [],
   "source": [
    "import numpy as np\n",
    "import pandas as pd\n",
    "import seaborn as sns\n",
    "import matplotlib.pyplot as plt"
   ]
  },
  {
   "cell_type": "code",
   "source": [
    "from sklearn.model_selection import train_test_split\n",
    "from sklearn.metrics import accuracy_score, log_loss"
   ],
   "metadata": {
    "id": "NqP5RqzjFYtM",
    "executionInfo": {
     "status": "ok",
     "timestamp": 1680635363597,
     "user_tz": 240,
     "elapsed": 671,
     "user": {
      "displayName": "Shenhao Wang",
      "userId": "03503527554188089407"
     }
    },
    "ExecuteTime": {
     "end_time": "2023-11-29T03:40:16.660803Z",
     "start_time": "2023-11-29T03:40:15.612710Z"
    }
   },
   "execution_count": 27,
   "outputs": []
  },
  {
   "cell_type": "code",
   "source": [
    "## import the sklearn models\n",
    "# logistic regression\n",
    "from sklearn.linear_model import LogisticRegression\n",
    "\n",
    "# K nearest neighbor\n",
    "from sklearn.neighbors import KNeighborsClassifier\n",
    "\n",
    "# support vector machine\n",
    "from sklearn.svm import SVC, LinearSVC \n",
    "# SVC: support vector classification (using kernel methods)\n",
    "\n",
    "# decision tree\n",
    "from sklearn.tree import DecisionTreeClassifier\n",
    "\n",
    "# ensemble methods, e.g., random forest\n",
    "from sklearn.ensemble import RandomForestClassifier, AdaBoostClassifier, GradientBoostingClassifier\n",
    "\n",
    "# naive Bayesian\n",
    "from sklearn.naive_bayes import GaussianNB\n",
    "\n",
    "# discriminant analysis\n",
    "from sklearn.discriminant_analysis import LinearDiscriminantAnalysis\n",
    "from sklearn.discriminant_analysis import QuadraticDiscriminantAnalysis\n",
    "\n",
    "# neural network\n",
    "from sklearn.neural_network import MLPClassifier\n"
   ],
   "metadata": {
    "id": "f5tF1hWGHPkO",
    "executionInfo": {
     "status": "ok",
     "timestamp": 1680635364769,
     "user_tz": 240,
     "elapsed": 1175,
     "user": {
      "displayName": "Shenhao Wang",
      "userId": "03503527554188089407"
     }
    },
    "ExecuteTime": {
     "end_time": "2023-11-29T03:40:16.671358Z",
     "start_time": "2023-11-29T03:40:15.620424Z"
    }
   },
   "execution_count": 28,
   "outputs": []
  },
  {
   "cell_type": "code",
   "source": [
    "# read data\n",
    "df = pd.read_csv('SampleDataset/Florida_ct.csv', index_col = 0)"
   ],
   "metadata": {
    "id": "W53AKJX0E1U5",
    "executionInfo": {
     "status": "ok",
     "timestamp": 1680635472624,
     "user_tz": 240,
     "elapsed": 820,
     "user": {
      "displayName": "Shenhao Wang",
      "userId": "03503527554188089407"
     }
    },
    "ExecuteTime": {
     "end_time": "2023-11-29T03:41:19.565255Z",
     "start_time": "2023-11-29T03:41:19.452058Z"
    }
   },
   "execution_count": 37,
   "outputs": []
  },
  {
   "cell_type": "code",
   "source": [
    "df.head()"
   ],
   "metadata": {
    "id": "v_PjycOBE89o",
    "colab": {
     "base_uri": "https://localhost:8080/",
     "height": 299
    },
    "executionInfo": {
     "status": "ok",
     "timestamp": 1680635472625,
     "user_tz": 240,
     "elapsed": 12,
     "user": {
      "displayName": "Shenhao Wang",
      "userId": "03503527554188089407"
     }
    },
    "outputId": "958ec0dd-c930-40e6-a06e-a4ec2f512481",
    "ExecuteTime": {
     "end_time": "2023-11-29T03:41:20.588264Z",
     "start_time": "2023-11-29T03:41:20.491252Z"
    }
   },
   "execution_count": 38,
   "outputs": [
    {
     "data": {
      "text/plain": "   pop_total  sex_total  sex_male  sex_female  age_median  households  \\\n0     2812.0     2812.0    1383.0      1429.0        39.4       931.0   \n1     4709.0     4709.0    2272.0      2437.0        34.2      1668.0   \n2     5005.0     5005.0    2444.0      2561.0        34.1      1379.0   \n3     6754.0     6754.0    2934.0      3820.0        31.3      2238.0   \n4     3021.0     3021.0    1695.0      1326.0        44.1      1364.0   \n\n   race_total  race_white  race_black  race_native  ...  travel_walk_ratio  \\\n0      2812.0      2086.0       517.0          0.0  ...           0.014815   \n1      4709.0      2382.0      1953.0          0.0  ...           0.022150   \n2      5005.0      2334.0      2206.0        224.0  ...           0.026141   \n3      6754.0      4052.0      1671.0        326.0  ...           0.052697   \n4      3021.0      2861.0       121.0          0.0  ...           0.003014   \n\n   travel_work_home_ratio  edu_bachelor_ratio  edu_master_ratio  \\\n0                0.024242            0.183838          0.029798   \n1                0.004615            0.135222          0.040245   \n2                0.027913            0.213247          0.064620   \n3                0.004054            0.093379          0.082510   \n4                0.013059            0.219868          0.138631   \n\n   edu_phd_ratio  edu_higher_edu_ratio  employment_unemployed_ratio  \\\n0       0.003030              0.216667                     0.286635   \n1       0.003220              0.178686                     0.318327   \n2       0.007431              0.285299                     0.366755   \n3       0.012599              0.188488                     0.314452   \n4       0.007064              0.365563                     0.218447   \n\n   vehicle_per_capita  vehicle_per_household  vacancy_ratio  \n0            0.528094               1.595059       0.155938  \n1            0.460183               1.299161       0.152869  \n2            0.450949               1.636693       0.162211  \n3            0.474830               1.432976       0.178716  \n4            0.659053               1.459677       0.335930  \n\n[5 rows x 88 columns]",
      "text/html": "<div>\n<style scoped>\n    .dataframe tbody tr th:only-of-type {\n        vertical-align: middle;\n    }\n\n    .dataframe tbody tr th {\n        vertical-align: top;\n    }\n\n    .dataframe thead th {\n        text-align: right;\n    }\n</style>\n<table border=\"1\" class=\"dataframe\">\n  <thead>\n    <tr style=\"text-align: right;\">\n      <th></th>\n      <th>pop_total</th>\n      <th>sex_total</th>\n      <th>sex_male</th>\n      <th>sex_female</th>\n      <th>age_median</th>\n      <th>households</th>\n      <th>race_total</th>\n      <th>race_white</th>\n      <th>race_black</th>\n      <th>race_native</th>\n      <th>...</th>\n      <th>travel_walk_ratio</th>\n      <th>travel_work_home_ratio</th>\n      <th>edu_bachelor_ratio</th>\n      <th>edu_master_ratio</th>\n      <th>edu_phd_ratio</th>\n      <th>edu_higher_edu_ratio</th>\n      <th>employment_unemployed_ratio</th>\n      <th>vehicle_per_capita</th>\n      <th>vehicle_per_household</th>\n      <th>vacancy_ratio</th>\n    </tr>\n  </thead>\n  <tbody>\n    <tr>\n      <th>0</th>\n      <td>2812.0</td>\n      <td>2812.0</td>\n      <td>1383.0</td>\n      <td>1429.0</td>\n      <td>39.4</td>\n      <td>931.0</td>\n      <td>2812.0</td>\n      <td>2086.0</td>\n      <td>517.0</td>\n      <td>0.0</td>\n      <td>...</td>\n      <td>0.014815</td>\n      <td>0.024242</td>\n      <td>0.183838</td>\n      <td>0.029798</td>\n      <td>0.003030</td>\n      <td>0.216667</td>\n      <td>0.286635</td>\n      <td>0.528094</td>\n      <td>1.595059</td>\n      <td>0.155938</td>\n    </tr>\n    <tr>\n      <th>1</th>\n      <td>4709.0</td>\n      <td>4709.0</td>\n      <td>2272.0</td>\n      <td>2437.0</td>\n      <td>34.2</td>\n      <td>1668.0</td>\n      <td>4709.0</td>\n      <td>2382.0</td>\n      <td>1953.0</td>\n      <td>0.0</td>\n      <td>...</td>\n      <td>0.022150</td>\n      <td>0.004615</td>\n      <td>0.135222</td>\n      <td>0.040245</td>\n      <td>0.003220</td>\n      <td>0.178686</td>\n      <td>0.318327</td>\n      <td>0.460183</td>\n      <td>1.299161</td>\n      <td>0.152869</td>\n    </tr>\n    <tr>\n      <th>2</th>\n      <td>5005.0</td>\n      <td>5005.0</td>\n      <td>2444.0</td>\n      <td>2561.0</td>\n      <td>34.1</td>\n      <td>1379.0</td>\n      <td>5005.0</td>\n      <td>2334.0</td>\n      <td>2206.0</td>\n      <td>224.0</td>\n      <td>...</td>\n      <td>0.026141</td>\n      <td>0.027913</td>\n      <td>0.213247</td>\n      <td>0.064620</td>\n      <td>0.007431</td>\n      <td>0.285299</td>\n      <td>0.366755</td>\n      <td>0.450949</td>\n      <td>1.636693</td>\n      <td>0.162211</td>\n    </tr>\n    <tr>\n      <th>3</th>\n      <td>6754.0</td>\n      <td>6754.0</td>\n      <td>2934.0</td>\n      <td>3820.0</td>\n      <td>31.3</td>\n      <td>2238.0</td>\n      <td>6754.0</td>\n      <td>4052.0</td>\n      <td>1671.0</td>\n      <td>326.0</td>\n      <td>...</td>\n      <td>0.052697</td>\n      <td>0.004054</td>\n      <td>0.093379</td>\n      <td>0.082510</td>\n      <td>0.012599</td>\n      <td>0.188488</td>\n      <td>0.314452</td>\n      <td>0.474830</td>\n      <td>1.432976</td>\n      <td>0.178716</td>\n    </tr>\n    <tr>\n      <th>4</th>\n      <td>3021.0</td>\n      <td>3021.0</td>\n      <td>1695.0</td>\n      <td>1326.0</td>\n      <td>44.1</td>\n      <td>1364.0</td>\n      <td>3021.0</td>\n      <td>2861.0</td>\n      <td>121.0</td>\n      <td>0.0</td>\n      <td>...</td>\n      <td>0.003014</td>\n      <td>0.013059</td>\n      <td>0.219868</td>\n      <td>0.138631</td>\n      <td>0.007064</td>\n      <td>0.365563</td>\n      <td>0.218447</td>\n      <td>0.659053</td>\n      <td>1.459677</td>\n      <td>0.335930</td>\n    </tr>\n  </tbody>\n</table>\n<p>5 rows × 88 columns</p>\n</div>"
     },
     "execution_count": 38,
     "metadata": {},
     "output_type": "execute_result"
    }
   ]
  },
  {
   "cell_type": "code",
   "source": [
    "# preprocessing\n",
    "# expensive vs. non-expensive properties as the binary variable\n",
    "# threshold = 0.8\n",
    "df['property_value_discrete'] = 1\n",
    "df.loc[df['property_value_median'] < 200000, 'property_value_discrete'] = 0"
   ],
   "metadata": {
    "id": "Z3cU_RJ5E9Fc",
    "executionInfo": {
     "status": "ok",
     "timestamp": 1680635478102,
     "user_tz": 240,
     "elapsed": 176,
     "user": {
      "displayName": "Shenhao Wang",
      "userId": "03503527554188089407"
     }
    },
    "ExecuteTime": {
     "end_time": "2023-11-29T03:40:24.581460Z",
     "start_time": "2023-11-29T03:40:24.472061Z"
    }
   },
   "execution_count": 30,
   "outputs": []
  },
  {
   "cell_type": "markdown",
   "source": [
    "## Section 1. Creating a baseline logistic regression in ML (lec08)"
   ],
   "metadata": {
    "id": "oUbGlX53FLGg"
   }
  },
  {
   "cell_type": "code",
   "source": [
    "# assign the inputs and outputs\n",
    "var_list = ['inc_median_household', \n",
    "            'households',\n",
    "            'travel_driving_ratio', 'travel_pt_ratio', 'travel_taxi_ratio', 'travel_work_home_ratio',\n",
    "            'edu_higher_edu_ratio',\n",
    "            'household_size_avg', \n",
    "            'vacancy_ratio', 'rent_median', \n",
    "            'race_white_ratio', \n",
    "            'race_asian_ratio'\n",
    "            ]\n",
    "\n",
    "y = df['property_value_discrete']\n",
    "X = df[var_list]\n",
    "# X = sm.add_constant(X)\n",
    "\n",
    "# change the data format\n",
    "X = X.values\n",
    "y = y.values\n"
   ],
   "metadata": {
    "id": "1CAyM5ZnFKkA",
    "executionInfo": {
     "status": "ok",
     "timestamp": 1680635524937,
     "user_tz": 240,
     "elapsed": 392,
     "user": {
      "displayName": "Shenhao Wang",
      "userId": "03503527554188089407"
     }
    },
    "ExecuteTime": {
     "end_time": "2023-11-29T03:40:26.703076Z",
     "start_time": "2023-11-29T03:40:26.611801Z"
    }
   },
   "execution_count": 31,
   "outputs": []
  },
  {
   "cell_type": "code",
   "source": [
    "# creating the training and testing split\n",
    "X_train, X_test, y_train, y_test = train_test_split(X, y, test_size=0.2, random_state=16)"
   ],
   "metadata": {
    "id": "wELrRzp0E9Jl",
    "executionInfo": {
     "status": "ok",
     "timestamp": 1680635544575,
     "user_tz": 240,
     "elapsed": 245,
     "user": {
      "displayName": "Shenhao Wang",
      "userId": "03503527554188089407"
     }
    },
    "ExecuteTime": {
     "end_time": "2023-11-29T03:40:27.456053Z",
     "start_time": "2023-11-29T03:40:27.352662Z"
    }
   },
   "execution_count": 32,
   "outputs": []
  },
  {
   "cell_type": "code",
   "source": [
    "# initialize logistic regression\n",
    "# instantiate the model (using the default parameters)\n",
    "logreg = LogisticRegression(random_state=16)\n",
    "\n",
    "# fit the model with training data only\n",
    "logreg.fit(X_train, y_train)\n",
    "\n",
    "# check the performance\n",
    "train_predictions = logreg.predict(X_train)\n",
    "acc = accuracy_score(y_train, train_predictions)\n",
    "print(\"Training Accuracy: {:.4%}\".format(acc))\n",
    "\n",
    "test_predictions = logreg.predict(X_test)\n",
    "acc = accuracy_score(y_test, test_predictions)\n",
    "print(\"Testing Accuracy: {:.4%}\".format(acc))\n"
   ],
   "metadata": {
    "id": "5rbRQyoOE9L8",
    "colab": {
     "base_uri": "https://localhost:8080/"
    },
    "executionInfo": {
     "status": "ok",
     "timestamp": 1680635575492,
     "user_tz": 240,
     "elapsed": 199,
     "user": {
      "displayName": "Shenhao Wang",
      "userId": "03503527554188089407"
     }
    },
    "outputId": "c08cb748-c8f5-4c28-f301-20ceea86f0d1",
    "ExecuteTime": {
     "end_time": "2023-11-29T03:40:27.913537Z",
     "start_time": "2023-11-29T03:40:27.794751Z"
    }
   },
   "execution_count": 33,
   "outputs": [
    {
     "name": "stdout",
     "output_type": "stream",
     "text": [
      "Training Accuracy: 78.7579%\n",
      "Testing Accuracy: 79.0168%\n"
     ]
    }
   ]
  },
  {
   "cell_type": "markdown",
   "source": [
    "## Section 2. ML classifiers"
   ],
   "metadata": {
    "id": "uzbRvKVtHhs5"
   }
  },
  {
   "cell_type": "code",
   "source": [
    "# check the performance for all the classifiers.\n",
    "classifiers = [\n",
    "    LogisticRegression(random_state=16),\n",
    "    KNeighborsClassifier(3),\n",
    "    SVC(kernel=\"rbf\", C=0.025, probability=True),\n",
    "    DecisionTreeClassifier(),\n",
    "    RandomForestClassifier(),\n",
    "    GaussianNB(),\n",
    "    MLPClassifier(alpha=1e-10, hidden_layer_sizes=(20, 2), random_state=1),\n",
    "    AdaBoostClassifier(),\n",
    "    GradientBoostingClassifier(),\n",
    "    LinearDiscriminantAnalysis(),\n",
    "    QuadraticDiscriminantAnalysis()]\n",
    "\n",
    "# Logging for Visual Comparison\n",
    "log_cols=[\"Classifier\", \"Train Accuracy\", \"Train Log Loss\", \"Test Accuracy\", \"Test Log Loss\"]\n",
    "log = pd.DataFrame(columns=log_cols)\n",
    "\n",
    "for clf in classifiers:\n",
    "    clf.fit(X_train, y_train)\n",
    "    name = clf.__class__.__name__\n",
    "    \n",
    "    print(\"=\"*30)\n",
    "    print(name)\n",
    "    \n",
    "    print('****Results****')\n",
    "    # training\n",
    "    train_predictions = clf.predict(X_train)\n",
    "    train_acc = accuracy_score(y_train, train_predictions)\n",
    "    print(\"Training Accuracy: {:.4%}\".format(train_acc))\n",
    "\n",
    "    train_predictions = clf.predict_proba(X_train)\n",
    "    train_ll = log_loss(y_train, train_predictions)\n",
    "    print(\"Training Log Loss: {}\".format(train_ll))\n",
    "\n",
    "    # testing\n",
    "    test_predictions = clf.predict(X_test)\n",
    "    test_acc = accuracy_score(y_test, test_predictions)\n",
    "    print(\"Testing Accuracy: {:.4%}\".format(test_acc))\n",
    "    \n",
    "    test_predictions = clf.predict_proba(X_test)\n",
    "    test_ll = log_loss(y_test, test_predictions)\n",
    "    print(\"Testing Log Loss: {}\".format(test_ll))\n",
    "    \n",
    "    log_entry = pd.DataFrame([[name, train_acc*100, train_ll, test_acc*100, test_ll]], columns=log_cols)\n",
    "    log = pd.concat([log, log_entry])\n",
    "    "
   ],
   "metadata": {
    "id": "qnwYeeSDFor_",
    "colab": {
     "base_uri": "https://localhost:8080/"
    },
    "executionInfo": {
     "status": "ok",
     "timestamp": 1680635919388,
     "user_tz": 240,
     "elapsed": 14652,
     "user": {
      "displayName": "Shenhao Wang",
      "userId": "03503527554188089407"
     }
    },
    "outputId": "2472b652-0a71-40d0-eb76-bebabbb67030",
    "ExecuteTime": {
     "end_time": "2023-11-29T03:40:34.659521Z",
     "start_time": "2023-11-29T03:40:28.467037Z"
    }
   },
   "execution_count": 34,
   "outputs": [
    {
     "name": "stdout",
     "output_type": "stream",
     "text": [
      "==============================\n",
      "LogisticRegression\n",
      "****Results****\n",
      "Training Accuracy: 78.7579%\n",
      "Training Log Loss: 0.465556456052097\n",
      "Testing Accuracy: 79.0168%\n",
      "Testing Log Loss: 0.47965481194516246\n",
      "==============================\n",
      "KNeighborsClassifier\n",
      "****Results****\n",
      "Training Accuracy: 87.9988%\n",
      "Training Log Loss: 0.23391243359435773\n",
      "Testing Accuracy: 76.7386%\n",
      "Testing Log Loss: 3.1201659216850306\n"
     ]
    },
    {
     "name": "stderr",
     "output_type": "stream",
     "text": [
      "/var/folders/jh/p1jvq4k96b78klmgl3dq5jwc0000gn/T/ipykernel_41570/417365320.py:46: FutureWarning: The behavior of DataFrame concatenation with empty or all-NA entries is deprecated. In a future version, this will no longer exclude empty or all-NA columns when determining the result dtypes. To retain the old behavior, exclude the relevant entries before the concat operation.\n",
      "  log = pd.concat([log, log_entry])\n"
     ]
    },
    {
     "name": "stdout",
     "output_type": "stream",
     "text": [
      "==============================\n",
      "SVC\n",
      "****Results****\n",
      "Training Accuracy: 81.2481%\n",
      "Training Log Loss: 0.4096987034069263\n",
      "Testing Accuracy: 79.2566%\n",
      "Testing Log Loss: 0.44085030632776295\n",
      "==============================\n",
      "DecisionTreeClassifier\n",
      "****Results****\n",
      "Training Accuracy: 100.0000%\n",
      "Training Log Loss: 2.220446049250313e-16\n",
      "Testing Accuracy: 77.5779%\n",
      "Testing Log Loss: 8.081730436168954\n",
      "==============================\n",
      "RandomForestClassifier\n",
      "****Results****\n",
      "Training Accuracy: 100.0000%\n",
      "Training Log Loss: 0.08775491513631037\n",
      "Testing Accuracy: 85.0120%\n",
      "Testing Log Loss: 0.37582775039068267\n",
      "==============================\n",
      "GaussianNB\n",
      "****Results****\n",
      "Training Accuracy: 49.4449%\n",
      "Training Log Loss: 1.5705092455858793\n",
      "Testing Accuracy: 49.7602%\n",
      "Testing Log Loss: 1.6168779832004105\n",
      "==============================\n",
      "MLPClassifier\n",
      "****Results****\n",
      "Training Accuracy: 51.1851%\n",
      "Training Log Loss: 0.6933401791907362\n",
      "Testing Accuracy: 51.0791%\n",
      "Testing Log Loss: 0.7361662550075013\n",
      "==============================\n",
      "AdaBoostClassifier\n",
      "****Results****\n",
      "Training Accuracy: 86.8587%\n",
      "Training Log Loss: 0.6284181578586455\n",
      "Testing Accuracy: 83.6930%\n",
      "Testing Log Loss: 0.6386414792685056\n",
      "==============================\n",
      "GradientBoostingClassifier\n",
      "****Results****\n",
      "Training Accuracy: 90.0690%\n",
      "Training Log Loss: 0.2370738236293404\n",
      "Testing Accuracy: 84.7722%\n",
      "Testing Log Loss: 0.334781176668104\n",
      "==============================\n",
      "LinearDiscriminantAnalysis\n",
      "****Results****\n",
      "Training Accuracy: 83.3183%\n",
      "Training Log Loss: 0.3608473108881196\n",
      "Testing Accuracy: 82.0144%\n",
      "Testing Log Loss: 0.3946487929001337\n",
      "==============================\n",
      "QuadraticDiscriminantAnalysis\n",
      "****Results****\n",
      "Training Accuracy: 56.4656%\n",
      "Training Log Loss: 1.66113481331789\n",
      "Testing Accuracy: 56.5947%\n",
      "Testing Log Loss: 1.6988659402256403\n"
     ]
    }
   ]
  },
  {
   "cell_type": "code",
   "source": [
    "# Visualize the performance.\n",
    "sns.set_color_codes(\"muted\")\n",
    "sns.barplot(x='Test Accuracy', y='Classifier', data=log, color=\"b\")\n",
    "plt.xlabel('Accuracy %')\n",
    "plt.title('Classifier Accuracy')\n",
    "plt.show()"
   ],
   "metadata": {
    "id": "82MPtqx5FwtL",
    "colab": {
     "base_uri": "https://localhost:8080/",
     "height": 472
    },
    "executionInfo": {
     "status": "ok",
     "timestamp": 1680636260456,
     "user_tz": 240,
     "elapsed": 517,
     "user": {
      "displayName": "Shenhao Wang",
      "userId": "03503527554188089407"
     }
    },
    "outputId": "33a3a2a6-0eab-474c-9128-87ff66f4e40f",
    "ExecuteTime": {
     "end_time": "2023-11-29T03:40:34.864569Z",
     "start_time": "2023-11-29T03:40:34.644351Z"
    }
   },
   "execution_count": 35,
   "outputs": [
    {
     "data": {
      "text/plain": "<Figure size 640x480 with 1 Axes>",
      "image/png": "[encoded data removed]"
     },
     "metadata": {},
     "output_type": "display_data"
    }
   ]
  },
  {
   "cell_type": "code",
   "source": [
    "# Visualize the performance.\n",
    "sns.set_color_codes(\"muted\")\n",
    "sns.barplot(x='Test Log Loss', y='Classifier', data=log, color=\"g\")\n",
    "plt.xlabel('Log Loss')\n",
    "plt.title('Classifier Log Loss')\n",
    "plt.show()"
   ],
   "metadata": {
    "id": "hx3I3G0fFwrF",
    "colab": {
     "base_uri": "https://localhost:8080/",
     "height": 472
    },
    "executionInfo": {
     "status": "ok",
     "timestamp": 1680636341405,
     "user_tz": 240,
     "elapsed": 586,
     "user": {
      "displayName": "Shenhao Wang",
      "userId": "03503527554188089407"
     }
    },
    "outputId": "2068cb2b-da84-4161-92ae-dba8dabac7d0",
    "ExecuteTime": {
     "end_time": "2023-11-29T03:40:35.020899Z",
     "start_time": "2023-11-29T03:40:34.822168Z"
    }
   },
   "execution_count": 36,
   "outputs": [
    {
     "data": {
      "text/plain": "<Figure size 640x480 with 1 Axes>",
      "image/png": "[encoded data removed]"
     },
     "metadata": {},
     "output_type": "display_data"
    }
   ]
  },
  {
   "cell_type": "markdown",
   "source": [
    "\n",
    "\n",
    "\n",
    "*   The performance of the logistic regression is not bad, although usually it is not the highest. \n",
    "*   The ensemble methods, e.g. RF, achieve the highest predictive performance. \n",
    "\n",
    "\n",
    "\n"
   ],
   "metadata": {
    "id": "vkti_RoEns0X"
   }
  },
  {
   "cell_type": "markdown",
   "source": [
    "## **Exercise.** Create a dummy variable to represent the auto vs. non-auto census tracts by using a threshold value. Then compare the performance of the ML classifiers.  "
   ],
   "metadata": {
    "id": "pVMr-CgyoGp4"
   }
  }
 ]
}
