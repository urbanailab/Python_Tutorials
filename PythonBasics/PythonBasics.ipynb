{
 "cells": [
  {
   "cell_type": "markdown",
   "metadata": {
    "id": "p92A7twY5sEy"
   },
   "source": [
    "# Python Basics\n",
    "\n",
    "- Learning: 2~3 students form a small group to run the scripts together.\n",
    "\n",
    "- About Google Colab\n",
    "  - How to use Google Colab?\n",
    "  - https://www.youtube.com/watch?v=inN8seMm7UI\n",
    "  - https://colab.research.google.com/#scrollTo=5fCEDCU_qrC0\n",
    "\n",
    "- Section 1: Basic Python syntax\n",
    "- Section 2: Loading data (Pandas)\n",
    "- Section 3: Viewing data (Numpy and Pandas)\n",
    "\n",
    "- Data: https://drive.google.com/file/d/1LTxyDrSZD2f0LuELMenGVkWeag7KebHP/view?usp=sharing\n",
    "- Data dictionary: https://docs.google.com/spreadsheets/d/1juSpTKO07HnzxAKRTg5MLLj1SWR60tX3/edit?usp=sharing&ouid=115425849068992643587&rtpof=true&sd=true\n",
    "\n",
    "For each section, I cannot cover everything. Please take the Practicum AI at UFL to learn more about python coding for AI.\n",
    "\n",
    "**Link**: https://calendar.hr.ufl.edu/event/practicum-ai/all/"
   ]
  },
  {
   "cell_type": "markdown",
   "metadata": {
    "id": "2i38egQy5zl3"
   },
   "source": [
    "## 1. Basic Python Syntax"
   ]
  },
  {
   "cell_type": "code",
   "execution_count": 2,
   "metadata": {
    "id": "9whstPoi7_F6",
    "ExecuteTime": {
     "end_time": "2023-12-07T15:36:47.220358Z",
     "start_time": "2023-12-07T15:36:47.192104Z"
    }
   },
   "outputs": [
    {
     "name": "stdout",
     "output_type": "stream",
     "text": [
      "Hello world\n"
     ]
    }
   ],
   "source": [
    "# print\n",
    "# anything after a hashtag is a comment\n",
    "print(\"Hello world\") # round bracket"
   ]
  },
  {
   "cell_type": "markdown",
   "metadata": {
    "id": "QjpHVggN6vZn"
   },
   "source": [
    "### 1.1 Basic data types"
   ]
  },
  {
   "cell_type": "code",
   "execution_count": 3,
   "metadata": {
    "id": "Fg-WqMD48LF0",
    "ExecuteTime": {
     "end_time": "2023-12-07T15:36:48.282057Z",
     "start_time": "2023-12-07T15:36:48.260404Z"
    }
   },
   "outputs": [
    {
     "data": {
      "text/plain": "bool"
     },
     "execution_count": 3,
     "metadata": {},
     "output_type": "execute_result"
    }
   ],
   "source": [
    "# booleans\n",
    "x = True # or false\n",
    "type(x)"
   ]
  },
  {
   "cell_type": "code",
   "execution_count": 4,
   "metadata": {
    "colab": {
     "base_uri": "https://localhost:8080/"
    },
    "executionInfo": {
     "elapsed": 187,
     "status": "ok",
     "timestamp": 1693941841868,
     "user": {
      "displayName": "Bryce Bass",
      "userId": "04786905095297427136"
     },
     "user_tz": 240
    },
    "id": "iCiXQxKg6ukf",
    "outputId": "7ccb53ab-49c6-4ea4-ec55-f92670b61329",
    "ExecuteTime": {
     "end_time": "2023-12-07T15:36:48.569738Z",
     "start_time": "2023-12-07T15:36:48.550442Z"
    }
   },
   "outputs": [
    {
     "data": {
      "text/plain": "int"
     },
     "execution_count": 4,
     "metadata": {},
     "output_type": "execute_result"
    }
   ],
   "source": [
    "# integers (discrete values)\n",
    "x = 1\n",
    "type(x)"
   ]
  },
  {
   "cell_type": "code",
   "execution_count": 5,
   "metadata": {
    "colab": {
     "base_uri": "https://localhost:8080/"
    },
    "executionInfo": {
     "elapsed": 342,
     "status": "ok",
     "timestamp": 1693941849687,
     "user": {
      "displayName": "Bryce Bass",
      "userId": "04786905095297427136"
     },
     "user_tz": 240
    },
    "id": "DOOxFgqL6cik",
    "outputId": "3d3520fc-f977-4bea-d1c9-91bc4eb34ce7",
    "ExecuteTime": {
     "end_time": "2023-12-07T15:36:49.234624Z",
     "start_time": "2023-12-07T15:36:49.222325Z"
    }
   },
   "outputs": [
    {
     "data": {
      "text/plain": "float"
     },
     "execution_count": 5,
     "metadata": {},
     "output_type": "execute_result"
    }
   ],
   "source": [
    "# floating-point numbers (continuous values)\n",
    "x = 100.5\n",
    "type(x)"
   ]
  },
  {
   "cell_type": "code",
   "execution_count": 6,
   "metadata": {
    "colab": {
     "base_uri": "https://localhost:8080/"
    },
    "executionInfo": {
     "elapsed": 319,
     "status": "ok",
     "timestamp": 1693941859480,
     "user": {
      "displayName": "Bryce Bass",
      "userId": "04786905095297427136"
     },
     "user_tz": 240
    },
    "id": "etstZx7w6mzB",
    "outputId": "c70b898d-9c49-4de3-9764-86d49557ed2f",
    "ExecuteTime": {
     "end_time": "2023-12-07T15:36:49.586343Z",
     "start_time": "2023-12-07T15:36:49.565169Z"
    }
   },
   "outputs": [
    {
     "data": {
      "text/plain": "str"
     },
     "execution_count": 6,
     "metadata": {},
     "output_type": "execute_result"
    }
   ],
   "source": [
    "# strings - quotation marks for strings\n",
    "x = 'Gainesville'\n",
    "type(x)"
   ]
  },
  {
   "cell_type": "code",
   "execution_count": 7,
   "metadata": {
    "colab": {
     "base_uri": "https://localhost:8080/"
    },
    "executionInfo": {
     "elapsed": 235,
     "status": "ok",
     "timestamp": 1693941879193,
     "user": {
      "displayName": "Bryce Bass",
      "userId": "04786905095297427136"
     },
     "user_tz": 240
    },
    "id": "dCGr8IW_7Jdh",
    "outputId": "475c97d2-6386-4098-f53a-9cde7872207d",
    "ExecuteTime": {
     "end_time": "2023-12-07T15:36:49.786284Z",
     "start_time": "2023-12-07T15:36:49.772743Z"
    }
   },
   "outputs": [
    {
     "data": {
      "text/plain": "list"
     },
     "execution_count": 7,
     "metadata": {},
     "output_type": "execute_result"
    }
   ],
   "source": [
    "# list of items\n",
    "x = [1, 2, 3, 'Gainesville'] # square bracket\n",
    "type(x)"
   ]
  },
  {
   "cell_type": "code",
   "execution_count": 8,
   "metadata": {
    "colab": {
     "base_uri": "https://localhost:8080/"
    },
    "executionInfo": {
     "elapsed": 186,
     "status": "ok",
     "timestamp": 1693941903012,
     "user": {
      "displayName": "Bryce Bass",
      "userId": "04786905095297427136"
     },
     "user_tz": 240
    },
    "id": "WJ-Nxmvk7OrC",
    "outputId": "41c149e9-f3b7-420a-a747-a9ae5744e492",
    "ExecuteTime": {
     "end_time": "2023-12-07T15:36:50.034928Z",
     "start_time": "2023-12-07T15:36:50.021718Z"
    }
   },
   "outputs": [
    {
     "data": {
      "text/plain": "set"
     },
     "execution_count": 8,
     "metadata": {},
     "output_type": "execute_result"
    }
   ],
   "source": [
    "# sets\n",
    "x = {1, 2, 3, 3, 2} # curly bracket\n",
    "type(x)"
   ]
  },
  {
   "cell_type": "code",
   "execution_count": 9,
   "metadata": {
    "colab": {
     "base_uri": "https://localhost:8080/"
    },
    "executionInfo": {
     "elapsed": 192,
     "status": "ok",
     "timestamp": 1693941981354,
     "user": {
      "displayName": "Bryce Bass",
      "userId": "04786905095297427136"
     },
     "user_tz": 240
    },
    "id": "b7X4IiDO7UVD",
    "outputId": "eca1c07d-92b0-422b-d1d1-918b704dae76",
    "ExecuteTime": {
     "end_time": "2023-12-07T15:36:50.286525Z",
     "start_time": "2023-12-07T15:36:50.272588Z"
    }
   },
   "outputs": [
    {
     "data": {
      "text/plain": "tuple"
     },
     "execution_count": 9,
     "metadata": {},
     "output_type": "execute_result"
    }
   ],
   "source": [
    "# tuple\n",
    "x = (12, \"Artificial intellignece and built environment\")\n",
    "type(x)"
   ]
  },
  {
   "cell_type": "code",
   "execution_count": 10,
   "metadata": {
    "colab": {
     "base_uri": "https://localhost:8080/"
    },
    "executionInfo": {
     "elapsed": 175,
     "status": "ok",
     "timestamp": 1693941907045,
     "user": {
      "displayName": "Bryce Bass",
      "userId": "04786905095297427136"
     },
     "user_tz": 240
    },
    "id": "DKQsAiGG7c8R",
    "outputId": "c379496c-dafa-461b-84ac-709cd758b1e4",
    "ExecuteTime": {
     "end_time": "2023-12-07T15:36:53.783674Z",
     "start_time": "2023-12-07T15:36:53.763401Z"
    }
   },
   "outputs": [
    {
     "data": {
      "text/plain": "dict"
     },
     "execution_count": 10,
     "metadata": {},
     "output_type": "execute_result"
    }
   ],
   "source": [
    "# dictionary\n",
    "x = {\"first name\": \"Shenhao\", \"last name\": \"Wang\", \"lab\": \"Urban AI\"}\n",
    "type(x)"
   ]
  },
  {
   "cell_type": "code",
   "execution_count": 11,
   "metadata": {
    "colab": {
     "base_uri": "https://localhost:8080/"
    },
    "executionInfo": {
     "elapsed": 349,
     "status": "ok",
     "timestamp": 1693941909331,
     "user": {
      "displayName": "Bryce Bass",
      "userId": "04786905095297427136"
     },
     "user_tz": 240
    },
    "id": "RhYB3DBf7ut3",
    "outputId": "b4ba63fd-46d3-4b32-e6a5-da14ea589350",
    "ExecuteTime": {
     "end_time": "2023-12-07T15:36:54.110888Z",
     "start_time": "2023-12-07T15:36:54.093546Z"
    }
   },
   "outputs": [
    {
     "name": "stdout",
     "output_type": "stream",
     "text": [
      "dict_keys(['first name', 'last name', 'lab'])\n",
      "dict_values(['Shenhao', 'Wang', 'Urban AI'])\n"
     ]
    }
   ],
   "source": [
    "# keys and values in a dictionary\n",
    "x = {\"first name\": \"Shenhao\", \"last name\": \"Wang\", \"lab\": \"Urban AI\"}\n",
    "print(x.keys())\n",
    "print(x.values())"
   ]
  },
  {
   "cell_type": "markdown",
   "metadata": {
    "id": "xtRCVn61dPe3"
   },
   "source": [
    "## **Exercise.** Create a dictionary, in which you include \"first name\" and \"last name\" as keys, and put your names there as values. Print them out."
   ]
  },
  {
   "cell_type": "code",
   "execution_count": 12,
   "metadata": {
    "colab": {
     "base_uri": "https://localhost:8080/"
    },
    "executionInfo": {
     "elapsed": 212,
     "status": "ok",
     "timestamp": 1693942159265,
     "user": {
      "displayName": "Bryce Bass",
      "userId": "04786905095297427136"
     },
     "user_tz": 240
    },
    "id": "X1iIDAaa0CRk",
    "outputId": "229da7c2-d3ca-4e65-f09e-f9fd78cca21f",
    "ExecuteTime": {
     "end_time": "2023-12-07T15:36:55.810957Z",
     "start_time": "2023-12-07T15:36:55.787687Z"
    }
   },
   "outputs": [
    {
     "name": "stdout",
     "output_type": "stream",
     "text": [
      "dict_values(['Bryce', 'Bass'])\n"
     ]
    }
   ],
   "source": [
    "x = {\"first name\": \"Bryce\", \"last name\": \"Bass\"}\n",
    "print(x.values())"
   ]
  },
  {
   "cell_type": "markdown",
   "metadata": {
    "id": "kwiOeIXG8bI7"
   },
   "source": [
    "### 1.2 Basic algebraic operations"
   ]
  },
  {
   "cell_type": "code",
   "execution_count": 13,
   "metadata": {
    "colab": {
     "base_uri": "https://localhost:8080/"
    },
    "executionInfo": {
     "elapsed": 235,
     "status": "ok",
     "timestamp": 1693942014264,
     "user": {
      "displayName": "Bryce Bass",
      "userId": "04786905095297427136"
     },
     "user_tz": 240
    },
    "id": "iB4EdSZF8dIZ",
    "outputId": "a8675ba9-e900-4a16-ccf8-3d2235788c45",
    "ExecuteTime": {
     "end_time": "2023-12-07T15:36:57.296172Z",
     "start_time": "2023-12-07T15:36:57.283218Z"
    }
   },
   "outputs": [
    {
     "name": "stdout",
     "output_type": "stream",
     "text": [
      "<class 'int'>\n",
      "3\n"
     ]
    }
   ],
   "source": [
    "# adding integers\n",
    "x = 1 + 2\n",
    "print(type(x))\n",
    "print(x)"
   ]
  },
  {
   "cell_type": "code",
   "execution_count": 14,
   "metadata": {
    "colab": {
     "base_uri": "https://localhost:8080/"
    },
    "executionInfo": {
     "elapsed": 20,
     "status": "ok",
     "timestamp": 1693942014459,
     "user": {
      "displayName": "Bryce Bass",
      "userId": "04786905095297427136"
     },
     "user_tz": 240
    },
    "id": "C8sCP_4o8gTD",
    "outputId": "e5e1a0ef-6a57-43d5-f9c9-ca13e67cd619",
    "ExecuteTime": {
     "end_time": "2023-12-07T15:36:57.869786Z",
     "start_time": "2023-12-07T15:36:57.846966Z"
    }
   },
   "outputs": [
    {
     "name": "stdout",
     "output_type": "stream",
     "text": [
      "<class 'float'>\n",
      "4.0\n"
     ]
    }
   ],
   "source": [
    "# adding floats\n",
    "x = 1.5 + 2.5\n",
    "print(type(x))\n",
    "print(x)"
   ]
  },
  {
   "cell_type": "code",
   "execution_count": 15,
   "metadata": {
    "colab": {
     "base_uri": "https://localhost:8080/"
    },
    "executionInfo": {
     "elapsed": 19,
     "status": "ok",
     "timestamp": 1693942014460,
     "user": {
      "displayName": "Bryce Bass",
      "userId": "04786905095297427136"
     },
     "user_tz": 240
    },
    "id": "lUHMS2Ll8uh9",
    "outputId": "3c39ba4c-5aad-4237-e3f5-b4173471102a",
    "ExecuteTime": {
     "end_time": "2023-12-07T15:36:58.315424Z",
     "start_time": "2023-12-07T15:36:58.300696Z"
    }
   },
   "outputs": [
    {
     "name": "stdout",
     "output_type": "stream",
     "text": [
      "12\n"
     ]
    }
   ],
   "source": [
    "# multiplication\n",
    "x = 3 * 4\n",
    "print(x)"
   ]
  },
  {
   "cell_type": "code",
   "execution_count": 16,
   "metadata": {
    "colab": {
     "base_uri": "https://localhost:8080/"
    },
    "executionInfo": {
     "elapsed": 18,
     "status": "ok",
     "timestamp": 1693942014461,
     "user": {
      "displayName": "Bryce Bass",
      "userId": "04786905095297427136"
     },
     "user_tz": 240
    },
    "id": "QkhXSuYf8xA7",
    "outputId": "0b927326-f63e-4529-b4f1-369c19daa2c5",
    "ExecuteTime": {
     "end_time": "2023-12-07T15:36:58.686726Z",
     "start_time": "2023-12-07T15:36:58.663474Z"
    }
   },
   "outputs": [
    {
     "name": "stdout",
     "output_type": "stream",
     "text": [
      "0.75\n"
     ]
    }
   ],
   "source": [
    "# division\n",
    "x = 3/4 # slash symbol\n",
    "print(x)"
   ]
  },
  {
   "cell_type": "code",
   "execution_count": 17,
   "metadata": {
    "colab": {
     "base_uri": "https://localhost:8080/"
    },
    "executionInfo": {
     "elapsed": 16,
     "status": "ok",
     "timestamp": 1693942014462,
     "user": {
      "displayName": "Bryce Bass",
      "userId": "04786905095297427136"
     },
     "user_tz": 240
    },
    "id": "AdRvyzAB9O-d",
    "outputId": "a78a3a9c-a367-4487-b020-0cba3eccb798",
    "ExecuteTime": {
     "end_time": "2023-12-07T15:36:58.888924Z",
     "start_time": "2023-12-07T15:36:58.872945Z"
    }
   },
   "outputs": [
    {
     "name": "stdout",
     "output_type": "stream",
     "text": [
      "8\n"
     ]
    }
   ],
   "source": [
    "# exponential operation\n",
    "x = 2 ** 3\n",
    "print(x)"
   ]
  },
  {
   "cell_type": "code",
   "execution_count": 18,
   "metadata": {
    "colab": {
     "base_uri": "https://localhost:8080/"
    },
    "executionInfo": {
     "elapsed": 16,
     "status": "ok",
     "timestamp": 1693942014463,
     "user": {
      "displayName": "Bryce Bass",
      "userId": "04786905095297427136"
     },
     "user_tz": 240
    },
    "id": "HqNKvray9bbr",
    "outputId": "70a3934b-c192-48ec-e7bd-bb2f3e6175b2",
    "ExecuteTime": {
     "end_time": "2023-12-07T15:36:59.133173Z",
     "start_time": "2023-12-07T15:36:59.119942Z"
    }
   },
   "outputs": [
    {
     "name": "stdout",
     "output_type": "stream",
     "text": [
      "18\n"
     ]
    }
   ],
   "source": [
    "# order of basic algebraic operations\n",
    "x = 2 * 3 ** 2\n",
    "print(x)"
   ]
  },
  {
   "cell_type": "markdown",
   "metadata": {
    "id": "z6KchaSad-_A"
   },
   "source": [
    "## **Exercise.** Assigning 5.0 and 3.0 to x and y. Then compute the value of x divided by y."
   ]
  },
  {
   "cell_type": "code",
   "execution_count": 19,
   "metadata": {
    "colab": {
     "base_uri": "https://localhost:8080/"
    },
    "executionInfo": {
     "elapsed": 412,
     "status": "ok",
     "timestamp": 1693942492647,
     "user": {
      "displayName": "Bryce Bass",
      "userId": "04786905095297427136"
     },
     "user_tz": 240
    },
    "id": "ixVB8rNc1nwz",
    "outputId": "f3aad9e8-3222-41ff-cabf-b972e293a95f",
    "ExecuteTime": {
     "end_time": "2023-12-07T15:36:59.752177Z",
     "start_time": "2023-12-07T15:36:59.734547Z"
    }
   },
   "outputs": [
    {
     "name": "stdout",
     "output_type": "stream",
     "text": [
      "1.6666666666666667\n"
     ]
    }
   ],
   "source": [
    "x = 5.0\n",
    "y = 3.0\n",
    "print(x / y)"
   ]
  },
  {
   "cell_type": "markdown",
   "metadata": {
    "id": "sbbVwOgO-06n"
   },
   "source": [
    "### 1.3 Boolean operations"
   ]
  },
  {
   "cell_type": "code",
   "execution_count": 20,
   "metadata": {
    "id": "osq2vNEW-3Va",
    "ExecuteTime": {
     "end_time": "2023-12-07T15:37:00.285601Z",
     "start_time": "2023-12-07T15:37:00.268692Z"
    }
   },
   "outputs": [
    {
     "data": {
      "text/plain": "True"
     },
     "execution_count": 20,
     "metadata": {},
     "output_type": "execute_result"
    }
   ],
   "source": [
    "# check equality\n",
    "x = 10 # assign value using one equal sign\n",
    "x == 10 # check equality using two equal signs"
   ]
  },
  {
   "cell_type": "code",
   "execution_count": 21,
   "metadata": {
    "id": "FMJF5xjK_imK",
    "ExecuteTime": {
     "end_time": "2023-12-07T15:37:00.504182Z",
     "start_time": "2023-12-07T15:37:00.489250Z"
    }
   },
   "outputs": [
    {
     "data": {
      "text/plain": "False"
     },
     "execution_count": 21,
     "metadata": {},
     "output_type": "execute_result"
    }
   ],
   "source": [
    "# check larger than\n",
    "x = 10\n",
    "x > 100"
   ]
  },
  {
   "cell_type": "code",
   "execution_count": 22,
   "metadata": {
    "id": "lPTywFR2Aanj",
    "ExecuteTime": {
     "end_time": "2023-12-07T15:37:00.834998Z",
     "start_time": "2023-12-07T15:37:00.821413Z"
    }
   },
   "outputs": [],
   "source": [
    "# True/False; and/or/not\n",
    "x = True\n",
    "y = False"
   ]
  },
  {
   "cell_type": "code",
   "execution_count": 23,
   "metadata": {
    "id": "rPnJIFMTAg3S",
    "ExecuteTime": {
     "end_time": "2023-12-07T15:37:01.055465Z",
     "start_time": "2023-12-07T15:37:01.039477Z"
    }
   },
   "outputs": [
    {
     "data": {
      "text/plain": "False"
     },
     "execution_count": 23,
     "metadata": {},
     "output_type": "execute_result"
    }
   ],
   "source": [
    "x and y"
   ]
  },
  {
   "cell_type": "code",
   "execution_count": 24,
   "metadata": {
    "id": "Zq3I3-KwAjEi",
    "ExecuteTime": {
     "end_time": "2023-12-07T15:37:01.300057Z",
     "start_time": "2023-12-07T15:37:01.287154Z"
    }
   },
   "outputs": [
    {
     "data": {
      "text/plain": "True"
     },
     "execution_count": 24,
     "metadata": {},
     "output_type": "execute_result"
    }
   ],
   "source": [
    "x or y"
   ]
  },
  {
   "cell_type": "code",
   "execution_count": 25,
   "metadata": {
    "id": "UQb_l3rJAkSU",
    "ExecuteTime": {
     "end_time": "2023-12-07T15:37:01.708559Z",
     "start_time": "2023-12-07T15:37:01.694111Z"
    }
   },
   "outputs": [
    {
     "data": {
      "text/plain": "False"
     },
     "execution_count": 25,
     "metadata": {},
     "output_type": "execute_result"
    }
   ],
   "source": [
    "not x"
   ]
  },
  {
   "cell_type": "code",
   "execution_count": 26,
   "metadata": {
    "id": "8NmfUvrvAmsi",
    "ExecuteTime": {
     "end_time": "2023-12-07T15:37:01.920511Z",
     "start_time": "2023-12-07T15:37:01.905825Z"
    }
   },
   "outputs": [
    {
     "data": {
      "text/plain": "True"
     },
     "execution_count": 26,
     "metadata": {},
     "output_type": "execute_result"
    }
   ],
   "source": [
    "x and not y"
   ]
  },
  {
   "cell_type": "markdown",
   "metadata": {
    "id": "Phmh-0KZepo9"
   },
   "source": [
    "## **Exercise.** Assign value 13 to variable x. Generate the boolean output whether x is larger than 10."
   ]
  },
  {
   "cell_type": "code",
   "execution_count": 27,
   "metadata": {
    "colab": {
     "base_uri": "https://localhost:8080/"
    },
    "executionInfo": {
     "elapsed": 247,
     "status": "ok",
     "timestamp": 1693942857504,
     "user": {
      "displayName": "Bryce Bass",
      "userId": "04786905095297427136"
     },
     "user_tz": 240
    },
    "id": "ZjglQ6fL2gUR",
    "outputId": "ce8a8349-c7a3-4a08-f2e5-b9df4c7c05e4",
    "ExecuteTime": {
     "end_time": "2023-12-07T15:37:02.401568Z",
     "start_time": "2023-12-07T15:37:02.384845Z"
    }
   },
   "outputs": [
    {
     "data": {
      "text/plain": "True"
     },
     "execution_count": 27,
     "metadata": {},
     "output_type": "execute_result"
    }
   ],
   "source": [
    "x = 13\n",
    "x > 10"
   ]
  },
  {
   "cell_type": "markdown",
   "metadata": {
    "id": "JwWxfvPf_wNu"
   },
   "source": [
    "### 1.4 String operations"
   ]
  },
  {
   "cell_type": "code",
   "execution_count": 28,
   "metadata": {
    "colab": {
     "base_uri": "https://localhost:8080/"
    },
    "executionInfo": {
     "elapsed": 190,
     "status": "ok",
     "timestamp": 1693943077411,
     "user": {
      "displayName": "Bryce Bass",
      "userId": "04786905095297427136"
     },
     "user_tz": 240
    },
    "id": "Sn9m4_id_zUu",
    "outputId": "f6f14dd2-c6b1-4232-b481-cb32fdba3fd6",
    "ExecuteTime": {
     "end_time": "2023-12-07T15:37:02.865493Z",
     "start_time": "2023-12-07T15:37:02.851197Z"
    }
   },
   "outputs": [
    {
     "name": "stdout",
     "output_type": "stream",
     "text": [
      "HelloWorld\n"
     ]
    }
   ],
   "source": [
    "x = \"Hello\" + \"World\"\n",
    "print(x)"
   ]
  },
  {
   "cell_type": "code",
   "execution_count": 29,
   "metadata": {
    "colab": {
     "base_uri": "https://localhost:8080/",
     "height": 35
    },
    "executionInfo": {
     "elapsed": 574,
     "status": "ok",
     "timestamp": 1693943079705,
     "user": {
      "displayName": "Bryce Bass",
      "userId": "04786905095297427136"
     },
     "user_tz": 240
    },
    "id": "dP4S2ApXABCW",
    "outputId": "285c3a4b-fba9-407c-df52-73f059d6380c",
    "ExecuteTime": {
     "end_time": "2023-12-07T15:37:03.066745Z",
     "start_time": "2023-12-07T15:37:03.053500Z"
    }
   },
   "outputs": [
    {
     "data": {
      "text/plain": "'H'"
     },
     "execution_count": 29,
     "metadata": {},
     "output_type": "execute_result"
    }
   ],
   "source": [
    "x[0]"
   ]
  },
  {
   "cell_type": "code",
   "execution_count": 30,
   "metadata": {
    "colab": {
     "base_uri": "https://localhost:8080/",
     "height": 35
    },
    "executionInfo": {
     "elapsed": 194,
     "status": "ok",
     "timestamp": 1693943084963,
     "user": {
      "displayName": "Bryce Bass",
      "userId": "04786905095297427136"
     },
     "user_tz": 240
    },
    "id": "5FbuFMnJ_91I",
    "outputId": "47c0a144-5157-49c9-8587-7bd433bdcd0a",
    "ExecuteTime": {
     "end_time": "2023-12-07T15:37:03.287914Z",
     "start_time": "2023-12-07T15:37:03.271351Z"
    }
   },
   "outputs": [
    {
     "data": {
      "text/plain": "'l'"
     },
     "execution_count": 30,
     "metadata": {},
     "output_type": "execute_result"
    }
   ],
   "source": [
    "x[2]"
   ]
  },
  {
   "cell_type": "code",
   "execution_count": 31,
   "metadata": {
    "id": "FCm_YpSBAED4",
    "ExecuteTime": {
     "end_time": "2023-12-07T15:37:03.525551Z",
     "start_time": "2023-12-07T15:37:03.514488Z"
    }
   },
   "outputs": [
    {
     "ename": "TypeError",
     "evalue": "can only concatenate str (not \"float\") to str",
     "output_type": "error",
     "traceback": [
      "\u001B[0;31m---------------------------------------------------------------------------\u001B[0m",
      "\u001B[0;31mTypeError\u001B[0m                                 Traceback (most recent call last)",
      "Cell \u001B[0;32mIn[31], line 2\u001B[0m\n\u001B[1;32m      1\u001B[0m \u001B[38;5;66;03m# You cannot add string and float/int types\u001B[39;00m\n\u001B[0;32m----> 2\u001B[0m x \u001B[38;5;241m+\u001B[39m \u001B[38;5;241m1.0\u001B[39m\n",
      "\u001B[0;31mTypeError\u001B[0m: can only concatenate str (not \"float\") to str"
     ]
    }
   ],
   "source": [
    "# You cannot add string and float/int types\n",
    "x + 1.0"
   ]
  },
  {
   "cell_type": "code",
   "execution_count": 32,
   "metadata": {
    "id": "NfitsX_KAKtF",
    "ExecuteTime": {
     "end_time": "2023-12-07T15:37:03.738442Z",
     "start_time": "2023-12-07T15:37:03.722316Z"
    }
   },
   "outputs": [
    {
     "data": {
      "text/plain": "'HelloWorldHelloWorld'"
     },
     "execution_count": 32,
     "metadata": {},
     "output_type": "execute_result"
    }
   ],
   "source": [
    "# but you can multiply them\n",
    "x * 2"
   ]
  },
  {
   "cell_type": "markdown",
   "metadata": {
    "id": "uJ-bm0ZEBDqX"
   },
   "source": [
    "### 1.5 If condition: if, elif, else;"
   ]
  },
  {
   "cell_type": "code",
   "execution_count": 35,
   "metadata": {
    "colab": {
     "base_uri": "https://localhost:8080/"
    },
    "executionInfo": {
     "elapsed": 163,
     "status": "ok",
     "timestamp": 1693943392004,
     "user": {
      "displayName": "Bryce Bass",
      "userId": "04786905095297427136"
     },
     "user_tz": 240
    },
    "id": "0aJYRv-DB3t1",
    "outputId": "0ef28be2-c3af-4da3-bb91-dcd3fc78bc56",
    "ExecuteTime": {
     "end_time": "2023-12-07T15:37:22.190450Z",
     "start_time": "2023-12-07T15:37:22.167064Z"
    }
   },
   "outputs": [
    {
     "name": "stdout",
     "output_type": "stream",
     "text": [
      "wrong\n"
     ]
    }
   ],
   "source": [
    "# basic syntax 1\n",
    "# pay attention to small symbols: space, colon & indent\n",
    "condition = False\n",
    "if condition:\n",
    "  print(\"See me when the condition is true\")\n",
    "else:\n",
    "  print(\"wrong\")"
   ]
  },
  {
   "cell_type": "code",
   "execution_count": 36,
   "metadata": {
    "colab": {
     "base_uri": "https://localhost:8080/"
    },
    "executionInfo": {
     "elapsed": 228,
     "status": "ok",
     "timestamp": 1693942973626,
     "user": {
      "displayName": "Bryce Bass",
      "userId": "04786905095297427136"
     },
     "user_tz": 240
    },
    "id": "XnEEepN1B_7C",
    "outputId": "e845940c-b75f-46fd-ad23-f2f28f4f17d8",
    "ExecuteTime": {
     "end_time": "2023-12-07T15:37:22.590986Z",
     "start_time": "2023-12-07T15:37:22.574654Z"
    }
   },
   "outputs": [
    {
     "name": "stdout",
     "output_type": "stream",
     "text": [
      "z is four\n"
     ]
    }
   ],
   "source": [
    "# example\n",
    "z = 4\n",
    "if z - 2 == 2:\n",
    "  print(\"z is four\")"
   ]
  },
  {
   "cell_type": "code",
   "execution_count": 37,
   "metadata": {
    "id": "D3RomT_xCJkY",
    "ExecuteTime": {
     "end_time": "2023-12-07T15:37:23.183347Z",
     "start_time": "2023-12-07T15:37:23.170951Z"
    }
   },
   "outputs": [
    {
     "name": "stdout",
     "output_type": "stream",
     "text": [
      "See me when the condition is true.\n"
     ]
    }
   ],
   "source": [
    "# basic syntax 2\n",
    "condition = True\n",
    "if condition:\n",
    "  print(\"See me when the condition is true.\")\n",
    "else:\n",
    "  print(\"See me when the condition is false.\")"
   ]
  },
  {
   "cell_type": "code",
   "execution_count": 38,
   "metadata": {
    "id": "K7YqVsYMCYlk",
    "ExecuteTime": {
     "end_time": "2023-12-07T15:37:23.836461Z",
     "start_time": "2023-12-07T15:37:23.822294Z"
    }
   },
   "outputs": [
    {
     "name": "stdout",
     "output_type": "stream",
     "text": [
      "z is odd\n"
     ]
    }
   ],
   "source": [
    "# example\n",
    "z = 5\n",
    "if z%2 == 0: # remainder is zero\n",
    "  print(\"z is even\")\n",
    "else: # remainder is one\n",
    "  print(\"z is odd\")"
   ]
  },
  {
   "cell_type": "code",
   "execution_count": 39,
   "metadata": {
    "id": "-Pdm_FUECqZr",
    "ExecuteTime": {
     "end_time": "2023-12-07T15:37:24.468713Z",
     "start_time": "2023-12-07T15:37:24.455273Z"
    }
   },
   "outputs": [
    {
     "name": "stdout",
     "output_type": "stream",
     "text": [
      "z is divisible by 3\n"
     ]
    }
   ],
   "source": [
    "# basic syntax 3: if-elif-else\n",
    "# example\n",
    "z = 3\n",
    "if z%2 == 0:\n",
    "  print(\"z is divisible by 2\") # False\n",
    "elif z%3 == 0:\n",
    "  print(\"z is divisible by 3\") # True\n",
    "else:\n",
    "  print(\"z is neither divisible by 2 nor by 3\")"
   ]
  },
  {
   "cell_type": "markdown",
   "metadata": {
    "id": "LckYSG13fSPb"
   },
   "source": [
    "## **Exercise.** Assign 10 to x. If x is bigger than 0, print \"x is a positive number\"."
   ]
  },
  {
   "cell_type": "code",
   "execution_count": 40,
   "metadata": {
    "colab": {
     "base_uri": "https://localhost:8080/"
    },
    "executionInfo": {
     "elapsed": 297,
     "status": "ok",
     "timestamp": 1693943614973,
     "user": {
      "displayName": "Bryce Bass",
      "userId": "04786905095297427136"
     },
     "user_tz": 240
    },
    "id": "W03_fndc5kNZ",
    "outputId": "ae8f60ea-96eb-4b4e-d9da-72481d6585ae",
    "ExecuteTime": {
     "end_time": "2023-12-07T15:37:25.782775Z",
     "start_time": "2023-12-07T15:37:25.771271Z"
    }
   },
   "outputs": [
    {
     "name": "stdout",
     "output_type": "stream",
     "text": [
      "x is a positive number\n"
     ]
    }
   ],
   "source": [
    "x = 10\n",
    "if x > 0:\n",
    "  print(\"x is a positive number\")\n",
    "else:\n",
    "  print(\"X is a negative number\")\n"
   ]
  },
  {
   "cell_type": "markdown",
   "metadata": {
    "id": "6tqHQ7lZDT30"
   },
   "source": [
    "### 1.6 For Loop"
   ]
  },
  {
   "cell_type": "code",
   "execution_count": 41,
   "metadata": {
    "id": "S1743asJDW2p",
    "ExecuteTime": {
     "end_time": "2023-12-07T15:37:26.915149Z",
     "start_time": "2023-12-07T15:37:26.901615Z"
    }
   },
   "outputs": [
    {
     "name": "stdout",
     "output_type": "stream",
     "text": [
      "H\n",
      "e\n",
      "l\n",
      "l\n",
      "o\n",
      " \n",
      "W\n",
      "o\n",
      "r\n",
      "l\n",
      "d\n"
     ]
    }
   ],
   "source": [
    "# example 1\n",
    "# print every string\n",
    "x = \"Hello World\"\n",
    "for letter in x:\n",
    "  print(letter)"
   ]
  },
  {
   "cell_type": "code",
   "execution_count": 42,
   "metadata": {
    "colab": {
     "base_uri": "https://localhost:8080/"
    },
    "executionInfo": {
     "elapsed": 12,
     "status": "ok",
     "timestamp": 1693944802919,
     "user": {
      "displayName": "Bryce Bass",
      "userId": "04786905095297427136"
     },
     "user_tz": 240
    },
    "id": "M6-yARpSDiNq",
    "outputId": "54a19481-eb8c-45ef-9ece-69d01510877e",
    "ExecuteTime": {
     "end_time": "2023-12-07T15:37:27.538341Z",
     "start_time": "2023-12-07T15:37:27.516040Z"
    }
   },
   "outputs": [
    {
     "name": "stdout",
     "output_type": "stream",
     "text": [
      "0\n",
      "1\n",
      "3\n",
      "6\n"
     ]
    }
   ],
   "source": [
    "# example 2\n",
    "# adding values\n",
    "initial_value = 0\n",
    "for i in range(0,4): # range(4): 0, 1, 2, 3\n",
    "  initial_value = initial_value + i\n",
    "  print(initial_value)"
   ]
  },
  {
   "cell_type": "code",
   "execution_count": 43,
   "metadata": {
    "id": "tX1rg7MyJcWZ",
    "ExecuteTime": {
     "end_time": "2023-12-07T15:37:28.065091Z",
     "start_time": "2023-12-07T15:37:28.053141Z"
    }
   },
   "outputs": [
    {
     "name": "stdout",
     "output_type": "stream",
     "text": [
      "Orlando\n",
      "Gainesville\n",
      "Miami\n",
      "Tampa Bay\n",
      "Jacksonville\n"
     ]
    }
   ],
   "source": [
    "# example 3\n",
    "# print the list\n",
    "my_list = ['Orlando', 'Gainesville', 'Miami', 'Tampa Bay', 'Jacksonville']\n",
    "for item in my_list:\n",
    "  print(item)"
   ]
  },
  {
   "cell_type": "markdown",
   "metadata": {
    "id": "86kHjpU5fg_L"
   },
   "source": [
    "## **Exercise.** Calcluate the sum of all numbers from 1 to 100."
   ]
  },
  {
   "cell_type": "code",
   "execution_count": 44,
   "metadata": {
    "colab": {
     "base_uri": "https://localhost:8080/"
    },
    "executionInfo": {
     "elapsed": 203,
     "status": "ok",
     "timestamp": 1693944199708,
     "user": {
      "displayName": "Bryce Bass",
      "userId": "04786905095297427136"
     },
     "user_tz": 240
    },
    "id": "wdgKTqIz6N1U",
    "outputId": "ca8610c9-4e87-4cd3-ca8f-96f4349bd81c",
    "ExecuteTime": {
     "end_time": "2023-12-07T15:37:29.019229Z",
     "start_time": "2023-12-07T15:37:28.973304Z"
    }
   },
   "outputs": [
    {
     "name": "stdout",
     "output_type": "stream",
     "text": [
      "5050\n"
     ]
    }
   ],
   "source": [
    "sum = 0\n",
    "for i in range(0, 101):\n",
    "    sum = sum + i\n",
    "print(sum)"
   ]
  },
  {
   "cell_type": "markdown",
   "metadata": {
    "id": "_XOTQjUYEpsk"
   },
   "source": [
    "### 1.7 Functions"
   ]
  },
  {
   "cell_type": "code",
   "execution_count": 45,
   "metadata": {
    "id": "IQTNQQukEsCi",
    "ExecuteTime": {
     "end_time": "2023-12-07T15:37:29.820330Z",
     "start_time": "2023-12-07T15:37:29.794532Z"
    }
   },
   "outputs": [
    {
     "name": "stdout",
     "output_type": "stream",
     "text": [
      "6\n"
     ]
    }
   ],
   "source": [
    "# example 1.\n",
    "def add_one(x):\n",
    "  '''\n",
    "  Add one to the value x  #Just comments here.\n",
    "  '''\n",
    "  y = x + 1\n",
    "  return y\n",
    "\n",
    "# test\n",
    "x = 5\n",
    "y = add_one(x)\n",
    "print(y)"
   ]
  },
  {
   "cell_type": "markdown",
   "metadata": {
    "id": "gC6nXxQ9lTrM"
   },
   "source": [
    "## **Exercise.** Develop a function called multiply_two, which can multiply the input value by two as the output. Then test this function with an example."
   ]
  },
  {
   "cell_type": "code",
   "execution_count": 46,
   "metadata": {
    "colab": {
     "base_uri": "https://localhost:8080/"
    },
    "executionInfo": {
     "elapsed": 178,
     "status": "ok",
     "timestamp": 1693945142248,
     "user": {
      "displayName": "Bryce Bass",
      "userId": "04786905095297427136"
     },
     "user_tz": 240
    },
    "id": "57AummwE_hdr",
    "outputId": "e6b15102-58ff-4d39-851e-86811a5fbee1",
    "ExecuteTime": {
     "end_time": "2023-12-07T15:37:30.681307Z",
     "start_time": "2023-12-07T15:37:30.669371Z"
    }
   },
   "outputs": [
    {
     "name": "stdout",
     "output_type": "stream",
     "text": [
      "20\n"
     ]
    }
   ],
   "source": [
    "def multiply_two(x):\n",
    "    y = x * 2\n",
    "    return y\n",
    "x = 10\n",
    "y = multiply_two(x)\n",
    "print(y)"
   ]
  },
  {
   "cell_type": "markdown",
   "metadata": {
    "id": "-n9eaCeG6AnQ"
   },
   "source": [
    "## 2. Loading data\n",
    "\n",
    "- Please create a folder named as data under your Colab Notebooks folder. Then copy and paste the data set (Florida_ct.csv) and the documentation under the data folder."
   ]
  },
  {
   "cell_type": "code",
   "execution_count": 47,
   "metadata": {
    "id": "MEtL3J0ZMQNN",
    "ExecuteTime": {
     "end_time": "2023-12-07T15:37:33.201678Z",
     "start_time": "2023-12-07T15:37:31.584636Z"
    }
   },
   "outputs": [
    {
     "name": "stdout",
     "output_type": "stream",
     "text": [
      "Intel MKL WARNING: Support of Intel(R) Streaming SIMD Extensions 4.2 (Intel(R) SSE4.2) enabled only processors has been deprecated. Intel oneAPI Math Kernel Library 2025.0 will require Intel(R) Advanced Vector Extensions (Intel(R) AVX) instructions.\n",
      "Intel MKL WARNING: Support of Intel(R) Streaming SIMD Extensions 4.2 (Intel(R) SSE4.2) enabled only processors has been deprecated. Intel oneAPI Math Kernel Library 2025.0 will require Intel(R) Advanced Vector Extensions (Intel(R) AVX) instructions.\n"
     ]
    }
   ],
   "source": [
    "# import pandas\n",
    "import pandas as pd"
   ]
  },
  {
   "cell_type": "code",
   "execution_count": 51,
   "metadata": {
    "id": "t7xFCA-4K9u_",
    "ExecuteTime": {
     "end_time": "2023-12-07T15:39:48.605695Z",
     "start_time": "2023-12-07T15:39:48.535052Z"
    }
   },
   "outputs": [],
   "source": [
    "# load the csv file using pandas\n",
    "df = pd.read_csv('SampleDataset/Florida_ct.csv', index_col = 0)"
   ]
  },
  {
   "cell_type": "code",
   "execution_count": 52,
   "metadata": {
    "colab": {
     "base_uri": "https://localhost:8080/",
     "height": 200
    },
    "executionInfo": {
     "elapsed": 6,
     "status": "error",
     "timestamp": 1694458792109,
     "user": {
      "displayName": "Shenhao Wang",
      "userId": "03503527554188089407"
     },
     "user_tz": 240
    },
    "id": "lHCPnLCDPOTF",
    "outputId": "0bae3271-6f72-48f7-86db-3278db941bfb",
    "ExecuteTime": {
     "end_time": "2023-12-07T15:39:50.642054Z",
     "start_time": "2023-12-07T15:39:50.591387Z"
    }
   },
   "outputs": [
    {
     "data": {
      "text/plain": "      pop_total  sex_total  sex_male  sex_female  age_median  households  \\\n0        2812.0     2812.0    1383.0      1429.0        39.4       931.0   \n1        4709.0     4709.0    2272.0      2437.0        34.2      1668.0   \n2        5005.0     5005.0    2444.0      2561.0        34.1      1379.0   \n3        6754.0     6754.0    2934.0      3820.0        31.3      2238.0   \n4        3021.0     3021.0    1695.0      1326.0        44.1      1364.0   \n...         ...        ...       ...         ...         ...         ...   \n4162    15742.0    15742.0    7957.0      7785.0        41.0      5517.0   \n4163     5723.0     5723.0    2914.0      2809.0        43.0      2001.0   \n4164    10342.0    10342.0    4657.0      5685.0        37.6      3746.0   \n4165     8960.0     8960.0    4166.0      4794.0        37.2      3324.0   \n4166     5083.0     5083.0    2573.0      2510.0        39.2      1755.0   \n\n      race_total  race_white  race_black  race_native  ...  travel_walk_ratio  \\\n0         2812.0      2086.0       517.0          0.0  ...           0.014815   \n1         4709.0      2382.0      1953.0          0.0  ...           0.022150   \n2         5005.0      2334.0      2206.0        224.0  ...           0.026141   \n3         6754.0      4052.0      1671.0        326.0  ...           0.052697   \n4         3021.0      2861.0       121.0          0.0  ...           0.003014   \n...          ...         ...         ...          ...  ...                ...   \n4162     15742.0     13894.0      1128.0         64.0  ...           0.000000   \n4163      5723.0      4664.0       482.0          0.0  ...           0.017050   \n4164     10342.0      7956.0      1351.0         13.0  ...           0.000000   \n4165      8960.0      6286.0      1831.0          0.0  ...           0.024021   \n4166      5083.0      3753.0       987.0          0.0  ...           0.045983   \n\n      travel_work_home_ratio  edu_bachelor_ratio  edu_master_ratio  \\\n0                   0.024242            0.183838          0.029798   \n1                   0.004615            0.135222          0.040245   \n2                   0.027913            0.213247          0.064620   \n3                   0.004054            0.093379          0.082510   \n4                   0.013059            0.219868          0.138631   \n...                      ...                 ...               ...   \n4162                0.062212            0.164241          0.084891   \n4163                0.047581            0.215161          0.084563   \n4164                0.038862            0.137002          0.030591   \n4165                0.064132            0.174399          0.063014   \n4166                0.046488            0.113451          0.022466   \n\n      edu_phd_ratio  edu_higher_edu_ratio  employment_unemployed_ratio  \\\n0          0.003030              0.216667                     0.286635   \n1          0.003220              0.178686                     0.318327   \n2          0.007431              0.285299                     0.366755   \n3          0.012599              0.188488                     0.314452   \n4          0.007064              0.365563                     0.218447   \n...             ...                   ...                          ...   \n4162       0.002066              0.251197                     0.401551   \n4163       0.007005              0.306730                     0.411036   \n4164       0.002049              0.169643                     0.353295   \n4165       0.003126              0.240540                     0.363482   \n4166       0.002247              0.138163                     0.491815   \n\n      vehicle_per_capita  vehicle_per_household  vacancy_ratio  \n0               0.528094               1.595059       0.155938  \n1               0.460183               1.299161       0.152869  \n2               0.450949               1.636693       0.162211  \n3               0.474830               1.432976       0.178716  \n4               0.659053               1.459677       0.335930  \n...                  ...                    ...            ...  \n4162            0.426820               1.217872       0.099118  \n4163            0.440678               1.260370       0.039827  \n4164            0.482692               1.332621       0.041208  \n4165            0.478571               1.290012       0.017440  \n4166            0.389337               1.127635       0.129464  \n\n[4167 rows x 88 columns]",
      "text/html": "<div>\n<style scoped>\n    .dataframe tbody tr th:only-of-type {\n        vertical-align: middle;\n    }\n\n    .dataframe tbody tr th {\n        vertical-align: top;\n    }\n\n    .dataframe thead th {\n        text-align: right;\n    }\n</style>\n<table border=\"1\" class=\"dataframe\">\n  <thead>\n    <tr style=\"text-align: right;\">\n      <th></th>\n      <th>pop_total</th>\n      <th>sex_total</th>\n      <th>sex_male</th>\n      <th>sex_female</th>\n      <th>age_median</th>\n      <th>households</th>\n      <th>race_total</th>\n      <th>race_white</th>\n      <th>race_black</th>\n      <th>race_native</th>\n      <th>...</th>\n      <th>travel_walk_ratio</th>\n      <th>travel_work_home_ratio</th>\n      <th>edu_bachelor_ratio</th>\n      <th>edu_master_ratio</th>\n      <th>edu_phd_ratio</th>\n      <th>edu_higher_edu_ratio</th>\n      <th>employment_unemployed_ratio</th>\n      <th>vehicle_per_capita</th>\n      <th>vehicle_per_household</th>\n      <th>vacancy_ratio</th>\n    </tr>\n  </thead>\n  <tbody>\n    <tr>\n      <th>0</th>\n      <td>2812.0</td>\n      <td>2812.0</td>\n      <td>1383.0</td>\n      <td>1429.0</td>\n      <td>39.4</td>\n      <td>931.0</td>\n      <td>2812.0</td>\n      <td>2086.0</td>\n      <td>517.0</td>\n      <td>0.0</td>\n      <td>...</td>\n      <td>0.014815</td>\n      <td>0.024242</td>\n      <td>0.183838</td>\n      <td>0.029798</td>\n      <td>0.003030</td>\n      <td>0.216667</td>\n      <td>0.286635</td>\n      <td>0.528094</td>\n      <td>1.595059</td>\n      <td>0.155938</td>\n    </tr>\n    <tr>\n      <th>1</th>\n      <td>4709.0</td>\n      <td>4709.0</td>\n      <td>2272.0</td>\n      <td>2437.0</td>\n      <td>34.2</td>\n      <td>1668.0</td>\n      <td>4709.0</td>\n      <td>2382.0</td>\n      <td>1953.0</td>\n      <td>0.0</td>\n      <td>...</td>\n      <td>0.022150</td>\n      <td>0.004615</td>\n      <td>0.135222</td>\n      <td>0.040245</td>\n      <td>0.003220</td>\n      <td>0.178686</td>\n      <td>0.318327</td>\n      <td>0.460183</td>\n      <td>1.299161</td>\n      <td>0.152869</td>\n    </tr>\n    <tr>\n      <th>2</th>\n      <td>5005.0</td>\n      <td>5005.0</td>\n      <td>2444.0</td>\n      <td>2561.0</td>\n      <td>34.1</td>\n      <td>1379.0</td>\n      <td>5005.0</td>\n      <td>2334.0</td>\n      <td>2206.0</td>\n      <td>224.0</td>\n      <td>...</td>\n      <td>0.026141</td>\n      <td>0.027913</td>\n      <td>0.213247</td>\n      <td>0.064620</td>\n      <td>0.007431</td>\n      <td>0.285299</td>\n      <td>0.366755</td>\n      <td>0.450949</td>\n      <td>1.636693</td>\n      <td>0.162211</td>\n    </tr>\n    <tr>\n      <th>3</th>\n      <td>6754.0</td>\n      <td>6754.0</td>\n      <td>2934.0</td>\n      <td>3820.0</td>\n      <td>31.3</td>\n      <td>2238.0</td>\n      <td>6754.0</td>\n      <td>4052.0</td>\n      <td>1671.0</td>\n      <td>326.0</td>\n      <td>...</td>\n      <td>0.052697</td>\n      <td>0.004054</td>\n      <td>0.093379</td>\n      <td>0.082510</td>\n      <td>0.012599</td>\n      <td>0.188488</td>\n      <td>0.314452</td>\n      <td>0.474830</td>\n      <td>1.432976</td>\n      <td>0.178716</td>\n    </tr>\n    <tr>\n      <th>4</th>\n      <td>3021.0</td>\n      <td>3021.0</td>\n      <td>1695.0</td>\n      <td>1326.0</td>\n      <td>44.1</td>\n      <td>1364.0</td>\n      <td>3021.0</td>\n      <td>2861.0</td>\n      <td>121.0</td>\n      <td>0.0</td>\n      <td>...</td>\n      <td>0.003014</td>\n      <td>0.013059</td>\n      <td>0.219868</td>\n      <td>0.138631</td>\n      <td>0.007064</td>\n      <td>0.365563</td>\n      <td>0.218447</td>\n      <td>0.659053</td>\n      <td>1.459677</td>\n      <td>0.335930</td>\n    </tr>\n    <tr>\n      <th>...</th>\n      <td>...</td>\n      <td>...</td>\n      <td>...</td>\n      <td>...</td>\n      <td>...</td>\n      <td>...</td>\n      <td>...</td>\n      <td>...</td>\n      <td>...</td>\n      <td>...</td>\n      <td>...</td>\n      <td>...</td>\n      <td>...</td>\n      <td>...</td>\n      <td>...</td>\n      <td>...</td>\n      <td>...</td>\n      <td>...</td>\n      <td>...</td>\n      <td>...</td>\n      <td>...</td>\n    </tr>\n    <tr>\n      <th>4162</th>\n      <td>15742.0</td>\n      <td>15742.0</td>\n      <td>7957.0</td>\n      <td>7785.0</td>\n      <td>41.0</td>\n      <td>5517.0</td>\n      <td>15742.0</td>\n      <td>13894.0</td>\n      <td>1128.0</td>\n      <td>64.0</td>\n      <td>...</td>\n      <td>0.000000</td>\n      <td>0.062212</td>\n      <td>0.164241</td>\n      <td>0.084891</td>\n      <td>0.002066</td>\n      <td>0.251197</td>\n      <td>0.401551</td>\n      <td>0.426820</td>\n      <td>1.217872</td>\n      <td>0.099118</td>\n    </tr>\n    <tr>\n      <th>4163</th>\n      <td>5723.0</td>\n      <td>5723.0</td>\n      <td>2914.0</td>\n      <td>2809.0</td>\n      <td>43.0</td>\n      <td>2001.0</td>\n      <td>5723.0</td>\n      <td>4664.0</td>\n      <td>482.0</td>\n      <td>0.0</td>\n      <td>...</td>\n      <td>0.017050</td>\n      <td>0.047581</td>\n      <td>0.215161</td>\n      <td>0.084563</td>\n      <td>0.007005</td>\n      <td>0.306730</td>\n      <td>0.411036</td>\n      <td>0.440678</td>\n      <td>1.260370</td>\n      <td>0.039827</td>\n    </tr>\n    <tr>\n      <th>4164</th>\n      <td>10342.0</td>\n      <td>10342.0</td>\n      <td>4657.0</td>\n      <td>5685.0</td>\n      <td>37.6</td>\n      <td>3746.0</td>\n      <td>10342.0</td>\n      <td>7956.0</td>\n      <td>1351.0</td>\n      <td>13.0</td>\n      <td>...</td>\n      <td>0.000000</td>\n      <td>0.038862</td>\n      <td>0.137002</td>\n      <td>0.030591</td>\n      <td>0.002049</td>\n      <td>0.169643</td>\n      <td>0.353295</td>\n      <td>0.482692</td>\n      <td>1.332621</td>\n      <td>0.041208</td>\n    </tr>\n    <tr>\n      <th>4165</th>\n      <td>8960.0</td>\n      <td>8960.0</td>\n      <td>4166.0</td>\n      <td>4794.0</td>\n      <td>37.2</td>\n      <td>3324.0</td>\n      <td>8960.0</td>\n      <td>6286.0</td>\n      <td>1831.0</td>\n      <td>0.0</td>\n      <td>...</td>\n      <td>0.024021</td>\n      <td>0.064132</td>\n      <td>0.174399</td>\n      <td>0.063014</td>\n      <td>0.003126</td>\n      <td>0.240540</td>\n      <td>0.363482</td>\n      <td>0.478571</td>\n      <td>1.290012</td>\n      <td>0.017440</td>\n    </tr>\n    <tr>\n      <th>4166</th>\n      <td>5083.0</td>\n      <td>5083.0</td>\n      <td>2573.0</td>\n      <td>2510.0</td>\n      <td>39.2</td>\n      <td>1755.0</td>\n      <td>5083.0</td>\n      <td>3753.0</td>\n      <td>987.0</td>\n      <td>0.0</td>\n      <td>...</td>\n      <td>0.045983</td>\n      <td>0.046488</td>\n      <td>0.113451</td>\n      <td>0.022466</td>\n      <td>0.002247</td>\n      <td>0.138163</td>\n      <td>0.491815</td>\n      <td>0.389337</td>\n      <td>1.127635</td>\n      <td>0.129464</td>\n    </tr>\n  </tbody>\n</table>\n<p>4167 rows × 88 columns</p>\n</div>"
     },
     "execution_count": 52,
     "metadata": {},
     "output_type": "execute_result"
    }
   ],
   "source": [
    "# check the dataframe\n",
    "df"
   ]
  },
  {
   "cell_type": "markdown",
   "metadata": {
    "id": "X0OakghXQAMA"
   },
   "source": [
    "This is the data set from US Census. Each row represents a census tract, and each column represents a variable. We could check the columns one by one using numpy and pandas. Further details of the variables can be found in the documentation csv file."
   ]
  },
  {
   "cell_type": "markdown",
   "metadata": {
    "id": "CPP8EMdpmDwC"
   },
   "source": [
    "## **Exercise.** Everyone could load and check this dataframe."
   ]
  },
  {
   "cell_type": "markdown",
   "metadata": {
    "id": "tJllhJr054lr"
   },
   "source": [
    "## 3. Viewing data\n",
    "\n",
    "- Numpy and pandas are the two most common Python packages to process data and describe the summary statistics for data sets."
   ]
  },
  {
   "cell_type": "markdown",
   "metadata": {
    "id": "Xbi9gcHPVPXX"
   },
   "source": [
    "### 3.1 Data types in numpy and pandas\n",
    "\n",
    "Before delving into the data set, let's be familiar with the data structures in numpy and pandas."
   ]
  },
  {
   "cell_type": "code",
   "execution_count": 53,
   "metadata": {
    "id": "Kw_N-mXjVUMl",
    "ExecuteTime": {
     "end_time": "2023-12-07T15:43:29.033594Z",
     "start_time": "2023-12-07T15:43:29.013260Z"
    }
   },
   "outputs": [],
   "source": [
    "# import numpy package\n",
    "# Note: numpy for matrix operation; pandas for data sets.\n",
    "import numpy as np\n",
    "import pandas as pd"
   ]
  },
  {
   "cell_type": "code",
   "execution_count": 54,
   "metadata": {
    "colab": {
     "base_uri": "https://localhost:8080/"
    },
    "executionInfo": {
     "elapsed": 161,
     "status": "ok",
     "timestamp": 1693946768849,
     "user": {
      "displayName": "Ryan Lester",
      "userId": "11263656119985576784"
     },
     "user_tz": 240
    },
    "id": "TCV8sFi8VXdF",
    "outputId": "588cf888-dca1-4351-bd90-a6e83416d1e9",
    "ExecuteTime": {
     "end_time": "2023-12-07T15:43:29.503664Z",
     "start_time": "2023-12-07T15:43:29.481048Z"
    }
   },
   "outputs": [
    {
     "data": {
      "text/plain": "array([0, 1, 2, 3, 4])"
     },
     "execution_count": 54,
     "metadata": {},
     "output_type": "execute_result"
    }
   ],
   "source": [
    "# Numpy array (1D)\n",
    "array_1 = np.arange(0,5)\n",
    "array_1"
   ]
  },
  {
   "cell_type": "code",
   "execution_count": 55,
   "metadata": {
    "colab": {
     "base_uri": "https://localhost:8080/"
    },
    "executionInfo": {
     "elapsed": 171,
     "status": "ok",
     "timestamp": 1693946479828,
     "user": {
      "displayName": "Ryan Lester",
      "userId": "11263656119985576784"
     },
     "user_tz": 240
    },
    "id": "eYSI7L9bVW65",
    "outputId": "41d3210a-2b11-4bb5-eff4-834a41aa3843",
    "ExecuteTime": {
     "end_time": "2023-12-07T15:43:30.124620Z",
     "start_time": "2023-12-07T15:43:30.112852Z"
    }
   },
   "outputs": [
    {
     "name": "stdout",
     "output_type": "stream",
     "text": [
      "[6 8 4 3 4 1 2 8 9 5 4 6 4 5 1 8 1 4 4 2]\n",
      "[[6 8 4 3]\n",
      " [4 1 2 8]\n",
      " [9 5 4 6]\n",
      " [4 5 1 8]\n",
      " [1 4 4 2]]\n"
     ]
    }
   ],
   "source": [
    "# Numpy array (2D)\n",
    "# 1. Two printings\n",
    "# 2. random.randint - randomly generating 20 different values between 1 and 2.\n",
    "# 3. reshape: reshaping the array to a matrix with 5*4 shape.\n",
    "array_1D = np.random.randint(1,10,20)\n",
    "print(array_1D)\n",
    "array_2D = array_1D.reshape(5, -1)\n",
    "print(array_2D)"
   ]
  },
  {
   "cell_type": "code",
   "execution_count": 56,
   "metadata": {
    "colab": {
     "base_uri": "https://localhost:8080/"
    },
    "executionInfo": {
     "elapsed": 222,
     "status": "ok",
     "timestamp": 1693946330792,
     "user": {
      "displayName": "Bryce Bass",
      "userId": "04786905095297427136"
     },
     "user_tz": 240
    },
    "id": "m6fp7vC6WRmv",
    "outputId": "bfaae6e2-b26d-4995-b5ba-0e9700f9cfa4",
    "ExecuteTime": {
     "end_time": "2023-12-07T15:43:30.751744Z",
     "start_time": "2023-12-07T15:43:30.729797Z"
    }
   },
   "outputs": [
    {
     "data": {
      "text/plain": "0     8\n1     5\n2    77\n3     2\ndtype: int64"
     },
     "execution_count": 56,
     "metadata": {},
     "output_type": "execute_result"
    }
   ],
   "source": [
    "# Pandas series\n",
    "my_list = [8, 5, 77, 2]\n",
    "my_series = pd.Series(my_list)\n",
    "my_series"
   ]
  },
  {
   "cell_type": "code",
   "execution_count": 57,
   "metadata": {
    "colab": {
     "base_uri": "https://localhost:8080/"
    },
    "executionInfo": {
     "elapsed": 177,
     "status": "ok",
     "timestamp": 1693946333388,
     "user": {
      "displayName": "Bryce Bass",
      "userId": "04786905095297427136"
     },
     "user_tz": 240
    },
    "id": "zpqyPVvQWR21",
    "outputId": "f3844d5c-1190-4cbb-e99f-129f32f78c23",
    "ExecuteTime": {
     "end_time": "2023-12-07T15:43:31.184206Z",
     "start_time": "2023-12-07T15:43:31.168918Z"
    }
   },
   "outputs": [
    {
     "data": {
      "text/plain": "{'hh_income': [71000, 28000, 35000, 120000],\n 'home_value': [520000, 275000, 400000, 980000]}"
     },
     "execution_count": 57,
     "metadata": {},
     "output_type": "execute_result"
    }
   ],
   "source": [
    "# Pandas dataframe\n",
    "# a dict can contain multiple lists and label them\n",
    "my_dict = {'hh_income'  : [71000, 28000, 35000, 120000],\n",
    "           'home_value' : [520000, 275000, 400000, 980000]}\n",
    "my_dict"
   ]
  },
  {
   "cell_type": "markdown",
   "metadata": {
    "id": "JG7u6L9qmoEA"
   },
   "source": [
    "## **Exercise.** Create a one-dimensional numpy array including ten one's. (Google: numpy.ones)\n",
    "## **Exercise.** Create a two-dimensional numpy arrays including 3*3 one's. (Google: numpy.ones)\n",
    "## **Exercise.** Create a pandas dataframe with two columns and three rows. The first column is: 'name': ['Bob', 'Sue', 'Mary']; the second column is 'age': [39, 57, 28]."
   ]
  },
  {
   "cell_type": "markdown",
   "metadata": {
    "id": "5obenwLDU4-A"
   },
   "source": [
    "### 3.2 Viewing the loaded Data"
   ]
  },
  {
   "cell_type": "code",
   "execution_count": 58,
   "metadata": {
    "id": "Po6XCBX4K0Ll",
    "colab": {
     "base_uri": "https://localhost:8080/"
    },
    "executionInfo": {
     "status": "ok",
     "timestamp": 1693946889248,
     "user_tz": 240,
     "elapsed": 214,
     "user": {
      "displayName": "Ryan Lester",
      "userId": "11263656119985576784"
     }
    },
    "outputId": "587699f0-c4bb-4f84-f0a8-1d4cf51ca32c",
    "ExecuteTime": {
     "end_time": "2023-12-07T15:43:31.922621Z",
     "start_time": "2023-12-07T15:43:31.910452Z"
    }
   },
   "outputs": [
    {
     "data": {
      "text/plain": "(4167, 88)"
     },
     "execution_count": 58,
     "metadata": {},
     "output_type": "execute_result"
    }
   ],
   "source": [
    "# shape\n",
    "df.shape"
   ]
  },
  {
   "cell_type": "code",
   "execution_count": 59,
   "metadata": {
    "id": "pOJ_KTdwP5cm",
    "colab": {
     "base_uri": "https://localhost:8080/",
     "height": 256
    },
    "executionInfo": {
     "status": "ok",
     "timestamp": 1693946894345,
     "user_tz": 240,
     "elapsed": 185,
     "user": {
      "displayName": "Ryan Lester",
      "userId": "11263656119985576784"
     }
    },
    "outputId": "feae2cfb-04a4-4ec6-a259-fcae69c5d50a",
    "ExecuteTime": {
     "end_time": "2023-12-07T15:43:32.115829Z",
     "start_time": "2023-12-07T15:43:32.108918Z"
    }
   },
   "outputs": [
    {
     "data": {
      "text/plain": "   pop_total  sex_total  sex_male  sex_female  age_median  households  \\\n0     2812.0     2812.0    1383.0      1429.0        39.4       931.0   \n1     4709.0     4709.0    2272.0      2437.0        34.2      1668.0   \n2     5005.0     5005.0    2444.0      2561.0        34.1      1379.0   \n3     6754.0     6754.0    2934.0      3820.0        31.3      2238.0   \n4     3021.0     3021.0    1695.0      1326.0        44.1      1364.0   \n\n   race_total  race_white  race_black  race_native  ...  travel_walk_ratio  \\\n0      2812.0      2086.0       517.0          0.0  ...           0.014815   \n1      4709.0      2382.0      1953.0          0.0  ...           0.022150   \n2      5005.0      2334.0      2206.0        224.0  ...           0.026141   \n3      6754.0      4052.0      1671.0        326.0  ...           0.052697   \n4      3021.0      2861.0       121.0          0.0  ...           0.003014   \n\n   travel_work_home_ratio  edu_bachelor_ratio  edu_master_ratio  \\\n0                0.024242            0.183838          0.029798   \n1                0.004615            0.135222          0.040245   \n2                0.027913            0.213247          0.064620   \n3                0.004054            0.093379          0.082510   \n4                0.013059            0.219868          0.138631   \n\n   edu_phd_ratio  edu_higher_edu_ratio  employment_unemployed_ratio  \\\n0       0.003030              0.216667                     0.286635   \n1       0.003220              0.178686                     0.318327   \n2       0.007431              0.285299                     0.366755   \n3       0.012599              0.188488                     0.314452   \n4       0.007064              0.365563                     0.218447   \n\n   vehicle_per_capita  vehicle_per_household  vacancy_ratio  \n0            0.528094               1.595059       0.155938  \n1            0.460183               1.299161       0.152869  \n2            0.450949               1.636693       0.162211  \n3            0.474830               1.432976       0.178716  \n4            0.659053               1.459677       0.335930  \n\n[5 rows x 88 columns]",
      "text/html": "<div>\n<style scoped>\n    .dataframe tbody tr th:only-of-type {\n        vertical-align: middle;\n    }\n\n    .dataframe tbody tr th {\n        vertical-align: top;\n    }\n\n    .dataframe thead th {\n        text-align: right;\n    }\n</style>\n<table border=\"1\" class=\"dataframe\">\n  <thead>\n    <tr style=\"text-align: right;\">\n      <th></th>\n      <th>pop_total</th>\n      <th>sex_total</th>\n      <th>sex_male</th>\n      <th>sex_female</th>\n      <th>age_median</th>\n      <th>households</th>\n      <th>race_total</th>\n      <th>race_white</th>\n      <th>race_black</th>\n      <th>race_native</th>\n      <th>...</th>\n      <th>travel_walk_ratio</th>\n      <th>travel_work_home_ratio</th>\n      <th>edu_bachelor_ratio</th>\n      <th>edu_master_ratio</th>\n      <th>edu_phd_ratio</th>\n      <th>edu_higher_edu_ratio</th>\n      <th>employment_unemployed_ratio</th>\n      <th>vehicle_per_capita</th>\n      <th>vehicle_per_household</th>\n      <th>vacancy_ratio</th>\n    </tr>\n  </thead>\n  <tbody>\n    <tr>\n      <th>0</th>\n      <td>2812.0</td>\n      <td>2812.0</td>\n      <td>1383.0</td>\n      <td>1429.0</td>\n      <td>39.4</td>\n      <td>931.0</td>\n      <td>2812.0</td>\n      <td>2086.0</td>\n      <td>517.0</td>\n      <td>0.0</td>\n      <td>...</td>\n      <td>0.014815</td>\n      <td>0.024242</td>\n      <td>0.183838</td>\n      <td>0.029798</td>\n      <td>0.003030</td>\n      <td>0.216667</td>\n      <td>0.286635</td>\n      <td>0.528094</td>\n      <td>1.595059</td>\n      <td>0.155938</td>\n    </tr>\n    <tr>\n      <th>1</th>\n      <td>4709.0</td>\n      <td>4709.0</td>\n      <td>2272.0</td>\n      <td>2437.0</td>\n      <td>34.2</td>\n      <td>1668.0</td>\n      <td>4709.0</td>\n      <td>2382.0</td>\n      <td>1953.0</td>\n      <td>0.0</td>\n      <td>...</td>\n      <td>0.022150</td>\n      <td>0.004615</td>\n      <td>0.135222</td>\n      <td>0.040245</td>\n      <td>0.003220</td>\n      <td>0.178686</td>\n      <td>0.318327</td>\n      <td>0.460183</td>\n      <td>1.299161</td>\n      <td>0.152869</td>\n    </tr>\n    <tr>\n      <th>2</th>\n      <td>5005.0</td>\n      <td>5005.0</td>\n      <td>2444.0</td>\n      <td>2561.0</td>\n      <td>34.1</td>\n      <td>1379.0</td>\n      <td>5005.0</td>\n      <td>2334.0</td>\n      <td>2206.0</td>\n      <td>224.0</td>\n      <td>...</td>\n      <td>0.026141</td>\n      <td>0.027913</td>\n      <td>0.213247</td>\n      <td>0.064620</td>\n      <td>0.007431</td>\n      <td>0.285299</td>\n      <td>0.366755</td>\n      <td>0.450949</td>\n      <td>1.636693</td>\n      <td>0.162211</td>\n    </tr>\n    <tr>\n      <th>3</th>\n      <td>6754.0</td>\n      <td>6754.0</td>\n      <td>2934.0</td>\n      <td>3820.0</td>\n      <td>31.3</td>\n      <td>2238.0</td>\n      <td>6754.0</td>\n      <td>4052.0</td>\n      <td>1671.0</td>\n      <td>326.0</td>\n      <td>...</td>\n      <td>0.052697</td>\n      <td>0.004054</td>\n      <td>0.093379</td>\n      <td>0.082510</td>\n      <td>0.012599</td>\n      <td>0.188488</td>\n      <td>0.314452</td>\n      <td>0.474830</td>\n      <td>1.432976</td>\n      <td>0.178716</td>\n    </tr>\n    <tr>\n      <th>4</th>\n      <td>3021.0</td>\n      <td>3021.0</td>\n      <td>1695.0</td>\n      <td>1326.0</td>\n      <td>44.1</td>\n      <td>1364.0</td>\n      <td>3021.0</td>\n      <td>2861.0</td>\n      <td>121.0</td>\n      <td>0.0</td>\n      <td>...</td>\n      <td>0.003014</td>\n      <td>0.013059</td>\n      <td>0.219868</td>\n      <td>0.138631</td>\n      <td>0.007064</td>\n      <td>0.365563</td>\n      <td>0.218447</td>\n      <td>0.659053</td>\n      <td>1.459677</td>\n      <td>0.335930</td>\n    </tr>\n  </tbody>\n</table>\n<p>5 rows × 88 columns</p>\n</div>"
     },
     "execution_count": 59,
     "metadata": {},
     "output_type": "execute_result"
    }
   ],
   "source": [
    "# view the head\n",
    "df.head()"
   ]
  },
  {
   "cell_type": "code",
   "execution_count": 60,
   "metadata": {
    "id": "0KcWrPXbQU5E",
    "colab": {
     "base_uri": "https://localhost:8080/",
     "height": 161
    },
    "executionInfo": {
     "status": "ok",
     "timestamp": 1693946976271,
     "user_tz": 240,
     "elapsed": 170,
     "user": {
      "displayName": "Ryan Lester",
      "userId": "11263656119985576784"
     }
    },
    "outputId": "8033d4bb-7a5d-4845-ce6b-93655e573eb5",
    "ExecuteTime": {
     "end_time": "2023-12-07T15:43:32.382634Z",
     "start_time": "2023-12-07T15:43:32.348652Z"
    }
   },
   "outputs": [
    {
     "data": {
      "text/plain": "      pop_total  sex_total  sex_male  sex_female  age_median  households  \\\n4165     8960.0     8960.0    4166.0      4794.0        37.2      3324.0   \n4166     5083.0     5083.0    2573.0      2510.0        39.2      1755.0   \n\n      race_total  race_white  race_black  race_native  ...  travel_walk_ratio  \\\n4165      8960.0      6286.0      1831.0          0.0  ...           0.024021   \n4166      5083.0      3753.0       987.0          0.0  ...           0.045983   \n\n      travel_work_home_ratio  edu_bachelor_ratio  edu_master_ratio  \\\n4165                0.064132            0.174399          0.063014   \n4166                0.046488            0.113451          0.022466   \n\n      edu_phd_ratio  edu_higher_edu_ratio  employment_unemployed_ratio  \\\n4165       0.003126              0.240540                     0.363482   \n4166       0.002247              0.138163                     0.491815   \n\n      vehicle_per_capita  vehicle_per_household  vacancy_ratio  \n4165            0.478571               1.290012       0.017440  \n4166            0.389337               1.127635       0.129464  \n\n[2 rows x 88 columns]",
      "text/html": "<div>\n<style scoped>\n    .dataframe tbody tr th:only-of-type {\n        vertical-align: middle;\n    }\n\n    .dataframe tbody tr th {\n        vertical-align: top;\n    }\n\n    .dataframe thead th {\n        text-align: right;\n    }\n</style>\n<table border=\"1\" class=\"dataframe\">\n  <thead>\n    <tr style=\"text-align: right;\">\n      <th></th>\n      <th>pop_total</th>\n      <th>sex_total</th>\n      <th>sex_male</th>\n      <th>sex_female</th>\n      <th>age_median</th>\n      <th>households</th>\n      <th>race_total</th>\n      <th>race_white</th>\n      <th>race_black</th>\n      <th>race_native</th>\n      <th>...</th>\n      <th>travel_walk_ratio</th>\n      <th>travel_work_home_ratio</th>\n      <th>edu_bachelor_ratio</th>\n      <th>edu_master_ratio</th>\n      <th>edu_phd_ratio</th>\n      <th>edu_higher_edu_ratio</th>\n      <th>employment_unemployed_ratio</th>\n      <th>vehicle_per_capita</th>\n      <th>vehicle_per_household</th>\n      <th>vacancy_ratio</th>\n    </tr>\n  </thead>\n  <tbody>\n    <tr>\n      <th>4165</th>\n      <td>8960.0</td>\n      <td>8960.0</td>\n      <td>4166.0</td>\n      <td>4794.0</td>\n      <td>37.2</td>\n      <td>3324.0</td>\n      <td>8960.0</td>\n      <td>6286.0</td>\n      <td>1831.0</td>\n      <td>0.0</td>\n      <td>...</td>\n      <td>0.024021</td>\n      <td>0.064132</td>\n      <td>0.174399</td>\n      <td>0.063014</td>\n      <td>0.003126</td>\n      <td>0.240540</td>\n      <td>0.363482</td>\n      <td>0.478571</td>\n      <td>1.290012</td>\n      <td>0.017440</td>\n    </tr>\n    <tr>\n      <th>4166</th>\n      <td>5083.0</td>\n      <td>5083.0</td>\n      <td>2573.0</td>\n      <td>2510.0</td>\n      <td>39.2</td>\n      <td>1755.0</td>\n      <td>5083.0</td>\n      <td>3753.0</td>\n      <td>987.0</td>\n      <td>0.0</td>\n      <td>...</td>\n      <td>0.045983</td>\n      <td>0.046488</td>\n      <td>0.113451</td>\n      <td>0.022466</td>\n      <td>0.002247</td>\n      <td>0.138163</td>\n      <td>0.491815</td>\n      <td>0.389337</td>\n      <td>1.127635</td>\n      <td>0.129464</td>\n    </tr>\n  </tbody>\n</table>\n<p>2 rows × 88 columns</p>\n</div>"
     },
     "execution_count": 60,
     "metadata": {},
     "output_type": "execute_result"
    }
   ],
   "source": [
    "# view the tail\n",
    "df.tail(2)"
   ]
  },
  {
   "cell_type": "code",
   "execution_count": 61,
   "metadata": {
    "id": "7AC0XHw8QvQ7",
    "colab": {
     "base_uri": "https://localhost:8080/"
    },
    "executionInfo": {
     "status": "ok",
     "timestamp": 1693946988696,
     "user_tz": 240,
     "elapsed": 156,
     "user": {
      "displayName": "Ryan Lester",
      "userId": "11263656119985576784"
     }
    },
    "outputId": "47de3c7d-1aa7-48d0-d37c-3bbca936ef3d",
    "ExecuteTime": {
     "end_time": "2023-12-07T15:43:32.659491Z",
     "start_time": "2023-12-07T15:43:32.590243Z"
    }
   },
   "outputs": [
    {
     "data": {
      "text/plain": "Index(['pop_total', 'sex_total', 'sex_male', 'sex_female', 'age_median',\n       'households', 'race_total', 'race_white', 'race_black', 'race_native',\n       'race_asian', 'inc_total_pop', 'inc_no_pop', 'inc_with_pop',\n       'inc_pop_10k', 'inc_pop_1k_15k', 'inc_pop_15k_25k', 'inc_pop_25k_35k',\n       'inc_pop_35k_50k', 'inc_pop_50k_65k', 'inc_pop_65k_75k', 'inc_pop_75k',\n       'inc_median_ind', 'travel_total_to_work', 'travel_driving_to_work',\n       'travel_pt_to_work', 'travel_taxi_to_work', 'travel_cycle_to_work',\n       'travel_walk_to_work', 'travel_work_from_home', 'edu_total_pop',\n       'bachelor_male_25_34', 'master_phd_male_25_34', 'bachelor_male_35_44',\n       'master_phd_male_35_44', 'bachelor_male_45_64', 'master_phd_male_45_64',\n       'bachelor_male_65_over', 'master_phd_male_65_over',\n       'bachelor_female_25_34', 'master_phd_female_25_34',\n       'bachelor_female_35_44', 'master_phd_female_35_44',\n       'bachelor_female_45_64', 'master_phd_female_45_64',\n       'bachelor_female_65_over', 'master_phd_female_65_over', 'edu_total',\n       'edu_bachelor', 'edu_master', 'edu_phd', 'inc_median_household',\n       'inc_per_capita', 'employment_total_labor', 'employment_employed',\n       'employment_unemployed', 'housing_units_total',\n       'housing_units_occupied', 'housing_units_vacant', 'rent_median',\n       'property_value_total', 'property_value_median',\n       'vehicle_total_imputed', 'state', 'state_fips', 'county_fips',\n       'tract_fips', 'full_ct_fips', 'household_size_avg', 'sex_male_ratio',\n       'race_white_ratio', 'race_black_ratio', 'race_native_ratio',\n       'race_asian_ratio', 'travel_driving_ratio', 'travel_pt_ratio',\n       'travel_taxi_ratio', 'travel_cycle_ratio', 'travel_walk_ratio',\n       'travel_work_home_ratio', 'edu_bachelor_ratio', 'edu_master_ratio',\n       'edu_phd_ratio', 'edu_higher_edu_ratio', 'employment_unemployed_ratio',\n       'vehicle_per_capita', 'vehicle_per_household', 'vacancy_ratio'],\n      dtype='object')"
     },
     "execution_count": 61,
     "metadata": {},
     "output_type": "execute_result"
    }
   ],
   "source": [
    "# check the column names\n",
    "df.columns"
   ]
  }
 ],
 "metadata": {
  "colab": {
   "provenance": []
  },
  "kernelspec": {
   "name": "python3",
   "language": "python",
   "display_name": "Python 3 (ipykernel)"
  },
  "language_info": {
   "name": "python"
  }
 },
 "nbformat": 4,
 "nbformat_minor": 0
}
