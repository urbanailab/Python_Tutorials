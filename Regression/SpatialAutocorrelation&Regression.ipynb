{
 "nbformat": 4,
 "nbformat_minor": 0,
 "metadata": {
  "colab": {
   "provenance": [],
   "authorship_tag": "ABX9TyOfQh4GMlupWcAjbjoYXepR"
  },
  "kernelspec": {
   "name": "python3",
   "language": "python",
   "display_name": "Python 3 (ipykernel)"
  },
  "language_info": {
   "name": "python"
  }
 },
 "cells": [
  {
   "cell_type": "markdown",
   "source": [
    "# Lec07 - spatial autocorrelation and regression\n",
    "\n",
    "*   Section 1. Global and Local Moran's I\n",
    "*   Section 2. Baseline linear regression\n",
    "*   Section 3. Spatial regression with lag term (x)\n",
    "*   Section 4. Spatial regression with lag term (y)\n",
    "\n"
   ],
   "metadata": {
    "id": "mr-r0mJvh7Vk"
   }
  },
  {
   "cell_type": "code",
   "execution_count": null,
   "metadata": {
    "id": "9ak_Qdg6hxRb",
    "colab": {
     "base_uri": "https://localhost:8080/"
    },
    "executionInfo": {
     "status": "ok",
     "timestamp": 1677618715523,
     "user_tz": 300,
     "elapsed": 73245,
     "user": {
      "displayName": "Shenhao Wang",
      "userId": "03503527554188089407"
     }
    },
    "outputId": "d07bdd37-384f-4644-809e-6265057f3eb0"
   },
   "outputs": [
    {
     "output_type": "stream",
     "name": "stdout",
     "text": [
      "Looking in indexes: https://pypi.org/simple, https://us-python.pkg.dev/colab-wheels/public/simple/\n",
      "Collecting pysal\n",
      "  Downloading pysal-23.1-py3-none-any.whl (17 kB)\n",
      "Collecting spreg>=1.3.0\n",
      "  Downloading spreg-1.3.0-py3-none-any.whl (220 kB)\n",
      "\u001B[2K     \u001B[90m━━━━━━━━━━━━━━━━━━━━━━━━━━━━━━━━━━━━━━━\u001B[0m \u001B[32m220.1/220.1 KB\u001B[0m \u001B[31m4.9 MB/s\u001B[0m eta \u001B[36m0:00:00\u001B[0m\n",
      "\u001B[?25hCollecting spglm>=1.0.8\n",
      "  Downloading spglm-1.0.8.tar.gz (37 kB)\n",
      "  Preparing metadata (setup.py) ... \u001B[?25l\u001B[?25hdone\n",
      "Collecting spopt>=0.5.0\n",
      "  Downloading spopt-0.5.0-py3-none-any.whl (112 kB)\n",
      "\u001B[2K     \u001B[90m━━━━━━━━━━━━━━━━━━━━━━━━━━━━━━━━━━━━━━━\u001B[0m \u001B[32m112.9/112.9 KB\u001B[0m \u001B[31m8.1 MB/s\u001B[0m eta \u001B[36m0:00:00\u001B[0m\n",
      "\u001B[?25hCollecting mapclassify>=2.5.0\n",
      "  Downloading mapclassify-2.5.0-py3-none-any.whl (39 kB)\n",
      "Collecting splot>=1.1.5.post1\n",
      "  Downloading splot-1.1.5.post1-py3-none-any.whl (39 kB)\n",
      "Collecting inequality>=1.0.0\n",
      "  Downloading inequality-1.0.0.tar.gz (11 kB)\n",
      "  Preparing metadata (setup.py) ... \u001B[?25l\u001B[?25hdone\n",
      "Collecting pointpats>=2.2.0\n",
      "  Downloading pointpats-2.2.0.tar.gz (55 kB)\n",
      "\u001B[2K     \u001B[90m━━━━━━━━━━━━━━━━━━━━━━━━━━━━━━━━━━━━━━━━\u001B[0m \u001B[32m55.4/55.4 KB\u001B[0m \u001B[31m3.9 MB/s\u001B[0m eta \u001B[36m0:00:00\u001B[0m\n",
      "\u001B[?25h  Preparing metadata (setup.py) ... \u001B[?25l\u001B[?25hdone\n",
      "Collecting segregation>=2.3.1\n",
      "  Downloading segregation-2.3.1-py3-none-any.whl (147 kB)\n",
      "\u001B[2K     \u001B[90m━━━━━━━━━━━━━━━━━━━━━━━━━━━━━━━━━━━━━━━\u001B[0m \u001B[32m147.5/147.5 KB\u001B[0m \u001B[31m9.9 MB/s\u001B[0m eta \u001B[36m0:00:00\u001B[0m\n",
      "\u001B[?25hCollecting access>=1.1.8\n",
      "  Downloading access-1.1.8-py3-none-any.whl (21 kB)\n",
      "Collecting momepy>=0.5.4\n",
      "  Downloading momepy-0.5.4-py3-none-any.whl (243 kB)\n",
      "\u001B[2K     \u001B[90m━━━━━━━━━━━━━━━━━━━━━━━━━━━━━━━━━━━━━━\u001B[0m \u001B[32m243.7/243.7 KB\u001B[0m \u001B[31m14.2 MB/s\u001B[0m eta \u001B[36m0:00:00\u001B[0m\n",
      "\u001B[?25hCollecting spvcm>=0.3.0\n",
      "  Downloading spvcm-0.3.0.tar.gz (5.7 MB)\n",
      "\u001B[2K     \u001B[90m━━━━━━━━━━━━━━━━━━━━━━━━━━━━━━━━━━━━━━━━\u001B[0m \u001B[32m5.7/5.7 MB\u001B[0m \u001B[31m31.9 MB/s\u001B[0m eta \u001B[36m0:00:00\u001B[0m\n",
      "\u001B[?25h  Preparing metadata (setup.py) ... \u001B[?25l\u001B[?25hdone\n",
      "Collecting spaghetti>=1.7.2\n",
      "  Downloading spaghetti-1.7.2-py3-none-any.whl (50 kB)\n",
      "\u001B[2K     \u001B[90m━━━━━━━━━━━━━━━━━━━━━━━━━━━━━━━━━━━━━━━━\u001B[0m \u001B[32m50.3/50.3 KB\u001B[0m \u001B[31m2.6 MB/s\u001B[0m eta \u001B[36m0:00:00\u001B[0m\n",
      "\u001B[?25hCollecting esda>=2.4.1\n",
      "  Downloading esda-2.4.3.tar.gz (116 kB)\n",
      "\u001B[2K     \u001B[90m━━━━━━━━━━━━━━━━━━━━━━━━━━━━━━━━━━━━━━━\u001B[0m \u001B[32m116.6/116.6 KB\u001B[0m \u001B[31m4.3 MB/s\u001B[0m eta \u001B[36m0:00:00\u001B[0m\n",
      "\u001B[?25h  Preparing metadata (setup.py) ... \u001B[?25l\u001B[?25hdone\n",
      "Collecting mgwr>=2.1.2\n",
      "  Downloading mgwr-2.1.2.tar.gz (41 kB)\n",
      "\u001B[2K     \u001B[90m━━━━━━━━━━━━━━━━━━━━━━━━━━━━━━━━━━━━━━━━\u001B[0m \u001B[32m41.8/41.8 KB\u001B[0m \u001B[31m1.2 MB/s\u001B[0m eta \u001B[36m0:00:00\u001B[0m\n",
      "\u001B[?25h  Preparing metadata (setup.py) ... \u001B[?25l\u001B[?25hdone\n",
      "Collecting spint>=1.0.7\n",
      "  Downloading spint-1.0.7.tar.gz (28 kB)\n",
      "  Preparing metadata (setup.py) ... \u001B[?25l\u001B[?25hdone\n",
      "Collecting giddy>=2.3.3\n",
      "  Downloading giddy-2.3.3-py3-none-any.whl (60 kB)\n",
      "\u001B[2K     \u001B[90m━━━━━━━━━━━━━━━━━━━━━━━━━━━━━━━━━━━━━━━━\u001B[0m \u001B[32m60.9/60.9 KB\u001B[0m \u001B[31m3.3 MB/s\u001B[0m eta \u001B[36m0:00:00\u001B[0m\n",
      "\u001B[?25hCollecting tobler>=0.8.2\n",
      "  Downloading tobler-0.9.0-py3-none-any.whl (22 kB)\n",
      "Collecting libpysal>=4.7.0\n",
      "  Downloading libpysal-4.7.0-py3-none-any.whl (2.4 MB)\n",
      "\u001B[2K     \u001B[90m━━━━━━━━━━━━━━━━━━━━━━━━━━━━━━━━━━━━━━━━\u001B[0m \u001B[32m2.4/2.4 MB\u001B[0m \u001B[31m35.8 MB/s\u001B[0m eta \u001B[36m0:00:00\u001B[0m\n",
      "\u001B[?25hRequirement already satisfied: numpy>=1.3 in /usr/local/lib/python3.8/dist-packages (from access>=1.1.8->pysal) (1.22.4)\n",
      "Requirement already satisfied: requests>=2 in /usr/local/lib/python3.8/dist-packages (from access>=1.1.8->pysal) (2.25.1)\n",
      "Collecting geopandas\n",
      "  Downloading geopandas-0.12.2-py3-none-any.whl (1.1 MB)\n",
      "\u001B[2K     \u001B[90m━━━━━━━━━━━━━━━━━━━━━━━━━━━━━━━━━━━━━━━━\u001B[0m \u001B[32m1.1/1.1 MB\u001B[0m \u001B[31m20.0 MB/s\u001B[0m eta \u001B[36m0:00:00\u001B[0m\n",
      "\u001B[?25hRequirement already satisfied: pandas>=0.23.4 in /usr/local/lib/python3.8/dist-packages (from access>=1.1.8->pysal) (1.3.5)\n",
      "Requirement already satisfied: scipy>=0.11 in /usr/local/lib/python3.8/dist-packages (from esda>=2.4.1->pysal) (1.7.3)\n",
      "Requirement already satisfied: scikit-learn in /usr/local/lib/python3.8/dist-packages (from esda>=2.4.1->pysal) (1.0.2)\n",
      "Collecting quantecon>=0.4.7\n",
      "  Downloading quantecon-0.6.0-py3-none-any.whl (206 kB)\n",
      "\u001B[2K     \u001B[90m━━━━━━━━━━━━━━━━━━━━━━━━━━━━━━━━━━━━━━\u001B[0m \u001B[32m206.9/206.9 KB\u001B[0m \u001B[31m11.1 MB/s\u001B[0m eta \u001B[36m0:00:00\u001B[0m\n",
      "\u001B[?25hRequirement already satisfied: beautifulsoup4 in /usr/local/lib/python3.8/dist-packages (from libpysal>=4.7.0->pysal) (4.6.3)\n",
      "Requirement already satisfied: platformdirs in /usr/local/lib/python3.8/dist-packages (from libpysal>=4.7.0->pysal) (3.0.0)\n",
      "Requirement already satisfied: packaging in /usr/local/lib/python3.8/dist-packages (from libpysal>=4.7.0->pysal) (23.0)\n",
      "Requirement already satisfied: jinja2 in /usr/local/lib/python3.8/dist-packages (from libpysal>=4.7.0->pysal) (3.1.2)\n",
      "Requirement already satisfied: networkx in /usr/local/lib/python3.8/dist-packages (from mapclassify>=2.5.0->pysal) (3.0)\n",
      "Requirement already satisfied: tqdm>=4.27.0 in /usr/local/lib/python3.8/dist-packages (from momepy>=0.5.4->pysal) (4.64.1)\n",
      "Collecting pygeos\n",
      "  Downloading pygeos-0.14-cp38-cp38-manylinux_2_17_x86_64.manylinux2014_x86_64.whl (2.2 MB)\n",
      "\u001B[2K     \u001B[90m━━━━━━━━━━━━━━━━━━━━━━━━━━━━━━━━━━━━━━━━\u001B[0m \u001B[32m2.2/2.2 MB\u001B[0m \u001B[31m20.3 MB/s\u001B[0m eta \u001B[36m0:00:00\u001B[0m\n",
      "\u001B[?25hRequirement already satisfied: matplotlib in /usr/local/lib/python3.8/dist-packages (from pointpats>=2.2.0->pysal) (3.5.3)\n",
      "Requirement already satisfied: opencv-contrib-python>=4.2.0 in /usr/local/lib/python3.8/dist-packages (from pointpats>=2.2.0->pysal) (4.6.0.66)\n",
      "Requirement already satisfied: seaborn in /usr/local/lib/python3.8/dist-packages (from segregation>=2.3.1->pysal) (0.11.2)\n",
      "Collecting rvlib>=0.0.5\n",
      "  Downloading rvlib-0.0.6.tar.gz (183 kB)\n",
      "\u001B[2K     \u001B[90m━━━━━━━━━━━━━━━━━━━━━━━━━━━━━━━━━━━━━━\u001B[0m \u001B[32m183.2/183.2 KB\u001B[0m \u001B[31m10.9 MB/s\u001B[0m eta \u001B[36m0:00:00\u001B[0m\n",
      "\u001B[?25h  Preparing metadata (setup.py) ... \u001B[?25l\u001B[?25hdone\n",
      "Collecting pyproj>=3\n",
      "  Downloading pyproj-3.4.1-cp38-cp38-manylinux_2_17_x86_64.manylinux2014_x86_64.whl (7.8 MB)\n",
      "\u001B[2K     \u001B[90m━━━━━━━━━━━━━━━━━━━━━━━━━━━━━━━━━━━━━━━━\u001B[0m \u001B[32m7.8/7.8 MB\u001B[0m \u001B[31m49.7 MB/s\u001B[0m eta \u001B[36m0:00:00\u001B[0m\n",
      "\u001B[?25hRequirement already satisfied: numba in /usr/local/lib/python3.8/dist-packages (from segregation>=2.3.1->pysal) (0.56.4)\n",
      "Collecting quilt3\n",
      "  Downloading quilt3-5.1.1-py3-none-any.whl (79 kB)\n",
      "\u001B[2K     \u001B[90m━━━━━━━━━━━━━━━━━━━━━━━━━━━━━━━━━━━━━━━━\u001B[0m \u001B[32m79.0/79.0 KB\u001B[0m \u001B[31m4.1 MB/s\u001B[0m eta \u001B[36m0:00:00\u001B[0m\n",
      "\u001B[?25hCollecting deprecation\n",
      "  Downloading deprecation-2.1.0-py2.py3-none-any.whl (11 kB)\n",
      "Requirement already satisfied: pip in /usr/local/lib/python3.8/dist-packages (from segregation>=2.3.1->pysal) (22.0.4)\n",
      "Requirement already satisfied: joblib in /usr/local/lib/python3.8/dist-packages (from segregation>=2.3.1->pysal) (1.2.0)\n",
      "Collecting rtree\n",
      "  Downloading Rtree-1.0.1-cp38-cp38-manylinux_2_17_x86_64.manylinux2014_x86_64.whl (1.0 MB)\n",
      "\u001B[2K     \u001B[90m━━━━━━━━━━━━━━━━━━━━━━━━━━━━━━━━━━━━━━━━\u001B[0m \u001B[32m1.0/1.0 MB\u001B[0m \u001B[31m33.8 MB/s\u001B[0m eta \u001B[36m0:00:00\u001B[0m\n",
      "\u001B[?25hCollecting pulp\n",
      "  Downloading PuLP-2.7.0-py3-none-any.whl (14.3 MB)\n",
      "\u001B[2K     \u001B[90m━━━━━━━━━━━━━━━━━━━━━━━━━━━━━━━━━━━━━━━━\u001B[0m \u001B[32m14.3/14.3 MB\u001B[0m \u001B[31m34.0 MB/s\u001B[0m eta \u001B[36m0:00:00\u001B[0m\n",
      "\u001B[?25hCollecting rasterstats\n",
      "  Downloading rasterstats-0.18.0-py3-none-any.whl (17 kB)\n",
      "Collecting rasterio\n",
      "  Downloading rasterio-1.3.6-cp38-cp38-manylinux_2_17_x86_64.manylinux2014_x86_64.whl (20.1 MB)\n",
      "\u001B[2K     \u001B[90m━━━━━━━━━━━━━━━━━━━━━━━━━━━━━━━━━━━━━━━━\u001B[0m \u001B[32m20.1/20.1 MB\u001B[0m \u001B[31m19.2 MB/s\u001B[0m eta \u001B[36m0:00:00\u001B[0m\n",
      "\u001B[?25hRequirement already satisfied: statsmodels in /usr/local/lib/python3.8/dist-packages (from tobler>=0.8.2->pysal) (0.12.2)\n",
      "Collecting fiona>=1.8\n",
      "  Downloading Fiona-1.9.1-cp38-cp38-manylinux_2_17_x86_64.manylinux2014_x86_64.whl (16.0 MB)\n",
      "\u001B[2K     \u001B[90m━━━━━━━━━━━━━━━━━━━━━━━━━━━━━━━━━━━━━━━━\u001B[0m \u001B[32m16.0/16.0 MB\u001B[0m \u001B[31m10.8 MB/s\u001B[0m eta \u001B[36m0:00:00\u001B[0m\n",
      "\u001B[?25hRequirement already satisfied: shapely>=1.7 in /usr/local/lib/python3.8/dist-packages (from geopandas->access>=1.1.8->pysal) (2.0.1)\n",
      "Requirement already satisfied: pytz>=2017.3 in /usr/local/lib/python3.8/dist-packages (from pandas>=0.23.4->access>=1.1.8->pysal) (2022.7.1)\n",
      "Requirement already satisfied: python-dateutil>=2.7.3 in /usr/local/lib/python3.8/dist-packages (from pandas>=0.23.4->access>=1.1.8->pysal) (2.8.2)\n",
      "Requirement already satisfied: certifi in /usr/local/lib/python3.8/dist-packages (from pyproj>=3->segregation>=2.3.1->pysal) (2022.12.7)\n",
      "Requirement already satisfied: sympy in /usr/local/lib/python3.8/dist-packages (from quantecon>=0.4.7->giddy>=2.3.3->pysal) (1.7.1)\n",
      "Requirement already satisfied: urllib3<1.27,>=1.21.1 in /usr/local/lib/python3.8/dist-packages (from requests>=2->access>=1.1.8->pysal) (1.26.14)\n",
      "Requirement already satisfied: chardet<5,>=3.0.2 in /usr/local/lib/python3.8/dist-packages (from requests>=2->access>=1.1.8->pysal) (4.0.0)\n",
      "Requirement already satisfied: idna<3,>=2.5 in /usr/local/lib/python3.8/dist-packages (from requests>=2->access>=1.1.8->pysal) (2.10)\n",
      "Requirement already satisfied: cffi>=1.0.0 in /usr/local/lib/python3.8/dist-packages (from rvlib>=0.0.5->segregation>=2.3.1->pysal) (1.15.1)\n",
      "Requirement already satisfied: PyYAML in /usr/local/lib/python3.8/dist-packages (from rvlib>=0.0.5->segregation>=2.3.1->pysal) (6.0)\n",
      "Requirement already satisfied: setuptools in /usr/local/lib/python3.8/dist-packages (from numba->segregation>=2.3.1->pysal) (57.4.0)\n",
      "Requirement already satisfied: llvmlite<0.40,>=0.39.0dev0 in /usr/local/lib/python3.8/dist-packages (from numba->segregation>=2.3.1->pysal) (0.39.1)\n",
      "Requirement already satisfied: importlib-metadata in /usr/local/lib/python3.8/dist-packages (from numba->segregation>=2.3.1->pysal) (6.0.0)\n",
      "Requirement already satisfied: threadpoolctl>=2.0.0 in /usr/local/lib/python3.8/dist-packages (from scikit-learn->esda>=2.4.1->pysal) (3.1.0)\n",
      "Requirement already satisfied: MarkupSafe>=2.0 in /usr/local/lib/python3.8/dist-packages (from jinja2->libpysal>=4.7.0->pysal) (2.1.2)\n",
      "Requirement already satisfied: kiwisolver>=1.0.1 in /usr/local/lib/python3.8/dist-packages (from matplotlib->pointpats>=2.2.0->pysal) (1.4.4)\n",
      "Requirement already satisfied: cycler>=0.10 in /usr/local/lib/python3.8/dist-packages (from matplotlib->pointpats>=2.2.0->pysal) (0.11.0)\n",
      "Requirement already satisfied: fonttools>=4.22.0 in /usr/local/lib/python3.8/dist-packages (from matplotlib->pointpats>=2.2.0->pysal) (4.38.0)\n",
      "Requirement already satisfied: pyparsing>=2.2.1 in /usr/local/lib/python3.8/dist-packages (from matplotlib->pointpats>=2.2.0->pysal) (3.0.9)\n",
      "Requirement already satisfied: pillow>=6.2.0 in /usr/local/lib/python3.8/dist-packages (from matplotlib->pointpats>=2.2.0->pysal) (8.4.0)\n",
      "Collecting jsonlines==1.2.0\n",
      "  Downloading jsonlines-1.2.0-py2.py3-none-any.whl (7.6 kB)\n",
      "Requirement already satisfied: jsonschema<5,>=3 in /usr/local/lib/python3.8/dist-packages (from quilt3->segregation>=2.3.1->pysal) (4.3.3)\n",
      "Collecting boto3>=1.10.0\n",
      "  Downloading boto3-1.26.81-py3-none-any.whl (134 kB)\n",
      "\u001B[2K     \u001B[90m━━━━━━━━━━━━━━━━━━━━━━━━━━━━━━━━━━━━━━━\u001B[0m \u001B[32m134.7/134.7 KB\u001B[0m \u001B[31m2.9 MB/s\u001B[0m eta \u001B[36m0:00:00\u001B[0m\n",
      "\u001B[?25hCollecting requests-futures==1.0.0\n",
      "  Downloading requests_futures-1.0.0-py2.py3-none-any.whl (7.4 kB)\n",
      "Collecting aws-requests-auth>=0.4.2\n",
      "  Downloading aws_requests_auth-0.4.3-py2.py3-none-any.whl (6.8 kB)\n",
      "Requirement already satisfied: tenacity>=5.1.1 in /usr/local/lib/python3.8/dist-packages (from quilt3->segregation>=2.3.1->pysal) (8.2.1)\n",
      "Requirement already satisfied: six in /usr/local/lib/python3.8/dist-packages (from jsonlines==1.2.0->quilt3->segregation>=2.3.1->pysal) (1.15.0)\n",
      "Collecting snuggs>=1.4.1\n",
      "  Downloading snuggs-1.4.7-py3-none-any.whl (5.4 kB)\n",
      "Collecting cligj>=0.5\n",
      "  Downloading cligj-0.7.2-py3-none-any.whl (7.1 kB)\n",
      "Collecting affine\n",
      "  Downloading affine-2.4.0-py3-none-any.whl (15 kB)\n",
      "Collecting click-plugins\n",
      "  Downloading click_plugins-1.1.1-py2.py3-none-any.whl (7.5 kB)\n",
      "Requirement already satisfied: attrs in /usr/local/lib/python3.8/dist-packages (from rasterio->tobler>=0.8.2->pysal) (22.2.0)\n",
      "Requirement already satisfied: click>=4.0 in /usr/local/lib/python3.8/dist-packages (from rasterio->tobler>=0.8.2->pysal) (8.1.3)\n",
      "Collecting simplejson\n",
      "  Downloading simplejson-3.18.3-cp38-cp38-manylinux_2_5_x86_64.manylinux1_x86_64.manylinux_2_17_x86_64.manylinux2014_x86_64.whl (135 kB)\n",
      "\u001B[2K     \u001B[90m━━━━━━━━━━━━━━━━━━━━━━━━━━━━━━━━━━━━━━\u001B[0m \u001B[32m135.5/135.5 KB\u001B[0m \u001B[31m11.4 MB/s\u001B[0m eta \u001B[36m0:00:00\u001B[0m\n",
      "\u001B[?25hCollecting fiona>=1.8\n",
      "  Downloading Fiona-1.8.22-cp38-cp38-manylinux_2_17_x86_64.manylinux2014_x86_64.whl (16.6 MB)\n",
      "\u001B[2K     \u001B[90m━━━━━━━━━━━━━━━━━━━━━━━━━━━━━━━━━━━━━━━━\u001B[0m \u001B[32m16.6/16.6 MB\u001B[0m \u001B[31m79.9 MB/s\u001B[0m eta \u001B[36m0:00:00\u001B[0m\n",
      "\u001B[?25hRequirement already satisfied: patsy>=0.5 in /usr/local/lib/python3.8/dist-packages (from statsmodels->tobler>=0.8.2->pysal) (0.5.3)\n",
      "Collecting botocore<1.30.0,>=1.29.81\n",
      "  Downloading botocore-1.29.81-py3-none-any.whl (10.5 MB)\n",
      "\u001B[2K     \u001B[90m━━━━━━━━━━━━━━━━━━━━━━━━━━━━━━━━━━━━━━━━\u001B[0m \u001B[32m10.5/10.5 MB\u001B[0m \u001B[31m91.6 MB/s\u001B[0m eta \u001B[36m0:00:00\u001B[0m\n",
      "\u001B[?25hCollecting jmespath<2.0.0,>=0.7.1\n",
      "  Downloading jmespath-1.0.1-py3-none-any.whl (20 kB)\n",
      "Collecting s3transfer<0.7.0,>=0.6.0\n",
      "  Downloading s3transfer-0.6.0-py3-none-any.whl (79 kB)\n",
      "\u001B[2K     \u001B[90m━━━━━━━━━━━━━━━━━━━━━━━━━━━━━━━━━━━━━━━━\u001B[0m \u001B[32m79.6/79.6 KB\u001B[0m \u001B[31m8.8 MB/s\u001B[0m eta \u001B[36m0:00:00\u001B[0m\n",
      "\u001B[?25hRequirement already satisfied: pycparser in /usr/local/lib/python3.8/dist-packages (from cffi>=1.0.0->rvlib>=0.0.5->segregation>=2.3.1->pysal) (2.21)\n",
      "Collecting munch\n",
      "  Downloading munch-2.5.0-py2.py3-none-any.whl (10 kB)\n",
      "Requirement already satisfied: importlib-resources>=1.4.0 in /usr/local/lib/python3.8/dist-packages (from jsonschema<5,>=3->quilt3->segregation>=2.3.1->pysal) (5.12.0)\n",
      "Requirement already satisfied: pyrsistent!=0.17.0,!=0.17.1,!=0.17.2,>=0.14.0 in /usr/local/lib/python3.8/dist-packages (from jsonschema<5,>=3->quilt3->segregation>=2.3.1->pysal) (0.19.3)\n",
      "Requirement already satisfied: zipp>=0.5 in /usr/local/lib/python3.8/dist-packages (from importlib-metadata->numba->segregation>=2.3.1->pysal) (3.15.0)\n",
      "Requirement already satisfied: mpmath>=0.19 in /usr/local/lib/python3.8/dist-packages (from sympy->quantecon>=0.4.7->giddy>=2.3.3->pysal) (1.2.1)\n",
      "Building wheels for collected packages: esda, inequality, mgwr, pointpats, spglm, spint, spvcm, rvlib\n",
      "  Building wheel for esda (setup.py) ... \u001B[?25l\u001B[?25hdone\n",
      "  Created wheel for esda: filename=esda-2.4.3-py3-none-any.whl size=122782 sha256=068ac18aa40a93aa674f54128a14dde56b63b7407bc76791cf400b6a534f6e4f\n",
      "  Stored in directory: /root/.cache/pip/wheels/34/66/58/a7eb3f6c545f2c8aa4f36af16d3880c8cd736de983d387bba1\n",
      "  Building wheel for inequality (setup.py) ... \u001B[?25l\u001B[?25hdone\n",
      "  Created wheel for inequality: filename=inequality-1.0.0-py3-none-any.whl size=11799 sha256=b4e27516949679c9a1660dfa8a564718baf6162c26fcff5f496b80549009ed62\n",
      "  Stored in directory: /root/.cache/pip/wheels/32/5b/47/f5255524be1899a80f2c0f492a4df4dea4e84f82371e69dce8\n",
      "  Building wheel for mgwr (setup.py) ... \u001B[?25l\u001B[?25hdone\n",
      "  Created wheel for mgwr: filename=mgwr-2.1.2-py3-none-any.whl size=46384 sha256=643c78fa6c638b7daea18d47a50fdc3cfe6466122dee93abff59584560144052\n",
      "  Stored in directory: /root/.cache/pip/wheels/4f/26/fd/e19240ca6fc7c57f7e3a95410047f61587d261c5c52abfcf70\n",
      "  Building wheel for pointpats (setup.py) ... \u001B[?25l\u001B[?25hdone\n",
      "  Created wheel for pointpats: filename=pointpats-2.2.0-py3-none-any.whl size=60834 sha256=bf9d43a00a7489fc772df36e6a5e58389676d40cfa51c7dc345ef97fd416708d\n",
      "  Stored in directory: /root/.cache/pip/wheels/db/ff/de/9eec2c837a730d38825cfd6acc3d5b1bfe5975f7ce809a5bea\n",
      "  Building wheel for spglm (setup.py) ... \u001B[?25l\u001B[?25hdone\n",
      "  Created wheel for spglm: filename=spglm-1.0.8-py3-none-any.whl size=38806 sha256=38e996f1c105ea4efdceef9505a1a834cd708e7e32db3d16829c246df880c4d6\n",
      "  Stored in directory: /root/.cache/pip/wheels/04/56/0d/aaa8d7c0dedde9ad7cdb5882229ed287aacd78b1e648b5b7a1\n",
      "  Building wheel for spint (setup.py) ... \u001B[?25l\u001B[?25hdone\n",
      "  Created wheel for spint: filename=spint-1.0.7-py3-none-any.whl size=31383 sha256=2502f8053a7d840bdcf61fdce27a9050b329b7804ff8ac4d88063e8ae090a56c\n",
      "  Stored in directory: /root/.cache/pip/wheels/7b/03/6b/b0a4a4e878a7e057ba4948478d7a8a7e651ac9d28a3f3a55d1\n",
      "  Building wheel for spvcm (setup.py) ... \u001B[?25l\u001B[?25hdone\n",
      "  Created wheel for spvcm: filename=spvcm-0.3.0-py3-none-any.whl size=5777201 sha256=1e0a17b099f216202d03202f1100627045a972a05d88326ec401d73356cae08c\n",
      "  Stored in directory: /root/.cache/pip/wheels/da/dd/c6/66fefe936667388f6da5b01437a00cd6b31dee97a771edf7e5\n",
      "  Building wheel for rvlib (setup.py) ... \u001B[?25l\u001B[?25hdone\n",
      "  Created wheel for rvlib: filename=rvlib-0.0.6-cp38-cp38-linux_x86_64.whl size=414432 sha256=b587f14b70706201ae62bff502198800842751c0ff52aafe4af4382c1387a14b\n",
      "  Stored in directory: /root/.cache/pip/wheels/a8/4e/89/97ca16240471073b10c037f640e879c30a6bfdeb80a07c0daa\n",
      "Successfully built esda inequality mgwr pointpats spglm spint spvcm rvlib\n",
      "Installing collected packages: pulp, snuggs, simplejson, rtree, pyproj, pygeos, munch, jsonlines, jmespath, deprecation, cligj, click-plugins, affine, requests-futures, rasterio, inequality, fiona, botocore, aws-requests-auth, s3transfer, rvlib, rasterstats, quantecon, mapclassify, libpysal, geopandas, tobler, spreg, pointpats, momepy, esda, boto3, access, spvcm, spglm, spaghetti, quilt3, giddy, spopt, splot, spint, segregation, mgwr, pysal\n",
      "Successfully installed access-1.1.8 affine-2.4.0 aws-requests-auth-0.4.3 boto3-1.26.81 botocore-1.29.81 click-plugins-1.1.1 cligj-0.7.2 deprecation-2.1.0 esda-2.4.3 fiona-1.8.22 geopandas-0.12.2 giddy-2.3.3 inequality-1.0.0 jmespath-1.0.1 jsonlines-1.2.0 libpysal-4.7.0 mapclassify-2.5.0 mgwr-2.1.2 momepy-0.5.4 munch-2.5.0 pointpats-2.2.0 pulp-2.7.0 pygeos-0.14 pyproj-3.4.1 pysal-23.1 quantecon-0.6.0 quilt3-5.1.1 rasterio-1.3.6 rasterstats-0.18.0 requests-futures-1.0.0 rtree-1.0.1 rvlib-0.0.6 s3transfer-0.6.0 segregation-2.3.1 simplejson-3.18.3 snuggs-1.4.7 spaghetti-1.7.2 spglm-1.0.8 spint-1.0.7 splot-1.1.5.post1 spopt-0.5.0 spreg-1.3.0 spvcm-0.3.0 tobler-0.9.0\n",
      "Looking in indexes: https://pypi.org/simple, https://us-python.pkg.dev/colab-wheels/public/simple/\n",
      "Requirement already satisfied: geopandas in /usr/local/lib/python3.8/dist-packages (0.12.2)\n",
      "Requirement already satisfied: packaging in /usr/local/lib/python3.8/dist-packages (from geopandas) (23.0)\n",
      "Requirement already satisfied: fiona>=1.8 in /usr/local/lib/python3.8/dist-packages (from geopandas) (1.8.22)\n",
      "Requirement already satisfied: pyproj>=2.6.1.post1 in /usr/local/lib/python3.8/dist-packages (from geopandas) (3.4.1)\n",
      "Requirement already satisfied: pandas>=1.0.0 in /usr/local/lib/python3.8/dist-packages (from geopandas) (1.3.5)\n",
      "Requirement already satisfied: shapely>=1.7 in /usr/local/lib/python3.8/dist-packages (from geopandas) (2.0.1)\n",
      "Requirement already satisfied: cligj>=0.5 in /usr/local/lib/python3.8/dist-packages (from fiona>=1.8->geopandas) (0.7.2)\n",
      "Requirement already satisfied: munch in /usr/local/lib/python3.8/dist-packages (from fiona>=1.8->geopandas) (2.5.0)\n",
      "Requirement already satisfied: click>=4.0 in /usr/local/lib/python3.8/dist-packages (from fiona>=1.8->geopandas) (8.1.3)\n",
      "Requirement already satisfied: certifi in /usr/local/lib/python3.8/dist-packages (from fiona>=1.8->geopandas) (2022.12.7)\n",
      "Requirement already satisfied: click-plugins>=1.0 in /usr/local/lib/python3.8/dist-packages (from fiona>=1.8->geopandas) (1.1.1)\n",
      "Requirement already satisfied: six>=1.7 in /usr/local/lib/python3.8/dist-packages (from fiona>=1.8->geopandas) (1.15.0)\n",
      "Requirement already satisfied: setuptools in /usr/local/lib/python3.8/dist-packages (from fiona>=1.8->geopandas) (57.4.0)\n",
      "Requirement already satisfied: attrs>=17 in /usr/local/lib/python3.8/dist-packages (from fiona>=1.8->geopandas) (22.2.0)\n",
      "Requirement already satisfied: numpy>=1.17.3 in /usr/local/lib/python3.8/dist-packages (from pandas>=1.0.0->geopandas) (1.22.4)\n",
      "Requirement already satisfied: pytz>=2017.3 in /usr/local/lib/python3.8/dist-packages (from pandas>=1.0.0->geopandas) (2022.7.1)\n",
      "Requirement already satisfied: python-dateutil>=2.7.3 in /usr/local/lib/python3.8/dist-packages (from pandas>=1.0.0->geopandas) (2.8.2)\n"
     ]
    }
   ],
   "source": [
    "# install the two packages\n",
    "!pip install pysal \n",
    "!pip install geopandas"
   ]
  },
  {
   "cell_type": "code",
   "source": [
    "# import modules\n",
    "import pandas as pd\n",
    "import numpy as np\n",
    "import matplotlib.pyplot as plt\n",
    "import geopandas as gpd\n",
    "import networkx as nx\n",
    "import statsmodels.api as sm\n",
    "\n",
    "import pysal.explore as ps\n",
    "from pysal.model import spreg\n",
    "from pysal.lib import weights\n",
    "from pysal.lib import cg as geometry\n",
    "# import pysal as ps"
   ],
   "metadata": {
    "id": "TIxNoxbih_-a",
    "colab": {
     "base_uri": "https://localhost:8080/"
    },
    "executionInfo": {
     "status": "ok",
     "timestamp": 1677618767773,
     "user_tz": 300,
     "elapsed": 14838,
     "user": {
      "displayName": "Shenhao Wang",
      "userId": "03503527554188089407"
     }
    },
    "outputId": "4d2d9e81-656f-4dd1-9488-5ad335db3a9a",
    "ExecuteTime": {
     "end_time": "2023-11-28T21:53:09.215242Z",
     "start_time": "2023-11-28T21:53:02.223120Z"
    }
   },
   "execution_count": 2,
   "outputs": [
    {
     "name": "stdout",
     "output_type": "stream",
     "text": [
      "Intel MKL WARNING: Support of Intel(R) Streaming SIMD Extensions 4.2 (Intel(R) SSE4.2) enabled only processors has been deprecated. Intel oneAPI Math Kernel Library 2025.0 will require Intel(R) Advanced Vector Extensions (Intel(R) AVX) instructions.\n",
      "Intel MKL WARNING: Support of Intel(R) Streaming SIMD Extensions 4.2 (Intel(R) SSE4.2) enabled only processors has been deprecated. Intel oneAPI Math Kernel Library 2025.0 will require Intel(R) Advanced Vector Extensions (Intel(R) AVX) instructions.\n"
     ]
    },
    {
     "name": "stderr",
     "output_type": "stream",
     "text": [
      "OMP: Info #276: omp_set_nested routine deprecated, please use omp_set_max_active_levels instead.\n",
      "/Users/autumnstar/opt/anaconda3/envs/Python_Tutorials/lib/python3.11/site-packages/spaghetti/network.py:40: FutureWarning: The next major release of pysal/spaghetti (2.0.0) will drop support for all ``libpysal.cg`` geometries. This change is a first step in refactoring ``spaghetti`` that is expected to result in dramatically reduced runtimes for network instantiation and operations. Users currently requiring network and point pattern input as ``libpysal.cg`` geometries should prepare for this simply by converting to ``shapely`` geometries.\n",
      "  warnings.warn(dep_msg, FutureWarning, stacklevel=1)\n"
     ]
    }
   ]
  },
  {
   "cell_type": "code",
   "source": [
    "# read data\n",
    "df = pd.read_csv('SampleDataset/Florida_ct.csv', index_col = 0)\n",
    "florida_shapefile = gpd.read_file('SampleDataset/tl_2020_12_tract/tl_2020_12_tract.shp') # read the shapefile"
   ],
   "metadata": {
    "id": "NgKqAlktlYp3",
    "ExecuteTime": {
     "end_time": "2023-11-28T21:53:15.530171Z",
     "start_time": "2023-11-28T21:53:13.591791Z"
    }
   },
   "execution_count": 3,
   "outputs": []
  },
  {
   "cell_type": "code",
   "source": [
    "# view the data \n",
    "df.head()"
   ],
   "metadata": {
    "id": "PN-3LkUNlYr9",
    "colab": {
     "base_uri": "https://localhost:8080/",
     "height": 299
    },
    "executionInfo": {
     "status": "ok",
     "timestamp": 1677618805690,
     "user_tz": 300,
     "elapsed": 14,
     "user": {
      "displayName": "Shenhao Wang",
      "userId": "03503527554188089407"
     }
    },
    "outputId": "05cc0142-5312-4f96-c91c-f0034db6f360",
    "ExecuteTime": {
     "end_time": "2023-11-28T21:53:16.531928Z",
     "start_time": "2023-11-28T21:53:16.517686Z"
    }
   },
   "execution_count": 4,
   "outputs": [
    {
     "data": {
      "text/plain": "   pop_total  sex_total  sex_male  sex_female  age_median  households  \\\n0     2812.0     2812.0    1383.0      1429.0        39.4       931.0   \n1     4709.0     4709.0    2272.0      2437.0        34.2      1668.0   \n2     5005.0     5005.0    2444.0      2561.0        34.1      1379.0   \n3     6754.0     6754.0    2934.0      3820.0        31.3      2238.0   \n4     3021.0     3021.0    1695.0      1326.0        44.1      1364.0   \n\n   race_total  race_white  race_black  race_native  ...  travel_walk_ratio  \\\n0      2812.0      2086.0       517.0          0.0  ...           0.014815   \n1      4709.0      2382.0      1953.0          0.0  ...           0.022150   \n2      5005.0      2334.0      2206.0        224.0  ...           0.026141   \n3      6754.0      4052.0      1671.0        326.0  ...           0.052697   \n4      3021.0      2861.0       121.0          0.0  ...           0.003014   \n\n   travel_work_home_ratio  edu_bachelor_ratio  edu_master_ratio  \\\n0                0.024242            0.183838          0.029798   \n1                0.004615            0.135222          0.040245   \n2                0.027913            0.213247          0.064620   \n3                0.004054            0.093379          0.082510   \n4                0.013059            0.219868          0.138631   \n\n   edu_phd_ratio  edu_higher_edu_ratio  employment_unemployed_ratio  \\\n0       0.003030              0.216667                     0.286635   \n1       0.003220              0.178686                     0.318327   \n2       0.007431              0.285299                     0.366755   \n3       0.012599              0.188488                     0.314452   \n4       0.007064              0.365563                     0.218447   \n\n   vehicle_per_capita  vehicle_per_household  vacancy_ratio  \n0            0.528094               1.595059       0.155938  \n1            0.460183               1.299161       0.152869  \n2            0.450949               1.636693       0.162211  \n3            0.474830               1.432976       0.178716  \n4            0.659053               1.459677       0.335930  \n\n[5 rows x 88 columns]",
      "text/html": "<div>\n<style scoped>\n    .dataframe tbody tr th:only-of-type {\n        vertical-align: middle;\n    }\n\n    .dataframe tbody tr th {\n        vertical-align: top;\n    }\n\n    .dataframe thead th {\n        text-align: right;\n    }\n</style>\n<table border=\"1\" class=\"dataframe\">\n  <thead>\n    <tr style=\"text-align: right;\">\n      <th></th>\n      <th>pop_total</th>\n      <th>sex_total</th>\n      <th>sex_male</th>\n      <th>sex_female</th>\n      <th>age_median</th>\n      <th>households</th>\n      <th>race_total</th>\n      <th>race_white</th>\n      <th>race_black</th>\n      <th>race_native</th>\n      <th>...</th>\n      <th>travel_walk_ratio</th>\n      <th>travel_work_home_ratio</th>\n      <th>edu_bachelor_ratio</th>\n      <th>edu_master_ratio</th>\n      <th>edu_phd_ratio</th>\n      <th>edu_higher_edu_ratio</th>\n      <th>employment_unemployed_ratio</th>\n      <th>vehicle_per_capita</th>\n      <th>vehicle_per_household</th>\n      <th>vacancy_ratio</th>\n    </tr>\n  </thead>\n  <tbody>\n    <tr>\n      <th>0</th>\n      <td>2812.0</td>\n      <td>2812.0</td>\n      <td>1383.0</td>\n      <td>1429.0</td>\n      <td>39.4</td>\n      <td>931.0</td>\n      <td>2812.0</td>\n      <td>2086.0</td>\n      <td>517.0</td>\n      <td>0.0</td>\n      <td>...</td>\n      <td>0.014815</td>\n      <td>0.024242</td>\n      <td>0.183838</td>\n      <td>0.029798</td>\n      <td>0.003030</td>\n      <td>0.216667</td>\n      <td>0.286635</td>\n      <td>0.528094</td>\n      <td>1.595059</td>\n      <td>0.155938</td>\n    </tr>\n    <tr>\n      <th>1</th>\n      <td>4709.0</td>\n      <td>4709.0</td>\n      <td>2272.0</td>\n      <td>2437.0</td>\n      <td>34.2</td>\n      <td>1668.0</td>\n      <td>4709.0</td>\n      <td>2382.0</td>\n      <td>1953.0</td>\n      <td>0.0</td>\n      <td>...</td>\n      <td>0.022150</td>\n      <td>0.004615</td>\n      <td>0.135222</td>\n      <td>0.040245</td>\n      <td>0.003220</td>\n      <td>0.178686</td>\n      <td>0.318327</td>\n      <td>0.460183</td>\n      <td>1.299161</td>\n      <td>0.152869</td>\n    </tr>\n    <tr>\n      <th>2</th>\n      <td>5005.0</td>\n      <td>5005.0</td>\n      <td>2444.0</td>\n      <td>2561.0</td>\n      <td>34.1</td>\n      <td>1379.0</td>\n      <td>5005.0</td>\n      <td>2334.0</td>\n      <td>2206.0</td>\n      <td>224.0</td>\n      <td>...</td>\n      <td>0.026141</td>\n      <td>0.027913</td>\n      <td>0.213247</td>\n      <td>0.064620</td>\n      <td>0.007431</td>\n      <td>0.285299</td>\n      <td>0.366755</td>\n      <td>0.450949</td>\n      <td>1.636693</td>\n      <td>0.162211</td>\n    </tr>\n    <tr>\n      <th>3</th>\n      <td>6754.0</td>\n      <td>6754.0</td>\n      <td>2934.0</td>\n      <td>3820.0</td>\n      <td>31.3</td>\n      <td>2238.0</td>\n      <td>6754.0</td>\n      <td>4052.0</td>\n      <td>1671.0</td>\n      <td>326.0</td>\n      <td>...</td>\n      <td>0.052697</td>\n      <td>0.004054</td>\n      <td>0.093379</td>\n      <td>0.082510</td>\n      <td>0.012599</td>\n      <td>0.188488</td>\n      <td>0.314452</td>\n      <td>0.474830</td>\n      <td>1.432976</td>\n      <td>0.178716</td>\n    </tr>\n    <tr>\n      <th>4</th>\n      <td>3021.0</td>\n      <td>3021.0</td>\n      <td>1695.0</td>\n      <td>1326.0</td>\n      <td>44.1</td>\n      <td>1364.0</td>\n      <td>3021.0</td>\n      <td>2861.0</td>\n      <td>121.0</td>\n      <td>0.0</td>\n      <td>...</td>\n      <td>0.003014</td>\n      <td>0.013059</td>\n      <td>0.219868</td>\n      <td>0.138631</td>\n      <td>0.007064</td>\n      <td>0.365563</td>\n      <td>0.218447</td>\n      <td>0.659053</td>\n      <td>1.459677</td>\n      <td>0.335930</td>\n    </tr>\n  </tbody>\n</table>\n<p>5 rows × 88 columns</p>\n</div>"
     },
     "execution_count": 4,
     "metadata": {},
     "output_type": "execute_result"
    }
   ]
  },
  {
   "cell_type": "code",
   "source": [
    "# view the shapefile\n",
    "florida_shapefile.head()"
   ],
   "metadata": {
    "id": "sZi5FrWHlYuF",
    "colab": {
     "base_uri": "https://localhost:8080/",
     "height": 206
    },
    "executionInfo": {
     "status": "ok",
     "timestamp": 1677618806238,
     "user_tz": 300,
     "elapsed": 559,
     "user": {
      "displayName": "Shenhao Wang",
      "userId": "03503527554188089407"
     }
    },
    "outputId": "8fb111e2-2b0a-4bad-a3db-408fd92c6d7e",
    "ExecuteTime": {
     "end_time": "2023-11-28T21:53:17.463604Z",
     "start_time": "2023-11-28T21:53:17.460130Z"
    }
   },
   "execution_count": 5,
   "outputs": [
    {
     "data": {
      "text/plain": "  STATEFP COUNTYFP TRACTCE        GEOID     NAME              NAMELSAD  MTFCC  \\\n0      12      011  110403  12011110403  1104.03  Census Tract 1104.03  G5020   \n1      12      011  060114  12011060114   601.14   Census Tract 601.14  G5020   \n2      12      011  060120  12011060120   601.20   Census Tract 601.20  G5020   \n3      12      011  110347  12011110347  1103.47  Census Tract 1103.47  G5020   \n4      12      011  020421  12011020421   204.21   Census Tract 204.21  G5020   \n\n  FUNCSTAT     ALAND   AWATER     INTPTLAT      INTPTLON  \\\n0        S   1323099        0  +25.9882712  -080.2428385   \n1        S   2598912        0  +26.1864137  -080.2598783   \n2        S  12814719  1823779  +26.1433192  -080.3341825   \n3        S   2846117   545293  +26.0230637  -080.4006685   \n4        S   1060862    16632  +26.2129463  -080.2358809   \n\n                                            geometry  \n0  POLYGON ((-80.24758 25.99480, -80.24754 25.994...  \n1  POLYGON ((-80.26810 26.19368, -80.26702 26.193...  \n2  POLYGON ((-80.36670 26.12828, -80.36649 26.128...  \n3  POLYGON ((-80.40957 26.03541, -80.40878 26.035...  \n4  POLYGON ((-80.24061 26.22083, -80.24056 26.220...  ",
      "text/html": "<div>\n<style scoped>\n    .dataframe tbody tr th:only-of-type {\n        vertical-align: middle;\n    }\n\n    .dataframe tbody tr th {\n        vertical-align: top;\n    }\n\n    .dataframe thead th {\n        text-align: right;\n    }\n</style>\n<table border=\"1\" class=\"dataframe\">\n  <thead>\n    <tr style=\"text-align: right;\">\n      <th></th>\n      <th>STATEFP</th>\n      <th>COUNTYFP</th>\n      <th>TRACTCE</th>\n      <th>GEOID</th>\n      <th>NAME</th>\n      <th>NAMELSAD</th>\n      <th>MTFCC</th>\n      <th>FUNCSTAT</th>\n      <th>ALAND</th>\n      <th>AWATER</th>\n      <th>INTPTLAT</th>\n      <th>INTPTLON</th>\n      <th>geometry</th>\n    </tr>\n  </thead>\n  <tbody>\n    <tr>\n      <th>0</th>\n      <td>12</td>\n      <td>011</td>\n      <td>110403</td>\n      <td>12011110403</td>\n      <td>1104.03</td>\n      <td>Census Tract 1104.03</td>\n      <td>G5020</td>\n      <td>S</td>\n      <td>1323099</td>\n      <td>0</td>\n      <td>+25.9882712</td>\n      <td>-080.2428385</td>\n      <td>POLYGON ((-80.24758 25.99480, -80.24754 25.994...</td>\n    </tr>\n    <tr>\n      <th>1</th>\n      <td>12</td>\n      <td>011</td>\n      <td>060114</td>\n      <td>12011060114</td>\n      <td>601.14</td>\n      <td>Census Tract 601.14</td>\n      <td>G5020</td>\n      <td>S</td>\n      <td>2598912</td>\n      <td>0</td>\n      <td>+26.1864137</td>\n      <td>-080.2598783</td>\n      <td>POLYGON ((-80.26810 26.19368, -80.26702 26.193...</td>\n    </tr>\n    <tr>\n      <th>2</th>\n      <td>12</td>\n      <td>011</td>\n      <td>060120</td>\n      <td>12011060120</td>\n      <td>601.20</td>\n      <td>Census Tract 601.20</td>\n      <td>G5020</td>\n      <td>S</td>\n      <td>12814719</td>\n      <td>1823779</td>\n      <td>+26.1433192</td>\n      <td>-080.3341825</td>\n      <td>POLYGON ((-80.36670 26.12828, -80.36649 26.128...</td>\n    </tr>\n    <tr>\n      <th>3</th>\n      <td>12</td>\n      <td>011</td>\n      <td>110347</td>\n      <td>12011110347</td>\n      <td>1103.47</td>\n      <td>Census Tract 1103.47</td>\n      <td>G5020</td>\n      <td>S</td>\n      <td>2846117</td>\n      <td>545293</td>\n      <td>+26.0230637</td>\n      <td>-080.4006685</td>\n      <td>POLYGON ((-80.40957 26.03541, -80.40878 26.035...</td>\n    </tr>\n    <tr>\n      <th>4</th>\n      <td>12</td>\n      <td>011</td>\n      <td>020421</td>\n      <td>12011020421</td>\n      <td>204.21</td>\n      <td>Census Tract 204.21</td>\n      <td>G5020</td>\n      <td>S</td>\n      <td>1060862</td>\n      <td>16632</td>\n      <td>+26.2129463</td>\n      <td>-080.2358809</td>\n      <td>POLYGON ((-80.24061 26.22083, -80.24056 26.220...</td>\n    </tr>\n  </tbody>\n</table>\n</div>"
     },
     "execution_count": 5,
     "metadata": {},
     "output_type": "execute_result"
    }
   ]
  },
  {
   "cell_type": "code",
   "source": [
    "# processing the data\n",
    "# adjust the object types to facilitate the merge\n",
    "florida_shapefile['GEOID'] = florida_shapefile.GEOID.astype('int64')\n",
    "\n",
    "# combine the dataframe with the shapefile.\n",
    "# Note that it is important to choose how - e.g., inner, right, left, etc. Here I choose 'left' for teaching purposes.\n",
    "df_shp = florida_shapefile.merge(df,\n",
    "                                 how = 'left',\n",
    "                                 left_on = 'GEOID',\n",
    "                                 right_on = 'full_ct_fips') \n",
    "\n",
    "# With the current approach, I will fill in ZEROS into the NaN values.\n",
    "# However, it is NOT necessarily the best approach.\n",
    "df_shp = df_shp.fillna(0.0)\n",
    "\n",
    "df_shp"
   ],
   "metadata": {
    "id": "282n5xcAlYwo",
    "colab": {
     "base_uri": "https://localhost:8080/",
     "height": 748
    },
    "executionInfo": {
     "status": "ok",
     "timestamp": 1677618875589,
     "user_tz": 300,
     "elapsed": 155,
     "user": {
      "displayName": "Shenhao Wang",
      "userId": "03503527554188089407"
     }
    },
    "outputId": "8ea561d8-eec7-4b0d-eef0-0695d8aac0f2",
    "ExecuteTime": {
     "end_time": "2023-11-28T21:53:18.441540Z",
     "start_time": "2023-11-28T21:53:18.405678Z"
    }
   },
   "execution_count": 6,
   "outputs": [
    {
     "data": {
      "text/plain": "     STATEFP COUNTYFP TRACTCE        GEOID     NAME              NAMELSAD  \\\n0         12      011  110403  12011110403  1104.03  Census Tract 1104.03   \n1         12      011  060114  12011060114   601.14   Census Tract 601.14   \n2         12      011  060120  12011060120   601.20   Census Tract 601.20   \n3         12      011  110347  12011110347  1103.47  Census Tract 1103.47   \n4         12      011  020421  12011020421   204.21   Census Tract 204.21   \n...      ...      ...     ...          ...      ...                   ...   \n5155      12      015  020700  12015020700      207      Census Tract 207   \n5156      12      005  001900  12005001900       19       Census Tract 19   \n5157      12      005  000600  12005000600        6        Census Tract 6   \n5158      12      005  000500  12005000500        5        Census Tract 5   \n5159      12      015  010200  12015010200      102      Census Tract 102   \n\n      MTFCC FUNCSTAT      ALAND    AWATER  ... travel_walk_ratio  \\\n0     G5020        S    1323099         0  ...          0.000000   \n1     G5020        S    2598912         0  ...          0.010400   \n2     G5020        S   12814719   1823779  ...          0.015806   \n3     G5020        S    2846117    545293  ...          0.000000   \n4     G5020        S    1060862     16632  ...          0.000000   \n...     ...      ...        ...       ...  ...               ...   \n5155  G5020        S    2619776    106556  ...          0.016979   \n5156  G5020        S    3493618   2801264  ...          0.000000   \n5157  G5020        S   54190724   9090097  ...          0.039185   \n5158  G5020        S  337874718  28527612  ...          0.000000   \n5159  G5020        S   39501585   9660895  ...          0.000000   \n\n     travel_work_home_ratio edu_bachelor_ratio  edu_master_ratio  \\\n0                  0.017004           0.091483          0.060147   \n1                  0.050442           0.253958          0.054749   \n2                  0.093356           0.323871          0.118865   \n3                  0.000000           0.000000          0.000000   \n4                  0.000000           0.000000          0.000000   \n...                     ...                ...               ...   \n5155               0.063450           0.048280          0.014137   \n5156               0.042712           0.272564          0.104603   \n5157               0.095611           0.194805          0.131494   \n5158               0.024557           0.108001          0.060415   \n5159               0.018768           0.074266          0.065697   \n\n      edu_phd_ratio  edu_higher_edu_ratio  employment_unemployed_ratio  \\\n0          0.013899              0.165529                     0.278519   \n1          0.023307              0.332014                     0.233480   \n2          0.013207              0.455943                     0.258939   \n3          0.000000              0.000000                     0.000000   \n4          0.000000              0.000000                     0.000000   \n...             ...                   ...                          ...   \n5155       0.006402              0.068818                     0.702392   \n5156       0.002690              0.379857                     0.352463   \n5157       0.018669              0.344968                     0.489378   \n5158       0.013996              0.182412                     0.331173   \n5159       0.014022              0.153986                     0.566011   \n\n      vehicle_per_capita  vehicle_per_household  vacancy_ratio  \n0               0.553838               1.937228       0.030723  \n1               0.607103               1.957252       0.108844  \n2               0.554582               1.674524       0.215953  \n3               0.000000               0.000000       0.000000  \n4               0.000000               0.000000       0.000000  \n...                  ...                    ...            ...  \n5155            0.240077               0.486310       0.170811  \n5156            0.498792               1.173037       0.060650  \n5157            0.460317               0.938235       0.643045  \n5158            0.485219               1.382467       0.201167  \n5159            0.361612               0.793762       0.202968  \n\n[5160 rows x 101 columns]",
      "text/html": "<div>\n<style scoped>\n    .dataframe tbody tr th:only-of-type {\n        vertical-align: middle;\n    }\n\n    .dataframe tbody tr th {\n        vertical-align: top;\n    }\n\n    .dataframe thead th {\n        text-align: right;\n    }\n</style>\n<table border=\"1\" class=\"dataframe\">\n  <thead>\n    <tr style=\"text-align: right;\">\n      <th></th>\n      <th>STATEFP</th>\n      <th>COUNTYFP</th>\n      <th>TRACTCE</th>\n      <th>GEOID</th>\n      <th>NAME</th>\n      <th>NAMELSAD</th>\n      <th>MTFCC</th>\n      <th>FUNCSTAT</th>\n      <th>ALAND</th>\n      <th>AWATER</th>\n      <th>...</th>\n      <th>travel_walk_ratio</th>\n      <th>travel_work_home_ratio</th>\n      <th>edu_bachelor_ratio</th>\n      <th>edu_master_ratio</th>\n      <th>edu_phd_ratio</th>\n      <th>edu_higher_edu_ratio</th>\n      <th>employment_unemployed_ratio</th>\n      <th>vehicle_per_capita</th>\n      <th>vehicle_per_household</th>\n      <th>vacancy_ratio</th>\n    </tr>\n  </thead>\n  <tbody>\n    <tr>\n      <th>0</th>\n      <td>12</td>\n      <td>011</td>\n      <td>110403</td>\n      <td>12011110403</td>\n      <td>1104.03</td>\n      <td>Census Tract 1104.03</td>\n      <td>G5020</td>\n      <td>S</td>\n      <td>1323099</td>\n      <td>0</td>\n      <td>...</td>\n      <td>0.000000</td>\n      <td>0.017004</td>\n      <td>0.091483</td>\n      <td>0.060147</td>\n      <td>0.013899</td>\n      <td>0.165529</td>\n      <td>0.278519</td>\n      <td>0.553838</td>\n      <td>1.937228</td>\n      <td>0.030723</td>\n    </tr>\n    <tr>\n      <th>1</th>\n      <td>12</td>\n      <td>011</td>\n      <td>060114</td>\n      <td>12011060114</td>\n      <td>601.14</td>\n      <td>Census Tract 601.14</td>\n      <td>G5020</td>\n      <td>S</td>\n      <td>2598912</td>\n      <td>0</td>\n      <td>...</td>\n      <td>0.010400</td>\n      <td>0.050442</td>\n      <td>0.253958</td>\n      <td>0.054749</td>\n      <td>0.023307</td>\n      <td>0.332014</td>\n      <td>0.233480</td>\n      <td>0.607103</td>\n      <td>1.957252</td>\n      <td>0.108844</td>\n    </tr>\n    <tr>\n      <th>2</th>\n      <td>12</td>\n      <td>011</td>\n      <td>060120</td>\n      <td>12011060120</td>\n      <td>601.20</td>\n      <td>Census Tract 601.20</td>\n      <td>G5020</td>\n      <td>S</td>\n      <td>12814719</td>\n      <td>1823779</td>\n      <td>...</td>\n      <td>0.015806</td>\n      <td>0.093356</td>\n      <td>0.323871</td>\n      <td>0.118865</td>\n      <td>0.013207</td>\n      <td>0.455943</td>\n      <td>0.258939</td>\n      <td>0.554582</td>\n      <td>1.674524</td>\n      <td>0.215953</td>\n    </tr>\n    <tr>\n      <th>3</th>\n      <td>12</td>\n      <td>011</td>\n      <td>110347</td>\n      <td>12011110347</td>\n      <td>1103.47</td>\n      <td>Census Tract 1103.47</td>\n      <td>G5020</td>\n      <td>S</td>\n      <td>2846117</td>\n      <td>545293</td>\n      <td>...</td>\n      <td>0.000000</td>\n      <td>0.000000</td>\n      <td>0.000000</td>\n      <td>0.000000</td>\n      <td>0.000000</td>\n      <td>0.000000</td>\n      <td>0.000000</td>\n      <td>0.000000</td>\n      <td>0.000000</td>\n      <td>0.000000</td>\n    </tr>\n    <tr>\n      <th>4</th>\n      <td>12</td>\n      <td>011</td>\n      <td>020421</td>\n      <td>12011020421</td>\n      <td>204.21</td>\n      <td>Census Tract 204.21</td>\n      <td>G5020</td>\n      <td>S</td>\n      <td>1060862</td>\n      <td>16632</td>\n      <td>...</td>\n      <td>0.000000</td>\n      <td>0.000000</td>\n      <td>0.000000</td>\n      <td>0.000000</td>\n      <td>0.000000</td>\n      <td>0.000000</td>\n      <td>0.000000</td>\n      <td>0.000000</td>\n      <td>0.000000</td>\n      <td>0.000000</td>\n    </tr>\n    <tr>\n      <th>...</th>\n      <td>...</td>\n      <td>...</td>\n      <td>...</td>\n      <td>...</td>\n      <td>...</td>\n      <td>...</td>\n      <td>...</td>\n      <td>...</td>\n      <td>...</td>\n      <td>...</td>\n      <td>...</td>\n      <td>...</td>\n      <td>...</td>\n      <td>...</td>\n      <td>...</td>\n      <td>...</td>\n      <td>...</td>\n      <td>...</td>\n      <td>...</td>\n      <td>...</td>\n      <td>...</td>\n    </tr>\n    <tr>\n      <th>5155</th>\n      <td>12</td>\n      <td>015</td>\n      <td>020700</td>\n      <td>12015020700</td>\n      <td>207</td>\n      <td>Census Tract 207</td>\n      <td>G5020</td>\n      <td>S</td>\n      <td>2619776</td>\n      <td>106556</td>\n      <td>...</td>\n      <td>0.016979</td>\n      <td>0.063450</td>\n      <td>0.048280</td>\n      <td>0.014137</td>\n      <td>0.006402</td>\n      <td>0.068818</td>\n      <td>0.702392</td>\n      <td>0.240077</td>\n      <td>0.486310</td>\n      <td>0.170811</td>\n    </tr>\n    <tr>\n      <th>5156</th>\n      <td>12</td>\n      <td>005</td>\n      <td>001900</td>\n      <td>12005001900</td>\n      <td>19</td>\n      <td>Census Tract 19</td>\n      <td>G5020</td>\n      <td>S</td>\n      <td>3493618</td>\n      <td>2801264</td>\n      <td>...</td>\n      <td>0.000000</td>\n      <td>0.042712</td>\n      <td>0.272564</td>\n      <td>0.104603</td>\n      <td>0.002690</td>\n      <td>0.379857</td>\n      <td>0.352463</td>\n      <td>0.498792</td>\n      <td>1.173037</td>\n      <td>0.060650</td>\n    </tr>\n    <tr>\n      <th>5157</th>\n      <td>12</td>\n      <td>005</td>\n      <td>000600</td>\n      <td>12005000600</td>\n      <td>6</td>\n      <td>Census Tract 6</td>\n      <td>G5020</td>\n      <td>S</td>\n      <td>54190724</td>\n      <td>9090097</td>\n      <td>...</td>\n      <td>0.039185</td>\n      <td>0.095611</td>\n      <td>0.194805</td>\n      <td>0.131494</td>\n      <td>0.018669</td>\n      <td>0.344968</td>\n      <td>0.489378</td>\n      <td>0.460317</td>\n      <td>0.938235</td>\n      <td>0.643045</td>\n    </tr>\n    <tr>\n      <th>5158</th>\n      <td>12</td>\n      <td>005</td>\n      <td>000500</td>\n      <td>12005000500</td>\n      <td>5</td>\n      <td>Census Tract 5</td>\n      <td>G5020</td>\n      <td>S</td>\n      <td>337874718</td>\n      <td>28527612</td>\n      <td>...</td>\n      <td>0.000000</td>\n      <td>0.024557</td>\n      <td>0.108001</td>\n      <td>0.060415</td>\n      <td>0.013996</td>\n      <td>0.182412</td>\n      <td>0.331173</td>\n      <td>0.485219</td>\n      <td>1.382467</td>\n      <td>0.201167</td>\n    </tr>\n    <tr>\n      <th>5159</th>\n      <td>12</td>\n      <td>015</td>\n      <td>010200</td>\n      <td>12015010200</td>\n      <td>102</td>\n      <td>Census Tract 102</td>\n      <td>G5020</td>\n      <td>S</td>\n      <td>39501585</td>\n      <td>9660895</td>\n      <td>...</td>\n      <td>0.000000</td>\n      <td>0.018768</td>\n      <td>0.074266</td>\n      <td>0.065697</td>\n      <td>0.014022</td>\n      <td>0.153986</td>\n      <td>0.566011</td>\n      <td>0.361612</td>\n      <td>0.793762</td>\n      <td>0.202968</td>\n    </tr>\n  </tbody>\n</table>\n<p>5160 rows × 101 columns</p>\n</div>"
     },
     "execution_count": 6,
     "metadata": {},
     "output_type": "execute_result"
    }
   ]
  },
  {
   "cell_type": "markdown",
   "source": [
    "# Secion 1. Spatial autocorrelation - Moran's I \n",
    "\n"
   ],
   "metadata": {
    "id": "5PAssx0vssBE"
   }
  },
  {
   "cell_type": "code",
   "source": [
    "# Create the weighting matrix\n",
    "w = weights.Queen.from_dataframe(df_shp)\n",
    "w.transform = 'R' # row normalize the matrix\n",
    "w"
   ],
   "metadata": {
    "id": "V3BgGLfGsrW5",
    "colab": {
     "base_uri": "https://localhost:8080/"
    },
    "executionInfo": {
     "status": "ok",
     "timestamp": 1677618997843,
     "user_tz": 300,
     "elapsed": 9382,
     "user": {
      "displayName": "Shenhao Wang",
      "userId": "03503527554188089407"
     }
    },
    "outputId": "beee723e-d6b6-42e3-a9c1-6a9671217a1f",
    "ExecuteTime": {
     "end_time": "2023-11-28T21:53:23.316276Z",
     "start_time": "2023-11-28T21:53:19.971605Z"
    }
   },
   "execution_count": 7,
   "outputs": [
    {
     "name": "stderr",
     "output_type": "stream",
     "text": [
      "/var/folders/jh/p1jvq4k96b78klmgl3dq5jwc0000gn/T/ipykernel_41399/3209979706.py:2: FutureWarning: `use_index` defaults to False but will default to True in future. Set True/False directly to control this behavior and silence this warning\n",
      "  w = weights.Queen.from_dataframe(df_shp)\n"
     ]
    },
    {
     "name": "stdout",
     "output_type": "stream",
     "text": [
      "('WARNING: ', 1636, ' is an island (no neighbors)')\n"
     ]
    },
    {
     "name": "stderr",
     "output_type": "stream",
     "text": [
      "/Users/autumnstar/opt/anaconda3/envs/Python_Tutorials/lib/python3.11/site-packages/libpysal/weights/weights.py:224: UserWarning: The weights matrix is not fully connected: \n",
      " There are 2 disconnected components.\n",
      " There is 1 island with id: 1636.\n",
      "  warnings.warn(message)\n"
     ]
    },
    {
     "data": {
      "text/plain": "<libpysal.weights.contiguity.Queen at 0x15099c390>"
     },
     "execution_count": 7,
     "metadata": {},
     "output_type": "execute_result"
    }
   ]
  },
  {
   "cell_type": "code",
   "source": [
    "# compute Moran's I\n",
    "# The value indicates a relatively strong spatial autocorrelation among the property values.\n",
    "I_stats = ps.esda.Moran(df_shp['property_value_median'], w)\n",
    "print(I_stats.I)"
   ],
   "metadata": {
    "id": "7FsOTEdu-gpc",
    "colab": {
     "base_uri": "https://localhost:8080/"
    },
    "executionInfo": {
     "status": "ok",
     "timestamp": 1677619057901,
     "user_tz": 300,
     "elapsed": 369,
     "user": {
      "displayName": "Shenhao Wang",
      "userId": "03503527554188089407"
     }
    },
    "outputId": "887ccfbe-2730-4273-ca53-3ef4adce7143",
    "ExecuteTime": {
     "end_time": "2023-11-28T21:53:24.469722Z",
     "start_time": "2023-11-28T21:53:24.065675Z"
    }
   },
   "execution_count": 8,
   "outputs": [
    {
     "name": "stdout",
     "output_type": "stream",
     "text": [
      "0.38291116263972147\n"
     ]
    }
   ]
  },
  {
   "cell_type": "code",
   "source": [
    "# compute local Moran's I\n",
    "I_local_stats = ps.esda.Moran_Local(df_shp['property_value_median'], w)\n",
    "I_local_stats.Is[:10] # show the first 10 local Moran's I"
   ],
   "metadata": {
    "id": "LO5zYqdh_ALl",
    "colab": {
     "base_uri": "https://localhost:8080/"
    },
    "executionInfo": {
     "status": "ok",
     "timestamp": 1677619162821,
     "user_tz": 300,
     "elapsed": 8654,
     "user": {
      "displayName": "Shenhao Wang",
      "userId": "03503527554188089407"
     }
    },
    "outputId": "03772cbe-7c4f-4b59-adf0-ff7a675f8172",
    "ExecuteTime": {
     "end_time": "2023-11-28T21:53:27.846753Z",
     "start_time": "2023-11-28T21:53:25.164437Z"
    }
   },
   "execution_count": 9,
   "outputs": [
    {
     "data": {
      "text/plain": "array([ 0.04817307,  0.13429403,  0.60396743, -0.55434325,  0.04132121,\n       -0.62603027, -0.1291442 , -0.21423089,  0.14755619,  0.31011156])"
     },
     "execution_count": 9,
     "metadata": {},
     "output_type": "execute_result"
    }
   ]
  },
  {
   "cell_type": "markdown",
   "source": [
    "### **Exercise 1.** Create an adjacency matrix using the Rook's rule. Then compute global and local Moran's I for median household income."
   ],
   "metadata": {
    "id": "Jbc-cH4j_d2J"
   }
  },
  {
   "cell_type": "markdown",
   "source": [
    "# Section 2. Baseline Linear Regression"
   ],
   "metadata": {
    "id": "zVvpFKt0lx-J"
   }
  },
  {
   "cell_type": "code",
   "source": [
    "# choose the independent variable\n",
    "X = df_shp['inc_median_household']\n",
    "# add a constant to the independent variable\n",
    "X = sm.add_constant(X)\n",
    "\n",
    "# choose the dependent var\n",
    "y = df_shp['property_value_median']"
   ],
   "metadata": {
    "id": "Pov0X_dRlvIw",
    "ExecuteTime": {
     "end_time": "2023-11-28T21:53:29.623281Z",
     "start_time": "2023-11-28T21:53:29.611617Z"
    }
   },
   "execution_count": 10,
   "outputs": []
  },
  {
   "cell_type": "code",
   "source": [
    "# fitting the model.\n",
    "# initialize the model using the independent and dependent variables\n",
    "model = sm.OLS(y, X)\n",
    "# fitting the model\n",
    "results = model.fit()"
   ],
   "metadata": {
    "id": "e9ipkX_sl2VE",
    "ExecuteTime": {
     "end_time": "2023-11-28T21:53:30.602687Z",
     "start_time": "2023-11-28T21:53:30.568363Z"
    }
   },
   "execution_count": 11,
   "outputs": [
    {
     "name": "stdout",
     "output_type": "stream",
     "text": [
      "Intel MKL WARNING: Support of Intel(R) Streaming SIMD Extensions 4.2 (Intel(R) SSE4.2) enabled only processors has been deprecated. Intel oneAPI Math Kernel Library 2025.0 will require Intel(R) Advanced Vector Extensions (Intel(R) AVX) instructions.\n"
     ]
    }
   ]
  },
  {
   "cell_type": "code",
   "source": [
    "# summary of the regression.\n",
    "# R square is different because of the data processing. \n",
    "print(results.summary())"
   ],
   "metadata": {
    "id": "SWJbmW17l2b9",
    "colab": {
     "base_uri": "https://localhost:8080/"
    },
    "executionInfo": {
     "status": "ok",
     "timestamp": 1677619764874,
     "user_tz": 300,
     "elapsed": 155,
     "user": {
      "displayName": "Shenhao Wang",
      "userId": "03503527554188089407"
     }
    },
    "outputId": "6daf953b-4121-496e-fd18-b53b2b5bdb25",
    "ExecuteTime": {
     "end_time": "2023-11-28T21:53:31.368376Z",
     "start_time": "2023-11-28T21:53:31.358136Z"
    }
   },
   "execution_count": 12,
   "outputs": [
    {
     "name": "stdout",
     "output_type": "stream",
     "text": [
      "                              OLS Regression Results                             \n",
      "=================================================================================\n",
      "Dep. Variable:     property_value_median   R-squared:                       0.726\n",
      "Model:                               OLS   Adj. R-squared:                  0.726\n",
      "Method:                    Least Squares   F-statistic:                 1.370e+04\n",
      "Date:                   Tue, 28 Nov 2023   Prob (F-statistic):               0.00\n",
      "Time:                           16:53:31   Log-Likelihood:                -66585.\n",
      "No. Observations:                   5160   AIC:                         1.332e+05\n",
      "Df Residuals:                       5158   BIC:                         1.332e+05\n",
      "Df Model:                              1                                         \n",
      "Covariance Type:               nonrobust                                         \n",
      "========================================================================================\n",
      "                           coef    std err          t      P>|t|      [0.025      0.975]\n",
      "----------------------------------------------------------------------------------------\n",
      "const                -1.693e+04   1962.562     -8.624      0.000   -2.08e+04   -1.31e+04\n",
      "inc_median_household     4.4360      0.038    117.037      0.000       4.362       4.510\n",
      "==============================================================================\n",
      "Omnibus:                     5339.953   Durbin-Watson:                   1.538\n",
      "Prob(Omnibus):                  0.000   Jarque-Bera (JB):           528248.985\n",
      "Skew:                           4.977   Prob(JB):                         0.00\n",
      "Kurtosis:                      51.558   Cond. No.                     7.50e+04\n",
      "==============================================================================\n",
      "\n",
      "Notes:\n",
      "[1] Standard Errors assume that the covariance matrix of the errors is correctly specified.\n",
      "[2] The condition number is large, 7.5e+04. This might indicate that there are\n",
      "strong multicollinearity or other numerical problems.\n"
     ]
    }
   ]
  },
  {
   "cell_type": "code",
   "source": [
    "# The result above can be replicated by using Pysal\n",
    "m1 = spreg.OLS(df_shp[['property_value_median']].values, df_shp[['inc_median_household']].values, \n",
    "               name_y = 'property_value_median', name_x = ['inc_median_household'])\n"
   ],
   "metadata": {
    "id": "7dJXvDeRl2eP",
    "ExecuteTime": {
     "end_time": "2023-11-28T21:53:32.316401Z",
     "start_time": "2023-11-28T21:53:32.288783Z"
    }
   },
   "execution_count": 13,
   "outputs": [
    {
     "name": "stdout",
     "output_type": "stream",
     "text": [
      "Intel MKL WARNING: Support of Intel(R) Streaming SIMD Extensions 4.2 (Intel(R) SSE4.2) enabled only processors has been deprecated. Intel oneAPI Math Kernel Library 2025.0 will require Intel(R) Advanced Vector Extensions (Intel(R) AVX) instructions.\n",
      "Intel MKL WARNING: Support of Intel(R) Streaming SIMD Extensions 4.2 (Intel(R) SSE4.2) enabled only processors has been deprecated. Intel oneAPI Math Kernel Library 2025.0 will require Intel(R) Advanced Vector Extensions (Intel(R) AVX) instructions.\n",
      "Intel MKL WARNING: Support of Intel(R) Streaming SIMD Extensions 4.2 (Intel(R) SSE4.2) enabled only processors has been deprecated. Intel oneAPI Math Kernel Library 2025.0 will require Intel(R) Advanced Vector Extensions (Intel(R) AVX) instructions.\n"
     ]
    }
   ]
  },
  {
   "cell_type": "code",
   "source": [
    "# Pysal summary \n",
    "print(m1.summary)"
   ],
   "metadata": {
    "id": "0fciDGrdl2gf",
    "colab": {
     "base_uri": "https://localhost:8080/"
    },
    "executionInfo": {
     "status": "ok",
     "timestamp": 1677619918281,
     "user_tz": 300,
     "elapsed": 270,
     "user": {
      "displayName": "Shenhao Wang",
      "userId": "03503527554188089407"
     }
    },
    "outputId": "c1934d17-657b-404d-9560-bec7e375c43b",
    "ExecuteTime": {
     "end_time": "2023-11-28T21:53:33.093232Z",
     "start_time": "2023-11-28T21:53:33.089471Z"
    }
   },
   "execution_count": 14,
   "outputs": [
    {
     "name": "stdout",
     "output_type": "stream",
     "text": [
      "REGRESSION RESULTS\n",
      "------------------\n",
      "\n",
      "SUMMARY OF OUTPUT: ORDINARY LEAST SQUARES\n",
      "-----------------------------------------\n",
      "Data set            :     unknown\n",
      "Weights matrix      :        None\n",
      "Dependent Variable  :property_value_median                Number of Observations:        5160\n",
      "Mean dependent var  : 149335.0940                Number of Variables   :           2\n",
      "S.D. dependent var  : 185957.9336                Degrees of Freedom    :        5158\n",
      "R-squared           :      0.7264\n",
      "Adjusted R-squared  :      0.7264\n",
      "Sum squared residual: 4.88016e+13                F-statistic           :  13697.6754\n",
      "Sigma-square        :9461344528.059                Prob(F-statistic)     :           0\n",
      "S.E. of regression  :   97269.443                Log likelihood        :  -66584.562\n",
      "Sigma-square ML     :9457677340.258                Akaike info criterion :  133173.124\n",
      "S.E of regression ML:  97250.5904                Schwarz criterion     :  133186.221\n",
      "\n",
      "------------------------------------------------------------------------------------\n",
      "            Variable     Coefficient       Std.Error     t-Statistic     Probability\n",
      "------------------------------------------------------------------------------------\n",
      "            CONSTANT    -16925.79282      1962.56219        -8.62433         0.00000\n",
      "inc_median_household         4.43603         0.03790       117.03707         0.00000\n",
      "------------------------------------------------------------------------------------\n",
      "\n",
      "REGRESSION DIAGNOSTICS\n",
      "MULTICOLLINEARITY CONDITION NUMBER            2.498\n",
      "\n",
      "TEST ON NORMALITY OF ERRORS\n",
      "TEST                             DF        VALUE           PROB\n",
      "Jarque-Bera                       2      528248.985           0.0000\n",
      "\n",
      "DIAGNOSTICS FOR HETEROSKEDASTICITY\n",
      "RANDOM COEFFICIENTS\n",
      "TEST                             DF        VALUE           PROB\n",
      "Breusch-Pagan test                1       16187.163           0.0000\n",
      "Koenker-Bassett test              1         640.337           0.0000\n",
      "================================ END OF REPORT =====================================\n"
     ]
    }
   ]
  },
  {
   "cell_type": "markdown",
   "source": [
    "# Section 3. Spatial lag model using x. "
   ],
   "metadata": {
    "id": "PIVtzMrtqKhz"
   }
  },
  {
   "cell_type": "code",
   "source": [
    "# KNN rule to create the adjacency matrix.\n",
    "# Then we normalize each row. \n",
    "w = weights.KNN.from_dataframe(df_shp, k=4)\n",
    "w.transform = 'R'\n",
    "w"
   ],
   "metadata": {
    "id": "k1tIvndJnyYz",
    "colab": {
     "base_uri": "https://localhost:8080/"
    },
    "executionInfo": {
     "status": "ok",
     "timestamp": 1677620089276,
     "user_tz": 300,
     "elapsed": 781,
     "user": {
      "displayName": "Shenhao Wang",
      "userId": "03503527554188089407"
     }
    },
    "outputId": "e030e569-cb0b-4ac4-c870-ed1252056d70",
    "ExecuteTime": {
     "end_time": "2023-11-28T21:53:34.596210Z",
     "start_time": "2023-11-28T21:53:34.421950Z"
    }
   },
   "execution_count": 15,
   "outputs": [
    {
     "data": {
      "text/plain": "<libpysal.weights.distance.KNN at 0x1518f1110>"
     },
     "execution_count": 15,
     "metadata": {},
     "output_type": "execute_result"
    }
   ]
  },
  {
   "cell_type": "code",
   "source": [
    "# create the spatial lag term\n",
    "# it is in fact the spatial averaging over the neighboring census tracts.\n",
    "# Since the W matrix is row normalized, it provides the correct magnitude.\n",
    "inc_median_household_spatial_lag = weights.spatial_lag.lag_spatial(w, df_shp['inc_median_household'].values)\n",
    "\n",
    "# add the spatial lag term to the dataframe\n",
    "df_shp['inc_median_household_spatial_lag'] = inc_median_household_spatial_lag"
   ],
   "metadata": {
    "id": "FiCw2TnqpOlu",
    "ExecuteTime": {
     "end_time": "2023-11-28T21:53:39.351292Z",
     "start_time": "2023-11-28T21:53:39.338386Z"
    }
   },
   "execution_count": 17,
   "outputs": []
  },
  {
   "cell_type": "code",
   "source": [
    "# rerun the regression by incorporating the spatial lag term.\n",
    "model = spreg.OLS(df_shp[['property_value_median']].values, df_shp[['inc_median_household', 'inc_median_household_spatial_lag']].values, \n",
    "                  name_y = 'property_value_median', name_x = ['inc_median_household', 'inc_median_household_spatial_lag'])"
   ],
   "metadata": {
    "id": "9jEFoIYXoUg-",
    "ExecuteTime": {
     "end_time": "2023-11-28T21:53:39.974839Z",
     "start_time": "2023-11-28T21:53:39.953799Z"
    }
   },
   "execution_count": 18,
   "outputs": [
    {
     "name": "stdout",
     "output_type": "stream",
     "text": [
      "Intel MKL WARNING: Support of Intel(R) Streaming SIMD Extensions 4.2 (Intel(R) SSE4.2) enabled only processors has been deprecated. Intel oneAPI Math Kernel Library 2025.0 will require Intel(R) Advanced Vector Extensions (Intel(R) AVX) instructions.\n",
      "Intel MKL WARNING: Support of Intel(R) Streaming SIMD Extensions 4.2 (Intel(R) SSE4.2) enabled only processors has been deprecated. Intel oneAPI Math Kernel Library 2025.0 will require Intel(R) Advanced Vector Extensions (Intel(R) AVX) instructions.\n",
      "Intel MKL WARNING: Support of Intel(R) Streaming SIMD Extensions 4.2 (Intel(R) SSE4.2) enabled only processors has been deprecated. Intel oneAPI Math Kernel Library 2025.0 will require Intel(R) Advanced Vector Extensions (Intel(R) AVX) instructions.\n"
     ]
    }
   ]
  },
  {
   "cell_type": "code",
   "source": [
    "# print the OLS result.\n",
    "# note that the performance increases slightly, but not much. \n",
    "print(model.summary)"
   ],
   "metadata": {
    "id": "JEa3dkGhoV_E",
    "colab": {
     "base_uri": "https://localhost:8080/"
    },
    "executionInfo": {
     "status": "ok",
     "timestamp": 1677620200935,
     "user_tz": 300,
     "elapsed": 4,
     "user": {
      "displayName": "Shenhao Wang",
      "userId": "03503527554188089407"
     }
    },
    "outputId": "da04423e-4e1d-457b-d530-b583c75ada9c",
    "ExecuteTime": {
     "end_time": "2023-11-28T21:53:40.857680Z",
     "start_time": "2023-11-28T21:53:40.847375Z"
    }
   },
   "execution_count": 19,
   "outputs": [
    {
     "name": "stdout",
     "output_type": "stream",
     "text": [
      "REGRESSION RESULTS\n",
      "------------------\n",
      "\n",
      "SUMMARY OF OUTPUT: ORDINARY LEAST SQUARES\n",
      "-----------------------------------------\n",
      "Data set            :     unknown\n",
      "Weights matrix      :        None\n",
      "Dependent Variable  :property_value_median                Number of Observations:        5160\n",
      "Mean dependent var  : 149335.0940                Number of Variables   :           3\n",
      "S.D. dependent var  : 185957.9336                Degrees of Freedom    :        5157\n",
      "R-squared           :      0.7276\n",
      "Adjusted R-squared  :      0.7275\n",
      "Sum squared residual:  4.8596e+13                F-statistic           :   6887.3841\n",
      "Sigma-square        :9423316421.757                Prob(F-statistic)     :           0\n",
      "S.E. of regression  :   97073.768                Log likelihood        :  -66573.671\n",
      "Sigma-square ML     :9417837749.419                Akaike info criterion :  133153.342\n",
      "S.E of regression ML:  97045.5447                Schwarz criterion     :  133172.988\n",
      "\n",
      "------------------------------------------------------------------------------------\n",
      "            Variable     Coefficient       Std.Error     t-Statistic     Probability\n",
      "------------------------------------------------------------------------------------\n",
      "            CONSTANT    -24172.56129      2498.69105        -9.67409         0.00000\n",
      "inc_median_household         4.32235         0.04498        96.09426         0.00000\n",
      "inc_median_household_spatial_lag         0.31917         0.06833         4.67068         0.00000\n",
      "------------------------------------------------------------------------------------\n",
      "\n",
      "REGRESSION DIAGNOSTICS\n",
      "MULTICOLLINEARITY CONDITION NUMBER            4.294\n",
      "\n",
      "TEST ON NORMALITY OF ERRORS\n",
      "TEST                             DF        VALUE           PROB\n",
      "Jarque-Bera                       2      526184.550           0.0000\n",
      "\n",
      "DIAGNOSTICS FOR HETEROSKEDASTICITY\n",
      "RANDOM COEFFICIENTS\n",
      "TEST                             DF        VALUE           PROB\n",
      "Breusch-Pagan test                2       16481.616           0.0000\n",
      "Koenker-Bassett test              2         653.165           0.0000\n",
      "================================ END OF REPORT =====================================\n"
     ]
    }
   ]
  },
  {
   "cell_type": "markdown",
   "source": [
    "We shall see that the spatial lag model using exogeneous variable is roughly the same as linear regressions. This is why researchers do not discuss this model that much in the spatial econometrics class. However, it is an important step for us to grasp the gist (e.g. local message passing) in spatial regressions. "
   ],
   "metadata": {
    "id": "Vlf39HHIAOdn"
   }
  },
  {
   "cell_type": "markdown",
   "source": [
    "### **Exercise 2.** Instead of using only the inc_median_household, please try to add other control variables to predict property values. For example, please include median household income and spatial lag of median household income, along with household size, travel behavior, and total population for the regression. "
   ],
   "metadata": {
    "id": "C-0PqTKkAabP"
   }
  },
  {
   "cell_type": "markdown",
   "source": [
    "# Section 4. Spatial lag model using y. "
   ],
   "metadata": {
    "id": "ggvM6H9YBZDr"
   }
  },
  {
   "cell_type": "code",
   "source": [
    "# KNN rule to create the adjacency matrix.\n",
    "# Then we normalize each row. \n",
    "w = weights.KNN.from_dataframe(df_shp, k=4)\n",
    "w.transform = 'R'\n",
    "w"
   ],
   "metadata": {
    "id": "1EMWv8U2p3In",
    "colab": {
     "base_uri": "https://localhost:8080/"
    },
    "executionInfo": {
     "status": "ok",
     "timestamp": 1677620391318,
     "user_tz": 300,
     "elapsed": 924,
     "user": {
      "displayName": "Shenhao Wang",
      "userId": "03503527554188089407"
     }
    },
    "outputId": "dcda7d70-0978-4680-8ae3-fa6a2dc87b73",
    "ExecuteTime": {
     "end_time": "2023-11-28T21:53:43.259125Z",
     "start_time": "2023-11-28T21:53:43.077004Z"
    }
   },
   "execution_count": 20,
   "outputs": [
    {
     "data": {
      "text/plain": "<libpysal.weights.distance.KNN at 0x1368270d0>"
     },
     "execution_count": 20,
     "metadata": {},
     "output_type": "execute_result"
    }
   ]
  },
  {
   "cell_type": "code",
   "source": [
    "# specify the model\n",
    "# note that the syntax is different from the previous case. It is caused by the difference in their estimation methods. \n",
    "model = spreg.GM_Lag(df_shp[['property_value_median']].values, df_shp[['inc_median_household']].values,\n",
    "                     w = w, \n",
    "                     name_y = 'property_value_median', name_x = ['inc_median_household'])"
   ],
   "metadata": {
    "id": "WMTRiXWHqQ7B",
    "ExecuteTime": {
     "end_time": "2023-11-28T21:53:44.424202Z",
     "start_time": "2023-11-28T21:53:44.394738Z"
    }
   },
   "execution_count": 21,
   "outputs": [
    {
     "name": "stdout",
     "output_type": "stream",
     "text": [
      "Intel MKL WARNING: Support of Intel(R) Streaming SIMD Extensions 4.2 (Intel(R) SSE4.2) enabled only processors has been deprecated. Intel oneAPI Math Kernel Library 2025.0 will require Intel(R) Advanced Vector Extensions (Intel(R) AVX) instructions.\n"
     ]
    }
   ]
  },
  {
   "cell_type": "code",
   "source": [
    "# print the result.\n",
    "print(model.summary)"
   ],
   "metadata": {
    "id": "2oYmv-OZqQ89",
    "colab": {
     "base_uri": "https://localhost:8080/"
    },
    "executionInfo": {
     "status": "ok",
     "timestamp": 1677620437508,
     "user_tz": 300,
     "elapsed": 315,
     "user": {
      "displayName": "Shenhao Wang",
      "userId": "03503527554188089407"
     }
    },
    "outputId": "ec812540-72cd-49d4-993d-c14556873695",
    "ExecuteTime": {
     "end_time": "2023-11-28T21:53:44.999648Z",
     "start_time": "2023-11-28T21:53:44.996070Z"
    }
   },
   "execution_count": 22,
   "outputs": [
    {
     "name": "stdout",
     "output_type": "stream",
     "text": [
      "REGRESSION RESULTS\n",
      "------------------\n",
      "\n",
      "SUMMARY OF OUTPUT: SPATIAL TWO STAGE LEAST SQUARES\n",
      "--------------------------------------------------\n",
      "Data set            :     unknown\n",
      "Weights matrix      :     unknown\n",
      "Dependent Variable  :property_value_median                Number of Observations:        5160\n",
      "Mean dependent var  : 149335.0940                Number of Variables   :           3\n",
      "S.D. dependent var  : 185957.9336                Degrees of Freedom    :        5157\n",
      "Pseudo R-squared    :      0.7426\n",
      "Spatial Pseudo R-squared:  0.7276\n",
      "\n",
      "------------------------------------------------------------------------------------\n",
      "            Variable     Coefficient       Std.Error     z-Statistic     Probability\n",
      "------------------------------------------------------------------------------------\n",
      "            CONSTANT    -22693.31038      2250.33615       -10.08441         0.00000\n",
      "inc_median_household         4.31433         0.04464        96.64288         0.00000\n",
      "W_property_value_median         0.07305         0.01520         4.80568         0.00000\n",
      "------------------------------------------------------------------------------------\n",
      "Instrumented: W_property_value_median\n",
      "Instruments: W_inc_median_household\n",
      "================================ END OF REPORT =====================================\n"
     ]
    }
   ]
  },
  {
   "cell_type": "markdown",
   "source": [
    "### **Exercise 3.** Instead of using only the inc_median_household, please try to add other control variables to predict property values. For example, please include median household income, along with household size, travel behavior, and total population for this spatial lag regression using the endogeneous variable y. "
   ],
   "metadata": {
    "id": "B3NfHZ4_CPDp"
   }
  }
 ]
}
