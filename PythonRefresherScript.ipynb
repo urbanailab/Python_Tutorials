{
 "nbformat": 4,
 "nbformat_minor": 0,
 "metadata": {
  "colab": {
   "provenance": [],
   "authorship_tag": "ABX9TyOesT0L707u5atSDm8tXGsa"
  },
  "kernelspec": {
   "name": "python3",
   "language": "python",
   "display_name": "Python 3 (ipykernel)"
  },
  "language_info": {
   "name": "python"
  }
 },
 "cells": [
  {
   "cell_type": "markdown",
   "source": [
    "# Python Refresher\n",
    "\n",
    "- Learning: 2~3 students form a small group to run the scripts together.\n",
    "\n",
    "- About Google Colab\n",
    "  - How to use Google Colab?\n",
    "  - https://www.youtube.com/watch?v=inN8seMm7UI\n",
    "  - https://colab.research.google.com/#scrollTo=5fCEDCU_qrC0\n",
    "\n",
    "- Section 1: Basic Python syntax\n",
    "- Section 2: Probability distributions as DGP (Numpy)\n",
    "- Section 3: Loading data (Pandas)\n",
    "- Section 4: Viewing data (Numpy and Pandas)\n",
    "- Section 5: Analyzing data (Numpy, Pandas, and Matplotlib)\n",
    "\n",
    "- Data: https://drive.google.com/file/d/1LTxyDrSZD2f0LuELMenGVkWeag7KebHP/view?usp=sharing\n",
    "- Data dictionary: https://docs.google.com/spreadsheets/d/1juSpTKO07HnzxAKRTg5MLLj1SWR60tX3/edit?usp=sharing&ouid=115425849068992643587&rtpof=true&sd=true\n",
    "\n",
    "For each section, I cannot cover everything. Please find the online tutorials. In fact, Google is always the best friend."
   ],
   "metadata": {
    "id": "p92A7twY5sEy"
   }
  },
  {
   "cell_type": "markdown",
   "source": [
    "## 1. Basic Python Syntax"
   ],
   "metadata": {
    "id": "2i38egQy5zl3"
   }
  },
  {
   "cell_type": "code",
   "source": [
    "# print # anything after a hashtag is a comment\n",
    "print(\"Hello world\")"
   ],
   "metadata": {
    "colab": {
     "base_uri": "https://localhost:8080/"
    },
    "id": "9whstPoi7_F6",
    "executionInfo": {
     "status": "ok",
     "timestamp": 1673987484881,
     "user_tz": 300,
     "elapsed": 116,
     "user": {
      "displayName": "Shenhao Wang",
      "userId": "03503527554188089407"
     }
    },
    "outputId": "c115cca5-39a7-4595-ebf9-3b622812137c",
    "ExecuteTime": {
     "end_time": "2023-11-28T21:40:17.508794Z",
     "start_time": "2023-11-28T21:40:16.548934Z"
    }
   },
   "execution_count": 1,
   "outputs": [
    {
     "name": "stdout",
     "output_type": "stream",
     "text": [
      "Hello world\n"
     ]
    }
   ]
  },
  {
   "cell_type": "markdown",
   "source": [
    "### 1.1 Basic data types"
   ],
   "metadata": {
    "id": "QjpHVggN6vZn"
   }
  },
  {
   "cell_type": "code",
   "source": [
    "# booleans\n",
    "x = True # or false\n",
    "type(x)"
   ],
   "metadata": {
    "colab": {
     "base_uri": "https://localhost:8080/"
    },
    "id": "Fg-WqMD48LF0",
    "executionInfo": {
     "status": "ok",
     "timestamp": 1673987500624,
     "user_tz": 300,
     "elapsed": 119,
     "user": {
      "displayName": "Shenhao Wang",
      "userId": "03503527554188089407"
     }
    },
    "outputId": "1bd2cd0f-13f2-4585-e8c0-6227563783e6",
    "ExecuteTime": {
     "end_time": "2023-11-28T21:40:17.509149Z",
     "start_time": "2023-11-28T21:40:16.555710Z"
    }
   },
   "execution_count": 2,
   "outputs": [
    {
     "data": {
      "text/plain": "bool"
     },
     "execution_count": 2,
     "metadata": {},
     "output_type": "execute_result"
    }
   ]
  },
  {
   "cell_type": "code",
   "source": [
    "# integers (discrete values)\n",
    "x = 1\n",
    "type(x)"
   ],
   "metadata": {
    "colab": {
     "base_uri": "https://localhost:8080/"
    },
    "id": "iCiXQxKg6ukf",
    "executionInfo": {
     "status": "ok",
     "timestamp": 1673987537191,
     "user_tz": 300,
     "elapsed": 106,
     "user": {
      "displayName": "Shenhao Wang",
      "userId": "03503527554188089407"
     }
    },
    "outputId": "858873e8-a1d6-4c07-c97f-58690ea0c819",
    "ExecuteTime": {
     "end_time": "2023-11-28T21:40:17.509259Z",
     "start_time": "2023-11-28T21:40:16.559370Z"
    }
   },
   "execution_count": 3,
   "outputs": [
    {
     "data": {
      "text/plain": "int"
     },
     "execution_count": 3,
     "metadata": {},
     "output_type": "execute_result"
    }
   ]
  },
  {
   "cell_type": "code",
   "source": [
    "# floating-point numbers (continuous values)\n",
    "x = 100.5\n",
    "type(x)"
   ],
   "metadata": {
    "colab": {
     "base_uri": "https://localhost:8080/"
    },
    "id": "DOOxFgqL6cik",
    "executionInfo": {
     "status": "ok",
     "timestamp": 1673987588306,
     "user_tz": 300,
     "elapsed": 133,
     "user": {
      "displayName": "Shenhao Wang",
      "userId": "03503527554188089407"
     }
    },
    "outputId": "1cb0d27c-7080-45d4-8108-2ccdf04b31bb",
    "ExecuteTime": {
     "end_time": "2023-11-28T21:40:17.509940Z",
     "start_time": "2023-11-28T21:40:16.564265Z"
    }
   },
   "execution_count": 4,
   "outputs": [
    {
     "data": {
      "text/plain": "float"
     },
     "execution_count": 4,
     "metadata": {},
     "output_type": "execute_result"
    }
   ]
  },
  {
   "cell_type": "code",
   "source": [
    "# strings\n",
    "x = 'Gainesville'\n",
    "type(x)"
   ],
   "metadata": {
    "colab": {
     "base_uri": "https://localhost:8080/"
    },
    "id": "etstZx7w6mzB",
    "executionInfo": {
     "status": "ok",
     "timestamp": 1673987596048,
     "user_tz": 300,
     "elapsed": 106,
     "user": {
      "displayName": "Shenhao Wang",
      "userId": "03503527554188089407"
     }
    },
    "outputId": "abe60014-f9b2-43eb-f1b0-566799765791",
    "ExecuteTime": {
     "end_time": "2023-11-28T21:40:17.510837Z",
     "start_time": "2023-11-28T21:40:16.567812Z"
    }
   },
   "execution_count": 5,
   "outputs": [
    {
     "data": {
      "text/plain": "str"
     },
     "execution_count": 5,
     "metadata": {},
     "output_type": "execute_result"
    }
   ]
  },
  {
   "cell_type": "code",
   "source": [
    "# list of items\n",
    "x = [1, 2, 3, 'Gainesville']\n",
    "type(x)"
   ],
   "metadata": {
    "colab": {
     "base_uri": "https://localhost:8080/"
    },
    "id": "dCGr8IW_7Jdh",
    "executionInfo": {
     "status": "ok",
     "timestamp": 1673987610924,
     "user_tz": 300,
     "elapsed": 102,
     "user": {
      "displayName": "Shenhao Wang",
      "userId": "03503527554188089407"
     }
    },
    "outputId": "a98f8078-4394-4509-eaa0-c109d153041d",
    "ExecuteTime": {
     "end_time": "2023-11-28T21:40:17.511104Z",
     "start_time": "2023-11-28T21:40:16.571112Z"
    }
   },
   "execution_count": 6,
   "outputs": [
    {
     "data": {
      "text/plain": "list"
     },
     "execution_count": 6,
     "metadata": {},
     "output_type": "execute_result"
    }
   ]
  },
  {
   "cell_type": "code",
   "source": [
    "# sets\n",
    "x = {1, 2, 3, 3, 2}\n",
    "type(x)"
   ],
   "metadata": {
    "colab": {
     "base_uri": "https://localhost:8080/"
    },
    "id": "WJ-Nxmvk7OrC",
    "executionInfo": {
     "status": "ok",
     "timestamp": 1673925187550,
     "user_tz": 300,
     "elapsed": 150,
     "user": {
      "displayName": "Shenhao Wang",
      "userId": "03503527554188089407"
     }
    },
    "outputId": "30eadeb6-c062-4da1-d190-06299b6c9aad",
    "ExecuteTime": {
     "end_time": "2023-11-28T21:40:17.511299Z",
     "start_time": "2023-11-28T21:40:16.576663Z"
    }
   },
   "execution_count": 7,
   "outputs": [
    {
     "data": {
      "text/plain": "set"
     },
     "execution_count": 7,
     "metadata": {},
     "output_type": "execute_result"
    }
   ]
  },
  {
   "cell_type": "code",
   "source": [
    "# tuple\n",
    "x = (12, \"Urban Analytics\")\n",
    "type(x)"
   ],
   "metadata": {
    "colab": {
     "base_uri": "https://localhost:8080/"
    },
    "id": "b7X4IiDO7UVD",
    "executionInfo": {
     "status": "ok",
     "timestamp": 1673925187956,
     "user_tz": 300,
     "elapsed": 3,
     "user": {
      "displayName": "Shenhao Wang",
      "userId": "03503527554188089407"
     }
    },
    "outputId": "21242c5e-e40d-4946-c189-bb857c4337d7",
    "ExecuteTime": {
     "end_time": "2023-11-28T21:40:17.511457Z",
     "start_time": "2023-11-28T21:40:16.581552Z"
    }
   },
   "execution_count": 8,
   "outputs": [
    {
     "data": {
      "text/plain": "tuple"
     },
     "execution_count": 8,
     "metadata": {},
     "output_type": "execute_result"
    }
   ]
  },
  {
   "cell_type": "code",
   "source": [
    "# dictionary\n",
    "x = {\"first name\": \"Shenhao\", \"last name\": \"Wang\", \"lab\": \"Urban AI\"}\n",
    "type(x)"
   ],
   "metadata": {
    "colab": {
     "base_uri": "https://localhost:8080/"
    },
    "id": "DKQsAiGG7c8R",
    "executionInfo": {
     "status": "ok",
     "timestamp": 1673987678075,
     "user_tz": 300,
     "elapsed": 136,
     "user": {
      "displayName": "Shenhao Wang",
      "userId": "03503527554188089407"
     }
    },
    "outputId": "c8a9cedc-c9cc-49af-c768-b95309f94aa8",
    "ExecuteTime": {
     "end_time": "2023-11-28T21:40:17.511621Z",
     "start_time": "2023-11-28T21:40:16.591659Z"
    }
   },
   "execution_count": 9,
   "outputs": [
    {
     "data": {
      "text/plain": "dict"
     },
     "execution_count": 9,
     "metadata": {},
     "output_type": "execute_result"
    }
   ]
  },
  {
   "cell_type": "code",
   "source": [
    "# keys and values in a dictionary\n",
    "x = {\"first name\": \"Shenhao\", \"last name\": \"Wang\", \"lab\": \"Urban AI\"}\n",
    "print(x.keys())\n",
    "print(x.values())"
   ],
   "metadata": {
    "colab": {
     "base_uri": "https://localhost:8080/"
    },
    "id": "RhYB3DBf7ut3",
    "executionInfo": {
     "status": "ok",
     "timestamp": 1673987685509,
     "user_tz": 300,
     "elapsed": 91,
     "user": {
      "displayName": "Shenhao Wang",
      "userId": "03503527554188089407"
     }
    },
    "outputId": "cb6c2508-f837-4287-81b1-44fbe8d00fb3",
    "ExecuteTime": {
     "end_time": "2023-11-28T21:40:17.511889Z",
     "start_time": "2023-11-28T21:40:16.597505Z"
    }
   },
   "execution_count": 10,
   "outputs": [
    {
     "name": "stdout",
     "output_type": "stream",
     "text": [
      "dict_keys(['first name', 'last name', 'lab'])\n",
      "dict_values(['Shenhao', 'Wang', 'Urban AI'])\n"
     ]
    }
   ]
  },
  {
   "cell_type": "markdown",
   "source": [
    "### 1.2 Basic algebraic operations"
   ],
   "metadata": {
    "id": "kwiOeIXG8bI7"
   }
  },
  {
   "cell_type": "code",
   "source": [
    "# adding integers\n",
    "x = 1 + 2\n",
    "print(type(x))\n",
    "print(x)"
   ],
   "metadata": {
    "colab": {
     "base_uri": "https://localhost:8080/"
    },
    "id": "iB4EdSZF8dIZ",
    "executionInfo": {
     "status": "ok",
     "timestamp": 1673987711664,
     "user_tz": 300,
     "elapsed": 110,
     "user": {
      "displayName": "Shenhao Wang",
      "userId": "03503527554188089407"
     }
    },
    "outputId": "d84906cc-9e46-4a76-d8fb-a53c777f747b",
    "ExecuteTime": {
     "end_time": "2023-11-28T21:40:17.512096Z",
     "start_time": "2023-11-28T21:40:16.604276Z"
    }
   },
   "execution_count": 11,
   "outputs": [
    {
     "name": "stdout",
     "output_type": "stream",
     "text": [
      "<class 'int'>\n",
      "3\n"
     ]
    }
   ]
  },
  {
   "cell_type": "code",
   "source": [
    "# adding floats\n",
    "x = 1.5 + 2.5\n",
    "print(type(x))\n",
    "print(x)"
   ],
   "metadata": {
    "colab": {
     "base_uri": "https://localhost:8080/"
    },
    "id": "C8sCP_4o8gTD",
    "executionInfo": {
     "status": "ok",
     "timestamp": 1673987719760,
     "user_tz": 300,
     "elapsed": 113,
     "user": {
      "displayName": "Shenhao Wang",
      "userId": "03503527554188089407"
     }
    },
    "outputId": "3060318b-f8ec-406c-eb02-66d0205e66c0",
    "ExecuteTime": {
     "end_time": "2023-11-28T21:40:17.512281Z",
     "start_time": "2023-11-28T21:40:16.608115Z"
    }
   },
   "execution_count": 12,
   "outputs": [
    {
     "name": "stdout",
     "output_type": "stream",
     "text": [
      "<class 'float'>\n",
      "4.0\n"
     ]
    }
   ]
  },
  {
   "cell_type": "code",
   "source": [
    "# multiplication\n",
    "x = 3 * 4\n",
    "print(x)"
   ],
   "metadata": {
    "colab": {
     "base_uri": "https://localhost:8080/"
    },
    "id": "lUHMS2Ll8uh9",
    "executionInfo": {
     "status": "ok",
     "timestamp": 1673987738389,
     "user_tz": 300,
     "elapsed": 113,
     "user": {
      "displayName": "Shenhao Wang",
      "userId": "03503527554188089407"
     }
    },
    "outputId": "f8418592-0f9d-4327-f46d-d7581967871f",
    "ExecuteTime": {
     "end_time": "2023-11-28T21:40:17.512458Z",
     "start_time": "2023-11-28T21:40:16.612949Z"
    }
   },
   "execution_count": 13,
   "outputs": [
    {
     "name": "stdout",
     "output_type": "stream",
     "text": [
      "12\n"
     ]
    }
   ]
  },
  {
   "cell_type": "code",
   "source": [
    "# division\n",
    "x = 3/4\n",
    "print(x)"
   ],
   "metadata": {
    "colab": {
     "base_uri": "https://localhost:8080/"
    },
    "id": "QkhXSuYf8xA7",
    "executionInfo": {
     "status": "ok",
     "timestamp": 1673987742041,
     "user_tz": 300,
     "elapsed": 118,
     "user": {
      "displayName": "Shenhao Wang",
      "userId": "03503527554188089407"
     }
    },
    "outputId": "bc1b36c8-17c9-4564-960b-6869a6b9c20d",
    "ExecuteTime": {
     "end_time": "2023-11-28T21:40:17.512623Z",
     "start_time": "2023-11-28T21:40:16.620782Z"
    }
   },
   "execution_count": 14,
   "outputs": [
    {
     "name": "stdout",
     "output_type": "stream",
     "text": [
      "0.75\n"
     ]
    }
   ]
  },
  {
   "cell_type": "code",
   "source": [
    "# exponential operation\n",
    "x = 2 ** 3\n",
    "print(x)"
   ],
   "metadata": {
    "colab": {
     "base_uri": "https://localhost:8080/"
    },
    "id": "AdRvyzAB9O-d",
    "executionInfo": {
     "status": "ok",
     "timestamp": 1673987753171,
     "user_tz": 300,
     "elapsed": 143,
     "user": {
      "displayName": "Shenhao Wang",
      "userId": "03503527554188089407"
     }
    },
    "outputId": "86382992-fe19-4434-9342-53dc6dcc052d",
    "ExecuteTime": {
     "end_time": "2023-11-28T21:40:17.512810Z",
     "start_time": "2023-11-28T21:40:16.624366Z"
    }
   },
   "execution_count": 15,
   "outputs": [
    {
     "name": "stdout",
     "output_type": "stream",
     "text": [
      "8\n"
     ]
    }
   ]
  },
  {
   "cell_type": "code",
   "source": [
    "# order of basic algebraic operations\n",
    "x = 2 * 3 ** 2\n",
    "print(x)"
   ],
   "metadata": {
    "colab": {
     "base_uri": "https://localhost:8080/"
    },
    "id": "HqNKvray9bbr",
    "executionInfo": {
     "status": "ok",
     "timestamp": 1673987781256,
     "user_tz": 300,
     "elapsed": 126,
     "user": {
      "displayName": "Shenhao Wang",
      "userId": "03503527554188089407"
     }
    },
    "outputId": "c41300c2-2f48-43be-9e49-2537d67cc9e5",
    "ExecuteTime": {
     "end_time": "2023-11-28T21:40:17.512979Z",
     "start_time": "2023-11-28T21:40:16.627925Z"
    }
   },
   "execution_count": 16,
   "outputs": [
    {
     "name": "stdout",
     "output_type": "stream",
     "text": [
      "18\n"
     ]
    }
   ]
  },
  {
   "cell_type": "markdown",
   "source": [
    "### 1.3 Boolean operations"
   ],
   "metadata": {
    "id": "sbbVwOgO-06n"
   }
  },
  {
   "cell_type": "code",
   "source": [
    "# check equality\n",
    "x = 10 # assign value using =\n",
    "x == 10 # check equality using =="
   ],
   "metadata": {
    "colab": {
     "base_uri": "https://localhost:8080/"
    },
    "id": "osq2vNEW-3Va",
    "executionInfo": {
     "status": "ok",
     "timestamp": 1673987834174,
     "user_tz": 300,
     "elapsed": 116,
     "user": {
      "displayName": "Shenhao Wang",
      "userId": "03503527554188089407"
     }
    },
    "outputId": "8dd7d2b0-dd6d-49bc-b154-e2d282cfd5b8",
    "ExecuteTime": {
     "end_time": "2023-11-28T21:40:17.513160Z",
     "start_time": "2023-11-28T21:40:16.631812Z"
    }
   },
   "execution_count": 17,
   "outputs": [
    {
     "data": {
      "text/plain": "True"
     },
     "execution_count": 17,
     "metadata": {},
     "output_type": "execute_result"
    }
   ]
  },
  {
   "cell_type": "code",
   "source": [
    "# check larger than\n",
    "x = 10\n",
    "x > 100"
   ],
   "metadata": {
    "colab": {
     "base_uri": "https://localhost:8080/"
    },
    "id": "FMJF5xjK_imK",
    "executionInfo": {
     "status": "ok",
     "timestamp": 1673987880462,
     "user_tz": 300,
     "elapsed": 110,
     "user": {
      "displayName": "Shenhao Wang",
      "userId": "03503527554188089407"
     }
    },
    "outputId": "53fa080c-31d9-43d9-e7d9-e5398d2ec8c1",
    "ExecuteTime": {
     "end_time": "2023-11-28T21:40:17.513394Z",
     "start_time": "2023-11-28T21:40:16.635833Z"
    }
   },
   "execution_count": 18,
   "outputs": [
    {
     "data": {
      "text/plain": "False"
     },
     "execution_count": 18,
     "metadata": {},
     "output_type": "execute_result"
    }
   ]
  },
  {
   "cell_type": "code",
   "source": [
    "# True/False; and/or/not\n",
    "x = True\n",
    "y = False"
   ],
   "metadata": {
    "id": "lPTywFR2Aanj",
    "ExecuteTime": {
     "end_time": "2023-11-28T21:40:17.513484Z",
     "start_time": "2023-11-28T21:40:16.641089Z"
    }
   },
   "execution_count": 19,
   "outputs": []
  },
  {
   "cell_type": "code",
   "source": [
    "x and y"
   ],
   "metadata": {
    "colab": {
     "base_uri": "https://localhost:8080/"
    },
    "id": "rPnJIFMTAg3S",
    "executionInfo": {
     "status": "ok",
     "timestamp": 1673987905604,
     "user_tz": 300,
     "elapsed": 259,
     "user": {
      "displayName": "Shenhao Wang",
      "userId": "03503527554188089407"
     }
    },
    "outputId": "9d9abade-cce8-4699-db18-8c4e145277fa",
    "ExecuteTime": {
     "end_time": "2023-11-28T21:40:17.513672Z",
     "start_time": "2023-11-28T21:40:16.646206Z"
    }
   },
   "execution_count": 20,
   "outputs": [
    {
     "data": {
      "text/plain": "False"
     },
     "execution_count": 20,
     "metadata": {},
     "output_type": "execute_result"
    }
   ]
  },
  {
   "cell_type": "code",
   "source": [
    "x or y"
   ],
   "metadata": {
    "colab": {
     "base_uri": "https://localhost:8080/"
    },
    "id": "Zq3I3-KwAjEi",
    "executionInfo": {
     "status": "ok",
     "timestamp": 1673987923956,
     "user_tz": 300,
     "elapsed": 122,
     "user": {
      "displayName": "Shenhao Wang",
      "userId": "03503527554188089407"
     }
    },
    "outputId": "64902749-2b55-4f7e-b808-f721b420f97a",
    "ExecuteTime": {
     "end_time": "2023-11-28T21:40:17.513903Z",
     "start_time": "2023-11-28T21:40:16.653354Z"
    }
   },
   "execution_count": 21,
   "outputs": [
    {
     "data": {
      "text/plain": "True"
     },
     "execution_count": 21,
     "metadata": {},
     "output_type": "execute_result"
    }
   ]
  },
  {
   "cell_type": "code",
   "source": [
    "not x"
   ],
   "metadata": {
    "colab": {
     "base_uri": "https://localhost:8080/"
    },
    "id": "UQb_l3rJAkSU",
    "executionInfo": {
     "status": "ok",
     "timestamp": 1673987930237,
     "user_tz": 300,
     "elapsed": 147,
     "user": {
      "displayName": "Shenhao Wang",
      "userId": "03503527554188089407"
     }
    },
    "outputId": "9def012c-c230-45bd-9a94-3f051a70bc04",
    "ExecuteTime": {
     "end_time": "2023-11-28T21:40:17.531011Z",
     "start_time": "2023-11-28T21:40:16.660614Z"
    }
   },
   "execution_count": 22,
   "outputs": [
    {
     "data": {
      "text/plain": "False"
     },
     "execution_count": 22,
     "metadata": {},
     "output_type": "execute_result"
    }
   ]
  },
  {
   "cell_type": "code",
   "source": [
    "x and not y"
   ],
   "metadata": {
    "colab": {
     "base_uri": "https://localhost:8080/"
    },
    "id": "8NmfUvrvAmsi",
    "executionInfo": {
     "status": "ok",
     "timestamp": 1673987953475,
     "user_tz": 300,
     "elapsed": 97,
     "user": {
      "displayName": "Shenhao Wang",
      "userId": "03503527554188089407"
     }
    },
    "outputId": "11b4f31a-4dbf-443d-da92-7c20950dba44",
    "ExecuteTime": {
     "end_time": "2023-11-28T21:40:17.531525Z",
     "start_time": "2023-11-28T21:40:16.667328Z"
    }
   },
   "execution_count": 23,
   "outputs": [
    {
     "data": {
      "text/plain": "True"
     },
     "execution_count": 23,
     "metadata": {},
     "output_type": "execute_result"
    }
   ]
  },
  {
   "cell_type": "markdown",
   "source": [
    "### 1.4 String operations"
   ],
   "metadata": {
    "id": "JwWxfvPf_wNu"
   }
  },
  {
   "cell_type": "code",
   "source": [
    "x = \"Hello\" + \"World\"\n",
    "print(x)"
   ],
   "metadata": {
    "colab": {
     "base_uri": "https://localhost:8080/"
    },
    "id": "Sn9m4_id_zUu",
    "executionInfo": {
     "status": "ok",
     "timestamp": 1673987972890,
     "user_tz": 300,
     "elapsed": 130,
     "user": {
      "displayName": "Shenhao Wang",
      "userId": "03503527554188089407"
     }
    },
    "outputId": "11146090-c1a7-4b54-e3c4-058acb71329c",
    "ExecuteTime": {
     "end_time": "2023-11-28T21:40:17.531738Z",
     "start_time": "2023-11-28T21:40:16.674743Z"
    }
   },
   "execution_count": 24,
   "outputs": [
    {
     "name": "stdout",
     "output_type": "stream",
     "text": [
      "HelloWorld\n"
     ]
    }
   ]
  },
  {
   "cell_type": "code",
   "source": [
    "x[0]"
   ],
   "metadata": {
    "colab": {
     "base_uri": "https://localhost:8080/",
     "height": 36
    },
    "id": "dP4S2ApXABCW",
    "executionInfo": {
     "status": "ok",
     "timestamp": 1673987984284,
     "user_tz": 300,
     "elapsed": 104,
     "user": {
      "displayName": "Shenhao Wang",
      "userId": "03503527554188089407"
     }
    },
    "outputId": "638efc81-48ec-4419-bb18-3f9c6c35b8ab",
    "ExecuteTime": {
     "end_time": "2023-11-28T21:40:17.531951Z",
     "start_time": "2023-11-28T21:40:16.678952Z"
    }
   },
   "execution_count": 25,
   "outputs": [
    {
     "data": {
      "text/plain": "'H'"
     },
     "execution_count": 25,
     "metadata": {},
     "output_type": "execute_result"
    }
   ]
  },
  {
   "cell_type": "code",
   "source": [
    "x[2]"
   ],
   "metadata": {
    "colab": {
     "base_uri": "https://localhost:8080/",
     "height": 36
    },
    "id": "5FbuFMnJ_91I",
    "executionInfo": {
     "status": "ok",
     "timestamp": 1673988008835,
     "user_tz": 300,
     "elapsed": 122,
     "user": {
      "displayName": "Shenhao Wang",
      "userId": "03503527554188089407"
     }
    },
    "outputId": "e9378c05-60d5-4649-f437-4d6b576abbc0",
    "ExecuteTime": {
     "end_time": "2023-11-28T21:40:17.532142Z",
     "start_time": "2023-11-28T21:40:16.685222Z"
    }
   },
   "execution_count": 26,
   "outputs": [
    {
     "data": {
      "text/plain": "'l'"
     },
     "execution_count": 26,
     "metadata": {},
     "output_type": "execute_result"
    }
   ]
  },
  {
   "cell_type": "code",
   "source": [
    "# You cannot add string and float/int types\n",
    "x + 1.0"
   ],
   "metadata": {
    "colab": {
     "base_uri": "https://localhost:8080/",
     "height": 192
    },
    "id": "FCm_YpSBAED4",
    "executionInfo": {
     "status": "error",
     "timestamp": 1673988033638,
     "user_tz": 300,
     "elapsed": 123,
     "user": {
      "displayName": "Shenhao Wang",
      "userId": "03503527554188089407"
     }
    },
    "outputId": "29d74fe9-db88-4fa9-b1c4-b7a8c37a3bbf",
    "ExecuteTime": {
     "end_time": "2023-11-28T21:40:17.533928Z",
     "start_time": "2023-11-28T21:40:16.692082Z"
    }
   },
   "execution_count": 27,
   "outputs": [
    {
     "ename": "TypeError",
     "evalue": "can only concatenate str (not \"float\") to str",
     "output_type": "error",
     "traceback": [
      "\u001B[0;31m---------------------------------------------------------------------------\u001B[0m",
      "\u001B[0;31mTypeError\u001B[0m                                 Traceback (most recent call last)",
      "Cell \u001B[0;32mIn[27], line 2\u001B[0m\n\u001B[1;32m      1\u001B[0m \u001B[38;5;66;03m# You cannot add string and float/int types\u001B[39;00m\n\u001B[0;32m----> 2\u001B[0m x \u001B[38;5;241m+\u001B[39m \u001B[38;5;241m1.0\u001B[39m\n",
      "\u001B[0;31mTypeError\u001B[0m: can only concatenate str (not \"float\") to str"
     ]
    }
   ]
  },
  {
   "cell_type": "code",
   "source": [
    "# but you can multiply them\n",
    "x * 2"
   ],
   "metadata": {
    "colab": {
     "base_uri": "https://localhost:8080/",
     "height": 36
    },
    "id": "NfitsX_KAKtF",
    "executionInfo": {
     "status": "ok",
     "timestamp": 1673988053665,
     "user_tz": 300,
     "elapsed": 126,
     "user": {
      "displayName": "Shenhao Wang",
      "userId": "03503527554188089407"
     }
    },
    "outputId": "36b90c66-facd-4593-f86d-10831f8a5ac8",
    "ExecuteTime": {
     "end_time": "2023-11-28T21:40:41.304019Z",
     "start_time": "2023-11-28T21:40:41.283097Z"
    }
   },
   "execution_count": 28,
   "outputs": [
    {
     "data": {
      "text/plain": "'HelloWorldHelloWorld'"
     },
     "execution_count": 28,
     "metadata": {},
     "output_type": "execute_result"
    }
   ]
  },
  {
   "cell_type": "markdown",
   "source": [
    "### 1.5 If condition: if, elif, else;"
   ],
   "metadata": {
    "id": "uJ-bm0ZEBDqX"
   }
  },
  {
   "cell_type": "code",
   "source": [
    "# basic syntax 1\n",
    "condition = True\n",
    "if condition:\n",
    "  print(\"See me when the condition is true\")"
   ],
   "metadata": {
    "colab": {
     "base_uri": "https://localhost:8080/"
    },
    "id": "0aJYRv-DB3t1",
    "executionInfo": {
     "status": "ok",
     "timestamp": 1673988094663,
     "user_tz": 300,
     "elapsed": 108,
     "user": {
      "displayName": "Shenhao Wang",
      "userId": "03503527554188089407"
     }
    },
    "outputId": "7677d730-1f35-445a-b367-0b180b2b2048",
    "ExecuteTime": {
     "end_time": "2023-11-28T21:40:43.657625Z",
     "start_time": "2023-11-28T21:40:43.629302Z"
    }
   },
   "execution_count": 29,
   "outputs": [
    {
     "name": "stdout",
     "output_type": "stream",
     "text": [
      "See me when the condition is true\n"
     ]
    }
   ]
  },
  {
   "cell_type": "code",
   "source": [
    "# example\n",
    "z = 4\n",
    "if z - 2 == 2:\n",
    "  print(\"z is four\")"
   ],
   "metadata": {
    "colab": {
     "base_uri": "https://localhost:8080/"
    },
    "id": "XnEEepN1B_7C",
    "executionInfo": {
     "status": "ok",
     "timestamp": 1673988122535,
     "user_tz": 300,
     "elapsed": 89,
     "user": {
      "displayName": "Shenhao Wang",
      "userId": "03503527554188089407"
     }
    },
    "outputId": "27248209-8fa9-4095-c670-77671c5cba4b",
    "ExecuteTime": {
     "end_time": "2023-11-28T21:40:44.282524Z",
     "start_time": "2023-11-28T21:40:44.266397Z"
    }
   },
   "execution_count": 30,
   "outputs": [
    {
     "name": "stdout",
     "output_type": "stream",
     "text": [
      "z is four\n"
     ]
    }
   ]
  },
  {
   "cell_type": "code",
   "source": [
    "# basic syntax 2\n",
    "condition = True\n",
    "if condition:\n",
    "  print(\"See me when the condition is true.\")\n",
    "else:\n",
    "  print(\"See me when the condition is false.\")"
   ],
   "metadata": {
    "colab": {
     "base_uri": "https://localhost:8080/"
    },
    "id": "D3RomT_xCJkY",
    "executionInfo": {
     "status": "ok",
     "timestamp": 1673988163512,
     "user_tz": 300,
     "elapsed": 122,
     "user": {
      "displayName": "Shenhao Wang",
      "userId": "03503527554188089407"
     }
    },
    "outputId": "c0426a6e-b3ca-438d-c884-80df9cf03688",
    "ExecuteTime": {
     "end_time": "2023-11-28T21:40:45.041750Z",
     "start_time": "2023-11-28T21:40:45.019756Z"
    }
   },
   "execution_count": 31,
   "outputs": [
    {
     "name": "stdout",
     "output_type": "stream",
     "text": [
      "See me when the condition is true.\n"
     ]
    }
   ]
  },
  {
   "cell_type": "code",
   "source": [
    "# example\n",
    "z = 5\n",
    "if z%2 == 0: # remainder is zero\n",
    "  print(\"z is even\")\n",
    "else: # remainder is one\n",
    "  print(\"z is odd\")"
   ],
   "metadata": {
    "colab": {
     "base_uri": "https://localhost:8080/"
    },
    "id": "K7YqVsYMCYlk",
    "executionInfo": {
     "status": "ok",
     "timestamp": 1673925383158,
     "user_tz": 300,
     "elapsed": 115,
     "user": {
      "displayName": "Shenhao Wang",
      "userId": "03503527554188089407"
     }
    },
    "outputId": "c06c74c1-a8bf-4776-a7ba-6b6ac3fc4e9f",
    "ExecuteTime": {
     "end_time": "2023-11-28T21:40:45.417224Z",
     "start_time": "2023-11-28T21:40:45.391551Z"
    }
   },
   "execution_count": 32,
   "outputs": [
    {
     "name": "stdout",
     "output_type": "stream",
     "text": [
      "z is odd\n"
     ]
    }
   ]
  },
  {
   "cell_type": "code",
   "source": [
    "# basic syntax 3: if-elif-else\n",
    "# example\n",
    "z = 3\n",
    "if z%2 == 0:\n",
    "  print(\"z is divisible by 2\") # False\n",
    "elif z%3 == 0:\n",
    "  print(\"z is divisible by 3\") # True\n",
    "else:\n",
    "  print(\"z is neither divisible by 2 nor by 3\")"
   ],
   "metadata": {
    "colab": {
     "base_uri": "https://localhost:8080/"
    },
    "id": "-Pdm_FUECqZr",
    "executionInfo": {
     "status": "ok",
     "timestamp": 1673988231769,
     "user_tz": 300,
     "elapsed": 109,
     "user": {
      "displayName": "Shenhao Wang",
      "userId": "03503527554188089407"
     }
    },
    "outputId": "8b22516e-aa9c-440e-e1f2-ec80a5eea310",
    "ExecuteTime": {
     "end_time": "2023-11-28T21:40:45.597261Z",
     "start_time": "2023-11-28T21:40:45.581712Z"
    }
   },
   "execution_count": 33,
   "outputs": [
    {
     "name": "stdout",
     "output_type": "stream",
     "text": [
      "z is divisible by 3\n"
     ]
    }
   ]
  },
  {
   "cell_type": "markdown",
   "source": [
    "### 1.6 For Loop"
   ],
   "metadata": {
    "id": "6tqHQ7lZDT30"
   }
  },
  {
   "cell_type": "code",
   "source": [
    "# example 1\n",
    "# print every string\n",
    "x = \"Hello World\"\n",
    "for letter in x:\n",
    "  print(letter)"
   ],
   "metadata": {
    "colab": {
     "base_uri": "https://localhost:8080/"
    },
    "id": "S1743asJDW2p",
    "executionInfo": {
     "status": "ok",
     "timestamp": 1673988271276,
     "user_tz": 300,
     "elapsed": 116,
     "user": {
      "displayName": "Shenhao Wang",
      "userId": "03503527554188089407"
     }
    },
    "outputId": "237ab795-79e0-4503-9bd6-afe6eecad52a",
    "ExecuteTime": {
     "end_time": "2023-11-28T21:40:45.977753Z",
     "start_time": "2023-11-28T21:40:45.960262Z"
    }
   },
   "execution_count": 34,
   "outputs": [
    {
     "name": "stdout",
     "output_type": "stream",
     "text": [
      "H\n",
      "e\n",
      "l\n",
      "l\n",
      "o\n",
      " \n",
      "W\n",
      "o\n",
      "r\n",
      "l\n",
      "d\n"
     ]
    }
   ]
  },
  {
   "cell_type": "code",
   "source": [
    "# example 2\n",
    "# adding values\n",
    "initial_value = 0\n",
    "for i in range(4): # range(4): 0, 1, 2, 3\n",
    "  initial_value = initial_value + i\n",
    "  print(initial_value)"
   ],
   "metadata": {
    "colab": {
     "base_uri": "https://localhost:8080/"
    },
    "id": "M6-yARpSDiNq",
    "executionInfo": {
     "status": "ok",
     "timestamp": 1673925483698,
     "user_tz": 300,
     "elapsed": 169,
     "user": {
      "displayName": "Shenhao Wang",
      "userId": "03503527554188089407"
     }
    },
    "outputId": "55f82712-aaeb-415e-bd85-d8e61f59c1b3",
    "ExecuteTime": {
     "end_time": "2023-11-28T21:40:46.205947Z",
     "start_time": "2023-11-28T21:40:46.179031Z"
    }
   },
   "execution_count": 35,
   "outputs": [
    {
     "name": "stdout",
     "output_type": "stream",
     "text": [
      "0\n",
      "1\n",
      "3\n",
      "6\n"
     ]
    }
   ]
  },
  {
   "cell_type": "code",
   "source": [
    "# example 3\n",
    "# print the list\n",
    "my_list = ['Orlando', 'Gainesville', 'Miami', 'Tampa Bay', 'Jacksonville']\n",
    "for item in my_list:\n",
    "  print(item)"
   ],
   "metadata": {
    "colab": {
     "base_uri": "https://localhost:8080/"
    },
    "id": "tX1rg7MyJcWZ",
    "executionInfo": {
     "status": "ok",
     "timestamp": 1673925396569,
     "user_tz": 300,
     "elapsed": 2,
     "user": {
      "displayName": "Shenhao Wang",
      "userId": "03503527554188089407"
     }
    },
    "outputId": "de8bf983-8411-4b42-9ec3-751712acf436",
    "ExecuteTime": {
     "end_time": "2023-11-28T21:40:46.382786Z",
     "start_time": "2023-11-28T21:40:46.365536Z"
    }
   },
   "execution_count": 36,
   "outputs": [
    {
     "name": "stdout",
     "output_type": "stream",
     "text": [
      "Orlando\n",
      "Gainesville\n",
      "Miami\n",
      "Tampa Bay\n",
      "Jacksonville\n"
     ]
    }
   ]
  },
  {
   "cell_type": "markdown",
   "source": [
    "### 1.7 Functions"
   ],
   "metadata": {
    "id": "_XOTQjUYEpsk"
   }
  },
  {
   "cell_type": "code",
   "source": [
    "# example 1.\n",
    "def add_one(x):\n",
    "  '''\n",
    "  Add one to the value x\n",
    "  '''\n",
    "  y = x + 1\n",
    "  return y\n",
    "\n",
    "# test\n",
    "x = 5\n",
    "y = add_one(x)\n",
    "print(y)"
   ],
   "metadata": {
    "colab": {
     "base_uri": "https://localhost:8080/"
    },
    "id": "IQTNQQukEsCi",
    "executionInfo": {
     "status": "ok",
     "timestamp": 1673988407825,
     "user_tz": 300,
     "elapsed": 127,
     "user": {
      "displayName": "Shenhao Wang",
      "userId": "03503527554188089407"
     }
    },
    "outputId": "71c85728-18f7-4aee-9cc9-5a41c4252826",
    "ExecuteTime": {
     "end_time": "2023-11-28T21:40:46.848689Z",
     "start_time": "2023-11-28T21:40:46.828304Z"
    }
   },
   "execution_count": 37,
   "outputs": [
    {
     "name": "stdout",
     "output_type": "stream",
     "text": [
      "6\n"
     ]
    }
   ]
  },
  {
   "cell_type": "markdown",
   "source": [
    "## 2. Probability distributions as DGP"
   ],
   "metadata": {
    "id": "xJ1eleRMQGMY"
   }
  },
  {
   "cell_type": "code",
   "source": [
    "# import numpy\n",
    "import numpy as np"
   ],
   "metadata": {
    "id": "6uq3RrW_QIl4",
    "ExecuteTime": {
     "end_time": "2023-11-28T21:40:48.048246Z",
     "start_time": "2023-11-28T21:40:47.210214Z"
    }
   },
   "execution_count": 38,
   "outputs": [
    {
     "name": "stdout",
     "output_type": "stream",
     "text": [
      "Intel MKL WARNING: Support of Intel(R) Streaming SIMD Extensions 4.2 (Intel(R) SSE4.2) enabled only processors has been deprecated. Intel oneAPI Math Kernel Library 2025.0 will require Intel(R) Advanced Vector Extensions (Intel(R) AVX) instructions.\n",
      "Intel MKL WARNING: Support of Intel(R) Streaming SIMD Extensions 4.2 (Intel(R) SSE4.2) enabled only processors has been deprecated. Intel oneAPI Math Kernel Library 2025.0 will require Intel(R) Advanced Vector Extensions (Intel(R) AVX) instructions.\n"
     ]
    }
   ]
  },
  {
   "cell_type": "code",
   "source": [
    "# set up parameter for Bernoulli distribution\n",
    "np.random.binomial(size = 10, n = 1, p = 0.6)"
   ],
   "metadata": {
    "colab": {
     "base_uri": "https://localhost:8080/"
    },
    "id": "KJWyF6KIQRnZ",
    "executionInfo": {
     "status": "ok",
     "timestamp": 1673988603790,
     "user_tz": 300,
     "elapsed": 112,
     "user": {
      "displayName": "Shenhao Wang",
      "userId": "03503527554188089407"
     }
    },
    "outputId": "917e1691-4c4b-4e29-d95b-8c092fa042d6",
    "ExecuteTime": {
     "end_time": "2023-11-28T21:40:48.056900Z",
     "start_time": "2023-11-28T21:40:48.051427Z"
    }
   },
   "execution_count": 39,
   "outputs": [
    {
     "data": {
      "text/plain": "array([1, 0, 1, 1, 0, 0, 0, 0, 0, 1])"
     },
     "execution_count": 39,
     "metadata": {},
     "output_type": "execute_result"
    }
   ]
  },
  {
   "cell_type": "code",
   "source": [
    "# set up parameter for Binomial distribution\n",
    "np.random.binomial(size = 10, n = 5, p = 0.6)"
   ],
   "metadata": {
    "colab": {
     "base_uri": "https://localhost:8080/"
    },
    "id": "RYxOxewNUK6i",
    "executionInfo": {
     "status": "ok",
     "timestamp": 1673988633853,
     "user_tz": 300,
     "elapsed": 100,
     "user": {
      "displayName": "Shenhao Wang",
      "userId": "03503527554188089407"
     }
    },
    "outputId": "5f1991c1-226f-4ebb-8a64-28c0dde36b46",
    "ExecuteTime": {
     "end_time": "2023-11-28T21:40:51.776077Z",
     "start_time": "2023-11-28T21:40:51.739653Z"
    }
   },
   "execution_count": 40,
   "outputs": [
    {
     "data": {
      "text/plain": "array([3, 4, 3, 3, 4, 2, 3, 3, 3, 3])"
     },
     "execution_count": 40,
     "metadata": {},
     "output_type": "execute_result"
    }
   ]
  },
  {
   "cell_type": "code",
   "source": [
    "# set up parameter for normal distribution\n",
    "np.random.normal(0, 1, 10)"
   ],
   "metadata": {
    "colab": {
     "base_uri": "https://localhost:8080/"
    },
    "id": "PzjmDWptRBCY",
    "executionInfo": {
     "status": "ok",
     "timestamp": 1673988674106,
     "user_tz": 300,
     "elapsed": 122,
     "user": {
      "displayName": "Shenhao Wang",
      "userId": "03503527554188089407"
     }
    },
    "outputId": "b2c6c43d-6589-4bec-884d-21a8e1f96ca1",
    "ExecuteTime": {
     "end_time": "2023-11-28T21:40:51.933901Z",
     "start_time": "2023-11-28T21:40:51.915321Z"
    }
   },
   "execution_count": 41,
   "outputs": [
    {
     "data": {
      "text/plain": "array([-0.19207072,  1.17084232, -0.04219169, -0.94849387, -1.54247811,\n        1.99373111, -1.7452171 , -2.2519258 ,  0.54642146,  0.72609794])"
     },
     "execution_count": 41,
     "metadata": {},
     "output_type": "execute_result"
    }
   ]
  },
  {
   "cell_type": "code",
   "source": [
    "# set up parameter for normal distribution\n",
    "# Let's choose some mean and variance to simulate the age vector.\n",
    "v = np.random.normal(44, 10, 20) # mu = 44, sigma = 10, size = 20\n",
    "v = np.round_(v, 1)\n",
    "v"
   ],
   "metadata": {
    "id": "K6EKbLS4ViRe",
    "executionInfo": {
     "status": "ok",
     "timestamp": 1673988742267,
     "user_tz": 300,
     "elapsed": 103,
     "user": {
      "displayName": "Shenhao Wang",
      "userId": "03503527554188089407"
     }
    },
    "colab": {
     "base_uri": "https://localhost:8080/"
    },
    "outputId": "80608d3a-7375-4b0f-db89-f5941fa368b6",
    "ExecuteTime": {
     "end_time": "2023-11-28T21:40:52.112943Z",
     "start_time": "2023-11-28T21:40:52.097228Z"
    }
   },
   "execution_count": 42,
   "outputs": [
    {
     "data": {
      "text/plain": "array([38.1, 37.1, 50.5, 52.9, 39.9, 37. , 40. , 20.7, 33.7, 36.5, 58.8,\n       47.2, 46.3, 38.7, 59.4, 44.5, 36.8, 55.8, 55.6, 23.3])"
     },
     "execution_count": 42,
     "metadata": {},
     "output_type": "execute_result"
    }
   ]
  },
  {
   "cell_type": "markdown",
   "source": [
    "## 3. Loading data\n",
    "\n",
    "- Please create a folder named as data under your Colab Notebooks folder. Then copy and paste the data set (Florida_ct.csv) and the documentation under the data folder."
   ],
   "metadata": {
    "id": "-n9eaCeG6AnQ"
   }
  },
  {
   "cell_type": "code",
   "source": [
    "# import pandas\n",
    "import pandas as pd"
   ],
   "metadata": {
    "id": "MEtL3J0ZMQNN",
    "ExecuteTime": {
     "end_time": "2023-11-28T21:41:30.186813Z",
     "start_time": "2023-11-28T21:41:30.102201Z"
    }
   },
   "execution_count": 48,
   "outputs": []
  },
  {
   "cell_type": "code",
   "source": [
    "# load the csv file using pandas\n",
    "df = pd.read_csv('SampleDataset/Florida_ct.csv', index_col = 0)"
   ],
   "metadata": {
    "id": "t7xFCA-4K9u_",
    "ExecuteTime": {
     "end_time": "2023-11-28T21:41:31.003405Z",
     "start_time": "2023-11-28T21:41:30.946599Z"
    }
   },
   "execution_count": 49,
   "outputs": [
    {
     "data": {
      "text/plain": "      pop_total  sex_total  sex_male  sex_female  age_median  households  \\\n0        2812.0     2812.0    1383.0      1429.0        39.4       931.0   \n1        4709.0     4709.0    2272.0      2437.0        34.2      1668.0   \n2        5005.0     5005.0    2444.0      2561.0        34.1      1379.0   \n3        6754.0     6754.0    2934.0      3820.0        31.3      2238.0   \n4        3021.0     3021.0    1695.0      1326.0        44.1      1364.0   \n...         ...        ...       ...         ...         ...         ...   \n4162    15742.0    15742.0    7957.0      7785.0        41.0      5517.0   \n4163     5723.0     5723.0    2914.0      2809.0        43.0      2001.0   \n4164    10342.0    10342.0    4657.0      5685.0        37.6      3746.0   \n4165     8960.0     8960.0    4166.0      4794.0        37.2      3324.0   \n4166     5083.0     5083.0    2573.0      2510.0        39.2      1755.0   \n\n      race_total  race_white  race_black  race_native  ...  travel_walk_ratio  \\\n0         2812.0      2086.0       517.0          0.0  ...           0.014815   \n1         4709.0      2382.0      1953.0          0.0  ...           0.022150   \n2         5005.0      2334.0      2206.0        224.0  ...           0.026141   \n3         6754.0      4052.0      1671.0        326.0  ...           0.052697   \n4         3021.0      2861.0       121.0          0.0  ...           0.003014   \n...          ...         ...         ...          ...  ...                ...   \n4162     15742.0     13894.0      1128.0         64.0  ...           0.000000   \n4163      5723.0      4664.0       482.0          0.0  ...           0.017050   \n4164     10342.0      7956.0      1351.0         13.0  ...           0.000000   \n4165      8960.0      6286.0      1831.0          0.0  ...           0.024021   \n4166      5083.0      3753.0       987.0          0.0  ...           0.045983   \n\n      travel_work_home_ratio  edu_bachelor_ratio  edu_master_ratio  \\\n0                   0.024242            0.183838          0.029798   \n1                   0.004615            0.135222          0.040245   \n2                   0.027913            0.213247          0.064620   \n3                   0.004054            0.093379          0.082510   \n4                   0.013059            0.219868          0.138631   \n...                      ...                 ...               ...   \n4162                0.062212            0.164241          0.084891   \n4163                0.047581            0.215161          0.084563   \n4164                0.038862            0.137002          0.030591   \n4165                0.064132            0.174399          0.063014   \n4166                0.046488            0.113451          0.022466   \n\n      edu_phd_ratio  edu_higher_edu_ratio  employment_unemployed_ratio  \\\n0          0.003030              0.216667                     0.286635   \n1          0.003220              0.178686                     0.318327   \n2          0.007431              0.285299                     0.366755   \n3          0.012599              0.188488                     0.314452   \n4          0.007064              0.365563                     0.218447   \n...             ...                   ...                          ...   \n4162       0.002066              0.251197                     0.401551   \n4163       0.007005              0.306730                     0.411036   \n4164       0.002049              0.169643                     0.353295   \n4165       0.003126              0.240540                     0.363482   \n4166       0.002247              0.138163                     0.491815   \n\n      vehicle_per_capita  vehicle_per_household  vacancy_ratio  \n0               0.528094               1.595059       0.155938  \n1               0.460183               1.299161       0.152869  \n2               0.450949               1.636693       0.162211  \n3               0.474830               1.432976       0.178716  \n4               0.659053               1.459677       0.335930  \n...                  ...                    ...            ...  \n4162            0.426820               1.217872       0.099118  \n4163            0.440678               1.260370       0.039827  \n4164            0.482692               1.332621       0.041208  \n4165            0.478571               1.290012       0.017440  \n4166            0.389337               1.127635       0.129464  \n\n[4167 rows x 88 columns]",
      "text/html": "<div>\n<style scoped>\n    .dataframe tbody tr th:only-of-type {\n        vertical-align: middle;\n    }\n\n    .dataframe tbody tr th {\n        vertical-align: top;\n    }\n\n    .dataframe thead th {\n        text-align: right;\n    }\n</style>\n<table border=\"1\" class=\"dataframe\">\n  <thead>\n    <tr style=\"text-align: right;\">\n      <th></th>\n      <th>pop_total</th>\n      <th>sex_total</th>\n      <th>sex_male</th>\n      <th>sex_female</th>\n      <th>age_median</th>\n      <th>households</th>\n      <th>race_total</th>\n      <th>race_white</th>\n      <th>race_black</th>\n      <th>race_native</th>\n      <th>...</th>\n      <th>travel_walk_ratio</th>\n      <th>travel_work_home_ratio</th>\n      <th>edu_bachelor_ratio</th>\n      <th>edu_master_ratio</th>\n      <th>edu_phd_ratio</th>\n      <th>edu_higher_edu_ratio</th>\n      <th>employment_unemployed_ratio</th>\n      <th>vehicle_per_capita</th>\n      <th>vehicle_per_household</th>\n      <th>vacancy_ratio</th>\n    </tr>\n  </thead>\n  <tbody>\n    <tr>\n      <th>0</th>\n      <td>2812.0</td>\n      <td>2812.0</td>\n      <td>1383.0</td>\n      <td>1429.0</td>\n      <td>39.4</td>\n      <td>931.0</td>\n      <td>2812.0</td>\n      <td>2086.0</td>\n      <td>517.0</td>\n      <td>0.0</td>\n      <td>...</td>\n      <td>0.014815</td>\n      <td>0.024242</td>\n      <td>0.183838</td>\n      <td>0.029798</td>\n      <td>0.003030</td>\n      <td>0.216667</td>\n      <td>0.286635</td>\n      <td>0.528094</td>\n      <td>1.595059</td>\n      <td>0.155938</td>\n    </tr>\n    <tr>\n      <th>1</th>\n      <td>4709.0</td>\n      <td>4709.0</td>\n      <td>2272.0</td>\n      <td>2437.0</td>\n      <td>34.2</td>\n      <td>1668.0</td>\n      <td>4709.0</td>\n      <td>2382.0</td>\n      <td>1953.0</td>\n      <td>0.0</td>\n      <td>...</td>\n      <td>0.022150</td>\n      <td>0.004615</td>\n      <td>0.135222</td>\n      <td>0.040245</td>\n      <td>0.003220</td>\n      <td>0.178686</td>\n      <td>0.318327</td>\n      <td>0.460183</td>\n      <td>1.299161</td>\n      <td>0.152869</td>\n    </tr>\n    <tr>\n      <th>2</th>\n      <td>5005.0</td>\n      <td>5005.0</td>\n      <td>2444.0</td>\n      <td>2561.0</td>\n      <td>34.1</td>\n      <td>1379.0</td>\n      <td>5005.0</td>\n      <td>2334.0</td>\n      <td>2206.0</td>\n      <td>224.0</td>\n      <td>...</td>\n      <td>0.026141</td>\n      <td>0.027913</td>\n      <td>0.213247</td>\n      <td>0.064620</td>\n      <td>0.007431</td>\n      <td>0.285299</td>\n      <td>0.366755</td>\n      <td>0.450949</td>\n      <td>1.636693</td>\n      <td>0.162211</td>\n    </tr>\n    <tr>\n      <th>3</th>\n      <td>6754.0</td>\n      <td>6754.0</td>\n      <td>2934.0</td>\n      <td>3820.0</td>\n      <td>31.3</td>\n      <td>2238.0</td>\n      <td>6754.0</td>\n      <td>4052.0</td>\n      <td>1671.0</td>\n      <td>326.0</td>\n      <td>...</td>\n      <td>0.052697</td>\n      <td>0.004054</td>\n      <td>0.093379</td>\n      <td>0.082510</td>\n      <td>0.012599</td>\n      <td>0.188488</td>\n      <td>0.314452</td>\n      <td>0.474830</td>\n      <td>1.432976</td>\n      <td>0.178716</td>\n    </tr>\n    <tr>\n      <th>4</th>\n      <td>3021.0</td>\n      <td>3021.0</td>\n      <td>1695.0</td>\n      <td>1326.0</td>\n      <td>44.1</td>\n      <td>1364.0</td>\n      <td>3021.0</td>\n      <td>2861.0</td>\n      <td>121.0</td>\n      <td>0.0</td>\n      <td>...</td>\n      <td>0.003014</td>\n      <td>0.013059</td>\n      <td>0.219868</td>\n      <td>0.138631</td>\n      <td>0.007064</td>\n      <td>0.365563</td>\n      <td>0.218447</td>\n      <td>0.659053</td>\n      <td>1.459677</td>\n      <td>0.335930</td>\n    </tr>\n    <tr>\n      <th>...</th>\n      <td>...</td>\n      <td>...</td>\n      <td>...</td>\n      <td>...</td>\n      <td>...</td>\n      <td>...</td>\n      <td>...</td>\n      <td>...</td>\n      <td>...</td>\n      <td>...</td>\n      <td>...</td>\n      <td>...</td>\n      <td>...</td>\n      <td>...</td>\n      <td>...</td>\n      <td>...</td>\n      <td>...</td>\n      <td>...</td>\n      <td>...</td>\n      <td>...</td>\n      <td>...</td>\n    </tr>\n    <tr>\n      <th>4162</th>\n      <td>15742.0</td>\n      <td>15742.0</td>\n      <td>7957.0</td>\n      <td>7785.0</td>\n      <td>41.0</td>\n      <td>5517.0</td>\n      <td>15742.0</td>\n      <td>13894.0</td>\n      <td>1128.0</td>\n      <td>64.0</td>\n      <td>...</td>\n      <td>0.000000</td>\n      <td>0.062212</td>\n      <td>0.164241</td>\n      <td>0.084891</td>\n      <td>0.002066</td>\n      <td>0.251197</td>\n      <td>0.401551</td>\n      <td>0.426820</td>\n      <td>1.217872</td>\n      <td>0.099118</td>\n    </tr>\n    <tr>\n      <th>4163</th>\n      <td>5723.0</td>\n      <td>5723.0</td>\n      <td>2914.0</td>\n      <td>2809.0</td>\n      <td>43.0</td>\n      <td>2001.0</td>\n      <td>5723.0</td>\n      <td>4664.0</td>\n      <td>482.0</td>\n      <td>0.0</td>\n      <td>...</td>\n      <td>0.017050</td>\n      <td>0.047581</td>\n      <td>0.215161</td>\n      <td>0.084563</td>\n      <td>0.007005</td>\n      <td>0.306730</td>\n      <td>0.411036</td>\n      <td>0.440678</td>\n      <td>1.260370</td>\n      <td>0.039827</td>\n    </tr>\n    <tr>\n      <th>4164</th>\n      <td>10342.0</td>\n      <td>10342.0</td>\n      <td>4657.0</td>\n      <td>5685.0</td>\n      <td>37.6</td>\n      <td>3746.0</td>\n      <td>10342.0</td>\n      <td>7956.0</td>\n      <td>1351.0</td>\n      <td>13.0</td>\n      <td>...</td>\n      <td>0.000000</td>\n      <td>0.038862</td>\n      <td>0.137002</td>\n      <td>0.030591</td>\n      <td>0.002049</td>\n      <td>0.169643</td>\n      <td>0.353295</td>\n      <td>0.482692</td>\n      <td>1.332621</td>\n      <td>0.041208</td>\n    </tr>\n    <tr>\n      <th>4165</th>\n      <td>8960.0</td>\n      <td>8960.0</td>\n      <td>4166.0</td>\n      <td>4794.0</td>\n      <td>37.2</td>\n      <td>3324.0</td>\n      <td>8960.0</td>\n      <td>6286.0</td>\n      <td>1831.0</td>\n      <td>0.0</td>\n      <td>...</td>\n      <td>0.024021</td>\n      <td>0.064132</td>\n      <td>0.174399</td>\n      <td>0.063014</td>\n      <td>0.003126</td>\n      <td>0.240540</td>\n      <td>0.363482</td>\n      <td>0.478571</td>\n      <td>1.290012</td>\n      <td>0.017440</td>\n    </tr>\n    <tr>\n      <th>4166</th>\n      <td>5083.0</td>\n      <td>5083.0</td>\n      <td>2573.0</td>\n      <td>2510.0</td>\n      <td>39.2</td>\n      <td>1755.0</td>\n      <td>5083.0</td>\n      <td>3753.0</td>\n      <td>987.0</td>\n      <td>0.0</td>\n      <td>...</td>\n      <td>0.045983</td>\n      <td>0.046488</td>\n      <td>0.113451</td>\n      <td>0.022466</td>\n      <td>0.002247</td>\n      <td>0.138163</td>\n      <td>0.491815</td>\n      <td>0.389337</td>\n      <td>1.127635</td>\n      <td>0.129464</td>\n    </tr>\n  </tbody>\n</table>\n<p>4167 rows × 88 columns</p>\n</div>"
     },
     "execution_count": 49,
     "metadata": {},
     "output_type": "execute_result"
    }
   ]
  },
  {
   "cell_type": "code",
   "source": [
    "# check the dataframe\n",
    "df"
   ],
   "metadata": {
    "colab": {
     "base_uri": "https://localhost:8080/",
     "height": 488
    },
    "id": "lHCPnLCDPOTF",
    "executionInfo": {
     "status": "ok",
     "timestamp": 1673990999356,
     "user_tz": 300,
     "elapsed": 133,
     "user": {
      "displayName": "Shenhao Wang",
      "userId": "03503527554188089407"
     }
    },
    "outputId": "df6a9b2c-a954-47be-b7b0-55dda7b904c7",
    "ExecuteTime": {
     "start_time": "2023-11-28T21:40:17.099380Z"
    }
   },
   "execution_count": null,
   "outputs": []
  },
  {
   "cell_type": "markdown",
   "source": [
    "This is the data set from US Census. Each row represents a census tract, and each column represents a variable. We could check the columns one by one using numpy and pandas. Further details of the variables can be found in the documentation csv file."
   ],
   "metadata": {
    "id": "X0OakghXQAMA",
    "ExecuteTime": {
     "end_time": "2023-11-28T21:42:10.711079Z",
     "start_time": "2023-11-28T21:42:10.672003Z"
    }
   }
  },
  {
   "cell_type": "markdown",
   "source": [
    "## 4. Viewing data\n",
    "\n",
    "- Numpy and pandas are the two most common Python packages to process data and describe the summary statistics for data sets."
   ],
   "metadata": {
    "id": "tJllhJr054lr",
    "ExecuteTime": {
     "end_time": "2023-11-28T21:42:11.489309Z",
     "start_time": "2023-11-28T21:42:11.449865Z"
    }
   }
  },
  {
   "cell_type": "markdown",
   "source": [
    "### 4.1 Data types in numpy and pandas\n",
    "\n",
    "Before delving into the data set, let's be familiar with the data structures in numpy and pandas."
   ],
   "metadata": {
    "id": "Xbi9gcHPVPXX",
    "ExecuteTime": {
     "end_time": "2023-11-28T21:42:12.000439Z",
     "start_time": "2023-11-28T21:42:11.982018Z"
    }
   }
  },
  {
   "cell_type": "code",
   "source": [
    "# import numpy package\n",
    "# Note: numpy for matrix operation; pandas for data sets.\n",
    "import numpy as np\n",
    "import pandas as pd"
   ],
   "metadata": {
    "id": "Kw_N-mXjVUMl",
    "ExecuteTime": {
     "end_time": "2023-11-28T21:42:12.423538Z",
     "start_time": "2023-11-28T21:42:12.393959Z"
    }
   },
   "execution_count": 56,
   "outputs": [
    {
     "data": {
      "text/plain": "0     8\n1     5\n2    77\n3     2\ndtype: int64"
     },
     "execution_count": 56,
     "metadata": {},
     "output_type": "execute_result"
    }
   ]
  },
  {
   "cell_type": "code",
   "source": [
    "# Numpy array (1D)\n",
    "array_1 = np.arange(0,5)\n",
    "array_1"
   ],
   "metadata": {
    "colab": {
     "base_uri": "https://localhost:8080/"
    },
    "id": "TCV8sFi8VXdF",
    "executionInfo": {
     "status": "ok",
     "timestamp": 1673990811363,
     "user_tz": 300,
     "elapsed": 100,
     "user": {
      "displayName": "Shenhao Wang",
      "userId": "03503527554188089407"
     }
    },
    "outputId": "b0ff871d-f5b7-47ec-ed38-bf28de06a68f",
    "ExecuteTime": {
     "end_time": "2023-11-28T21:42:13.007107Z",
     "start_time": "2023-11-28T21:42:12.967087Z"
    }
   },
   "execution_count": 57,
   "outputs": [
    {
     "data": {
      "text/plain": "{'hh_income': [71000, 28000, 35000, 120000],\n 'home_value': [520000, 275000, 400000, 980000]}"
     },
     "execution_count": 57,
     "metadata": {},
     "output_type": "execute_result"
    }
   ]
  },
  {
   "cell_type": "code",
   "source": [
    "# Numpy array (2D)\n",
    "# 1. Two printings\n",
    "# 2. random.randint - randomly generating 20 different values between 1 and 2.\n",
    "# 3. reshape: reshaping the array to a matrix with 5*4 shape.\n",
    "array_1D = np.random.randint(1,10,20)\n",
    "print(array_1D)\n",
    "array_2D = array_1D.reshape(5, -1)\n",
    "print(array_2D)"
   ],
   "metadata": {
    "colab": {
     "base_uri": "https://localhost:8080/"
    },
    "id": "eYSI7L9bVW65",
    "executionInfo": {
     "status": "ok",
     "timestamp": 1673990822800,
     "user_tz": 300,
     "elapsed": 178,
     "user": {
      "displayName": "Shenhao Wang",
      "userId": "03503527554188089407"
     }
    },
    "outputId": "db77b82e-d363-4efd-92e9-bfb8a5b33a47",
    "ExecuteTime": {
     "end_time": "2023-11-28T21:42:13.765005Z",
     "start_time": "2023-11-28T21:42:13.734202Z"
    }
   },
   "execution_count": 58,
   "outputs": [
    {
     "data": {
      "text/plain": "   hh_income  home_value\n0      71000      520000\n1      28000      275000\n2      35000      400000\n3     120000      980000",
      "text/html": "<div>\n<style scoped>\n    .dataframe tbody tr th:only-of-type {\n        vertical-align: middle;\n    }\n\n    .dataframe tbody tr th {\n        vertical-align: top;\n    }\n\n    .dataframe thead th {\n        text-align: right;\n    }\n</style>\n<table border=\"1\" class=\"dataframe\">\n  <thead>\n    <tr style=\"text-align: right;\">\n      <th></th>\n      <th>hh_income</th>\n      <th>home_value</th>\n    </tr>\n  </thead>\n  <tbody>\n    <tr>\n      <th>0</th>\n      <td>71000</td>\n      <td>520000</td>\n    </tr>\n    <tr>\n      <th>1</th>\n      <td>28000</td>\n      <td>275000</td>\n    </tr>\n    <tr>\n      <th>2</th>\n      <td>35000</td>\n      <td>400000</td>\n    </tr>\n    <tr>\n      <th>3</th>\n      <td>120000</td>\n      <td>980000</td>\n    </tr>\n  </tbody>\n</table>\n</div>"
     },
     "execution_count": 58,
     "metadata": {},
     "output_type": "execute_result"
    }
   ]
  },
  {
   "cell_type": "code",
   "source": [
    "# Pandas series\n",
    "my_list = [8, 5, 77, 2]\n",
    "my_series = pd.Series(my_list)\n",
    "my_series"
   ],
   "metadata": {
    "colab": {
     "base_uri": "https://localhost:8080/"
    },
    "id": "m6fp7vC6WRmv",
    "executionInfo": {
     "status": "ok",
     "timestamp": 1673990851562,
     "user_tz": 300,
     "elapsed": 148,
     "user": {
      "displayName": "Shenhao Wang",
      "userId": "03503527554188089407"
     }
    },
    "outputId": "91692ab7-0fe0-4362-e350-08c997450771",
    "ExecuteTime": {
     "start_time": "2023-11-28T21:40:17.106482Z"
    }
   },
   "execution_count": null,
   "outputs": []
  },
  {
   "cell_type": "code",
   "source": [
    "# Pandas dataframe\n",
    "# a dict can contain multiple lists and label them\n",
    "my_dict = {'hh_income'  : [71000, 28000, 35000, 120000],\n",
    "           'home_value' : [520000, 275000, 400000, 980000]}\n",
    "my_dict"
   ],
   "metadata": {
    "colab": {
     "base_uri": "https://localhost:8080/"
    },
    "id": "zpqyPVvQWR21",
    "executionInfo": {
     "status": "ok",
     "timestamp": 1673990912895,
     "user_tz": 300,
     "elapsed": 105,
     "user": {
      "displayName": "Shenhao Wang",
      "userId": "03503527554188089407"
     }
    },
    "outputId": "74ae1104-9d0d-4f85-a4c4-8f256f571d3b",
    "ExecuteTime": {
     "end_time": "2023-11-28T21:42:14.784021Z",
     "start_time": "2023-11-28T21:42:14.763993Z"
    }
   },
   "execution_count": 59,
   "outputs": [
    {
     "data": {
      "text/plain": "(4167, 88)"
     },
     "execution_count": 59,
     "metadata": {},
     "output_type": "execute_result"
    }
   ]
  },
  {
   "cell_type": "code",
   "source": [
    "# Turn a dictionary to dataframe.\n",
    "# dataframe is the most common data structure in data analysis in python.\n",
    "df_s = pd.DataFrame(my_dict)\n",
    "df_s"
   ],
   "metadata": {
    "colab": {
     "base_uri": "https://localhost:8080/",
     "height": 175
    },
    "id": "B9PuGBc7WR4x",
    "executionInfo": {
     "status": "ok",
     "timestamp": 1673990961707,
     "user_tz": 300,
     "elapsed": 110,
     "user": {
      "displayName": "Shenhao Wang",
      "userId": "03503527554188089407"
     }
    },
    "outputId": "d62b663f-72b9-493d-a976-97bb7661e68e",
    "ExecuteTime": {
     "end_time": "2023-11-28T21:42:15.089860Z",
     "start_time": "2023-11-28T21:42:15.061440Z"
    }
   },
   "execution_count": 60,
   "outputs": [
    {
     "data": {
      "text/plain": "   pop_total  sex_total  sex_male  sex_female  age_median  households  \\\n0     2812.0     2812.0    1383.0      1429.0        39.4       931.0   \n1     4709.0     4709.0    2272.0      2437.0        34.2      1668.0   \n2     5005.0     5005.0    2444.0      2561.0        34.1      1379.0   \n3     6754.0     6754.0    2934.0      3820.0        31.3      2238.0   \n4     3021.0     3021.0    1695.0      1326.0        44.1      1364.0   \n\n   race_total  race_white  race_black  race_native  ...  travel_walk_ratio  \\\n0      2812.0      2086.0       517.0          0.0  ...           0.014815   \n1      4709.0      2382.0      1953.0          0.0  ...           0.022150   \n2      5005.0      2334.0      2206.0        224.0  ...           0.026141   \n3      6754.0      4052.0      1671.0        326.0  ...           0.052697   \n4      3021.0      2861.0       121.0          0.0  ...           0.003014   \n\n   travel_work_home_ratio  edu_bachelor_ratio  edu_master_ratio  \\\n0                0.024242            0.183838          0.029798   \n1                0.004615            0.135222          0.040245   \n2                0.027913            0.213247          0.064620   \n3                0.004054            0.093379          0.082510   \n4                0.013059            0.219868          0.138631   \n\n   edu_phd_ratio  edu_higher_edu_ratio  employment_unemployed_ratio  \\\n0       0.003030              0.216667                     0.286635   \n1       0.003220              0.178686                     0.318327   \n2       0.007431              0.285299                     0.366755   \n3       0.012599              0.188488                     0.314452   \n4       0.007064              0.365563                     0.218447   \n\n   vehicle_per_capita  vehicle_per_household  vacancy_ratio  \n0            0.528094               1.595059       0.155938  \n1            0.460183               1.299161       0.152869  \n2            0.450949               1.636693       0.162211  \n3            0.474830               1.432976       0.178716  \n4            0.659053               1.459677       0.335930  \n\n[5 rows x 88 columns]",
      "text/html": "<div>\n<style scoped>\n    .dataframe tbody tr th:only-of-type {\n        vertical-align: middle;\n    }\n\n    .dataframe tbody tr th {\n        vertical-align: top;\n    }\n\n    .dataframe thead th {\n        text-align: right;\n    }\n</style>\n<table border=\"1\" class=\"dataframe\">\n  <thead>\n    <tr style=\"text-align: right;\">\n      <th></th>\n      <th>pop_total</th>\n      <th>sex_total</th>\n      <th>sex_male</th>\n      <th>sex_female</th>\n      <th>age_median</th>\n      <th>households</th>\n      <th>race_total</th>\n      <th>race_white</th>\n      <th>race_black</th>\n      <th>race_native</th>\n      <th>...</th>\n      <th>travel_walk_ratio</th>\n      <th>travel_work_home_ratio</th>\n      <th>edu_bachelor_ratio</th>\n      <th>edu_master_ratio</th>\n      <th>edu_phd_ratio</th>\n      <th>edu_higher_edu_ratio</th>\n      <th>employment_unemployed_ratio</th>\n      <th>vehicle_per_capita</th>\n      <th>vehicle_per_household</th>\n      <th>vacancy_ratio</th>\n    </tr>\n  </thead>\n  <tbody>\n    <tr>\n      <th>0</th>\n      <td>2812.0</td>\n      <td>2812.0</td>\n      <td>1383.0</td>\n      <td>1429.0</td>\n      <td>39.4</td>\n      <td>931.0</td>\n      <td>2812.0</td>\n      <td>2086.0</td>\n      <td>517.0</td>\n      <td>0.0</td>\n      <td>...</td>\n      <td>0.014815</td>\n      <td>0.024242</td>\n      <td>0.183838</td>\n      <td>0.029798</td>\n      <td>0.003030</td>\n      <td>0.216667</td>\n      <td>0.286635</td>\n      <td>0.528094</td>\n      <td>1.595059</td>\n      <td>0.155938</td>\n    </tr>\n    <tr>\n      <th>1</th>\n      <td>4709.0</td>\n      <td>4709.0</td>\n      <td>2272.0</td>\n      <td>2437.0</td>\n      <td>34.2</td>\n      <td>1668.0</td>\n      <td>4709.0</td>\n      <td>2382.0</td>\n      <td>1953.0</td>\n      <td>0.0</td>\n      <td>...</td>\n      <td>0.022150</td>\n      <td>0.004615</td>\n      <td>0.135222</td>\n      <td>0.040245</td>\n      <td>0.003220</td>\n      <td>0.178686</td>\n      <td>0.318327</td>\n      <td>0.460183</td>\n      <td>1.299161</td>\n      <td>0.152869</td>\n    </tr>\n    <tr>\n      <th>2</th>\n      <td>5005.0</td>\n      <td>5005.0</td>\n      <td>2444.0</td>\n      <td>2561.0</td>\n      <td>34.1</td>\n      <td>1379.0</td>\n      <td>5005.0</td>\n      <td>2334.0</td>\n      <td>2206.0</td>\n      <td>224.0</td>\n      <td>...</td>\n      <td>0.026141</td>\n      <td>0.027913</td>\n      <td>0.213247</td>\n      <td>0.064620</td>\n      <td>0.007431</td>\n      <td>0.285299</td>\n      <td>0.366755</td>\n      <td>0.450949</td>\n      <td>1.636693</td>\n      <td>0.162211</td>\n    </tr>\n    <tr>\n      <th>3</th>\n      <td>6754.0</td>\n      <td>6754.0</td>\n      <td>2934.0</td>\n      <td>3820.0</td>\n      <td>31.3</td>\n      <td>2238.0</td>\n      <td>6754.0</td>\n      <td>4052.0</td>\n      <td>1671.0</td>\n      <td>326.0</td>\n      <td>...</td>\n      <td>0.052697</td>\n      <td>0.004054</td>\n      <td>0.093379</td>\n      <td>0.082510</td>\n      <td>0.012599</td>\n      <td>0.188488</td>\n      <td>0.314452</td>\n      <td>0.474830</td>\n      <td>1.432976</td>\n      <td>0.178716</td>\n    </tr>\n    <tr>\n      <th>4</th>\n      <td>3021.0</td>\n      <td>3021.0</td>\n      <td>1695.0</td>\n      <td>1326.0</td>\n      <td>44.1</td>\n      <td>1364.0</td>\n      <td>3021.0</td>\n      <td>2861.0</td>\n      <td>121.0</td>\n      <td>0.0</td>\n      <td>...</td>\n      <td>0.003014</td>\n      <td>0.013059</td>\n      <td>0.219868</td>\n      <td>0.138631</td>\n      <td>0.007064</td>\n      <td>0.365563</td>\n      <td>0.218447</td>\n      <td>0.659053</td>\n      <td>1.459677</td>\n      <td>0.335930</td>\n    </tr>\n  </tbody>\n</table>\n<p>5 rows × 88 columns</p>\n</div>"
     },
     "execution_count": 60,
     "metadata": {},
     "output_type": "execute_result"
    }
   ]
  },
  {
   "cell_type": "markdown",
   "source": [
    "### 4.2 Viewing the loaded Data"
   ],
   "metadata": {
    "id": "5obenwLDU4-A",
    "ExecuteTime": {
     "end_time": "2023-11-28T21:42:15.328728Z",
     "start_time": "2023-11-28T21:42:15.300775Z"
    }
   }
  },
  {
   "cell_type": "code",
   "source": [
    "# shape\n",
    "df.shape"
   ],
   "metadata": {
    "colab": {
     "base_uri": "https://localhost:8080/"
    },
    "id": "Po6XCBX4K0Ll",
    "executionInfo": {
     "status": "ok",
     "timestamp": 1673991003448,
     "user_tz": 300,
     "elapsed": 112,
     "user": {
      "displayName": "Shenhao Wang",
      "userId": "03503527554188089407"
     }
    },
    "outputId": "43f794a5-6251-441d-ff73-08c10304575f",
    "ExecuteTime": {
     "end_time": "2023-11-28T21:42:15.520378Z",
     "start_time": "2023-11-28T21:42:15.502329Z"
    }
   },
   "execution_count": 62,
   "outputs": [
    {
     "data": {
      "text/plain": "Index(['pop_total', 'sex_total', 'sex_male', 'sex_female', 'age_median',\n       'households', 'race_total', 'race_white', 'race_black', 'race_native',\n       'race_asian', 'inc_total_pop', 'inc_no_pop', 'inc_with_pop',\n       'inc_pop_10k', 'inc_pop_1k_15k', 'inc_pop_15k_25k', 'inc_pop_25k_35k',\n       'inc_pop_35k_50k', 'inc_pop_50k_65k', 'inc_pop_65k_75k', 'inc_pop_75k',\n       'inc_median_ind', 'travel_total_to_work', 'travel_driving_to_work',\n       'travel_pt_to_work', 'travel_taxi_to_work', 'travel_cycle_to_work',\n       'travel_walk_to_work', 'travel_work_from_home', 'edu_total_pop',\n       'bachelor_male_25_34', 'master_phd_male_25_34', 'bachelor_male_35_44',\n       'master_phd_male_35_44', 'bachelor_male_45_64', 'master_phd_male_45_64',\n       'bachelor_male_65_over', 'master_phd_male_65_over',\n       'bachelor_female_25_34', 'master_phd_female_25_34',\n       'bachelor_female_35_44', 'master_phd_female_35_44',\n       'bachelor_female_45_64', 'master_phd_female_45_64',\n       'bachelor_female_65_over', 'master_phd_female_65_over', 'edu_total',\n       'edu_bachelor', 'edu_master', 'edu_phd', 'inc_median_household',\n       'inc_per_capita', 'employment_total_labor', 'employment_employed',\n       'employment_unemployed', 'housing_units_total',\n       'housing_units_occupied', 'housing_units_vacant', 'rent_median',\n       'property_value_total', 'property_value_median',\n       'vehicle_total_imputed', 'state', 'state_fips', 'county_fips',\n       'tract_fips', 'full_ct_fips', 'household_size_avg', 'sex_male_ratio',\n       'race_white_ratio', 'race_black_ratio', 'race_native_ratio',\n       'race_asian_ratio', 'travel_driving_ratio', 'travel_pt_ratio',\n       'travel_taxi_ratio', 'travel_cycle_ratio', 'travel_walk_ratio',\n       'travel_work_home_ratio', 'edu_bachelor_ratio', 'edu_master_ratio',\n       'edu_phd_ratio', 'edu_higher_edu_ratio', 'employment_unemployed_ratio',\n       'vehicle_per_capita', 'vehicle_per_household', 'vacancy_ratio'],\n      dtype='object')"
     },
     "execution_count": 62,
     "metadata": {},
     "output_type": "execute_result"
    }
   ]
  },
  {
   "cell_type": "code",
   "source": [
    "# view the head\n",
    "df.head()"
   ],
   "metadata": {
    "colab": {
     "base_uri": "https://localhost:8080/",
     "height": 299
    },
    "id": "pOJ_KTdwP5cm",
    "executionInfo": {
     "status": "ok",
     "timestamp": 1673991059556,
     "user_tz": 300,
     "elapsed": 119,
     "user": {
      "displayName": "Shenhao Wang",
      "userId": "03503527554188089407"
     }
    },
    "outputId": "25125b87-7a13-4dd3-ee1a-a4fcc8769f30",
    "ExecuteTime": {
     "start_time": "2023-11-28T21:40:17.114636Z"
    }
   },
   "execution_count": null,
   "outputs": []
  },
  {
   "cell_type": "code",
   "source": [
    "# view the tail\n",
    "df.tail()"
   ],
   "metadata": {
    "colab": {
     "base_uri": "https://localhost:8080/",
     "height": 200
    },
    "id": "0KcWrPXbQU5E",
    "executionInfo": {
     "status": "error",
     "timestamp": 1694458861617,
     "user_tz": 240,
     "elapsed": 285,
     "user": {
      "displayName": "Shenhao Wang",
      "userId": "03503527554188089407"
     }
    },
    "outputId": "8b8d50e2-cb02-4de7-cd37-8fd3a8cf513e",
    "ExecuteTime": {
     "end_time": "2023-11-28T21:42:16.210174Z",
     "start_time": "2023-11-28T21:42:16.183904Z"
    }
   },
   "execution_count": 63,
   "outputs": [
    {
     "data": {
      "text/plain": "0       12086000211\n1       12086000212\n2       12086000213\n3       12086000214\n4       12086000128\n           ...     \n4162    12019031200\n4163    12019030801\n4164    12019030902\n4165    12019030301\n4166    12019031400\nName: full_ct_fips, Length: 4167, dtype: int64"
     },
     "execution_count": 63,
     "metadata": {},
     "output_type": "execute_result"
    }
   ]
  },
  {
   "cell_type": "code",
   "source": [
    "# check the column names\n",
    "df.columns"
   ],
   "metadata": {
    "colab": {
     "base_uri": "https://localhost:8080/"
    },
    "id": "7AC0XHw8QvQ7",
    "executionInfo": {
     "status": "ok",
     "timestamp": 1673991099004,
     "user_tz": 300,
     "elapsed": 123,
     "user": {
      "displayName": "Shenhao Wang",
      "userId": "03503527554188089407"
     }
    },
    "outputId": "f74e9568-f9c4-4ffa-8f2f-ac6d1fba90df",
    "ExecuteTime": {
     "end_time": "2023-11-28T21:42:16.381664Z",
     "start_time": "2023-11-28T21:42:16.364352Z"
    }
   },
   "execution_count": 64,
   "outputs": [
    {
     "data": {
      "text/plain": "0        2812.0\n1        4709.0\n2        5005.0\n3        6754.0\n4        3021.0\n         ...   \n4162    15742.0\n4163     5723.0\n4164    10342.0\n4165     8960.0\n4166     5083.0\nName: pop_total, Length: 4167, dtype: float64"
     },
     "execution_count": 64,
     "metadata": {},
     "output_type": "execute_result"
    }
   ]
  },
  {
   "cell_type": "markdown",
   "source": [
    "### 4.3 Selecting columns"
   ],
   "metadata": {
    "id": "ebJXxNd_SiIO",
    "ExecuteTime": {
     "end_time": "2023-11-28T21:42:17.087192Z",
     "start_time": "2023-11-28T21:42:17.070637Z"
    }
   }
  },
  {
   "cell_type": "code",
   "source": [
    "# choose the census tract FIPS column.\n",
    "# Q: What is FIPS? Federal Information Processing Standards.\n",
    "# Q: What is a census tract? https://en.wikipedia.org/wiki/Census_tract\n",
    "df['full_ct_fips']"
   ],
   "metadata": {
    "colab": {
     "base_uri": "https://localhost:8080/"
    },
    "id": "tFwo50QvQ2bC",
    "executionInfo": {
     "status": "ok",
     "timestamp": 1673991332152,
     "user_tz": 300,
     "elapsed": 144,
     "user": {
      "displayName": "Shenhao Wang",
      "userId": "03503527554188089407"
     }
    },
    "outputId": "61085ae2-cde4-481a-8566-c4925847c89e",
    "ExecuteTime": {
     "end_time": "2023-11-28T21:42:17.467399Z",
     "start_time": "2023-11-28T21:42:17.433396Z"
    }
   },
   "execution_count": 66,
   "outputs": [
    {
     "data": {
      "text/plain": "0       3.020408\n1       2.823141\n2       3.629442\n3       3.017873\n4       2.214809\n          ...   \n4162    2.853362\n4163    2.860070\n4164    2.760812\n4165    2.695548\n4166    2.896296\nName: average_household_size, Length: 4167, dtype: float64"
     },
     "execution_count": 66,
     "metadata": {},
     "output_type": "execute_result"
    }
   ]
  },
  {
   "cell_type": "code",
   "source": [
    "# choose a column by the column name\n",
    "df['pop_total']"
   ],
   "metadata": {
    "colab": {
     "base_uri": "https://localhost:8080/"
    },
    "id": "GDAvmyEMQZ6G",
    "executionInfo": {
     "status": "ok",
     "timestamp": 1673991343501,
     "user_tz": 300,
     "elapsed": 120,
     "user": {
      "displayName": "Shenhao Wang",
      "userId": "03503527554188089407"
     }
    },
    "outputId": "28beafc6-161b-4b08-975e-a2fd062e6ee9",
    "ExecuteTime": {
     "start_time": "2023-11-28T21:40:17.121606Z"
    }
   },
   "execution_count": null,
   "outputs": []
  },
  {
   "cell_type": "code",
   "source": [
    "# choose multiple columns by a list of column names\n",
    "df[['pop_total', 'households']]"
   ],
   "metadata": {
    "colab": {
     "base_uri": "https://localhost:8080/",
     "height": 424
    },
    "id": "TWs8Gpn0Qgig",
    "executionInfo": {
     "status": "ok",
     "timestamp": 1673991406471,
     "user_tz": 300,
     "elapsed": 132,
     "user": {
      "displayName": "Shenhao Wang",
      "userId": "03503527554188089407"
     }
    },
    "outputId": "0a610c63-2750-4307-f5f2-86b594570860",
    "ExecuteTime": {
     "start_time": "2023-11-28T21:40:17.123862Z"
    }
   },
   "execution_count": null,
   "outputs": []
  },
  {
   "cell_type": "code",
   "source": [
    "# create a new column by the operation between two columns\n",
    "df['average_household_size'] = df['pop_total']/df['households']\n",
    "df['average_household_size']"
   ],
   "metadata": {
    "colab": {
     "base_uri": "https://localhost:8080/"
    },
    "id": "OrmzbWU3Qphv",
    "executionInfo": {
     "status": "ok",
     "timestamp": 1673991660665,
     "user_tz": 300,
     "elapsed": 124,
     "user": {
      "displayName": "Shenhao Wang",
      "userId": "03503527554188089407"
     }
    },
    "outputId": "c816404f-2208-4303-965a-c14f2f5b7075",
    "ExecuteTime": {
     "end_time": "2023-11-28T21:42:19.434240Z",
     "start_time": "2023-11-28T21:42:19.392841Z"
    }
   },
   "execution_count": 67,
   "outputs": [
    {
     "data": {
      "text/plain": "pop_total                        2812.0\nsex_total                        2812.0\nsex_male                         1383.0\nsex_female                       1429.0\nage_median                         39.4\n                                 ...   \nemployment_unemployed_ratio    0.286635\nvehicle_per_capita             0.528094\nvehicle_per_household          1.595059\nvacancy_ratio                  0.155938\naverage_household_size         3.020408\nName: 0, Length: 89, dtype: object"
     },
     "execution_count": 67,
     "metadata": {},
     "output_type": "execute_result"
    }
   ]
  },
  {
   "cell_type": "markdown",
   "source": [
    "## **Exercise** Choose the column showing the ratio of PhD graduates. Please find the column name from the documentation file. What are the values there?\n",
    "## **Exercise** Choose the column showing the ratio of driving. Please find the column name from the documentation file. What are the values there?"
   ],
   "metadata": {
    "id": "lXw68lksi-kj",
    "ExecuteTime": {
     "end_time": "2023-11-28T21:42:20.054512Z",
     "start_time": "2023-11-28T21:42:20.034310Z"
    }
   }
  },
  {
   "cell_type": "markdown",
   "source": [
    "### 4.4 Selecting Rows by Labels\n",
    "\n"
   ],
   "metadata": {
    "id": "OLwRPXG6SoAQ",
    "ExecuteTime": {
     "end_time": "2023-11-28T21:42:20.556645Z",
     "start_time": "2023-11-28T21:42:20.544590Z"
    }
   }
  },
  {
   "cell_type": "code",
   "source": [
    "# use .loc to select by row label\n",
    "# returns the row as a series whose index is the dataframe column names\n",
    "df.loc[0]"
   ],
   "metadata": {
    "colab": {
     "base_uri": "https://localhost:8080/",
     "height": 219
    },
    "id": "M0ZbgPJzSqHE",
    "executionInfo": {
     "status": "error",
     "timestamp": 1694458953046,
     "user_tz": 240,
     "elapsed": 239,
     "user": {
      "displayName": "Shenhao Wang",
      "userId": "03503527554188089407"
     }
    },
    "outputId": "fcbab1a0-7c3a-4d27-c5d1-4337da5d91cd",
    "ExecuteTime": {
     "start_time": "2023-11-28T21:40:17.126760Z"
    }
   },
   "execution_count": null,
   "outputs": []
  },
  {
   "cell_type": "code",
   "source": [
    "# use .loc to select single value by row label, column name\n",
    "df.loc[0, 'pop_total']"
   ],
   "metadata": {
    "colab": {
     "base_uri": "https://localhost:8080/"
    },
    "id": "qzv_XLbQSqLa",
    "executionInfo": {
     "status": "ok",
     "timestamp": 1673991735517,
     "user_tz": 300,
     "elapsed": 114,
     "user": {
      "displayName": "Shenhao Wang",
      "userId": "03503527554188089407"
     }
    },
    "outputId": "70afba8d-c326-4451-f31f-29669a9fd755",
    "ExecuteTime": {
     "end_time": "2023-11-28T21:42:21.835258Z",
     "start_time": "2023-11-28T21:42:21.816062Z"
    }
   },
   "execution_count": 70,
   "outputs": [
    {
     "data": {
      "text/plain": "      pop_total  sex_total  sex_male  sex_female  age_median  households  \\\n1        4709.0     4709.0    2272.0      2437.0        34.2      1668.0   \n2        5005.0     5005.0    2444.0      2561.0        34.1      1379.0   \n3        6754.0     6754.0    2934.0      3820.0        31.3      2238.0   \n4        3021.0     3021.0    1695.0      1326.0        44.1      1364.0   \n7        4215.0     4215.0    2194.0      2021.0        38.8      1032.0   \n...         ...        ...       ...         ...         ...         ...   \n4162    15742.0    15742.0    7957.0      7785.0        41.0      5517.0   \n4163     5723.0     5723.0    2914.0      2809.0        43.0      2001.0   \n4164    10342.0    10342.0    4657.0      5685.0        37.6      3746.0   \n4165     8960.0     8960.0    4166.0      4794.0        37.2      3324.0   \n4166     5083.0     5083.0    2573.0      2510.0        39.2      1755.0   \n\n      race_total  race_white  race_black  race_native  ...  \\\n1         4709.0      2382.0      1953.0          0.0  ...   \n2         5005.0      2334.0      2206.0        224.0  ...   \n3         6754.0      4052.0      1671.0        326.0  ...   \n4         3021.0      2861.0       121.0          0.0  ...   \n7         4215.0      3327.0       642.0        106.0  ...   \n...          ...         ...         ...          ...  ...   \n4162     15742.0     13894.0      1128.0         64.0  ...   \n4163      5723.0      4664.0       482.0          0.0  ...   \n4164     10342.0      7956.0      1351.0         13.0  ...   \n4165      8960.0      6286.0      1831.0          0.0  ...   \n4166      5083.0      3753.0       987.0          0.0  ...   \n\n      travel_work_home_ratio  edu_bachelor_ratio  edu_master_ratio  \\\n1                   0.004615            0.135222          0.040245   \n2                   0.027913            0.213247          0.064620   \n3                   0.004054            0.093379          0.082510   \n4                   0.013059            0.219868          0.138631   \n7                   0.023061            0.116590          0.028531   \n...                      ...                 ...               ...   \n4162                0.062212            0.164241          0.084891   \n4163                0.047581            0.215161          0.084563   \n4164                0.038862            0.137002          0.030591   \n4165                0.064132            0.174399          0.063014   \n4166                0.046488            0.113451          0.022466   \n\n      edu_phd_ratio  edu_higher_edu_ratio  employment_unemployed_ratio  \\\n1          0.003220              0.178686                     0.318327   \n2          0.007431              0.285299                     0.366755   \n3          0.012599              0.188488                     0.314452   \n4          0.007064              0.365563                     0.218447   \n7          0.008101              0.153223                     0.310919   \n...             ...                   ...                          ...   \n4162       0.002066              0.251197                     0.401551   \n4163       0.007005              0.306730                     0.411036   \n4164       0.002049              0.169643                     0.353295   \n4165       0.003126              0.240540                     0.363482   \n4166       0.002247              0.138163                     0.491815   \n\n      vehicle_per_capita  vehicle_per_household  vacancy_ratio  \\\n1               0.460183               1.299161       0.152869   \n2               0.450949               1.636693       0.162211   \n3               0.474830               1.432976       0.178716   \n4               0.659053               1.459677       0.335930   \n7               0.452669               1.848837       0.110345   \n...                  ...                    ...            ...   \n4162            0.426820               1.217872       0.099118   \n4163            0.440678               1.260370       0.039827   \n4164            0.482692               1.332621       0.041208   \n4165            0.478571               1.290012       0.017440   \n4166            0.389337               1.127635       0.129464   \n\n      average_household_size  \n1                   2.823141  \n2                   3.629442  \n3                   3.017873  \n4                   2.214809  \n7                   4.084302  \n...                      ...  \n4162                2.853362  \n4163                2.860070  \n4164                2.760812  \n4165                2.695548  \n4166                2.896296  \n\n[3211 rows x 89 columns]",
      "text/html": "<div>\n<style scoped>\n    .dataframe tbody tr th:only-of-type {\n        vertical-align: middle;\n    }\n\n    .dataframe tbody tr th {\n        vertical-align: top;\n    }\n\n    .dataframe thead th {\n        text-align: right;\n    }\n</style>\n<table border=\"1\" class=\"dataframe\">\n  <thead>\n    <tr style=\"text-align: right;\">\n      <th></th>\n      <th>pop_total</th>\n      <th>sex_total</th>\n      <th>sex_male</th>\n      <th>sex_female</th>\n      <th>age_median</th>\n      <th>households</th>\n      <th>race_total</th>\n      <th>race_white</th>\n      <th>race_black</th>\n      <th>race_native</th>\n      <th>...</th>\n      <th>travel_work_home_ratio</th>\n      <th>edu_bachelor_ratio</th>\n      <th>edu_master_ratio</th>\n      <th>edu_phd_ratio</th>\n      <th>edu_higher_edu_ratio</th>\n      <th>employment_unemployed_ratio</th>\n      <th>vehicle_per_capita</th>\n      <th>vehicle_per_household</th>\n      <th>vacancy_ratio</th>\n      <th>average_household_size</th>\n    </tr>\n  </thead>\n  <tbody>\n    <tr>\n      <th>1</th>\n      <td>4709.0</td>\n      <td>4709.0</td>\n      <td>2272.0</td>\n      <td>2437.0</td>\n      <td>34.2</td>\n      <td>1668.0</td>\n      <td>4709.0</td>\n      <td>2382.0</td>\n      <td>1953.0</td>\n      <td>0.0</td>\n      <td>...</td>\n      <td>0.004615</td>\n      <td>0.135222</td>\n      <td>0.040245</td>\n      <td>0.003220</td>\n      <td>0.178686</td>\n      <td>0.318327</td>\n      <td>0.460183</td>\n      <td>1.299161</td>\n      <td>0.152869</td>\n      <td>2.823141</td>\n    </tr>\n    <tr>\n      <th>2</th>\n      <td>5005.0</td>\n      <td>5005.0</td>\n      <td>2444.0</td>\n      <td>2561.0</td>\n      <td>34.1</td>\n      <td>1379.0</td>\n      <td>5005.0</td>\n      <td>2334.0</td>\n      <td>2206.0</td>\n      <td>224.0</td>\n      <td>...</td>\n      <td>0.027913</td>\n      <td>0.213247</td>\n      <td>0.064620</td>\n      <td>0.007431</td>\n      <td>0.285299</td>\n      <td>0.366755</td>\n      <td>0.450949</td>\n      <td>1.636693</td>\n      <td>0.162211</td>\n      <td>3.629442</td>\n    </tr>\n    <tr>\n      <th>3</th>\n      <td>6754.0</td>\n      <td>6754.0</td>\n      <td>2934.0</td>\n      <td>3820.0</td>\n      <td>31.3</td>\n      <td>2238.0</td>\n      <td>6754.0</td>\n      <td>4052.0</td>\n      <td>1671.0</td>\n      <td>326.0</td>\n      <td>...</td>\n      <td>0.004054</td>\n      <td>0.093379</td>\n      <td>0.082510</td>\n      <td>0.012599</td>\n      <td>0.188488</td>\n      <td>0.314452</td>\n      <td>0.474830</td>\n      <td>1.432976</td>\n      <td>0.178716</td>\n      <td>3.017873</td>\n    </tr>\n    <tr>\n      <th>4</th>\n      <td>3021.0</td>\n      <td>3021.0</td>\n      <td>1695.0</td>\n      <td>1326.0</td>\n      <td>44.1</td>\n      <td>1364.0</td>\n      <td>3021.0</td>\n      <td>2861.0</td>\n      <td>121.0</td>\n      <td>0.0</td>\n      <td>...</td>\n      <td>0.013059</td>\n      <td>0.219868</td>\n      <td>0.138631</td>\n      <td>0.007064</td>\n      <td>0.365563</td>\n      <td>0.218447</td>\n      <td>0.659053</td>\n      <td>1.459677</td>\n      <td>0.335930</td>\n      <td>2.214809</td>\n    </tr>\n    <tr>\n      <th>7</th>\n      <td>4215.0</td>\n      <td>4215.0</td>\n      <td>2194.0</td>\n      <td>2021.0</td>\n      <td>38.8</td>\n      <td>1032.0</td>\n      <td>4215.0</td>\n      <td>3327.0</td>\n      <td>642.0</td>\n      <td>106.0</td>\n      <td>...</td>\n      <td>0.023061</td>\n      <td>0.116590</td>\n      <td>0.028531</td>\n      <td>0.008101</td>\n      <td>0.153223</td>\n      <td>0.310919</td>\n      <td>0.452669</td>\n      <td>1.848837</td>\n      <td>0.110345</td>\n      <td>4.084302</td>\n    </tr>\n    <tr>\n      <th>...</th>\n      <td>...</td>\n      <td>...</td>\n      <td>...</td>\n      <td>...</td>\n      <td>...</td>\n      <td>...</td>\n      <td>...</td>\n      <td>...</td>\n      <td>...</td>\n      <td>...</td>\n      <td>...</td>\n      <td>...</td>\n      <td>...</td>\n      <td>...</td>\n      <td>...</td>\n      <td>...</td>\n      <td>...</td>\n      <td>...</td>\n      <td>...</td>\n      <td>...</td>\n      <td>...</td>\n    </tr>\n    <tr>\n      <th>4162</th>\n      <td>15742.0</td>\n      <td>15742.0</td>\n      <td>7957.0</td>\n      <td>7785.0</td>\n      <td>41.0</td>\n      <td>5517.0</td>\n      <td>15742.0</td>\n      <td>13894.0</td>\n      <td>1128.0</td>\n      <td>64.0</td>\n      <td>...</td>\n      <td>0.062212</td>\n      <td>0.164241</td>\n      <td>0.084891</td>\n      <td>0.002066</td>\n      <td>0.251197</td>\n      <td>0.401551</td>\n      <td>0.426820</td>\n      <td>1.217872</td>\n      <td>0.099118</td>\n      <td>2.853362</td>\n    </tr>\n    <tr>\n      <th>4163</th>\n      <td>5723.0</td>\n      <td>5723.0</td>\n      <td>2914.0</td>\n      <td>2809.0</td>\n      <td>43.0</td>\n      <td>2001.0</td>\n      <td>5723.0</td>\n      <td>4664.0</td>\n      <td>482.0</td>\n      <td>0.0</td>\n      <td>...</td>\n      <td>0.047581</td>\n      <td>0.215161</td>\n      <td>0.084563</td>\n      <td>0.007005</td>\n      <td>0.306730</td>\n      <td>0.411036</td>\n      <td>0.440678</td>\n      <td>1.260370</td>\n      <td>0.039827</td>\n      <td>2.860070</td>\n    </tr>\n    <tr>\n      <th>4164</th>\n      <td>10342.0</td>\n      <td>10342.0</td>\n      <td>4657.0</td>\n      <td>5685.0</td>\n      <td>37.6</td>\n      <td>3746.0</td>\n      <td>10342.0</td>\n      <td>7956.0</td>\n      <td>1351.0</td>\n      <td>13.0</td>\n      <td>...</td>\n      <td>0.038862</td>\n      <td>0.137002</td>\n      <td>0.030591</td>\n      <td>0.002049</td>\n      <td>0.169643</td>\n      <td>0.353295</td>\n      <td>0.482692</td>\n      <td>1.332621</td>\n      <td>0.041208</td>\n      <td>2.760812</td>\n    </tr>\n    <tr>\n      <th>4165</th>\n      <td>8960.0</td>\n      <td>8960.0</td>\n      <td>4166.0</td>\n      <td>4794.0</td>\n      <td>37.2</td>\n      <td>3324.0</td>\n      <td>8960.0</td>\n      <td>6286.0</td>\n      <td>1831.0</td>\n      <td>0.0</td>\n      <td>...</td>\n      <td>0.064132</td>\n      <td>0.174399</td>\n      <td>0.063014</td>\n      <td>0.003126</td>\n      <td>0.240540</td>\n      <td>0.363482</td>\n      <td>0.478571</td>\n      <td>1.290012</td>\n      <td>0.017440</td>\n      <td>2.695548</td>\n    </tr>\n    <tr>\n      <th>4166</th>\n      <td>5083.0</td>\n      <td>5083.0</td>\n      <td>2573.0</td>\n      <td>2510.0</td>\n      <td>39.2</td>\n      <td>1755.0</td>\n      <td>5083.0</td>\n      <td>3753.0</td>\n      <td>987.0</td>\n      <td>0.0</td>\n      <td>...</td>\n      <td>0.046488</td>\n      <td>0.113451</td>\n      <td>0.022466</td>\n      <td>0.002247</td>\n      <td>0.138163</td>\n      <td>0.491815</td>\n      <td>0.389337</td>\n      <td>1.127635</td>\n      <td>0.129464</td>\n      <td>2.896296</td>\n    </tr>\n  </tbody>\n</table>\n<p>3211 rows × 89 columns</p>\n</div>"
     },
     "execution_count": 70,
     "metadata": {},
     "output_type": "execute_result"
    }
   ]
  },
  {
   "cell_type": "code",
   "source": [
    "# slice of rows from label 2 to label 4, inclusive\n",
    "# this returns a pandas dataframe\n",
    "df.loc[2:4]"
   ],
   "metadata": {
    "colab": {
     "base_uri": "https://localhost:8080/",
     "height": 219
    },
    "id": "xliopt5uSqN0",
    "executionInfo": {
     "status": "error",
     "timestamp": 1694458984555,
     "user_tz": 240,
     "elapsed": 277,
     "user": {
      "displayName": "Shenhao Wang",
      "userId": "03503527554188089407"
     }
    },
    "outputId": "b3047786-7fda-4d41-d971-f77400284f38",
    "ExecuteTime": {
     "end_time": "2023-11-28T21:42:22.126603Z",
     "start_time": "2023-11-28T21:42:22.085286Z"
    }
   },
   "execution_count": 71,
   "outputs": [
    {
     "data": {
      "text/plain": "0       False\n1        True\n2        True\n3        True\n4        True\n        ...  \n4162     True\n4163     True\n4164     True\n4165     True\n4166     True\nName: pop_total, Length: 4167, dtype: bool"
     },
     "execution_count": 71,
     "metadata": {},
     "output_type": "execute_result"
    }
   ]
  },
  {
   "cell_type": "markdown",
   "source": [
    "### 4.5 Selecting using value criteria\n"
   ],
   "metadata": {
    "id": "o3OimEKmThPu",
    "ExecuteTime": {
     "end_time": "2023-11-28T21:42:22.375272Z",
     "start_time": "2023-11-28T21:42:22.348415Z"
    }
   }
  },
  {
   "cell_type": "code",
   "source": [
    "# filter the dataframe by census tracts with more than 3000 residents\n",
    "df[df['pop_total'] > 3000]"
   ],
   "metadata": {
    "colab": {
     "base_uri": "https://localhost:8080/",
     "height": 488
    },
    "id": "1HOEBmnUS0VY",
    "executionInfo": {
     "status": "ok",
     "timestamp": 1673991795720,
     "user_tz": 300,
     "elapsed": 151,
     "user": {
      "displayName": "Shenhao Wang",
      "userId": "03503527554188089407"
     }
    },
    "outputId": "9cbaa6f9-0abf-4e17-9eca-ab70a8ef07a8",
    "ExecuteTime": {
     "start_time": "2023-11-28T21:40:17.130174Z"
    }
   },
   "execution_count": null,
   "outputs": []
  },
  {
   "cell_type": "code",
   "source": [
    "# In fact, there are two steps.\n",
    "# step 1. create a mask\n",
    "mask = df['pop_total'] > 3000\n",
    "mask"
   ],
   "metadata": {
    "colab": {
     "base_uri": "https://localhost:8080/",
     "height": 237
    },
    "id": "rfyPsPtRTsnn",
    "executionInfo": {
     "status": "error",
     "timestamp": 1694459058034,
     "user_tz": 240,
     "elapsed": 467,
     "user": {
      "displayName": "Shenhao Wang",
      "userId": "03503527554188089407"
     }
    },
    "outputId": "72638c08-4b25-49df-c47e-0011f055bf81",
    "ExecuteTime": {
     "start_time": "2023-11-28T21:40:17.131209Z"
    }
   },
   "execution_count": null,
   "outputs": []
  },
  {
   "cell_type": "code",
   "source": [
    "# step 2. Choose the rows\n",
    "df[mask]"
   ],
   "metadata": {
    "colab": {
     "base_uri": "https://localhost:8080/",
     "height": 200
    },
    "id": "NP3B0dTGT_EO",
    "executionInfo": {
     "status": "error",
     "timestamp": 1694459063518,
     "user_tz": 240,
     "elapsed": 262,
     "user": {
      "displayName": "Shenhao Wang",
      "userId": "03503527554188089407"
     }
    },
    "outputId": "901eb08c-4912-4911-ebec-e48f93e3da43",
    "ExecuteTime": {
     "end_time": "2023-11-28T21:42:23.670572Z",
     "start_time": "2023-11-28T21:42:23.634813Z"
    }
   },
   "execution_count": 73,
   "outputs": [
    {
     "data": {
      "text/plain": "array([ 2812.,  4709.,  5005., ..., 10342.,  8960.,  5083.])"
     },
     "execution_count": 73,
     "metadata": {},
     "output_type": "execute_result"
    }
   ]
  },
  {
   "cell_type": "markdown",
   "source": [
    "## 5. Analyzing data"
   ],
   "metadata": {
    "id": "Xp8HRJCo6ZCu",
    "ExecuteTime": {
     "end_time": "2023-11-28T21:42:23.868208Z",
     "start_time": "2023-11-28T21:42:23.847602Z"
    }
   }
  },
  {
   "cell_type": "markdown",
   "source": [
    "### 5.1 Finding nominal, ordinal, and cardinal numbers in the data set."
   ],
   "metadata": {
    "id": "BS3vWojxXK_-",
    "ExecuteTime": {
     "end_time": "2023-11-28T21:42:24.086696Z",
     "start_time": "2023-11-28T21:42:24.069258Z"
    }
   }
  },
  {
   "cell_type": "code",
   "source": [
    "# majority of the variables in THIS data set is cardinal numbers.\n",
    "# total population: cardinal numbers.\n",
    "df['pop_total'].values"
   ],
   "metadata": {
    "id": "AbZaDV8h5zMM",
    "colab": {
     "base_uri": "https://localhost:8080/"
    },
    "executionInfo": {
     "status": "ok",
     "timestamp": 1673992219997,
     "user_tz": 300,
     "elapsed": 102,
     "user": {
      "displayName": "Shenhao Wang",
      "userId": "03503527554188089407"
     }
    },
    "outputId": "7797c956-e93b-4d24-c347-46516e58c64b",
    "ExecuteTime": {
     "end_time": "2023-11-28T21:42:24.311156Z",
     "start_time": "2023-11-28T21:42:24.289993Z"
    }
   },
   "execution_count": 76,
   "outputs": [
    {
     "data": {
      "text/plain": "0       1\n1       0\n2       0\n3       0\n4       1\n       ..\n4162    1\n4163    1\n4164    1\n4165    1\n4166    0\nName: high_low_inc, Length: 4167, dtype: int64"
     },
     "execution_count": 76,
     "metadata": {},
     "output_type": "execute_result"
    }
   ]
  },
  {
   "cell_type": "code",
   "source": [
    "# median household income: cardinal numbers.\n",
    "df['inc_median_household'].values"
   ],
   "metadata": {
    "colab": {
     "base_uri": "https://localhost:8080/"
    },
    "id": "NQvnP_FzdzjU",
    "executionInfo": {
     "status": "ok",
     "timestamp": 1673992237854,
     "user_tz": 300,
     "elapsed": 114,
     "user": {
      "displayName": "Shenhao Wang",
      "userId": "03503527554188089407"
     }
    },
    "outputId": "058ceffc-eba6-45bb-e0bc-7f77ef82c8c4",
    "ExecuteTime": {
     "end_time": "2023-11-28T21:42:25.613158Z",
     "start_time": "2023-11-28T21:42:25.554607Z"
    }
   },
   "execution_count": 77,
   "outputs": [
    {
     "data": {
      "text/plain": "0       86\n1       86\n2       86\n3       86\n4       86\n        ..\n4162    19\n4163    19\n4164    19\n4165    19\n4166    19\nName: county_fips, Length: 4167, dtype: int64"
     },
     "execution_count": 77,
     "metadata": {},
     "output_type": "execute_result"
    }
   ]
  },
  {
   "cell_type": "code",
   "source": [
    "# avearge vehicle per household: cardinal numbers.\n",
    "df['vehicle_per_household'].values"
   ],
   "metadata": {
    "colab": {
     "base_uri": "https://localhost:8080/"
    },
    "id": "ZVlGmQD3eD5f",
    "executionInfo": {
     "status": "ok",
     "timestamp": 1673992240879,
     "user_tz": 300,
     "elapsed": 104,
     "user": {
      "displayName": "Shenhao Wang",
      "userId": "03503527554188089407"
     }
    },
    "outputId": "765a8187-18cc-4ec7-80be-59383c55bdcf",
    "ExecuteTime": {
     "end_time": "2023-11-28T21:42:27.348168Z",
     "start_time": "2023-11-28T21:42:27.304068Z"
    }
   },
   "execution_count": 77,
   "outputs": []
  },
  {
   "cell_type": "code",
   "source": [
    "# ordinal example\n",
    "# turn the cardinal to ordinal numbers.\n",
    "df['high_low_inc'] = df['inc_median_household'] > 50000 # Separate high vs. low income\n",
    "df['high_low_inc'].astype('int') # change the type to integer: 1 - high income; 0 - low income"
   ],
   "metadata": {
    "colab": {
     "base_uri": "https://localhost:8080/"
    },
    "id": "l--VNaHJeKAK",
    "executionInfo": {
     "status": "ok",
     "timestamp": 1673992297399,
     "user_tz": 300,
     "elapsed": 123,
     "user": {
      "displayName": "Shenhao Wang",
      "userId": "03503527554188089407"
     }
    },
    "outputId": "18147017-d766-4766-fd07-b1420826226e",
    "ExecuteTime": {
     "start_time": "2023-11-28T21:40:17.136493Z"
    }
   },
   "execution_count": null,
   "outputs": []
  },
  {
   "cell_type": "code",
   "execution_count": 78,
   "metadata": {
    "id": "8qY1R2fA5Nwm",
    "colab": {
     "base_uri": "https://localhost:8080/"
    },
    "executionInfo": {
     "status": "ok",
     "timestamp": 1673992323573,
     "user_tz": 300,
     "elapsed": 125,
     "user": {
      "displayName": "Shenhao Wang",
      "userId": "03503527554188089407"
     }
    },
    "outputId": "88c79478-7ab6-4908-eeab-3d51eb6f0f94",
    "ExecuteTime": {
     "end_time": "2023-11-28T21:42:28.068614Z",
     "start_time": "2023-11-28T21:42:28.050216Z"
    }
   },
   "outputs": [
    {
     "name": "stdout",
     "output_type": "stream",
     "text": [
      "5015.991360691145\n",
      "4519.0\n"
     ]
    }
   ],
   "source": [
    "# county FIPS: nominal numbers\n",
    "df['county_fips']"
   ]
  },
  {
   "cell_type": "code",
   "source": [],
   "metadata": {
    "id": "zI_rQm_UfBkA",
    "ExecuteTime": {
     "end_time": "2023-11-28T21:42:28.305893Z",
     "start_time": "2023-11-28T21:42:28.286563Z"
    }
   },
   "execution_count": 79,
   "outputs": [
    {
     "name": "stdout",
     "output_type": "stream",
     "text": [
      "59617.548644108465\n",
      "54140.0\n"
     ]
    }
   ]
  },
  {
   "cell_type": "markdown",
   "source": [
    "### 5.2 Summarizing central tendency (one variable)\n"
   ],
   "metadata": {
    "id": "mftA2BLWfCo2",
    "ExecuteTime": {
     "end_time": "2023-11-28T21:42:28.472601Z",
     "start_time": "2023-11-28T21:42:28.452660Z"
    }
   }
  },
  {
   "cell_type": "code",
   "source": [
    "# summarizing the mean and median: population\n",
    "print(df['pop_total'].mean())\n",
    "print(df['pop_total'].median())"
   ],
   "metadata": {
    "colab": {
     "base_uri": "https://localhost:8080/"
    },
    "id": "Jii-zdyjfJcO",
    "executionInfo": {
     "status": "ok",
     "timestamp": 1673992376593,
     "user_tz": 300,
     "elapsed": 141,
     "user": {
      "displayName": "Shenhao Wang",
      "userId": "03503527554188089407"
     }
    },
    "outputId": "263050d3-7369-4904-e310-350d9dfcbd84",
    "ExecuteTime": {
     "end_time": "2023-11-28T21:42:28.826614Z",
     "start_time": "2023-11-28T21:42:28.805336Z"
    }
   },
   "execution_count": 81,
   "outputs": [
    {
     "name": "stdout",
     "output_type": "stream",
     "text": [
      "1.8593297172274632\n",
      "1.21645736946464\n"
     ]
    }
   ]
  },
  {
   "cell_type": "code",
   "source": [
    "# summarizing the mean and median: income\n",
    "print(df['inc_median_household'].mean())\n",
    "print(df['inc_median_household'].median())"
   ],
   "metadata": {
    "colab": {
     "base_uri": "https://localhost:8080/"
    },
    "id": "-IyWnMQ9fKxw",
    "executionInfo": {
     "status": "ok",
     "timestamp": 1673992435487,
     "user_tz": 300,
     "elapsed": 103,
     "user": {
      "displayName": "Shenhao Wang",
      "userId": "03503527554188089407"
     }
    },
    "outputId": "035be4cd-ef58-433e-aa4f-2c2308fdba7b",
    "ExecuteTime": {
     "end_time": "2023-11-28T21:42:28.990295Z",
     "start_time": "2023-11-28T21:42:28.970828Z"
    }
   },
   "execution_count": 82,
   "outputs": [
    {
     "name": "stdout",
     "output_type": "stream",
     "text": [
      "71.62634989200863\n",
      "86.0\n"
     ]
    }
   ]
  },
  {
   "cell_type": "code",
   "source": [
    "# summarizing the mean and median: property value\n",
    "print(df['property_value_median'].mean())\n",
    "print(df['property_value_median'].median())"
   ],
   "metadata": {
    "colab": {
     "base_uri": "https://localhost:8080/"
    },
    "id": "LXlKK-ttfLRh",
    "executionInfo": {
     "status": "ok",
     "timestamp": 1673992436790,
     "user_tz": 300,
     "elapsed": 124,
     "user": {
      "displayName": "Shenhao Wang",
      "userId": "03503527554188089407"
     }
    },
    "outputId": "2fa9f1fc-b307-4196-9438-eb48e78ddda0",
    "ExecuteTime": {
     "start_time": "2023-11-28T21:40:17.145547Z"
    }
   },
   "execution_count": null,
   "outputs": []
  },
  {
   "cell_type": "code",
   "source": [
    "# summarizing the mean and median: vehicles per household\n",
    "print(df['vehicle_per_household'].mean())\n",
    "print(df['vehicle_per_household'].median())"
   ],
   "metadata": {
    "colab": {
     "base_uri": "https://localhost:8080/"
    },
    "id": "mRoiGeA5fZxK",
    "executionInfo": {
     "status": "ok",
     "timestamp": 1673992438015,
     "user_tz": 300,
     "elapsed": 138,
     "user": {
      "displayName": "Shenhao Wang",
      "userId": "03503527554188089407"
     }
    },
    "outputId": "fd212d30-5806-4586-d6d5-21c9bb0b3825",
    "ExecuteTime": {
     "start_time": "2023-11-28T21:40:17.147131Z"
    }
   },
   "execution_count": null,
   "outputs": []
  },
  {
   "cell_type": "code",
   "source": [
    "# Q: Can we summarize the mean and median of county FIPS? A: No. You can get a number but it has no meaning.\n",
    "print(df['county_fips'].mean())\n",
    "print(df['county_fips'].median())"
   ],
   "metadata": {
    "colab": {
     "base_uri": "https://localhost:8080/"
    },
    "id": "7UESrOfSfnk8",
    "executionInfo": {
     "status": "ok",
     "timestamp": 1673992441675,
     "user_tz": 300,
     "elapsed": 98,
     "user": {
      "displayName": "Shenhao Wang",
      "userId": "03503527554188089407"
     }
    },
    "outputId": "426ccf3e-25d7-4420-89aa-bdd3d3e242dd",
    "ExecuteTime": {
     "end_time": "2023-11-28T21:42:29.733818Z",
     "start_time": "2023-11-28T21:42:29.715875Z"
    }
   },
   "execution_count": 83,
   "outputs": [
    {
     "name": "stdout",
     "output_type": "stream",
     "text": [
      "8909397.168912383\n",
      "2984.8613316052697\n"
     ]
    }
   ]
  },
  {
   "cell_type": "markdown",
   "source": [
    "### 5.3 Summarizing variability (one variable)"
   ],
   "metadata": {
    "id": "kBH33tMRizHZ",
    "ExecuteTime": {
     "end_time": "2023-11-28T21:42:29.979655Z",
     "start_time": "2023-11-28T21:42:29.957173Z"
    }
   }
  },
  {
   "cell_type": "markdown",
   "source": [
    "Under the normal distribution - The empirical rule, or the 68-95-99.7 rule, tells you where your values lie: Around 68% of scores are within 1 standard deviation of the mean, Around 95% of scores are within 2 standard deviations of the mean"
   ],
   "metadata": {
    "id": "vqTaNy8cjKVB",
    "ExecuteTime": {
     "end_time": "2023-11-28T21:42:30.191978Z",
     "start_time": "2023-11-28T21:42:30.171878Z"
    }
   }
  },
  {
   "cell_type": "code",
   "source": [
    "# summarizing the variance and std: population\n",
    "print(df['pop_total'].var())\n",
    "print(df['pop_total'].std())"
   ],
   "metadata": {
    "colab": {
     "base_uri": "https://localhost:8080/",
     "height": 219
    },
    "id": "aQ_B1726i5hw",
    "executionInfo": {
     "status": "error",
     "timestamp": 1694459305030,
     "user_tz": 240,
     "elapsed": 238,
     "user": {
      "displayName": "Shenhao Wang",
      "userId": "03503527554188089407"
     }
    },
    "outputId": "82506b20-2d82-4878-ab21-20d939213ebd",
    "ExecuteTime": {
     "start_time": "2023-11-28T21:40:17.150562Z"
    }
   },
   "execution_count": null,
   "outputs": []
  },
  {
   "cell_type": "code",
   "source": [
    "# summarizing the variance and std: income\n",
    "print(df['inc_median_household'].var())\n",
    "print(df['inc_median_household'].std())"
   ],
   "metadata": {
    "colab": {
     "base_uri": "https://localhost:8080/"
    },
    "id": "t0swFnTJjYCO",
    "executionInfo": {
     "status": "ok",
     "timestamp": 1673992479889,
     "user_tz": 300,
     "elapsed": 136,
     "user": {
      "displayName": "Shenhao Wang",
      "userId": "03503527554188089407"
     }
    },
    "outputId": "ad3cbf50-dd5c-46b8-833f-e53b146c6ee2",
    "ExecuteTime": {
     "start_time": "2023-11-28T21:40:17.153306Z"
    }
   },
   "execution_count": null,
   "outputs": []
  },
  {
   "cell_type": "code",
   "source": [
    "# summarizing the variance and std: vehicles per household\n",
    "print(df['vehicle_per_household'].var())\n",
    "print(df['vehicle_per_household'].std())"
   ],
   "metadata": {
    "colab": {
     "base_uri": "https://localhost:8080/",
     "height": 219
    },
    "id": "dC8GHxFqjYhT",
    "executionInfo": {
     "status": "error",
     "timestamp": 1694459318850,
     "user_tz": 240,
     "elapsed": 231,
     "user": {
      "displayName": "Shenhao Wang",
      "userId": "03503527554188089407"
     }
    },
    "outputId": "ee357b4e-ab23-4ab9-b829-05111335ccda",
    "ExecuteTime": {
     "end_time": "2023-11-28T21:42:31.381249Z",
     "start_time": "2023-11-28T21:42:30.821826Z"
    }
   },
   "execution_count": 86,
   "outputs": []
  },
  {
   "cell_type": "markdown",
   "source": [
    "## **Exercise.** Choose the column showing the ratio of driving. Please find the column name from the documentation file. Please compute the mean, median, variance, and standard deviation.  \n"
   ],
   "metadata": {
    "id": "dtS6aBq8jGpv",
    "ExecuteTime": {
     "end_time": "2023-11-28T21:42:31.539267Z",
     "start_time": "2023-11-28T21:42:31.382114Z"
    }
   }
  },
  {
   "cell_type": "markdown",
   "source": [
    "### 5.4 Visualizing one variable"
   ],
   "metadata": {
    "id": "yoIwURi4kCla",
    "ExecuteTime": {
     "end_time": "2023-11-28T21:42:37.709369Z",
     "start_time": "2023-11-28T21:42:37.568870Z"
    }
   }
  },
  {
   "cell_type": "code",
   "source": [
    "# matplotlib\n",
    "# matplotlib is the most common visualization tool in python.\n",
    "import matplotlib.pyplot as plt"
   ],
   "metadata": {
    "id": "A6AY4TzbjY9m",
    "executionInfo": {
     "status": "ok",
     "timestamp": 1694459353573,
     "user_tz": 240,
     "elapsed": 240,
     "user": {
      "displayName": "Shenhao Wang",
      "userId": "03503527554188089407"
     }
    },
    "ExecuteTime": {
     "start_time": "2023-11-28T21:40:17.156437Z"
    }
   },
   "execution_count": null,
   "outputs": []
  },
  {
   "cell_type": "code",
   "source": [
    "# use histogram - the first trial.\n",
    "var = 'pop_total'\n",
    "n, bins, graph = plt.hist(x=df[var], bins=20)"
   ],
   "metadata": {
    "colab": {
     "base_uri": "https://localhost:8080/",
     "height": 267
    },
    "id": "zoLzEvVJkyq3",
    "executionInfo": {
     "status": "ok",
     "timestamp": 1673926348770,
     "user_tz": 300,
     "elapsed": 502,
     "user": {
      "displayName": "Shenhao Wang",
      "userId": "03503527554188089407"
     }
    },
    "outputId": "c8262c7b-c9c5-47af-f61b-b517a712fe31",
    "ExecuteTime": {
     "start_time": "2023-11-28T21:40:17.158670Z"
    }
   },
   "execution_count": null,
   "outputs": []
  },
  {
   "cell_type": "code",
   "source": [
    "# histograms - the second trial with more details.\n",
    "var = 'pop_total'\n",
    "n, bins, graph = plt.hist(x=df[var], bins=20)\n",
    "plt.grid(axis='y', alpha=0.75)\n",
    "plt.xlabel('Population')\n",
    "plt.ylabel('Frequency')\n",
    "plt.title('Population of the Census tracts in Florida')\n",
    "plt.text(30000, 800, r'$\\mu=5015, \\sigma=2984$')"
   ],
   "metadata": {
    "colab": {
     "base_uri": "https://localhost:8080/",
     "height": 256
    },
    "id": "ZguGGbslkWJY",
    "executionInfo": {
     "status": "error",
     "timestamp": 1694459370730,
     "user_tz": 240,
     "elapsed": 221,
     "user": {
      "displayName": "Shenhao Wang",
      "userId": "03503527554188089407"
     }
    },
    "outputId": "5759417e-7074-4751-e725-62a961f8e69a",
    "ExecuteTime": {
     "start_time": "2023-11-28T21:40:17.160655Z"
    }
   },
   "execution_count": null,
   "outputs": []
  },
  {
   "cell_type": "markdown",
   "source": [
    "## **Exercise.** Choose the column showing the ratio of driving. Please plot the histogram, and compute the mean and standard deviation."
   ],
   "metadata": {
    "id": "CFlA64mpjK7K"
   }
  },
  {
   "cell_type": "markdown",
   "source": [
    "## **Final Note**: Please take the Practicum AI at UFL to learn more about python coding for AI.\n",
    "## **Link**: https://calendar.hr.ufl.edu/event/practicum-ai/all/\n"
   ],
   "metadata": {
    "id": "ulr9V9a0jM6P"
   }
  }
 ]
}
